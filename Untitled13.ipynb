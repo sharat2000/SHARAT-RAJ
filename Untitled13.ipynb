{
  "nbformat": 4,
  "nbformat_minor": 0,
  "metadata": {
    "colab": {
      "name": "Untitled13.ipynb",
      "provenance": [],
      "collapsed_sections": [],
      "authorship_tag": "ABX9TyPU42U4xxaFGROWAyqmGGWn",
      "include_colab_link": true
    },
    "kernelspec": {
      "name": "python3",
      "display_name": "Python 3"
    }
  },
  "cells": [
    {
      "cell_type": "markdown",
      "metadata": {
        "id": "view-in-github",
        "colab_type": "text"
      },
      "source": [
        "<a href=\"https://colab.research.google.com/github/sharat2000/SHARAT-RAJ/blob/main/Untitled13.ipynb\" target=\"_parent\"><img src=\"https://colab.research.google.com/assets/colab-badge.svg\" alt=\"Open In Colab\"/></a>"
      ]
    },
    {
      "cell_type": "code",
      "metadata": {
        "id": "DTkvKwlZsb1C"
      },
      "source": [
        "import pandas as pd\r\n",
        "import numpy as np\r\n",
        "import seaborn as sns\r\n",
        "import matplotlib.pyplot as plt\r\n",
        "\r\n",
        "data = pd.read_csv(\"https://raw.githubusercontent.com/dphi-official/Datasets/master/cancer_death_rate/Training_set_label.csv\")"
      ],
      "execution_count": null,
      "outputs": []
    },
    {
      "cell_type": "code",
      "metadata": {
        "id": "fT0WWzSW2pGE"
      },
      "source": [
        "data=data.drop_duplicates()"
      ],
      "execution_count": null,
      "outputs": []
    },
    {
      "cell_type": "code",
      "metadata": {
        "colab": {
          "base_uri": "https://localhost:8080/",
          "height": 417
        },
        "id": "1umyyZdZsvCB",
        "outputId": "84aabf5e-6106-43d3-abcf-5a445b69f3f6"
      },
      "source": [
        "data.head()"
      ],
      "execution_count": null,
      "outputs": [
        {
          "output_type": "execute_result",
          "data": {
            "text/html": [
              "<div>\n",
              "<style scoped>\n",
              "    .dataframe tbody tr th:only-of-type {\n",
              "        vertical-align: middle;\n",
              "    }\n",
              "\n",
              "    .dataframe tbody tr th {\n",
              "        vertical-align: top;\n",
              "    }\n",
              "\n",
              "    .dataframe thead th {\n",
              "        text-align: right;\n",
              "    }\n",
              "</style>\n",
              "<table border=\"1\" class=\"dataframe\">\n",
              "  <thead>\n",
              "    <tr style=\"text-align: right;\">\n",
              "      <th></th>\n",
              "      <th>avgAnnCount</th>\n",
              "      <th>avgDeathsPerYear</th>\n",
              "      <th>incidenceRate</th>\n",
              "      <th>medIncome</th>\n",
              "      <th>popEst2015</th>\n",
              "      <th>povertyPercent</th>\n",
              "      <th>studyPerCap</th>\n",
              "      <th>binnedInc</th>\n",
              "      <th>MedianAge</th>\n",
              "      <th>MedianAgeMale</th>\n",
              "      <th>MedianAgeFemale</th>\n",
              "      <th>Geography</th>\n",
              "      <th>AvgHouseholdSize</th>\n",
              "      <th>PercentMarried</th>\n",
              "      <th>PctNoHS18_24</th>\n",
              "      <th>PctHS18_24</th>\n",
              "      <th>PctSomeCol18_24</th>\n",
              "      <th>PctBachDeg18_24</th>\n",
              "      <th>PctHS25_Over</th>\n",
              "      <th>PctBachDeg25_Over</th>\n",
              "      <th>PctEmployed16_Over</th>\n",
              "      <th>PctUnemployed16_Over</th>\n",
              "      <th>PctPrivateCoverage</th>\n",
              "      <th>PctPrivateCoverageAlone</th>\n",
              "      <th>PctEmpPrivCoverage</th>\n",
              "      <th>PctPublicCoverage</th>\n",
              "      <th>PctPublicCoverageAlone</th>\n",
              "      <th>PctWhite</th>\n",
              "      <th>PctBlack</th>\n",
              "      <th>PctAsian</th>\n",
              "      <th>PctOtherRace</th>\n",
              "      <th>PctMarriedHouseholds</th>\n",
              "      <th>BirthRate</th>\n",
              "      <th>TARGET_deathRate</th>\n",
              "    </tr>\n",
              "  </thead>\n",
              "  <tbody>\n",
              "    <tr>\n",
              "      <th>0</th>\n",
              "      <td>19.0</td>\n",
              "      <td>8</td>\n",
              "      <td>481.5</td>\n",
              "      <td>50038</td>\n",
              "      <td>2704</td>\n",
              "      <td>11.1</td>\n",
              "      <td>0.0</td>\n",
              "      <td>(48021.6, 51046.4]</td>\n",
              "      <td>48.4</td>\n",
              "      <td>49.6</td>\n",
              "      <td>46.4</td>\n",
              "      <td>Hettinger County, North Dakota</td>\n",
              "      <td>2.25</td>\n",
              "      <td>65.9</td>\n",
              "      <td>10.8</td>\n",
              "      <td>25.0</td>\n",
              "      <td>57.4</td>\n",
              "      <td>6.8</td>\n",
              "      <td>37.1</td>\n",
              "      <td>12.2</td>\n",
              "      <td>57.4</td>\n",
              "      <td>1.1</td>\n",
              "      <td>81.2</td>\n",
              "      <td>56.0</td>\n",
              "      <td>35.7</td>\n",
              "      <td>34.7</td>\n",
              "      <td>9.9</td>\n",
              "      <td>96.032049</td>\n",
              "      <td>0.724914</td>\n",
              "      <td>0.000000</td>\n",
              "      <td>0.000000</td>\n",
              "      <td>62.511457</td>\n",
              "      <td>15.157116</td>\n",
              "      <td>160.3</td>\n",
              "    </tr>\n",
              "    <tr>\n",
              "      <th>1</th>\n",
              "      <td>88.0</td>\n",
              "      <td>34</td>\n",
              "      <td>486.0</td>\n",
              "      <td>59399</td>\n",
              "      <td>14844</td>\n",
              "      <td>9.7</td>\n",
              "      <td>0.0</td>\n",
              "      <td>(54545.6, 61494.5]</td>\n",
              "      <td>41.9</td>\n",
              "      <td>41.3</td>\n",
              "      <td>43.2</td>\n",
              "      <td>Mills County, Iowa</td>\n",
              "      <td>2.63</td>\n",
              "      <td>58.6</td>\n",
              "      <td>22.3</td>\n",
              "      <td>29.1</td>\n",
              "      <td>NaN</td>\n",
              "      <td>1.1</td>\n",
              "      <td>35.9</td>\n",
              "      <td>16.0</td>\n",
              "      <td>60.4</td>\n",
              "      <td>3.8</td>\n",
              "      <td>76.7</td>\n",
              "      <td>NaN</td>\n",
              "      <td>50.8</td>\n",
              "      <td>32.1</td>\n",
              "      <td>12.8</td>\n",
              "      <td>97.537344</td>\n",
              "      <td>0.719957</td>\n",
              "      <td>0.080743</td>\n",
              "      <td>0.040371</td>\n",
              "      <td>61.641045</td>\n",
              "      <td>3.293510</td>\n",
              "      <td>194.9</td>\n",
              "    </tr>\n",
              "    <tr>\n",
              "      <th>2</th>\n",
              "      <td>195.0</td>\n",
              "      <td>83</td>\n",
              "      <td>475.7</td>\n",
              "      <td>39721</td>\n",
              "      <td>25164</td>\n",
              "      <td>18.5</td>\n",
              "      <td>0.0</td>\n",
              "      <td>(37413.8, 40362.7]</td>\n",
              "      <td>48.9</td>\n",
              "      <td>47.9</td>\n",
              "      <td>49.9</td>\n",
              "      <td>Gladwin County, Michigan</td>\n",
              "      <td>2.30</td>\n",
              "      <td>57.2</td>\n",
              "      <td>24.9</td>\n",
              "      <td>36.2</td>\n",
              "      <td>NaN</td>\n",
              "      <td>3.5</td>\n",
              "      <td>40.2</td>\n",
              "      <td>7.6</td>\n",
              "      <td>41.2</td>\n",
              "      <td>11.0</td>\n",
              "      <td>61.6</td>\n",
              "      <td>NaN</td>\n",
              "      <td>32.1</td>\n",
              "      <td>49.8</td>\n",
              "      <td>21.6</td>\n",
              "      <td>97.576566</td>\n",
              "      <td>0.360770</td>\n",
              "      <td>0.411749</td>\n",
              "      <td>0.082350</td>\n",
              "      <td>53.978102</td>\n",
              "      <td>6.390328</td>\n",
              "      <td>196.5</td>\n",
              "    </tr>\n",
              "    <tr>\n",
              "      <th>3</th>\n",
              "      <td>116.0</td>\n",
              "      <td>55</td>\n",
              "      <td>496.6</td>\n",
              "      <td>30299</td>\n",
              "      <td>17917</td>\n",
              "      <td>28.1</td>\n",
              "      <td>0.0</td>\n",
              "      <td>[22640, 34218.1]</td>\n",
              "      <td>44.2</td>\n",
              "      <td>42.7</td>\n",
              "      <td>45.2</td>\n",
              "      <td>Fentress County, Tennessee</td>\n",
              "      <td>2.43</td>\n",
              "      <td>53.0</td>\n",
              "      <td>10.9</td>\n",
              "      <td>51.8</td>\n",
              "      <td>NaN</td>\n",
              "      <td>5.3</td>\n",
              "      <td>44.2</td>\n",
              "      <td>7.0</td>\n",
              "      <td>41.6</td>\n",
              "      <td>10.4</td>\n",
              "      <td>45.2</td>\n",
              "      <td>NaN</td>\n",
              "      <td>24.2</td>\n",
              "      <td>53.2</td>\n",
              "      <td>33.0</td>\n",
              "      <td>97.908650</td>\n",
              "      <td>0.161731</td>\n",
              "      <td>0.306731</td>\n",
              "      <td>0.340193</td>\n",
              "      <td>51.013143</td>\n",
              "      <td>5.124836</td>\n",
              "      <td>230.9</td>\n",
              "    </tr>\n",
              "    <tr>\n",
              "      <th>4</th>\n",
              "      <td>80.0</td>\n",
              "      <td>35</td>\n",
              "      <td>372.0</td>\n",
              "      <td>39625</td>\n",
              "      <td>14058</td>\n",
              "      <td>17.4</td>\n",
              "      <td>0.0</td>\n",
              "      <td>(37413.8, 40362.7]</td>\n",
              "      <td>45.0</td>\n",
              "      <td>42.2</td>\n",
              "      <td>48.0</td>\n",
              "      <td>Las Animas County, Colorado</td>\n",
              "      <td>2.36</td>\n",
              "      <td>52.2</td>\n",
              "      <td>12.6</td>\n",
              "      <td>31.2</td>\n",
              "      <td>NaN</td>\n",
              "      <td>0.2</td>\n",
              "      <td>28.3</td>\n",
              "      <td>10.5</td>\n",
              "      <td>49.3</td>\n",
              "      <td>9.2</td>\n",
              "      <td>56.6</td>\n",
              "      <td>NaN</td>\n",
              "      <td>33.4</td>\n",
              "      <td>43.0</td>\n",
              "      <td>24.7</td>\n",
              "      <td>82.672551</td>\n",
              "      <td>1.834103</td>\n",
              "      <td>0.682617</td>\n",
              "      <td>8.253465</td>\n",
              "      <td>50.566426</td>\n",
              "      <td>3.897033</td>\n",
              "      <td>162.2</td>\n",
              "    </tr>\n",
              "  </tbody>\n",
              "</table>\n",
              "</div>"
            ],
            "text/plain": [
              "   avgAnnCount  avgDeathsPerYear  ...  BirthRate  TARGET_deathRate\n",
              "0         19.0                 8  ...  15.157116             160.3\n",
              "1         88.0                34  ...   3.293510             194.9\n",
              "2        195.0                83  ...   6.390328             196.5\n",
              "3        116.0                55  ...   5.124836             230.9\n",
              "4         80.0                35  ...   3.897033             162.2\n",
              "\n",
              "[5 rows x 34 columns]"
            ]
          },
          "metadata": {
            "tags": []
          },
          "execution_count": 3
        }
      ]
    },
    {
      "cell_type": "code",
      "metadata": {
        "colab": {
          "base_uri": "https://localhost:8080/"
        },
        "id": "FzMllMopvvv7",
        "outputId": "7f070f1f-1048-4a03-a50b-9d73b017cce0"
      },
      "source": [
        "data.shape"
      ],
      "execution_count": null,
      "outputs": [
        {
          "output_type": "execute_result",
          "data": {
            "text/plain": [
              "(2285, 34)"
            ]
          },
          "metadata": {
            "tags": []
          },
          "execution_count": 4
        }
      ]
    },
    {
      "cell_type": "code",
      "metadata": {
        "colab": {
          "base_uri": "https://localhost:8080/"
        },
        "id": "__-3fsxExoUu",
        "outputId": "b8bda422-0812-401c-9441-37376313f7d2"
      },
      "source": [
        "data.isnull().sum()"
      ],
      "execution_count": null,
      "outputs": [
        {
          "output_type": "execute_result",
          "data": {
            "text/plain": [
              "avgAnnCount                   0\n",
              "avgDeathsPerYear              0\n",
              "incidenceRate                 0\n",
              "medIncome                     0\n",
              "popEst2015                    0\n",
              "povertyPercent                0\n",
              "studyPerCap                   0\n",
              "binnedInc                     0\n",
              "MedianAge                     0\n",
              "MedianAgeMale                 0\n",
              "MedianAgeFemale               0\n",
              "Geography                     0\n",
              "AvgHouseholdSize              0\n",
              "PercentMarried                0\n",
              "PctNoHS18_24                  0\n",
              "PctHS18_24                    0\n",
              "PctSomeCol18_24            1705\n",
              "PctBachDeg18_24               0\n",
              "PctHS25_Over                  0\n",
              "PctBachDeg25_Over             0\n",
              "PctEmployed16_Over          119\n",
              "PctUnemployed16_Over          0\n",
              "PctPrivateCoverage            0\n",
              "PctPrivateCoverageAlone     461\n",
              "PctEmpPrivCoverage            0\n",
              "PctPublicCoverage             0\n",
              "PctPublicCoverageAlone        0\n",
              "PctWhite                      0\n",
              "PctBlack                      0\n",
              "PctAsian                      0\n",
              "PctOtherRace                  0\n",
              "PctMarriedHouseholds          0\n",
              "BirthRate                     0\n",
              "TARGET_deathRate              0\n",
              "dtype: int64"
            ]
          },
          "metadata": {
            "tags": []
          },
          "execution_count": 5
        }
      ]
    },
    {
      "cell_type": "code",
      "metadata": {
        "colab": {
          "base_uri": "https://localhost:8080/"
        },
        "id": "cUKybXz-xukZ",
        "outputId": "d7a344a0-739a-47f2-9a34-5cf39347514b"
      },
      "source": [
        "data.dtypes"
      ],
      "execution_count": null,
      "outputs": [
        {
          "output_type": "execute_result",
          "data": {
            "text/plain": [
              "avgAnnCount                float64\n",
              "avgDeathsPerYear             int64\n",
              "incidenceRate              float64\n",
              "medIncome                    int64\n",
              "popEst2015                   int64\n",
              "povertyPercent             float64\n",
              "studyPerCap                float64\n",
              "binnedInc                   object\n",
              "MedianAge                  float64\n",
              "MedianAgeMale              float64\n",
              "MedianAgeFemale            float64\n",
              "Geography                   object\n",
              "AvgHouseholdSize           float64\n",
              "PercentMarried             float64\n",
              "PctNoHS18_24               float64\n",
              "PctHS18_24                 float64\n",
              "PctSomeCol18_24            float64\n",
              "PctBachDeg18_24            float64\n",
              "PctHS25_Over               float64\n",
              "PctBachDeg25_Over          float64\n",
              "PctEmployed16_Over         float64\n",
              "PctUnemployed16_Over       float64\n",
              "PctPrivateCoverage         float64\n",
              "PctPrivateCoverageAlone    float64\n",
              "PctEmpPrivCoverage         float64\n",
              "PctPublicCoverage          float64\n",
              "PctPublicCoverageAlone     float64\n",
              "PctWhite                   float64\n",
              "PctBlack                   float64\n",
              "PctAsian                   float64\n",
              "PctOtherRace               float64\n",
              "PctMarriedHouseholds       float64\n",
              "BirthRate                  float64\n",
              "TARGET_deathRate           float64\n",
              "dtype: object"
            ]
          },
          "metadata": {
            "tags": []
          },
          "execution_count": 17
        }
      ]
    },
    {
      "cell_type": "code",
      "metadata": {
        "colab": {
          "base_uri": "https://localhost:8080/"
        },
        "id": "kWKCdIsnzMRw",
        "outputId": "076b77c8-68fa-4b55-b0c7-5d630c3a78dd"
      },
      "source": [
        "data.nunique()"
      ],
      "execution_count": null,
      "outputs": [
        {
          "output_type": "execute_result",
          "data": {
            "text/plain": [
              "avgAnnCount                 779\n",
              "avgDeathsPerYear            513\n",
              "incidenceRate              1264\n",
              "medIncome                  2208\n",
              "popEst2015                 2253\n",
              "povertyPercent              313\n",
              "studyPerCap                 837\n",
              "binnedInc                    10\n",
              "MedianAge                   295\n",
              "MedianAgeMale               284\n",
              "MedianAgeFemale             279\n",
              "Geography                  2285\n",
              "AvgHouseholdSize            184\n",
              "PercentMarried              345\n",
              "PctNoHS18_24                384\n",
              "PctHS18_24                  440\n",
              "PctSomeCol18_24             301\n",
              "PctBachDeg18_24             212\n",
              "PctHS25_Over                352\n",
              "PctBachDeg25_Over           267\n",
              "PctEmployed16_Over          385\n",
              "PctUnemployed16_Over        183\n",
              "PctPrivateCoverage          467\n",
              "PctPrivateCoverageAlone     434\n",
              "PctEmpPrivCoverage          425\n",
              "PctPublicCoverage           375\n",
              "PctPublicCoverageAlone      300\n",
              "PctWhite                   2284\n",
              "PctBlack                   2230\n",
              "PctAsian                   2142\n",
              "PctOtherRace               2183\n",
              "PctMarriedHouseholds       2284\n",
              "BirthRate                  2275\n",
              "TARGET_deathRate            939\n",
              "dtype: int64"
            ]
          },
          "metadata": {
            "tags": []
          },
          "execution_count": 18
        }
      ]
    },
    {
      "cell_type": "code",
      "metadata": {
        "colab": {
          "base_uri": "https://localhost:8080/",
          "height": 306
        },
        "id": "wKUCpxU622nu",
        "outputId": "f71bb553-e896-4b43-c0f6-b4fc8c6870f6"
      },
      "source": [
        "data.describe()"
      ],
      "execution_count": null,
      "outputs": [
        {
          "output_type": "execute_result",
          "data": {
            "text/html": [
              "<div>\n",
              "<style scoped>\n",
              "    .dataframe tbody tr th:only-of-type {\n",
              "        vertical-align: middle;\n",
              "    }\n",
              "\n",
              "    .dataframe tbody tr th {\n",
              "        vertical-align: top;\n",
              "    }\n",
              "\n",
              "    .dataframe thead th {\n",
              "        text-align: right;\n",
              "    }\n",
              "</style>\n",
              "<table border=\"1\" class=\"dataframe\">\n",
              "  <thead>\n",
              "    <tr style=\"text-align: right;\">\n",
              "      <th></th>\n",
              "      <th>avgAnnCount</th>\n",
              "      <th>avgDeathsPerYear</th>\n",
              "      <th>incidenceRate</th>\n",
              "      <th>medIncome</th>\n",
              "      <th>popEst2015</th>\n",
              "      <th>povertyPercent</th>\n",
              "      <th>studyPerCap</th>\n",
              "      <th>MedianAge</th>\n",
              "      <th>MedianAgeMale</th>\n",
              "      <th>MedianAgeFemale</th>\n",
              "      <th>AvgHouseholdSize</th>\n",
              "      <th>PercentMarried</th>\n",
              "      <th>PctNoHS18_24</th>\n",
              "      <th>PctHS18_24</th>\n",
              "      <th>PctSomeCol18_24</th>\n",
              "      <th>PctBachDeg18_24</th>\n",
              "      <th>PctHS25_Over</th>\n",
              "      <th>PctBachDeg25_Over</th>\n",
              "      <th>PctEmployed16_Over</th>\n",
              "      <th>PctUnemployed16_Over</th>\n",
              "      <th>PctPrivateCoverage</th>\n",
              "      <th>PctPrivateCoverageAlone</th>\n",
              "      <th>PctEmpPrivCoverage</th>\n",
              "      <th>PctPublicCoverage</th>\n",
              "      <th>PctPublicCoverageAlone</th>\n",
              "      <th>PctWhite</th>\n",
              "      <th>PctBlack</th>\n",
              "      <th>PctAsian</th>\n",
              "      <th>PctOtherRace</th>\n",
              "      <th>PctMarriedHouseholds</th>\n",
              "      <th>BirthRate</th>\n",
              "      <th>TARGET_deathRate</th>\n",
              "    </tr>\n",
              "  </thead>\n",
              "  <tbody>\n",
              "    <tr>\n",
              "      <th>count</th>\n",
              "      <td>2285.000000</td>\n",
              "      <td>2285.000000</td>\n",
              "      <td>2285.000000</td>\n",
              "      <td>2285.000000</td>\n",
              "      <td>2.285000e+03</td>\n",
              "      <td>2285.000000</td>\n",
              "      <td>2285.000000</td>\n",
              "      <td>2285.000000</td>\n",
              "      <td>2285.000000</td>\n",
              "      <td>2285.000000</td>\n",
              "      <td>2285.000000</td>\n",
              "      <td>2285.000000</td>\n",
              "      <td>2285.000000</td>\n",
              "      <td>2285.000000</td>\n",
              "      <td>580.000000</td>\n",
              "      <td>2285.000000</td>\n",
              "      <td>2285.000000</td>\n",
              "      <td>2285.000000</td>\n",
              "      <td>2166.000000</td>\n",
              "      <td>2285.000000</td>\n",
              "      <td>2285.000000</td>\n",
              "      <td>1824.000000</td>\n",
              "      <td>2285.000000</td>\n",
              "      <td>2285.000000</td>\n",
              "      <td>2285.000000</td>\n",
              "      <td>2285.000000</td>\n",
              "      <td>2285.000000</td>\n",
              "      <td>2285.000000</td>\n",
              "      <td>2285.000000</td>\n",
              "      <td>2285.000000</td>\n",
              "      <td>2285.000000</td>\n",
              "      <td>2285.000000</td>\n",
              "    </tr>\n",
              "    <tr>\n",
              "      <th>mean</th>\n",
              "      <td>571.234205</td>\n",
              "      <td>174.378993</td>\n",
              "      <td>448.623549</td>\n",
              "      <td>47074.547484</td>\n",
              "      <td>9.408955e+04</td>\n",
              "      <td>16.844114</td>\n",
              "      <td>157.867047</td>\n",
              "      <td>44.651554</td>\n",
              "      <td>39.553961</td>\n",
              "      <td>42.186389</td>\n",
              "      <td>2.472682</td>\n",
              "      <td>51.851904</td>\n",
              "      <td>18.249147</td>\n",
              "      <td>34.938993</td>\n",
              "      <td>41.103448</td>\n",
              "      <td>6.134004</td>\n",
              "      <td>34.895142</td>\n",
              "      <td>13.245602</td>\n",
              "      <td>54.194783</td>\n",
              "      <td>7.814004</td>\n",
              "      <td>64.572998</td>\n",
              "      <td>48.671930</td>\n",
              "      <td>41.392298</td>\n",
              "      <td>36.177681</td>\n",
              "      <td>19.130197</td>\n",
              "      <td>83.931081</td>\n",
              "      <td>9.178553</td>\n",
              "      <td>1.225134</td>\n",
              "      <td>1.893018</td>\n",
              "      <td>51.349858</td>\n",
              "      <td>5.608094</td>\n",
              "      <td>178.634048</td>\n",
              "    </tr>\n",
              "    <tr>\n",
              "      <th>std</th>\n",
              "      <td>1190.111708</td>\n",
              "      <td>421.262817</td>\n",
              "      <td>53.820617</td>\n",
              "      <td>12060.339617</td>\n",
              "      <td>2.600029e+05</td>\n",
              "      <td>6.367053</td>\n",
              "      <td>545.021969</td>\n",
              "      <td>40.949109</td>\n",
              "      <td>5.143357</td>\n",
              "      <td>5.225447</td>\n",
              "      <td>0.437257</td>\n",
              "      <td>6.799192</td>\n",
              "      <td>8.145066</td>\n",
              "      <td>9.090265</td>\n",
              "      <td>11.019673</td>\n",
              "      <td>4.626618</td>\n",
              "      <td>7.007781</td>\n",
              "      <td>5.358782</td>\n",
              "      <td>8.241199</td>\n",
              "      <td>3.424348</td>\n",
              "      <td>10.506903</td>\n",
              "      <td>9.972369</td>\n",
              "      <td>9.315390</td>\n",
              "      <td>7.705536</td>\n",
              "      <td>5.990494</td>\n",
              "      <td>16.047996</td>\n",
              "      <td>14.570705</td>\n",
              "      <td>2.477965</td>\n",
              "      <td>3.300919</td>\n",
              "      <td>6.493298</td>\n",
              "      <td>1.958079</td>\n",
              "      <td>27.381280</td>\n",
              "    </tr>\n",
              "    <tr>\n",
              "      <th>min</th>\n",
              "      <td>6.000000</td>\n",
              "      <td>3.000000</td>\n",
              "      <td>211.100000</td>\n",
              "      <td>22640.000000</td>\n",
              "      <td>8.270000e+02</td>\n",
              "      <td>3.200000</td>\n",
              "      <td>0.000000</td>\n",
              "      <td>22.300000</td>\n",
              "      <td>22.400000</td>\n",
              "      <td>22.300000</td>\n",
              "      <td>0.022100</td>\n",
              "      <td>25.100000</td>\n",
              "      <td>0.000000</td>\n",
              "      <td>0.000000</td>\n",
              "      <td>7.100000</td>\n",
              "      <td>0.000000</td>\n",
              "      <td>7.500000</td>\n",
              "      <td>3.200000</td>\n",
              "      <td>17.600000</td>\n",
              "      <td>0.400000</td>\n",
              "      <td>23.400000</td>\n",
              "      <td>16.800000</td>\n",
              "      <td>14.300000</td>\n",
              "      <td>11.800000</td>\n",
              "      <td>2.600000</td>\n",
              "      <td>11.008762</td>\n",
              "      <td>0.000000</td>\n",
              "      <td>0.000000</td>\n",
              "      <td>0.000000</td>\n",
              "      <td>23.915652</td>\n",
              "      <td>0.000000</td>\n",
              "      <td>66.300000</td>\n",
              "    </tr>\n",
              "    <tr>\n",
              "      <th>25%</th>\n",
              "      <td>78.000000</td>\n",
              "      <td>29.000000</td>\n",
              "      <td>421.400000</td>\n",
              "      <td>38928.000000</td>\n",
              "      <td>1.210300e+04</td>\n",
              "      <td>12.100000</td>\n",
              "      <td>0.000000</td>\n",
              "      <td>37.800000</td>\n",
              "      <td>36.400000</td>\n",
              "      <td>39.100000</td>\n",
              "      <td>2.370000</td>\n",
              "      <td>47.800000</td>\n",
              "      <td>12.800000</td>\n",
              "      <td>29.200000</td>\n",
              "      <td>34.075000</td>\n",
              "      <td>3.000000</td>\n",
              "      <td>30.700000</td>\n",
              "      <td>9.300000</td>\n",
              "      <td>48.625000</td>\n",
              "      <td>5.500000</td>\n",
              "      <td>57.600000</td>\n",
              "      <td>41.475000</td>\n",
              "      <td>34.700000</td>\n",
              "      <td>30.900000</td>\n",
              "      <td>14.800000</td>\n",
              "      <td>77.573219</td>\n",
              "      <td>0.634382</td>\n",
              "      <td>0.260382</td>\n",
              "      <td>0.292913</td>\n",
              "      <td>47.813926</td>\n",
              "      <td>4.497369</td>\n",
              "      <td>161.300000</td>\n",
              "    </tr>\n",
              "    <tr>\n",
              "      <th>50%</th>\n",
              "      <td>174.000000</td>\n",
              "      <td>62.000000</td>\n",
              "      <td>453.549422</td>\n",
              "      <td>45193.000000</td>\n",
              "      <td>2.702000e+04</td>\n",
              "      <td>15.900000</td>\n",
              "      <td>0.000000</td>\n",
              "      <td>40.900000</td>\n",
              "      <td>39.500000</td>\n",
              "      <td>42.400000</td>\n",
              "      <td>2.500000</td>\n",
              "      <td>52.500000</td>\n",
              "      <td>17.200000</td>\n",
              "      <td>34.600000</td>\n",
              "      <td>40.800000</td>\n",
              "      <td>5.300000</td>\n",
              "      <td>35.300000</td>\n",
              "      <td>12.300000</td>\n",
              "      <td>54.450000</td>\n",
              "      <td>7.600000</td>\n",
              "      <td>65.300000</td>\n",
              "      <td>48.800000</td>\n",
              "      <td>41.300000</td>\n",
              "      <td>36.300000</td>\n",
              "      <td>18.700000</td>\n",
              "      <td>90.223401</td>\n",
              "      <td>2.321900</td>\n",
              "      <td>0.555160</td>\n",
              "      <td>0.824313</td>\n",
              "      <td>51.735016</td>\n",
              "      <td>5.389798</td>\n",
              "      <td>178.100000</td>\n",
              "    </tr>\n",
              "    <tr>\n",
              "      <th>75%</th>\n",
              "      <td>512.000000</td>\n",
              "      <td>149.000000</td>\n",
              "      <td>480.900000</td>\n",
              "      <td>52526.000000</td>\n",
              "      <td>6.834800e+04</td>\n",
              "      <td>20.400000</td>\n",
              "      <td>85.804542</td>\n",
              "      <td>43.900000</td>\n",
              "      <td>42.400000</td>\n",
              "      <td>45.300000</td>\n",
              "      <td>2.630000</td>\n",
              "      <td>56.500000</td>\n",
              "      <td>22.600000</td>\n",
              "      <td>40.700000</td>\n",
              "      <td>46.725000</td>\n",
              "      <td>8.100000</td>\n",
              "      <td>39.700000</td>\n",
              "      <td>16.100000</td>\n",
              "      <td>60.300000</td>\n",
              "      <td>9.700000</td>\n",
              "      <td>72.200000</td>\n",
              "      <td>55.700000</td>\n",
              "      <td>47.700000</td>\n",
              "      <td>41.400000</td>\n",
              "      <td>22.900000</td>\n",
              "      <td>95.550013</td>\n",
              "      <td>10.463576</td>\n",
              "      <td>1.188641</td>\n",
              "      <td>2.071795</td>\n",
              "      <td>55.448354</td>\n",
              "      <td>6.469649</td>\n",
              "      <td>195.200000</td>\n",
              "    </tr>\n",
              "    <tr>\n",
              "      <th>max</th>\n",
              "      <td>24965.000000</td>\n",
              "      <td>9445.000000</td>\n",
              "      <td>1206.900000</td>\n",
              "      <td>125635.000000</td>\n",
              "      <td>5.238216e+06</td>\n",
              "      <td>47.000000</td>\n",
              "      <td>9762.308998</td>\n",
              "      <td>525.600000</td>\n",
              "      <td>64.700000</td>\n",
              "      <td>65.700000</td>\n",
              "      <td>3.930000</td>\n",
              "      <td>72.500000</td>\n",
              "      <td>64.100000</td>\n",
              "      <td>72.500000</td>\n",
              "      <td>79.000000</td>\n",
              "      <td>51.800000</td>\n",
              "      <td>54.800000</td>\n",
              "      <td>40.400000</td>\n",
              "      <td>76.500000</td>\n",
              "      <td>29.400000</td>\n",
              "      <td>92.300000</td>\n",
              "      <td>78.900000</td>\n",
              "      <td>70.700000</td>\n",
              "      <td>65.100000</td>\n",
              "      <td>46.600000</td>\n",
              "      <td>100.000000</td>\n",
              "      <td>84.866024</td>\n",
              "      <td>35.640183</td>\n",
              "      <td>38.743747</td>\n",
              "      <td>71.703057</td>\n",
              "      <td>21.326165</td>\n",
              "      <td>362.800000</td>\n",
              "    </tr>\n",
              "  </tbody>\n",
              "</table>\n",
              "</div>"
            ],
            "text/plain": [
              "        avgAnnCount  avgDeathsPerYear  ...    BirthRate  TARGET_deathRate\n",
              "count   2285.000000       2285.000000  ...  2285.000000       2285.000000\n",
              "mean     571.234205        174.378993  ...     5.608094        178.634048\n",
              "std     1190.111708        421.262817  ...     1.958079         27.381280\n",
              "min        6.000000          3.000000  ...     0.000000         66.300000\n",
              "25%       78.000000         29.000000  ...     4.497369        161.300000\n",
              "50%      174.000000         62.000000  ...     5.389798        178.100000\n",
              "75%      512.000000        149.000000  ...     6.469649        195.200000\n",
              "max    24965.000000       9445.000000  ...    21.326165        362.800000\n",
              "\n",
              "[8 rows x 32 columns]"
            ]
          },
          "metadata": {
            "tags": []
          },
          "execution_count": 19
        }
      ]
    },
    {
      "cell_type": "code",
      "metadata": {
        "colab": {
          "base_uri": "https://localhost:8080/",
          "height": 1000
        },
        "id": "0k5z4z0p3nzq",
        "outputId": "1df1f842-9037-437c-98c3-b87d966b6003"
      },
      "source": [
        "data.corr()"
      ],
      "execution_count": null,
      "outputs": [
        {
          "output_type": "execute_result",
          "data": {
            "text/html": [
              "<div>\n",
              "<style scoped>\n",
              "    .dataframe tbody tr th:only-of-type {\n",
              "        vertical-align: middle;\n",
              "    }\n",
              "\n",
              "    .dataframe tbody tr th {\n",
              "        vertical-align: top;\n",
              "    }\n",
              "\n",
              "    .dataframe thead th {\n",
              "        text-align: right;\n",
              "    }\n",
              "</style>\n",
              "<table border=\"1\" class=\"dataframe\">\n",
              "  <thead>\n",
              "    <tr style=\"text-align: right;\">\n",
              "      <th></th>\n",
              "      <th>avgAnnCount</th>\n",
              "      <th>avgDeathsPerYear</th>\n",
              "      <th>incidenceRate</th>\n",
              "      <th>medIncome</th>\n",
              "      <th>popEst2015</th>\n",
              "      <th>povertyPercent</th>\n",
              "      <th>studyPerCap</th>\n",
              "      <th>MedianAge</th>\n",
              "      <th>MedianAgeMale</th>\n",
              "      <th>MedianAgeFemale</th>\n",
              "      <th>AvgHouseholdSize</th>\n",
              "      <th>PercentMarried</th>\n",
              "      <th>PctNoHS18_24</th>\n",
              "      <th>PctHS18_24</th>\n",
              "      <th>PctSomeCol18_24</th>\n",
              "      <th>PctBachDeg18_24</th>\n",
              "      <th>PctHS25_Over</th>\n",
              "      <th>PctBachDeg25_Over</th>\n",
              "      <th>PctEmployed16_Over</th>\n",
              "      <th>PctUnemployed16_Over</th>\n",
              "      <th>PctPrivateCoverage</th>\n",
              "      <th>PctPrivateCoverageAlone</th>\n",
              "      <th>PctEmpPrivCoverage</th>\n",
              "      <th>PctPublicCoverage</th>\n",
              "      <th>PctPublicCoverageAlone</th>\n",
              "      <th>PctWhite</th>\n",
              "      <th>PctBlack</th>\n",
              "      <th>PctAsian</th>\n",
              "      <th>PctOtherRace</th>\n",
              "      <th>PctMarriedHouseholds</th>\n",
              "      <th>BirthRate</th>\n",
              "      <th>TARGET_deathRate</th>\n",
              "    </tr>\n",
              "  </thead>\n",
              "  <tbody>\n",
              "    <tr>\n",
              "      <th>avgAnnCount</th>\n",
              "      <td>1.000000</td>\n",
              "      <td>0.911926</td>\n",
              "      <td>0.097013</td>\n",
              "      <td>0.304332</td>\n",
              "      <td>0.896032</td>\n",
              "      <td>-0.165171</td>\n",
              "      <td>0.074347</td>\n",
              "      <td>-0.024655</td>\n",
              "      <td>-0.119419</td>\n",
              "      <td>-0.120818</td>\n",
              "      <td>0.055054</td>\n",
              "      <td>-0.090218</td>\n",
              "      <td>-0.161578</td>\n",
              "      <td>-0.189216</td>\n",
              "      <td>0.148383</td>\n",
              "      <td>0.298118</td>\n",
              "      <td>-0.328862</td>\n",
              "      <td>0.349096</td>\n",
              "      <td>0.220921</td>\n",
              "      <td>-0.020420</td>\n",
              "      <td>0.167680</td>\n",
              "      <td>0.230896</td>\n",
              "      <td>0.233271</td>\n",
              "      <td>-0.193206</td>\n",
              "      <td>-0.120770</td>\n",
              "      <td>-0.130937</td>\n",
              "      <td>0.027472</td>\n",
              "      <td>0.450587</td>\n",
              "      <td>0.193523</td>\n",
              "      <td>-0.094566</td>\n",
              "      <td>-0.029859</td>\n",
              "      <td>-0.138106</td>\n",
              "    </tr>\n",
              "    <tr>\n",
              "      <th>avgDeathsPerYear</th>\n",
              "      <td>0.911926</td>\n",
              "      <td>1.000000</td>\n",
              "      <td>0.085650</td>\n",
              "      <td>0.252805</td>\n",
              "      <td>0.971555</td>\n",
              "      <td>-0.083053</td>\n",
              "      <td>0.063562</td>\n",
              "      <td>-0.021471</td>\n",
              "      <td>-0.152949</td>\n",
              "      <td>-0.150087</td>\n",
              "      <td>0.082451</td>\n",
              "      <td>-0.185945</td>\n",
              "      <td>-0.151146</td>\n",
              "      <td>-0.151250</td>\n",
              "      <td>0.131152</td>\n",
              "      <td>0.270025</td>\n",
              "      <td>-0.313592</td>\n",
              "      <td>0.318363</td>\n",
              "      <td>0.131903</td>\n",
              "      <td>0.077583</td>\n",
              "      <td>0.078127</td>\n",
              "      <td>0.158800</td>\n",
              "      <td>0.186627</td>\n",
              "      <td>-0.148174</td>\n",
              "      <td>-0.044359</td>\n",
              "      <td>-0.194866</td>\n",
              "      <td>0.092543</td>\n",
              "      <td>0.468287</td>\n",
              "      <td>0.200168</td>\n",
              "      <td>-0.163633</td>\n",
              "      <td>-0.073950</td>\n",
              "      <td>-0.075079</td>\n",
              "    </tr>\n",
              "    <tr>\n",
              "      <th>incidenceRate</th>\n",
              "      <td>0.097013</td>\n",
              "      <td>0.085650</td>\n",
              "      <td>1.000000</td>\n",
              "      <td>-0.010084</td>\n",
              "      <td>0.047530</td>\n",
              "      <td>0.013889</td>\n",
              "      <td>0.076120</td>\n",
              "      <td>0.017935</td>\n",
              "      <td>0.010935</td>\n",
              "      <td>0.010986</td>\n",
              "      <td>-0.102823</td>\n",
              "      <td>-0.119333</td>\n",
              "      <td>-0.174427</td>\n",
              "      <td>0.058833</td>\n",
              "      <td>0.009673</td>\n",
              "      <td>0.029492</td>\n",
              "      <td>0.136945</td>\n",
              "      <td>-0.044534</td>\n",
              "      <td>0.014315</td>\n",
              "      <td>0.097875</td>\n",
              "      <td>0.100981</td>\n",
              "      <td>0.095949</td>\n",
              "      <td>0.149253</td>\n",
              "      <td>0.064772</td>\n",
              "      <td>0.056818</td>\n",
              "      <td>-0.024640</td>\n",
              "      <td>0.113291</td>\n",
              "      <td>0.001145</td>\n",
              "      <td>-0.201915</td>\n",
              "      <td>-0.153777</td>\n",
              "      <td>-0.111649</td>\n",
              "      <td>0.469213</td>\n",
              "    </tr>\n",
              "    <tr>\n",
              "      <th>medIncome</th>\n",
              "      <td>0.304332</td>\n",
              "      <td>0.252805</td>\n",
              "      <td>-0.010084</td>\n",
              "      <td>1.000000</td>\n",
              "      <td>0.284803</td>\n",
              "      <td>-0.789982</td>\n",
              "      <td>0.041315</td>\n",
              "      <td>-0.000189</td>\n",
              "      <td>-0.089741</td>\n",
              "      <td>-0.153882</td>\n",
              "      <td>0.115394</td>\n",
              "      <td>0.363272</td>\n",
              "      <td>-0.290246</td>\n",
              "      <td>-0.193868</td>\n",
              "      <td>0.214013</td>\n",
              "      <td>0.495912</td>\n",
              "      <td>-0.474731</td>\n",
              "      <td>0.710364</td>\n",
              "      <td>0.695337</td>\n",
              "      <td>-0.454950</td>\n",
              "      <td>0.726618</td>\n",
              "      <td>0.787088</td>\n",
              "      <td>0.748979</td>\n",
              "      <td>-0.755374</td>\n",
              "      <td>-0.721523</td>\n",
              "      <td>0.163892</td>\n",
              "      <td>-0.267095</td>\n",
              "      <td>0.456880</td>\n",
              "      <td>0.090389</td>\n",
              "      <td>0.452120</td>\n",
              "      <td>-0.008630</td>\n",
              "      <td>-0.431586</td>\n",
              "    </tr>\n",
              "    <tr>\n",
              "      <th>popEst2015</th>\n",
              "      <td>0.896032</td>\n",
              "      <td>0.971555</td>\n",
              "      <td>0.047530</td>\n",
              "      <td>0.284803</td>\n",
              "      <td>1.000000</td>\n",
              "      <td>-0.090026</td>\n",
              "      <td>0.058396</td>\n",
              "      <td>-0.019657</td>\n",
              "      <td>-0.191991</td>\n",
              "      <td>-0.195374</td>\n",
              "      <td>0.111340</td>\n",
              "      <td>-0.165552</td>\n",
              "      <td>-0.147426</td>\n",
              "      <td>-0.159984</td>\n",
              "      <td>0.119182</td>\n",
              "      <td>0.273296</td>\n",
              "      <td>-0.347895</td>\n",
              "      <td>0.341567</td>\n",
              "      <td>0.157288</td>\n",
              "      <td>0.054303</td>\n",
              "      <td>0.084061</td>\n",
              "      <td>0.176826</td>\n",
              "      <td>0.198317</td>\n",
              "      <td>-0.193276</td>\n",
              "      <td>-0.069644</td>\n",
              "      <td>-0.205556</td>\n",
              "      <td>0.084060</td>\n",
              "      <td>0.517735</td>\n",
              "      <td>0.233497</td>\n",
              "      <td>-0.127893</td>\n",
              "      <td>-0.058774</td>\n",
              "      <td>-0.115593</td>\n",
              "    </tr>\n",
              "    <tr>\n",
              "      <th>povertyPercent</th>\n",
              "      <td>-0.165171</td>\n",
              "      <td>-0.083053</td>\n",
              "      <td>0.013889</td>\n",
              "      <td>-0.789982</td>\n",
              "      <td>-0.090026</td>\n",
              "      <td>1.000000</td>\n",
              "      <td>-0.059989</td>\n",
              "      <td>-0.038464</td>\n",
              "      <td>-0.214312</td>\n",
              "      <td>-0.145207</td>\n",
              "      <td>0.062109</td>\n",
              "      <td>-0.646724</td>\n",
              "      <td>0.275138</td>\n",
              "      <td>0.097011</td>\n",
              "      <td>-0.182623</td>\n",
              "      <td>-0.385785</td>\n",
              "      <td>0.195823</td>\n",
              "      <td>-0.532264</td>\n",
              "      <td>-0.736184</td>\n",
              "      <td>0.650561</td>\n",
              "      <td>-0.819262</td>\n",
              "      <td>-0.757384</td>\n",
              "      <td>-0.679636</td>\n",
              "      <td>0.649541</td>\n",
              "      <td>0.797428</td>\n",
              "      <td>-0.502881</td>\n",
              "      <td>0.512053</td>\n",
              "      <td>-0.164724</td>\n",
              "      <td>0.044453</td>\n",
              "      <td>-0.608973</td>\n",
              "      <td>-0.031281</td>\n",
              "      <td>0.428083</td>\n",
              "    </tr>\n",
              "    <tr>\n",
              "      <th>studyPerCap</th>\n",
              "      <td>0.074347</td>\n",
              "      <td>0.063562</td>\n",
              "      <td>0.076120</td>\n",
              "      <td>0.041315</td>\n",
              "      <td>0.058396</td>\n",
              "      <td>-0.059989</td>\n",
              "      <td>1.000000</td>\n",
              "      <td>-0.026039</td>\n",
              "      <td>-0.021793</td>\n",
              "      <td>-0.018451</td>\n",
              "      <td>0.001797</td>\n",
              "      <td>-0.038103</td>\n",
              "      <td>-0.077189</td>\n",
              "      <td>-0.043152</td>\n",
              "      <td>0.122474</td>\n",
              "      <td>0.055551</td>\n",
              "      <td>-0.084706</td>\n",
              "      <td>0.109318</td>\n",
              "      <td>0.085666</td>\n",
              "      <td>-0.035757</td>\n",
              "      <td>0.096917</td>\n",
              "      <td>0.070647</td>\n",
              "      <td>0.093400</td>\n",
              "      <td>-0.052599</td>\n",
              "      <td>-0.065529</td>\n",
              "      <td>0.020227</td>\n",
              "      <td>-0.018508</td>\n",
              "      <td>0.063852</td>\n",
              "      <td>-0.021370</td>\n",
              "      <td>-0.049972</td>\n",
              "      <td>0.007241</td>\n",
              "      <td>-0.029654</td>\n",
              "    </tr>\n",
              "    <tr>\n",
              "      <th>MedianAge</th>\n",
              "      <td>-0.024655</td>\n",
              "      <td>-0.021471</td>\n",
              "      <td>0.017935</td>\n",
              "      <td>-0.000189</td>\n",
              "      <td>-0.019657</td>\n",
              "      <td>-0.038464</td>\n",
              "      <td>-0.026039</td>\n",
              "      <td>1.000000</td>\n",
              "      <td>0.101987</td>\n",
              "      <td>0.107683</td>\n",
              "      <td>-0.023302</td>\n",
              "      <td>0.062402</td>\n",
              "      <td>0.003916</td>\n",
              "      <td>0.040912</td>\n",
              "      <td>-0.015350</td>\n",
              "      <td>-0.020582</td>\n",
              "      <td>0.046140</td>\n",
              "      <td>-0.019485</td>\n",
              "      <td>-0.016825</td>\n",
              "      <td>0.006540</td>\n",
              "      <td>0.021361</td>\n",
              "      <td>-0.011639</td>\n",
              "      <td>-0.018339</td>\n",
              "      <td>0.024897</td>\n",
              "      <td>-0.022085</td>\n",
              "      <td>0.028439</td>\n",
              "      <td>-0.003509</td>\n",
              "      <td>-0.031860</td>\n",
              "      <td>-0.027781</td>\n",
              "      <td>0.034151</td>\n",
              "      <td>0.009353</td>\n",
              "      <td>0.006193</td>\n",
              "    </tr>\n",
              "    <tr>\n",
              "      <th>MedianAgeMale</th>\n",
              "      <td>-0.119419</td>\n",
              "      <td>-0.152949</td>\n",
              "      <td>0.010935</td>\n",
              "      <td>-0.089741</td>\n",
              "      <td>-0.191991</td>\n",
              "      <td>-0.214312</td>\n",
              "      <td>-0.021793</td>\n",
              "      <td>0.101987</td>\n",
              "      <td>1.000000</td>\n",
              "      <td>0.929017</td>\n",
              "      <td>-0.330042</td>\n",
              "      <td>0.448808</td>\n",
              "      <td>0.097468</td>\n",
              "      <td>0.242203</td>\n",
              "      <td>-0.234979</td>\n",
              "      <td>-0.039996</td>\n",
              "      <td>0.325026</td>\n",
              "      <td>-0.140804</td>\n",
              "      <td>-0.175636</td>\n",
              "      <td>-0.122137</td>\n",
              "      <td>0.081668</td>\n",
              "      <td>-0.163461</td>\n",
              "      <td>-0.218991</td>\n",
              "      <td>0.395370</td>\n",
              "      <td>0.000909</td>\n",
              "      <td>0.385231</td>\n",
              "      <td>-0.242153</td>\n",
              "      <td>-0.238220</td>\n",
              "      <td>-0.276563</td>\n",
              "      <td>0.221688</td>\n",
              "      <td>-0.090504</td>\n",
              "      <td>-0.005364</td>\n",
              "    </tr>\n",
              "    <tr>\n",
              "      <th>MedianAgeFemale</th>\n",
              "      <td>-0.120818</td>\n",
              "      <td>-0.150087</td>\n",
              "      <td>0.010986</td>\n",
              "      <td>-0.153882</td>\n",
              "      <td>-0.195374</td>\n",
              "      <td>-0.145207</td>\n",
              "      <td>-0.018451</td>\n",
              "      <td>0.107683</td>\n",
              "      <td>0.929017</td>\n",
              "      <td>1.000000</td>\n",
              "      <td>-0.352530</td>\n",
              "      <td>0.367033</td>\n",
              "      <td>0.143260</td>\n",
              "      <td>0.247430</td>\n",
              "      <td>-0.286979</td>\n",
              "      <td>-0.083421</td>\n",
              "      <td>0.354695</td>\n",
              "      <td>-0.193079</td>\n",
              "      <td>-0.267632</td>\n",
              "      <td>-0.094411</td>\n",
              "      <td>0.041375</td>\n",
              "      <td>-0.211178</td>\n",
              "      <td>-0.269994</td>\n",
              "      <td>0.457406</td>\n",
              "      <td>0.047570</td>\n",
              "      <td>0.318500</td>\n",
              "      <td>-0.156991</td>\n",
              "      <td>-0.256061</td>\n",
              "      <td>-0.282723</td>\n",
              "      <td>0.154734</td>\n",
              "      <td>-0.080704</td>\n",
              "      <td>0.030528</td>\n",
              "    </tr>\n",
              "    <tr>\n",
              "      <th>AvgHouseholdSize</th>\n",
              "      <td>0.055054</td>\n",
              "      <td>0.082451</td>\n",
              "      <td>-0.102823</td>\n",
              "      <td>0.115394</td>\n",
              "      <td>0.111340</td>\n",
              "      <td>0.062109</td>\n",
              "      <td>0.001797</td>\n",
              "      <td>-0.023302</td>\n",
              "      <td>-0.330042</td>\n",
              "      <td>-0.352530</td>\n",
              "      <td>1.000000</td>\n",
              "      <td>-0.072600</td>\n",
              "      <td>0.042344</td>\n",
              "      <td>0.022562</td>\n",
              "      <td>-0.025889</td>\n",
              "      <td>-0.044730</td>\n",
              "      <td>-0.148304</td>\n",
              "      <td>0.025687</td>\n",
              "      <td>0.026414</td>\n",
              "      <td>0.122187</td>\n",
              "      <td>-0.127892</td>\n",
              "      <td>0.011511</td>\n",
              "      <td>0.028057</td>\n",
              "      <td>-0.134047</td>\n",
              "      <td>0.056748</td>\n",
              "      <td>-0.159870</td>\n",
              "      <td>0.034287</td>\n",
              "      <td>0.115671</td>\n",
              "      <td>0.219868</td>\n",
              "      <td>0.108847</td>\n",
              "      <td>0.068132</td>\n",
              "      <td>-0.037925</td>\n",
              "    </tr>\n",
              "    <tr>\n",
              "      <th>PercentMarried</th>\n",
              "      <td>-0.090218</td>\n",
              "      <td>-0.185945</td>\n",
              "      <td>-0.119333</td>\n",
              "      <td>0.363272</td>\n",
              "      <td>-0.165552</td>\n",
              "      <td>-0.646724</td>\n",
              "      <td>-0.038103</td>\n",
              "      <td>0.062402</td>\n",
              "      <td>0.448808</td>\n",
              "      <td>0.367033</td>\n",
              "      <td>-0.072600</td>\n",
              "      <td>1.000000</td>\n",
              "      <td>0.006594</td>\n",
              "      <td>0.117636</td>\n",
              "      <td>-0.103611</td>\n",
              "      <td>0.055228</td>\n",
              "      <td>0.094620</td>\n",
              "      <td>0.113034</td>\n",
              "      <td>0.415213</td>\n",
              "      <td>-0.554048</td>\n",
              "      <td>0.441184</td>\n",
              "      <td>0.330582</td>\n",
              "      <td>0.222732</td>\n",
              "      <td>-0.249964</td>\n",
              "      <td>-0.457010</td>\n",
              "      <td>0.677087</td>\n",
              "      <td>-0.638428</td>\n",
              "      <td>-0.134006</td>\n",
              "      <td>-0.093246</td>\n",
              "      <td>0.869973</td>\n",
              "      <td>0.151732</td>\n",
              "      <td>-0.274256</td>\n",
              "    </tr>\n",
              "    <tr>\n",
              "      <th>PctNoHS18_24</th>\n",
              "      <td>-0.161578</td>\n",
              "      <td>-0.151146</td>\n",
              "      <td>-0.174427</td>\n",
              "      <td>-0.290246</td>\n",
              "      <td>-0.147426</td>\n",
              "      <td>0.275138</td>\n",
              "      <td>-0.077189</td>\n",
              "      <td>0.003916</td>\n",
              "      <td>0.097468</td>\n",
              "      <td>0.143260</td>\n",
              "      <td>0.042344</td>\n",
              "      <td>0.006594</td>\n",
              "      <td>1.000000</td>\n",
              "      <td>0.064109</td>\n",
              "      <td>-0.640852</td>\n",
              "      <td>-0.373149</td>\n",
              "      <td>0.221745</td>\n",
              "      <td>-0.405273</td>\n",
              "      <td>-0.351532</td>\n",
              "      <td>0.168638</td>\n",
              "      <td>-0.449968</td>\n",
              "      <td>-0.465846</td>\n",
              "      <td>-0.437770</td>\n",
              "      <td>0.318464</td>\n",
              "      <td>0.321251</td>\n",
              "      <td>-0.133837</td>\n",
              "      <td>0.109148</td>\n",
              "      <td>-0.219385</td>\n",
              "      <td>0.115512</td>\n",
              "      <td>0.019474</td>\n",
              "      <td>0.116957</td>\n",
              "      <td>0.076309</td>\n",
              "    </tr>\n",
              "    <tr>\n",
              "      <th>PctHS18_24</th>\n",
              "      <td>-0.189216</td>\n",
              "      <td>-0.151250</td>\n",
              "      <td>0.058833</td>\n",
              "      <td>-0.193868</td>\n",
              "      <td>-0.159984</td>\n",
              "      <td>0.097011</td>\n",
              "      <td>-0.043152</td>\n",
              "      <td>0.040912</td>\n",
              "      <td>0.242203</td>\n",
              "      <td>0.247430</td>\n",
              "      <td>0.022562</td>\n",
              "      <td>0.117636</td>\n",
              "      <td>0.064109</td>\n",
              "      <td>1.000000</td>\n",
              "      <td>-0.741244</td>\n",
              "      <td>-0.388099</td>\n",
              "      <td>0.437504</td>\n",
              "      <td>-0.397656</td>\n",
              "      <td>-0.267563</td>\n",
              "      <td>0.132172</td>\n",
              "      <td>-0.257475</td>\n",
              "      <td>-0.291770</td>\n",
              "      <td>-0.241811</td>\n",
              "      <td>0.284435</td>\n",
              "      <td>0.244104</td>\n",
              "      <td>0.041749</td>\n",
              "      <td>-0.014128</td>\n",
              "      <td>-0.212321</td>\n",
              "      <td>-0.060814</td>\n",
              "      <td>0.097750</td>\n",
              "      <td>0.048428</td>\n",
              "      <td>0.284848</td>\n",
              "    </tr>\n",
              "    <tr>\n",
              "      <th>PctSomeCol18_24</th>\n",
              "      <td>0.148383</td>\n",
              "      <td>0.131152</td>\n",
              "      <td>0.009673</td>\n",
              "      <td>0.214013</td>\n",
              "      <td>0.119182</td>\n",
              "      <td>-0.182623</td>\n",
              "      <td>0.122474</td>\n",
              "      <td>-0.015350</td>\n",
              "      <td>-0.234979</td>\n",
              "      <td>-0.286979</td>\n",
              "      <td>-0.025889</td>\n",
              "      <td>-0.103611</td>\n",
              "      <td>-0.640852</td>\n",
              "      <td>-0.741244</td>\n",
              "      <td>1.000000</td>\n",
              "      <td>0.251892</td>\n",
              "      <td>-0.360107</td>\n",
              "      <td>0.412836</td>\n",
              "      <td>0.317916</td>\n",
              "      <td>-0.129395</td>\n",
              "      <td>0.409722</td>\n",
              "      <td>0.456662</td>\n",
              "      <td>0.385987</td>\n",
              "      <td>-0.349822</td>\n",
              "      <td>-0.326047</td>\n",
              "      <td>0.113926</td>\n",
              "      <td>-0.098389</td>\n",
              "      <td>0.206705</td>\n",
              "      <td>-0.065276</td>\n",
              "      <td>-0.045505</td>\n",
              "      <td>-0.058091</td>\n",
              "      <td>-0.216487</td>\n",
              "    </tr>\n",
              "    <tr>\n",
              "      <th>PctBachDeg18_24</th>\n",
              "      <td>0.298118</td>\n",
              "      <td>0.270025</td>\n",
              "      <td>0.029492</td>\n",
              "      <td>0.495912</td>\n",
              "      <td>0.273296</td>\n",
              "      <td>-0.385785</td>\n",
              "      <td>0.055551</td>\n",
              "      <td>-0.020582</td>\n",
              "      <td>-0.039996</td>\n",
              "      <td>-0.083421</td>\n",
              "      <td>-0.044730</td>\n",
              "      <td>0.055228</td>\n",
              "      <td>-0.373149</td>\n",
              "      <td>-0.388099</td>\n",
              "      <td>0.251892</td>\n",
              "      <td>1.000000</td>\n",
              "      <td>-0.384076</td>\n",
              "      <td>0.588959</td>\n",
              "      <td>0.464125</td>\n",
              "      <td>-0.308283</td>\n",
              "      <td>0.487051</td>\n",
              "      <td>0.507185</td>\n",
              "      <td>0.450352</td>\n",
              "      <td>-0.435201</td>\n",
              "      <td>-0.433662</td>\n",
              "      <td>0.058568</td>\n",
              "      <td>-0.096866</td>\n",
              "      <td>0.365885</td>\n",
              "      <td>0.022516</td>\n",
              "      <td>0.003379</td>\n",
              "      <td>-0.117418</td>\n",
              "      <td>-0.288553</td>\n",
              "    </tr>\n",
              "    <tr>\n",
              "      <th>PctHS25_Over</th>\n",
              "      <td>-0.328862</td>\n",
              "      <td>-0.313592</td>\n",
              "      <td>0.136945</td>\n",
              "      <td>-0.474731</td>\n",
              "      <td>-0.347895</td>\n",
              "      <td>0.195823</td>\n",
              "      <td>-0.084706</td>\n",
              "      <td>0.046140</td>\n",
              "      <td>0.325026</td>\n",
              "      <td>0.354695</td>\n",
              "      <td>-0.148304</td>\n",
              "      <td>0.094620</td>\n",
              "      <td>0.221745</td>\n",
              "      <td>0.437504</td>\n",
              "      <td>-0.360107</td>\n",
              "      <td>-0.384076</td>\n",
              "      <td>1.000000</td>\n",
              "      <td>-0.738792</td>\n",
              "      <td>-0.353704</td>\n",
              "      <td>0.083012</td>\n",
              "      <td>-0.225881</td>\n",
              "      <td>-0.309713</td>\n",
              "      <td>-0.226208</td>\n",
              "      <td>0.436107</td>\n",
              "      <td>0.306319</td>\n",
              "      <td>0.184893</td>\n",
              "      <td>-0.022711</td>\n",
              "      <td>-0.470037</td>\n",
              "      <td>-0.276175</td>\n",
              "      <td>0.055547</td>\n",
              "      <td>0.002676</td>\n",
              "      <td>0.406299</td>\n",
              "    </tr>\n",
              "    <tr>\n",
              "      <th>PctBachDeg25_Over</th>\n",
              "      <td>0.349096</td>\n",
              "      <td>0.318363</td>\n",
              "      <td>-0.044534</td>\n",
              "      <td>0.710364</td>\n",
              "      <td>0.341567</td>\n",
              "      <td>-0.532264</td>\n",
              "      <td>0.109318</td>\n",
              "      <td>-0.019485</td>\n",
              "      <td>-0.140804</td>\n",
              "      <td>-0.193079</td>\n",
              "      <td>0.025687</td>\n",
              "      <td>0.113034</td>\n",
              "      <td>-0.405273</td>\n",
              "      <td>-0.397656</td>\n",
              "      <td>0.412836</td>\n",
              "      <td>0.588959</td>\n",
              "      <td>-0.738792</td>\n",
              "      <td>1.000000</td>\n",
              "      <td>0.622701</td>\n",
              "      <td>-0.373859</td>\n",
              "      <td>0.610105</td>\n",
              "      <td>0.657946</td>\n",
              "      <td>0.543840</td>\n",
              "      <td>-0.648657</td>\n",
              "      <td>-0.617932</td>\n",
              "      <td>0.040881</td>\n",
              "      <td>-0.148391</td>\n",
              "      <td>0.471266</td>\n",
              "      <td>0.037120</td>\n",
              "      <td>0.106179</td>\n",
              "      <td>-0.066289</td>\n",
              "      <td>-0.481637</td>\n",
              "    </tr>\n",
              "    <tr>\n",
              "      <th>PctEmployed16_Over</th>\n",
              "      <td>0.220921</td>\n",
              "      <td>0.131903</td>\n",
              "      <td>0.014315</td>\n",
              "      <td>0.695337</td>\n",
              "      <td>0.157288</td>\n",
              "      <td>-0.736184</td>\n",
              "      <td>0.085666</td>\n",
              "      <td>-0.016825</td>\n",
              "      <td>-0.175636</td>\n",
              "      <td>-0.267632</td>\n",
              "      <td>0.026414</td>\n",
              "      <td>0.415213</td>\n",
              "      <td>-0.351532</td>\n",
              "      <td>-0.267563</td>\n",
              "      <td>0.317916</td>\n",
              "      <td>0.464125</td>\n",
              "      <td>-0.353704</td>\n",
              "      <td>0.622701</td>\n",
              "      <td>1.000000</td>\n",
              "      <td>-0.647144</td>\n",
              "      <td>0.705048</td>\n",
              "      <td>0.783908</td>\n",
              "      <td>0.695626</td>\n",
              "      <td>-0.779749</td>\n",
              "      <td>-0.717692</td>\n",
              "      <td>0.276109</td>\n",
              "      <td>-0.335726</td>\n",
              "      <td>0.235491</td>\n",
              "      <td>0.048213</td>\n",
              "      <td>0.328723</td>\n",
              "      <td>0.106264</td>\n",
              "      <td>-0.419088</td>\n",
              "    </tr>\n",
              "    <tr>\n",
              "      <th>PctUnemployed16_Over</th>\n",
              "      <td>-0.020420</td>\n",
              "      <td>0.077583</td>\n",
              "      <td>0.097875</td>\n",
              "      <td>-0.454950</td>\n",
              "      <td>0.054303</td>\n",
              "      <td>0.650561</td>\n",
              "      <td>-0.035757</td>\n",
              "      <td>0.006540</td>\n",
              "      <td>-0.122137</td>\n",
              "      <td>-0.094411</td>\n",
              "      <td>0.122187</td>\n",
              "      <td>-0.554048</td>\n",
              "      <td>0.168638</td>\n",
              "      <td>0.132172</td>\n",
              "      <td>-0.129395</td>\n",
              "      <td>-0.308283</td>\n",
              "      <td>0.083012</td>\n",
              "      <td>-0.373859</td>\n",
              "      <td>-0.647144</td>\n",
              "      <td>1.000000</td>\n",
              "      <td>-0.624638</td>\n",
              "      <td>-0.574250</td>\n",
              "      <td>-0.461110</td>\n",
              "      <td>0.538992</td>\n",
              "      <td>0.657564</td>\n",
              "      <td>-0.490071</td>\n",
              "      <td>0.469601</td>\n",
              "      <td>-0.023882</td>\n",
              "      <td>0.041265</td>\n",
              "      <td>-0.470265</td>\n",
              "      <td>-0.089436</td>\n",
              "      <td>0.379586</td>\n",
              "    </tr>\n",
              "    <tr>\n",
              "      <th>PctPrivateCoverage</th>\n",
              "      <td>0.167680</td>\n",
              "      <td>0.078127</td>\n",
              "      <td>0.100981</td>\n",
              "      <td>0.726618</td>\n",
              "      <td>0.084061</td>\n",
              "      <td>-0.819262</td>\n",
              "      <td>0.096917</td>\n",
              "      <td>0.021361</td>\n",
              "      <td>0.081668</td>\n",
              "      <td>0.041375</td>\n",
              "      <td>-0.127892</td>\n",
              "      <td>0.441184</td>\n",
              "      <td>-0.449968</td>\n",
              "      <td>-0.257475</td>\n",
              "      <td>0.409722</td>\n",
              "      <td>0.487051</td>\n",
              "      <td>-0.225881</td>\n",
              "      <td>0.610105</td>\n",
              "      <td>0.705048</td>\n",
              "      <td>-0.624638</td>\n",
              "      <td>1.000000</td>\n",
              "      <td>0.934017</td>\n",
              "      <td>0.830606</td>\n",
              "      <td>-0.717322</td>\n",
              "      <td>-0.883069</td>\n",
              "      <td>0.408287</td>\n",
              "      <td>-0.347041</td>\n",
              "      <td>0.211937</td>\n",
              "      <td>-0.177768</td>\n",
              "      <td>0.423946</td>\n",
              "      <td>-0.025759</td>\n",
              "      <td>-0.383597</td>\n",
              "    </tr>\n",
              "    <tr>\n",
              "      <th>PctPrivateCoverageAlone</th>\n",
              "      <td>0.230896</td>\n",
              "      <td>0.158800</td>\n",
              "      <td>0.095949</td>\n",
              "      <td>0.787088</td>\n",
              "      <td>0.176826</td>\n",
              "      <td>-0.757384</td>\n",
              "      <td>0.070647</td>\n",
              "      <td>-0.011639</td>\n",
              "      <td>-0.163461</td>\n",
              "      <td>-0.211178</td>\n",
              "      <td>0.011511</td>\n",
              "      <td>0.330582</td>\n",
              "      <td>-0.465846</td>\n",
              "      <td>-0.291770</td>\n",
              "      <td>0.456662</td>\n",
              "      <td>0.507185</td>\n",
              "      <td>-0.309713</td>\n",
              "      <td>0.657946</td>\n",
              "      <td>0.783908</td>\n",
              "      <td>-0.574250</td>\n",
              "      <td>0.934017</td>\n",
              "      <td>1.000000</td>\n",
              "      <td>0.933494</td>\n",
              "      <td>-0.857543</td>\n",
              "      <td>-0.853441</td>\n",
              "      <td>0.300079</td>\n",
              "      <td>-0.277427</td>\n",
              "      <td>0.314855</td>\n",
              "      <td>-0.088509</td>\n",
              "      <td>0.390318</td>\n",
              "      <td>-0.039318</td>\n",
              "      <td>-0.364280</td>\n",
              "    </tr>\n",
              "    <tr>\n",
              "      <th>PctEmpPrivCoverage</th>\n",
              "      <td>0.233271</td>\n",
              "      <td>0.186627</td>\n",
              "      <td>0.149253</td>\n",
              "      <td>0.748979</td>\n",
              "      <td>0.198317</td>\n",
              "      <td>-0.679636</td>\n",
              "      <td>0.093400</td>\n",
              "      <td>-0.018339</td>\n",
              "      <td>-0.218991</td>\n",
              "      <td>-0.269994</td>\n",
              "      <td>0.028057</td>\n",
              "      <td>0.222732</td>\n",
              "      <td>-0.437770</td>\n",
              "      <td>-0.241811</td>\n",
              "      <td>0.385987</td>\n",
              "      <td>0.450352</td>\n",
              "      <td>-0.226208</td>\n",
              "      <td>0.543840</td>\n",
              "      <td>0.695626</td>\n",
              "      <td>-0.461110</td>\n",
              "      <td>0.830606</td>\n",
              "      <td>0.933494</td>\n",
              "      <td>1.000000</td>\n",
              "      <td>-0.779560</td>\n",
              "      <td>-0.725634</td>\n",
              "      <td>0.252294</td>\n",
              "      <td>-0.236658</td>\n",
              "      <td>0.309766</td>\n",
              "      <td>-0.065117</td>\n",
              "      <td>0.320587</td>\n",
              "      <td>-0.086032</td>\n",
              "      <td>-0.259023</td>\n",
              "    </tr>\n",
              "    <tr>\n",
              "      <th>PctPublicCoverage</th>\n",
              "      <td>-0.193206</td>\n",
              "      <td>-0.148174</td>\n",
              "      <td>0.064772</td>\n",
              "      <td>-0.755374</td>\n",
              "      <td>-0.193276</td>\n",
              "      <td>0.649541</td>\n",
              "      <td>-0.052599</td>\n",
              "      <td>0.024897</td>\n",
              "      <td>0.395370</td>\n",
              "      <td>0.457406</td>\n",
              "      <td>-0.134047</td>\n",
              "      <td>-0.249964</td>\n",
              "      <td>0.318464</td>\n",
              "      <td>0.284435</td>\n",
              "      <td>-0.349822</td>\n",
              "      <td>-0.435201</td>\n",
              "      <td>0.436107</td>\n",
              "      <td>-0.648657</td>\n",
              "      <td>-0.779749</td>\n",
              "      <td>0.538992</td>\n",
              "      <td>-0.717322</td>\n",
              "      <td>-0.857543</td>\n",
              "      <td>-0.779560</td>\n",
              "      <td>1.000000</td>\n",
              "      <td>0.865082</td>\n",
              "      <td>-0.136022</td>\n",
              "      <td>0.195911</td>\n",
              "      <td>-0.317003</td>\n",
              "      <td>-0.078084</td>\n",
              "      <td>-0.363281</td>\n",
              "      <td>-0.031565</td>\n",
              "      <td>0.418348</td>\n",
              "    </tr>\n",
              "    <tr>\n",
              "      <th>PctPublicCoverageAlone</th>\n",
              "      <td>-0.120770</td>\n",
              "      <td>-0.044359</td>\n",
              "      <td>0.056818</td>\n",
              "      <td>-0.721523</td>\n",
              "      <td>-0.069644</td>\n",
              "      <td>0.797428</td>\n",
              "      <td>-0.065529</td>\n",
              "      <td>-0.022085</td>\n",
              "      <td>0.000909</td>\n",
              "      <td>0.047570</td>\n",
              "      <td>0.056748</td>\n",
              "      <td>-0.457010</td>\n",
              "      <td>0.321251</td>\n",
              "      <td>0.244104</td>\n",
              "      <td>-0.326047</td>\n",
              "      <td>-0.433662</td>\n",
              "      <td>0.306319</td>\n",
              "      <td>-0.617932</td>\n",
              "      <td>-0.717692</td>\n",
              "      <td>0.657564</td>\n",
              "      <td>-0.883069</td>\n",
              "      <td>-0.853441</td>\n",
              "      <td>-0.725634</td>\n",
              "      <td>0.865082</td>\n",
              "      <td>1.000000</td>\n",
              "      <td>-0.355050</td>\n",
              "      <td>0.334501</td>\n",
              "      <td>-0.195352</td>\n",
              "      <td>0.085745</td>\n",
              "      <td>-0.468028</td>\n",
              "      <td>-0.017233</td>\n",
              "      <td>0.456076</td>\n",
              "    </tr>\n",
              "    <tr>\n",
              "      <th>PctWhite</th>\n",
              "      <td>-0.130937</td>\n",
              "      <td>-0.194866</td>\n",
              "      <td>-0.024640</td>\n",
              "      <td>0.163892</td>\n",
              "      <td>-0.205556</td>\n",
              "      <td>-0.502881</td>\n",
              "      <td>0.020227</td>\n",
              "      <td>0.028439</td>\n",
              "      <td>0.385231</td>\n",
              "      <td>0.318500</td>\n",
              "      <td>-0.159870</td>\n",
              "      <td>0.677087</td>\n",
              "      <td>-0.133837</td>\n",
              "      <td>0.041749</td>\n",
              "      <td>0.113926</td>\n",
              "      <td>0.058568</td>\n",
              "      <td>0.184893</td>\n",
              "      <td>0.040881</td>\n",
              "      <td>0.276109</td>\n",
              "      <td>-0.490071</td>\n",
              "      <td>0.408287</td>\n",
              "      <td>0.300079</td>\n",
              "      <td>0.252294</td>\n",
              "      <td>-0.136022</td>\n",
              "      <td>-0.355050</td>\n",
              "      <td>1.000000</td>\n",
              "      <td>-0.855885</td>\n",
              "      <td>-0.254996</td>\n",
              "      <td>-0.233836</td>\n",
              "      <td>0.592883</td>\n",
              "      <td>0.012854</td>\n",
              "      <td>-0.179109</td>\n",
              "    </tr>\n",
              "    <tr>\n",
              "      <th>PctBlack</th>\n",
              "      <td>0.027472</td>\n",
              "      <td>0.092543</td>\n",
              "      <td>0.113291</td>\n",
              "      <td>-0.267095</td>\n",
              "      <td>0.084060</td>\n",
              "      <td>0.512053</td>\n",
              "      <td>-0.018508</td>\n",
              "      <td>-0.003509</td>\n",
              "      <td>-0.242153</td>\n",
              "      <td>-0.156991</td>\n",
              "      <td>0.034287</td>\n",
              "      <td>-0.638428</td>\n",
              "      <td>0.109148</td>\n",
              "      <td>-0.014128</td>\n",
              "      <td>-0.098389</td>\n",
              "      <td>-0.096866</td>\n",
              "      <td>-0.022711</td>\n",
              "      <td>-0.148391</td>\n",
              "      <td>-0.335726</td>\n",
              "      <td>0.469601</td>\n",
              "      <td>-0.347041</td>\n",
              "      <td>-0.277427</td>\n",
              "      <td>-0.236658</td>\n",
              "      <td>0.195911</td>\n",
              "      <td>0.334501</td>\n",
              "      <td>-0.855885</td>\n",
              "      <td>1.000000</td>\n",
              "      <td>0.015957</td>\n",
              "      <td>-0.015721</td>\n",
              "      <td>-0.585566</td>\n",
              "      <td>-0.075439</td>\n",
              "      <td>0.260477</td>\n",
              "    </tr>\n",
              "    <tr>\n",
              "      <th>PctAsian</th>\n",
              "      <td>0.450587</td>\n",
              "      <td>0.468287</td>\n",
              "      <td>0.001145</td>\n",
              "      <td>0.456880</td>\n",
              "      <td>0.517735</td>\n",
              "      <td>-0.164724</td>\n",
              "      <td>0.063852</td>\n",
              "      <td>-0.031860</td>\n",
              "      <td>-0.238220</td>\n",
              "      <td>-0.256061</td>\n",
              "      <td>0.115671</td>\n",
              "      <td>-0.134006</td>\n",
              "      <td>-0.219385</td>\n",
              "      <td>-0.212321</td>\n",
              "      <td>0.206705</td>\n",
              "      <td>0.365885</td>\n",
              "      <td>-0.470037</td>\n",
              "      <td>0.471266</td>\n",
              "      <td>0.235491</td>\n",
              "      <td>-0.023882</td>\n",
              "      <td>0.211937</td>\n",
              "      <td>0.314855</td>\n",
              "      <td>0.309766</td>\n",
              "      <td>-0.317003</td>\n",
              "      <td>-0.195352</td>\n",
              "      <td>-0.254996</td>\n",
              "      <td>0.015957</td>\n",
              "      <td>1.000000</td>\n",
              "      <td>0.200782</td>\n",
              "      <td>-0.072134</td>\n",
              "      <td>-0.057695</td>\n",
              "      <td>-0.202385</td>\n",
              "    </tr>\n",
              "    <tr>\n",
              "      <th>PctOtherRace</th>\n",
              "      <td>0.193523</td>\n",
              "      <td>0.200168</td>\n",
              "      <td>-0.201915</td>\n",
              "      <td>0.090389</td>\n",
              "      <td>0.233497</td>\n",
              "      <td>0.044453</td>\n",
              "      <td>-0.021370</td>\n",
              "      <td>-0.027781</td>\n",
              "      <td>-0.276563</td>\n",
              "      <td>-0.282723</td>\n",
              "      <td>0.219868</td>\n",
              "      <td>-0.093246</td>\n",
              "      <td>0.115512</td>\n",
              "      <td>-0.060814</td>\n",
              "      <td>-0.065276</td>\n",
              "      <td>0.022516</td>\n",
              "      <td>-0.276175</td>\n",
              "      <td>0.037120</td>\n",
              "      <td>0.048213</td>\n",
              "      <td>0.041265</td>\n",
              "      <td>-0.177768</td>\n",
              "      <td>-0.088509</td>\n",
              "      <td>-0.065117</td>\n",
              "      <td>-0.078084</td>\n",
              "      <td>0.085745</td>\n",
              "      <td>-0.233836</td>\n",
              "      <td>-0.015721</td>\n",
              "      <td>0.200782</td>\n",
              "      <td>1.000000</td>\n",
              "      <td>-0.016891</td>\n",
              "      <td>0.064676</td>\n",
              "      <td>-0.187207</td>\n",
              "    </tr>\n",
              "    <tr>\n",
              "      <th>PctMarriedHouseholds</th>\n",
              "      <td>-0.094566</td>\n",
              "      <td>-0.163633</td>\n",
              "      <td>-0.153777</td>\n",
              "      <td>0.452120</td>\n",
              "      <td>-0.127893</td>\n",
              "      <td>-0.608973</td>\n",
              "      <td>-0.049972</td>\n",
              "      <td>0.034151</td>\n",
              "      <td>0.221688</td>\n",
              "      <td>0.154734</td>\n",
              "      <td>0.108847</td>\n",
              "      <td>0.869973</td>\n",
              "      <td>0.019474</td>\n",
              "      <td>0.097750</td>\n",
              "      <td>-0.045505</td>\n",
              "      <td>0.003379</td>\n",
              "      <td>0.055547</td>\n",
              "      <td>0.106179</td>\n",
              "      <td>0.328723</td>\n",
              "      <td>-0.470265</td>\n",
              "      <td>0.423946</td>\n",
              "      <td>0.390318</td>\n",
              "      <td>0.320587</td>\n",
              "      <td>-0.363281</td>\n",
              "      <td>-0.468028</td>\n",
              "      <td>0.592883</td>\n",
              "      <td>-0.585566</td>\n",
              "      <td>-0.072134</td>\n",
              "      <td>-0.016891</td>\n",
              "      <td>1.000000</td>\n",
              "      <td>0.108505</td>\n",
              "      <td>-0.307359</td>\n",
              "    </tr>\n",
              "    <tr>\n",
              "      <th>BirthRate</th>\n",
              "      <td>-0.029859</td>\n",
              "      <td>-0.073950</td>\n",
              "      <td>-0.111649</td>\n",
              "      <td>-0.008630</td>\n",
              "      <td>-0.058774</td>\n",
              "      <td>-0.031281</td>\n",
              "      <td>0.007241</td>\n",
              "      <td>0.009353</td>\n",
              "      <td>-0.090504</td>\n",
              "      <td>-0.080704</td>\n",
              "      <td>0.068132</td>\n",
              "      <td>0.151732</td>\n",
              "      <td>0.116957</td>\n",
              "      <td>0.048428</td>\n",
              "      <td>-0.058091</td>\n",
              "      <td>-0.117418</td>\n",
              "      <td>0.002676</td>\n",
              "      <td>-0.066289</td>\n",
              "      <td>0.106264</td>\n",
              "      <td>-0.089436</td>\n",
              "      <td>-0.025759</td>\n",
              "      <td>-0.039318</td>\n",
              "      <td>-0.086032</td>\n",
              "      <td>-0.031565</td>\n",
              "      <td>-0.017233</td>\n",
              "      <td>0.012854</td>\n",
              "      <td>-0.075439</td>\n",
              "      <td>-0.057695</td>\n",
              "      <td>0.064676</td>\n",
              "      <td>0.108505</td>\n",
              "      <td>1.000000</td>\n",
              "      <td>-0.085489</td>\n",
              "    </tr>\n",
              "    <tr>\n",
              "      <th>TARGET_deathRate</th>\n",
              "      <td>-0.138106</td>\n",
              "      <td>-0.075079</td>\n",
              "      <td>0.469213</td>\n",
              "      <td>-0.431586</td>\n",
              "      <td>-0.115593</td>\n",
              "      <td>0.428083</td>\n",
              "      <td>-0.029654</td>\n",
              "      <td>0.006193</td>\n",
              "      <td>-0.005364</td>\n",
              "      <td>0.030528</td>\n",
              "      <td>-0.037925</td>\n",
              "      <td>-0.274256</td>\n",
              "      <td>0.076309</td>\n",
              "      <td>0.284848</td>\n",
              "      <td>-0.216487</td>\n",
              "      <td>-0.288553</td>\n",
              "      <td>0.406299</td>\n",
              "      <td>-0.481637</td>\n",
              "      <td>-0.419088</td>\n",
              "      <td>0.379586</td>\n",
              "      <td>-0.383597</td>\n",
              "      <td>-0.364280</td>\n",
              "      <td>-0.259023</td>\n",
              "      <td>0.418348</td>\n",
              "      <td>0.456076</td>\n",
              "      <td>-0.179109</td>\n",
              "      <td>0.260477</td>\n",
              "      <td>-0.202385</td>\n",
              "      <td>-0.187207</td>\n",
              "      <td>-0.307359</td>\n",
              "      <td>-0.085489</td>\n",
              "      <td>1.000000</td>\n",
              "    </tr>\n",
              "  </tbody>\n",
              "</table>\n",
              "</div>"
            ],
            "text/plain": [
              "                         avgAnnCount  ...  TARGET_deathRate\n",
              "avgAnnCount                 1.000000  ...         -0.138106\n",
              "avgDeathsPerYear            0.911926  ...         -0.075079\n",
              "incidenceRate               0.097013  ...          0.469213\n",
              "medIncome                   0.304332  ...         -0.431586\n",
              "popEst2015                  0.896032  ...         -0.115593\n",
              "povertyPercent             -0.165171  ...          0.428083\n",
              "studyPerCap                 0.074347  ...         -0.029654\n",
              "MedianAge                  -0.024655  ...          0.006193\n",
              "MedianAgeMale              -0.119419  ...         -0.005364\n",
              "MedianAgeFemale            -0.120818  ...          0.030528\n",
              "AvgHouseholdSize            0.055054  ...         -0.037925\n",
              "PercentMarried             -0.090218  ...         -0.274256\n",
              "PctNoHS18_24               -0.161578  ...          0.076309\n",
              "PctHS18_24                 -0.189216  ...          0.284848\n",
              "PctSomeCol18_24             0.148383  ...         -0.216487\n",
              "PctBachDeg18_24             0.298118  ...         -0.288553\n",
              "PctHS25_Over               -0.328862  ...          0.406299\n",
              "PctBachDeg25_Over           0.349096  ...         -0.481637\n",
              "PctEmployed16_Over          0.220921  ...         -0.419088\n",
              "PctUnemployed16_Over       -0.020420  ...          0.379586\n",
              "PctPrivateCoverage          0.167680  ...         -0.383597\n",
              "PctPrivateCoverageAlone     0.230896  ...         -0.364280\n",
              "PctEmpPrivCoverage          0.233271  ...         -0.259023\n",
              "PctPublicCoverage          -0.193206  ...          0.418348\n",
              "PctPublicCoverageAlone     -0.120770  ...          0.456076\n",
              "PctWhite                   -0.130937  ...         -0.179109\n",
              "PctBlack                    0.027472  ...          0.260477\n",
              "PctAsian                    0.450587  ...         -0.202385\n",
              "PctOtherRace                0.193523  ...         -0.187207\n",
              "PctMarriedHouseholds       -0.094566  ...         -0.307359\n",
              "BirthRate                  -0.029859  ...         -0.085489\n",
              "TARGET_deathRate           -0.138106  ...          1.000000\n",
              "\n",
              "[32 rows x 32 columns]"
            ]
          },
          "metadata": {
            "tags": []
          },
          "execution_count": 20
        }
      ]
    },
    {
      "cell_type": "code",
      "metadata": {
        "colab": {
          "base_uri": "https://localhost:8080/",
          "height": 349
        },
        "id": "cHYIaH0G4FMn",
        "outputId": "1835e9d0-8833-4cae-c1c1-883b3c0b668c"
      },
      "source": [
        "sns.distplot(data['MedianAgeMale'],hist=True)"
      ],
      "execution_count": null,
      "outputs": [
        {
          "output_type": "stream",
          "text": [
            "/usr/local/lib/python3.6/dist-packages/seaborn/distributions.py:2551: FutureWarning: `distplot` is a deprecated function and will be removed in a future version. Please adapt your code to use either `displot` (a figure-level function with similar flexibility) or `histplot` (an axes-level function for histograms).\n",
            "  warnings.warn(msg, FutureWarning)\n"
          ],
          "name": "stderr"
        },
        {
          "output_type": "execute_result",
          "data": {
            "text/plain": [
              "<matplotlib.axes._subplots.AxesSubplot at 0x7f0da3e5fbe0>"
            ]
          },
          "metadata": {
            "tags": []
          },
          "execution_count": 24
        },
        {
          "output_type": "display_data",
          "data": {
            "image/png": "[encoded data removed]",
            "text/plain": [
              "<Figure size 432x288 with 1 Axes>"
            ]
          },
          "metadata": {
            "tags": [],
            "needs_background": "light"
          }
        }
      ]
    },
    {
      "cell_type": "code",
      "metadata": {
        "colab": {
          "base_uri": "https://localhost:8080/",
          "height": 349
        },
        "id": "nziKJ8Gs6DbA",
        "outputId": "567bfb01-896b-4fc9-b049-361538052bd5"
      },
      "source": [
        "sns.distplot(data['PctWhite'],hist=True)"
      ],
      "execution_count": null,
      "outputs": [
        {
          "output_type": "stream",
          "text": [
            "/usr/local/lib/python3.6/dist-packages/seaborn/distributions.py:2551: FutureWarning: `distplot` is a deprecated function and will be removed in a future version. Please adapt your code to use either `displot` (a figure-level function with similar flexibility) or `histplot` (an axes-level function for histograms).\n",
            "  warnings.warn(msg, FutureWarning)\n"
          ],
          "name": "stderr"
        },
        {
          "output_type": "execute_result",
          "data": {
            "text/plain": [
              "<matplotlib.axes._subplots.AxesSubplot at 0x7f0da3b1af98>"
            ]
          },
          "metadata": {
            "tags": []
          },
          "execution_count": 25
        },
        {
          "output_type": "display_data",
          "data": {
            "image/png": "[encoded data removed]",
            "text/plain": [
              "<Figure size 432x288 with 1 Axes>"
            ]
          },
          "metadata": {
            "tags": [],
            "needs_background": "light"
          }
        }
      ]
    },
    {
      "cell_type": "code",
      "metadata": {
        "id": "l3tdW44B6qDa"
      },
      "source": [
        "data.drop(['binnedInc', 'Geography', 'PctSomeCol18_24'],axis=1,inplace=True)"
      ],
      "execution_count": null,
      "outputs": []
    },
    {
      "cell_type": "code",
      "metadata": {
        "colab": {
          "base_uri": "https://localhost:8080/"
        },
        "id": "23u4Htol7iZt",
        "outputId": "9126d24a-a2d3-4429-d7bc-9c98978d6991"
      },
      "source": [
        "data.shape"
      ],
      "execution_count": null,
      "outputs": [
        {
          "output_type": "execute_result",
          "data": {
            "text/plain": [
              "(2285, 31)"
            ]
          },
          "metadata": {
            "tags": []
          },
          "execution_count": 7
        }
      ]
    },
    {
      "cell_type": "code",
      "metadata": {
        "id": "GSCbXNfj7pND"
      },
      "source": [
        "data['PctEmployed16_Over'].fillna(data['PctEmployed16_Over'].mean(),inplace=True)"
      ],
      "execution_count": null,
      "outputs": []
    },
    {
      "cell_type": "code",
      "metadata": {
        "id": "5Fsir8DP8CKe"
      },
      "source": [
        "data['PctPrivateCoverageAlone'].fillna(data['PctPrivateCoverageAlone'].mean(),inplace=True)"
      ],
      "execution_count": null,
      "outputs": []
    },
    {
      "cell_type": "code",
      "metadata": {
        "id": "oIT6H7lr8QkP"
      },
      "source": [
        "X=data.iloc[:,0:30]\r\n",
        "Y=data.iloc[:,30]"
      ],
      "execution_count": null,
      "outputs": []
    },
    {
      "cell_type": "code",
      "metadata": {
        "colab": {
          "base_uri": "https://localhost:8080/",
          "height": 216
        },
        "id": "EhkosD_KDFhD",
        "outputId": "3895b3fa-4991-4428-b009-fd8e08645a09"
      },
      "source": [
        "X.head()"
      ],
      "execution_count": null,
      "outputs": [
        {
          "output_type": "execute_result",
          "data": {
            "text/html": [
              "<div>\n",
              "<style scoped>\n",
              "    .dataframe tbody tr th:only-of-type {\n",
              "        vertical-align: middle;\n",
              "    }\n",
              "\n",
              "    .dataframe tbody tr th {\n",
              "        vertical-align: top;\n",
              "    }\n",
              "\n",
              "    .dataframe thead th {\n",
              "        text-align: right;\n",
              "    }\n",
              "</style>\n",
              "<table border=\"1\" class=\"dataframe\">\n",
              "  <thead>\n",
              "    <tr style=\"text-align: right;\">\n",
              "      <th></th>\n",
              "      <th>avgAnnCount</th>\n",
              "      <th>avgDeathsPerYear</th>\n",
              "      <th>incidenceRate</th>\n",
              "      <th>medIncome</th>\n",
              "      <th>popEst2015</th>\n",
              "      <th>povertyPercent</th>\n",
              "      <th>studyPerCap</th>\n",
              "      <th>MedianAge</th>\n",
              "      <th>MedianAgeMale</th>\n",
              "      <th>MedianAgeFemale</th>\n",
              "      <th>AvgHouseholdSize</th>\n",
              "      <th>PercentMarried</th>\n",
              "      <th>PctNoHS18_24</th>\n",
              "      <th>PctHS18_24</th>\n",
              "      <th>PctBachDeg18_24</th>\n",
              "      <th>PctHS25_Over</th>\n",
              "      <th>PctBachDeg25_Over</th>\n",
              "      <th>PctEmployed16_Over</th>\n",
              "      <th>PctUnemployed16_Over</th>\n",
              "      <th>PctPrivateCoverage</th>\n",
              "      <th>PctPrivateCoverageAlone</th>\n",
              "      <th>PctEmpPrivCoverage</th>\n",
              "      <th>PctPublicCoverage</th>\n",
              "      <th>PctPublicCoverageAlone</th>\n",
              "      <th>PctWhite</th>\n",
              "      <th>PctBlack</th>\n",
              "      <th>PctAsian</th>\n",
              "      <th>PctOtherRace</th>\n",
              "      <th>PctMarriedHouseholds</th>\n",
              "      <th>BirthRate</th>\n",
              "    </tr>\n",
              "  </thead>\n",
              "  <tbody>\n",
              "    <tr>\n",
              "      <th>0</th>\n",
              "      <td>19.0</td>\n",
              "      <td>8</td>\n",
              "      <td>481.5</td>\n",
              "      <td>50038</td>\n",
              "      <td>2704</td>\n",
              "      <td>11.1</td>\n",
              "      <td>0.0</td>\n",
              "      <td>48.4</td>\n",
              "      <td>49.6</td>\n",
              "      <td>46.4</td>\n",
              "      <td>2.25</td>\n",
              "      <td>65.9</td>\n",
              "      <td>10.8</td>\n",
              "      <td>25.0</td>\n",
              "      <td>6.8</td>\n",
              "      <td>37.1</td>\n",
              "      <td>12.2</td>\n",
              "      <td>57.4</td>\n",
              "      <td>1.1</td>\n",
              "      <td>81.2</td>\n",
              "      <td>56.00000</td>\n",
              "      <td>35.7</td>\n",
              "      <td>34.7</td>\n",
              "      <td>9.9</td>\n",
              "      <td>96.032049</td>\n",
              "      <td>0.724914</td>\n",
              "      <td>0.000000</td>\n",
              "      <td>0.000000</td>\n",
              "      <td>62.511457</td>\n",
              "      <td>15.157116</td>\n",
              "    </tr>\n",
              "    <tr>\n",
              "      <th>1</th>\n",
              "      <td>88.0</td>\n",
              "      <td>34</td>\n",
              "      <td>486.0</td>\n",
              "      <td>59399</td>\n",
              "      <td>14844</td>\n",
              "      <td>9.7</td>\n",
              "      <td>0.0</td>\n",
              "      <td>41.9</td>\n",
              "      <td>41.3</td>\n",
              "      <td>43.2</td>\n",
              "      <td>2.63</td>\n",
              "      <td>58.6</td>\n",
              "      <td>22.3</td>\n",
              "      <td>29.1</td>\n",
              "      <td>1.1</td>\n",
              "      <td>35.9</td>\n",
              "      <td>16.0</td>\n",
              "      <td>60.4</td>\n",
              "      <td>3.8</td>\n",
              "      <td>76.7</td>\n",
              "      <td>48.67193</td>\n",
              "      <td>50.8</td>\n",
              "      <td>32.1</td>\n",
              "      <td>12.8</td>\n",
              "      <td>97.537344</td>\n",
              "      <td>0.719957</td>\n",
              "      <td>0.080743</td>\n",
              "      <td>0.040371</td>\n",
              "      <td>61.641045</td>\n",
              "      <td>3.293510</td>\n",
              "    </tr>\n",
              "    <tr>\n",
              "      <th>2</th>\n",
              "      <td>195.0</td>\n",
              "      <td>83</td>\n",
              "      <td>475.7</td>\n",
              "      <td>39721</td>\n",
              "      <td>25164</td>\n",
              "      <td>18.5</td>\n",
              "      <td>0.0</td>\n",
              "      <td>48.9</td>\n",
              "      <td>47.9</td>\n",
              "      <td>49.9</td>\n",
              "      <td>2.30</td>\n",
              "      <td>57.2</td>\n",
              "      <td>24.9</td>\n",
              "      <td>36.2</td>\n",
              "      <td>3.5</td>\n",
              "      <td>40.2</td>\n",
              "      <td>7.6</td>\n",
              "      <td>41.2</td>\n",
              "      <td>11.0</td>\n",
              "      <td>61.6</td>\n",
              "      <td>48.67193</td>\n",
              "      <td>32.1</td>\n",
              "      <td>49.8</td>\n",
              "      <td>21.6</td>\n",
              "      <td>97.576566</td>\n",
              "      <td>0.360770</td>\n",
              "      <td>0.411749</td>\n",
              "      <td>0.082350</td>\n",
              "      <td>53.978102</td>\n",
              "      <td>6.390328</td>\n",
              "    </tr>\n",
              "    <tr>\n",
              "      <th>3</th>\n",
              "      <td>116.0</td>\n",
              "      <td>55</td>\n",
              "      <td>496.6</td>\n",
              "      <td>30299</td>\n",
              "      <td>17917</td>\n",
              "      <td>28.1</td>\n",
              "      <td>0.0</td>\n",
              "      <td>44.2</td>\n",
              "      <td>42.7</td>\n",
              "      <td>45.2</td>\n",
              "      <td>2.43</td>\n",
              "      <td>53.0</td>\n",
              "      <td>10.9</td>\n",
              "      <td>51.8</td>\n",
              "      <td>5.3</td>\n",
              "      <td>44.2</td>\n",
              "      <td>7.0</td>\n",
              "      <td>41.6</td>\n",
              "      <td>10.4</td>\n",
              "      <td>45.2</td>\n",
              "      <td>48.67193</td>\n",
              "      <td>24.2</td>\n",
              "      <td>53.2</td>\n",
              "      <td>33.0</td>\n",
              "      <td>97.908650</td>\n",
              "      <td>0.161731</td>\n",
              "      <td>0.306731</td>\n",
              "      <td>0.340193</td>\n",
              "      <td>51.013143</td>\n",
              "      <td>5.124836</td>\n",
              "    </tr>\n",
              "    <tr>\n",
              "      <th>4</th>\n",
              "      <td>80.0</td>\n",
              "      <td>35</td>\n",
              "      <td>372.0</td>\n",
              "      <td>39625</td>\n",
              "      <td>14058</td>\n",
              "      <td>17.4</td>\n",
              "      <td>0.0</td>\n",
              "      <td>45.0</td>\n",
              "      <td>42.2</td>\n",
              "      <td>48.0</td>\n",
              "      <td>2.36</td>\n",
              "      <td>52.2</td>\n",
              "      <td>12.6</td>\n",
              "      <td>31.2</td>\n",
              "      <td>0.2</td>\n",
              "      <td>28.3</td>\n",
              "      <td>10.5</td>\n",
              "      <td>49.3</td>\n",
              "      <td>9.2</td>\n",
              "      <td>56.6</td>\n",
              "      <td>48.67193</td>\n",
              "      <td>33.4</td>\n",
              "      <td>43.0</td>\n",
              "      <td>24.7</td>\n",
              "      <td>82.672551</td>\n",
              "      <td>1.834103</td>\n",
              "      <td>0.682617</td>\n",
              "      <td>8.253465</td>\n",
              "      <td>50.566426</td>\n",
              "      <td>3.897033</td>\n",
              "    </tr>\n",
              "  </tbody>\n",
              "</table>\n",
              "</div>"
            ],
            "text/plain": [
              "   avgAnnCount  avgDeathsPerYear  ...  PctMarriedHouseholds  BirthRate\n",
              "0         19.0                 8  ...             62.511457  15.157116\n",
              "1         88.0                34  ...             61.641045   3.293510\n",
              "2        195.0                83  ...             53.978102   6.390328\n",
              "3        116.0                55  ...             51.013143   5.124836\n",
              "4         80.0                35  ...             50.566426   3.897033\n",
              "\n",
              "[5 rows x 30 columns]"
            ]
          },
          "metadata": {
            "tags": []
          },
          "execution_count": 13
        }
      ]
    },
    {
      "cell_type": "code",
      "metadata": {
        "id": "9DnMKiEa8sAx"
      },
      "source": [
        "from sklearn.model_selection import train_test_split\r\n"
      ],
      "execution_count": null,
      "outputs": []
    },
    {
      "cell_type": "code",
      "metadata": {
        "id": "nl9GFTI69A6a"
      },
      "source": [
        "X_train,X_val,Y_train,Y_val=train_test_split(X,Y,test_size = 0.2,random_state = 42)"
      ],
      "execution_count": null,
      "outputs": []
    },
    {
      "cell_type": "code",
      "metadata": {
        "id": "E2Jl9TuF9Tnz"
      },
      "source": [
        "from sklearn.linear_model import LinearRegression\r\n",
        "base_model1=LinearRegression()\r\n",
        "base_model1.fit(X_train,Y_train)\r\n",
        "pred=base_model1.predict(X_val)"
      ],
      "execution_count": null,
      "outputs": []
    },
    {
      "cell_type": "code",
      "metadata": {
        "id": "EPftctO4950p"
      },
      "source": [
        "from sklearn.metrics import mean_absolute_error,mean_squared_error"
      ],
      "execution_count": null,
      "outputs": []
    },
    {
      "cell_type": "code",
      "metadata": {
        "id": "lukiuwFs_b58",
        "colab": {
          "base_uri": "https://localhost:8080/"
        },
        "outputId": "6ab3b938-c9ad-473c-d923-d3e863807953"
      },
      "source": [
        "mean_squared_error(Y_val,pred)"
      ],
      "execution_count": null,
      "outputs": [
        {
          "output_type": "execute_result",
          "data": {
            "text/plain": [
              "345.9949305471562"
            ]
          },
          "metadata": {
            "tags": []
          },
          "execution_count": 19
        }
      ]
    },
    {
      "cell_type": "code",
      "metadata": {
        "colab": {
          "base_uri": "https://localhost:8080/"
        },
        "id": "4sc0eiyFUtpx",
        "outputId": "6ae7120c-11f7-40ce-8e00-87efa4ba1592"
      },
      "source": [
        "mean_squared_error(Y_train,base_model1.predict(X_train))"
      ],
      "execution_count": null,
      "outputs": [
        {
          "output_type": "execute_result",
          "data": {
            "text/plain": [
              "344.14107051723585"
            ]
          },
          "metadata": {
            "tags": []
          },
          "execution_count": 20
        }
      ]
    },
    {
      "cell_type": "code",
      "metadata": {
        "id": "ToMNqhgr_4AV"
      },
      "source": [
        "from sklearn.ensemble import RandomForestRegressor\r\n",
        "base_model2=RandomForestRegressor()\r\n",
        "base_model2.fit(X_train,Y_train)\r\n",
        "pred2=base_model2.predict(X_val)\r\n",
        "pred12=base_model2.predict(X_train)"
      ],
      "execution_count": null,
      "outputs": []
    },
    {
      "cell_type": "code",
      "metadata": {
        "colab": {
          "base_uri": "https://localhost:8080/"
        },
        "id": "fiSwX5HUBw0o",
        "outputId": "8d9c40cf-806e-499a-bc93-534119567e40"
      },
      "source": [
        "mean_squared_error(Y_val,pred2)\r\n",
        " #error on test"
      ],
      "execution_count": null,
      "outputs": [
        {
          "output_type": "execute_result",
          "data": {
            "text/plain": [
              "367.6495787461705"
            ]
          },
          "metadata": {
            "tags": []
          },
          "execution_count": 22
        }
      ]
    },
    {
      "cell_type": "code",
      "metadata": {
        "colab": {
          "base_uri": "https://localhost:8080/"
        },
        "id": "mDK_jag9Dmgv",
        "outputId": "4ad16b91-b0d1-4d33-d3ff-e0710c195372"
      },
      "source": [
        "mean_squared_error(Y_train,pred12)"
      ],
      "execution_count": null,
      "outputs": [
        {
          "output_type": "execute_result",
          "data": {
            "text/plain": [
              "49.0021449239605"
            ]
          },
          "metadata": {
            "tags": []
          },
          "execution_count": 23
        }
      ]
    },
    {
      "cell_type": "code",
      "metadata": {
        "id": "vX3EXf_IVsNr"
      },
      "source": [
        "from sklearn.tree import  DecisionTreeRegressor\r\n",
        "base_model3=DecisionTreeRegressor()\r\n",
        "base_model3.fit(X_train,Y_train)\r\n",
        "pred3=base_model3.predict(X_val)\r\n",
        "pred13=base_model3.predict(X_train)\r\n"
      ],
      "execution_count": null,
      "outputs": []
    },
    {
      "cell_type": "code",
      "metadata": {
        "colab": {
          "base_uri": "https://localhost:8080/"
        },
        "id": "z5IulX8PWk0M",
        "outputId": "8629f53c-9369-4ac7-a10f-61b62c344e09"
      },
      "source": [
        "mean_squared_error(Y_val,pred3)"
      ],
      "execution_count": null,
      "outputs": [
        {
          "output_type": "execute_result",
          "data": {
            "text/plain": [
              "738.7872647702408"
            ]
          },
          "metadata": {
            "tags": []
          },
          "execution_count": 28
        }
      ]
    },
    {
      "cell_type": "code",
      "metadata": {
        "colab": {
          "base_uri": "https://localhost:8080/"
        },
        "id": "T0o8Unp6Wmqq",
        "outputId": "572cb332-ffb7-4776-85b7-05e3c2a68f35"
      },
      "source": [
        "mean_squared_error(Y_train,pred13)"
      ],
      "execution_count": null,
      "outputs": [
        {
          "output_type": "execute_result",
          "data": {
            "text/plain": [
              "0.0"
            ]
          },
          "metadata": {
            "tags": []
          },
          "execution_count": 27
        }
      ]
    },
    {
      "cell_type": "code",
      "metadata": {
        "id": "rRRPy4-LXN2u"
      },
      "source": [
        "from sklearn.ensemble import GradientBoostingRegressor\r\n",
        "base_model4=DecisionTreeRegressor()\r\n",
        "base_model4.fit(X_train,Y_train)\r\n",
        "pred4=base_model4.predict(X_val)\r\n",
        "pred14=base_model4.predict(X_train)\r\n"
      ],
      "execution_count": null,
      "outputs": []
    },
    {
      "cell_type": "code",
      "metadata": {
        "colab": {
          "base_uri": "https://localhost:8080/"
        },
        "id": "Tp25Qa96Xbwt",
        "outputId": "6d3bfdb5-d373-498d-c6c3-9533a00a3764"
      },
      "source": [
        "mean_squared_error(Y_val,pred4)"
      ],
      "execution_count": null,
      "outputs": [
        {
          "output_type": "execute_result",
          "data": {
            "text/plain": [
              "773.9916849015317"
            ]
          },
          "metadata": {
            "tags": []
          },
          "execution_count": 30
        }
      ]
    },
    {
      "cell_type": "code",
      "metadata": {
        "colab": {
          "base_uri": "https://localhost:8080/"
        },
        "id": "r-UvWl_eXeZr",
        "outputId": "6b23412f-8d6f-44f7-88b5-103d30f4ee91"
      },
      "source": [
        "mean_squared_error(Y_train,pred14)"
      ],
      "execution_count": null,
      "outputs": [
        {
          "output_type": "execute_result",
          "data": {
            "text/plain": [
              "0.0"
            ]
          },
          "metadata": {
            "tags": []
          },
          "execution_count": 31
        }
      ]
    },
    {
      "cell_type": "code",
      "metadata": {
        "id": "nlCnctVCYReM"
      },
      "source": [
        "from sklearn.svm import SVR\r\n",
        "base_model5=SVR()\r\n",
        "base_model5.fit(X_train,Y_train)\r\n",
        "pred5=base_model5.predict(X_val)\r\n",
        "pred15=base_model5.predict(X_train)"
      ],
      "execution_count": null,
      "outputs": []
    },
    {
      "cell_type": "code",
      "metadata": {
        "colab": {
          "base_uri": "https://localhost:8080/"
        },
        "id": "uoERQK7IYln6",
        "outputId": "871ec5d4-0843-48cd-bd80-0e386ef6f052"
      },
      "source": [
        "mean_squared_error(Y_val,pred5)"
      ],
      "execution_count": null,
      "outputs": [
        {
          "output_type": "execute_result",
          "data": {
            "text/plain": [
              "745.757048275148"
            ]
          },
          "metadata": {
            "tags": []
          },
          "execution_count": 34
        }
      ]
    },
    {
      "cell_type": "code",
      "metadata": {
        "colab": {
          "base_uri": "https://localhost:8080/"
        },
        "id": "k2Lnl2bHYnnz",
        "outputId": "fcc17fc6-14c2-4058-cfd2-4c6fe5263b07"
      },
      "source": [
        "mean_squared_error(Y_train,pred15)"
      ],
      "execution_count": null,
      "outputs": [
        {
          "output_type": "execute_result",
          "data": {
            "text/plain": [
              "682.2970520140768"
            ]
          },
          "metadata": {
            "tags": []
          },
          "execution_count": 33
        }
      ]
    },
    {
      "cell_type": "code",
      "metadata": {
        "id": "HLgSnaavYxyz"
      },
      "source": [
        "from sklearn.cluster import KMeans\r\n",
        "base_model6=KMeans()\r\n",
        "base_model6.fit(X_train,Y_train)\r\n",
        "pred6=base_model6.predict(X_val)\r\n",
        "pred16=base_model6.predict(X_train)"
      ],
      "execution_count": null,
      "outputs": []
    },
    {
      "cell_type": "code",
      "metadata": {
        "colab": {
          "base_uri": "https://localhost:8080/"
        },
        "id": "8vz4lgIma2Nz",
        "outputId": "71fe353e-89ff-42f6-b5be-faa7d4e3d08a"
      },
      "source": [
        "mean_squared_error(Y_val,pred6)"
      ],
      "execution_count": null,
      "outputs": [
        {
          "output_type": "execute_result",
          "data": {
            "text/plain": [
              "32633.86249452954"
            ]
          },
          "metadata": {
            "tags": []
          },
          "execution_count": 37
        }
      ]
    },
    {
      "cell_type": "code",
      "metadata": {
        "colab": {
          "base_uri": "https://localhost:8080/"
        },
        "id": "GZlrDFzYa8wr",
        "outputId": "8061e461-6508-4e58-9274-8197e9f9c474"
      },
      "source": [
        "mean_squared_error(Y_train,pred16)"
      ],
      "execution_count": null,
      "outputs": [
        {
          "output_type": "execute_result",
          "data": {
            "text/plain": [
              "31797.123960612687"
            ]
          },
          "metadata": {
            "tags": []
          },
          "execution_count": 38
        }
      ]
    },
    {
      "cell_type": "code",
      "metadata": {
        "id": "pTEQaKmtbFDQ"
      },
      "source": [
        "from sklearn.ensemble import AdaBoostRegressor\r\n",
        "base_model7=KMeans()\r\n",
        "base_model7.fit(X_train,Y_train)\r\n",
        "pred7=base_model7.predict(X_val)\r\n",
        "pred17=base_model7.predict(X_train)"
      ],
      "execution_count": null,
      "outputs": []
    },
    {
      "cell_type": "code",
      "metadata": {
        "colab": {
          "base_uri": "https://localhost:8080/"
        },
        "id": "nRv6alPbb5k9",
        "outputId": "a94c2f06-a0c8-45ef-e146-cf3bc39b3be7"
      },
      "source": [
        "mean_squared_error(Y_val,pred7)"
      ],
      "execution_count": null,
      "outputs": [
        {
          "output_type": "execute_result",
          "data": {
            "text/plain": [
              "33001.978468271336"
            ]
          },
          "metadata": {
            "tags": []
          },
          "execution_count": 40
        }
      ]
    },
    {
      "cell_type": "code",
      "metadata": {
        "colab": {
          "base_uri": "https://localhost:8080/"
        },
        "id": "JP56Kivmb-DT",
        "outputId": "bab02691-2ad1-4c36-c4b1-78a9a04c8345"
      },
      "source": [
        "mean_squared_error(Y_train,pred17)"
      ],
      "execution_count": null,
      "outputs": [
        {
          "output_type": "execute_result",
          "data": {
            "text/plain": [
              "32166.130087527355"
            ]
          },
          "metadata": {
            "tags": []
          },
          "execution_count": 42
        }
      ]
    },
    {
      "cell_type": "code",
      "metadata": {
        "id": "b0vxENaucGoU"
      },
      "source": [
        ""
      ],
      "execution_count": null,
      "outputs": []
    },
    {
      "cell_type": "code",
      "metadata": {
        "id": "NiyW22_-C0fq"
      },
      "source": [
        "from sklearn.ensemble import RandomForestRegressor\r\n",
        "model3=RandomForestRegressor(random_state = 1)\r\n",
        "model3.fit(X_train,Y_train)\r\n",
        "pred3=model3.predict(X_val)\r\n",
        "pred13=model3.predict(X_train)"
      ],
      "execution_count": null,
      "outputs": []
    },
    {
      "cell_type": "code",
      "metadata": {
        "colab": {
          "base_uri": "https://localhost:8080/"
        },
        "id": "NvtJgFmNC9WL",
        "outputId": "32895dbd-3234-46d1-a76d-cad3985f4b4e"
      },
      "source": [
        "ans4=mean_squared_error(Y_val,pred3)\r\n",
        "ans4 #test "
      ],
      "execution_count": null,
      "outputs": [
        {
          "output_type": "execute_result",
          "data": {
            "text/plain": [
              "363.92963626477"
            ]
          },
          "metadata": {
            "tags": []
          },
          "execution_count": 25
        }
      ]
    },
    {
      "cell_type": "code",
      "metadata": {
        "colab": {
          "base_uri": "https://localhost:8080/"
        },
        "id": "rHlxRglGDwTe",
        "outputId": "e35e594a-0fab-47ce-e44f-68a6a4378cee"
      },
      "source": [
        "mean_squared_error(Y_train,pred13)"
      ],
      "execution_count": null,
      "outputs": [
        {
          "output_type": "execute_result",
          "data": {
            "text/plain": [
              "344.56814385455993"
            ]
          },
          "metadata": {
            "tags": []
          },
          "execution_count": 64
        }
      ]
    },
    {
      "cell_type": "code",
      "metadata": {
        "id": "76ZVhudNDIxB"
      },
      "source": [
        "from sklearn.ensemble import RandomForestRegressor\r\n",
        "model4=RandomForestRegressor(random_state = 2)\r\n",
        "model4.fit(X_train,Y_train)\r\n",
        "pred4=model.predict(X_val)\r\n",
        "pred14=model.predict(X_train)"
      ],
      "execution_count": null,
      "outputs": []
    },
    {
      "cell_type": "code",
      "metadata": {
        "colab": {
          "base_uri": "https://localhost:8080/"
        },
        "id": "7qdvwKwNDhYP",
        "outputId": "40aedcbf-92ca-4916-932e-ee98d1023a4e"
      },
      "source": [
        "mean_squared_error(Y_val,pred6)"
      ],
      "execution_count": null,
      "outputs": [
        {
          "output_type": "execute_result",
          "data": {
            "text/plain": [
              "335.74979903095596"
            ]
          },
          "metadata": {
            "tags": []
          },
          "execution_count": 81
        }
      ]
    },
    {
      "cell_type": "code",
      "metadata": {
        "colab": {
          "base_uri": "https://localhost:8080/"
        },
        "id": "IsH0IfElD7Yu",
        "outputId": "ef66fcd2-42b5-4e12-bb72-8fb10779583a"
      },
      "source": [
        "mean_squared_error(Y_train,pred16)"
      ],
      "execution_count": null,
      "outputs": [
        {
          "output_type": "execute_result",
          "data": {
            "text/plain": [
              "344.56814385455993"
            ]
          },
          "metadata": {
            "tags": []
          },
          "execution_count": 82
        }
      ]
    },
    {
      "cell_type": "code",
      "metadata": {
        "id": "tys4ZCqKD_Z5"
      },
      "source": [
        "from sklearn.tree import DecisionTreeRegressor"
      ],
      "execution_count": null,
      "outputs": []
    },
    {
      "cell_type": "code",
      "metadata": {
        "id": "lxgVJXigI-xA"
      },
      "source": [
        "model6=DecisionTreeRegressor(random_state = 1, max_depth = 10)\r\n",
        "model6.fit(X_train,Y_train)\r\n",
        "pred6=model.predict(X_val)\r\n",
        "pred16=model.predict(X_train)"
      ],
      "execution_count": null,
      "outputs": []
    },
    {
      "cell_type": "code",
      "metadata": {
        "id": "nKDcmCh3JIg1"
      },
      "source": [
        "\r\n",
        "from sklearn.model_selection import GridSearchCV\r\n"
      ],
      "execution_count": null,
      "outputs": []
    },
    {
      "cell_type": "code",
      "metadata": {
        "colab": {
          "base_uri": "https://localhost:8080/"
        },
        "id": "rd4EmVRJLz-d",
        "outputId": "29227338-2a59-4d44-a759-74b905658f25"
      },
      "source": [
        "model4=RandomForestRegressor(random_state = 1)\r\n",
        "parameters = {\r\n",
        "        'bootstrap': [True],\r\n",
        "        'max_depth': [10, 20], \r\n",
        "        'min_samples_leaf': [3, 4],\r\n",
        "        'min_samples_split': [4, 6],\r\n",
        "        'n_estimators': [100, 200]       \r\n",
        "}\r\n",
        "cv = GridSearchCV(model4,parameters,cv=3,n_jobs = -1,verbose = 2)\r\n",
        "cv.fit(X_train, Y_train)\r\n"
      ],
      "execution_count": null,
      "outputs": [
        {
          "output_type": "stream",
          "text": [
            "Fitting 3 folds for each of 16 candidates, totalling 48 fits\n"
          ],
          "name": "stdout"
        },
        {
          "output_type": "stream",
          "text": [
            "[Parallel(n_jobs=-1)]: Using backend LokyBackend with 2 concurrent workers.\n",
            "[Parallel(n_jobs=-1)]: Done  37 tasks      | elapsed:  1.3min\n",
            "[Parallel(n_jobs=-1)]: Done  48 out of  48 | elapsed:  1.7min finished\n"
          ],
          "name": "stderr"
        },
        {
          "output_type": "execute_result",
          "data": {
            "text/plain": [
              "GridSearchCV(cv=3, error_score=nan,\n",
              "             estimator=RandomForestRegressor(bootstrap=True, ccp_alpha=0.0,\n",
              "                                             criterion='mse', max_depth=None,\n",
              "                                             max_features='auto',\n",
              "                                             max_leaf_nodes=None,\n",
              "                                             max_samples=None,\n",
              "                                             min_impurity_decrease=0.0,\n",
              "                                             min_impurity_split=None,\n",
              "                                             min_samples_leaf=1,\n",
              "                                             min_samples_split=2,\n",
              "                                             min_weight_fraction_leaf=0.0,\n",
              "                                             n_estimators=100, n_jobs=None,\n",
              "                                             oob_score=False, random_state=1,\n",
              "                                             verbose=0, warm_start=False),\n",
              "             iid='deprecated', n_jobs=-1,\n",
              "             param_grid={'bootstrap': [True], 'max_depth': [10, 20],\n",
              "                         'min_samples_leaf': [3, 4],\n",
              "                         'min_samples_split': [4, 6],\n",
              "                         'n_estimators': [100, 200]},\n",
              "             pre_dispatch='2*n_jobs', refit=True, return_train_score=False,\n",
              "             scoring=None, verbose=2)"
            ]
          },
          "metadata": {
            "tags": []
          },
          "execution_count": 94
        }
      ]
    },
    {
      "cell_type": "code",
      "metadata": {
        "id": "6xLFKcV_SmlF"
      },
      "source": [
        "a1=cv.predict(X_val)\r\n",
        "a2=cv.predict(X_train)"
      ],
      "execution_count": null,
      "outputs": []
    },
    {
      "cell_type": "code",
      "metadata": {
        "id": "-5wvmXRWSnvb"
      },
      "source": [
        ""
      ],
      "execution_count": null,
      "outputs": []
    },
    {
      "cell_type": "code",
      "metadata": {
        "colab": {
          "base_uri": "https://localhost:8080/"
        },
        "id": "Kw3U2LHrPz4u",
        "outputId": "3d9516e5-2878-47a4-86b7-5c6741c2a720"
      },
      "source": [
        "cv.best_params_"
      ],
      "execution_count": null,
      "outputs": [
        {
          "output_type": "execute_result",
          "data": {
            "text/plain": [
              "{'bootstrap': True,\n",
              " 'max_depth': 20,\n",
              " 'min_samples_leaf': 3,\n",
              " 'min_samples_split': 4,\n",
              " 'n_estimators': 200}"
            ]
          },
          "metadata": {
            "tags": []
          },
          "execution_count": 104
        }
      ]
    },
    {
      "cell_type": "code",
      "metadata": {
        "colab": {
          "base_uri": "https://localhost:8080/"
        },
        "id": "PToKoFx0SakM",
        "outputId": "497414a5-fe46-4c76-8495-021c6815630e"
      },
      "source": [
        "mean_squared_error(Y_train,a2)"
      ],
      "execution_count": null,
      "outputs": [
        {
          "output_type": "execute_result",
          "data": {
            "text/plain": [
              "86.969838845568"
            ]
          },
          "metadata": {
            "tags": []
          },
          "execution_count": 98
        }
      ]
    },
    {
      "cell_type": "code",
      "metadata": {
        "colab": {
          "base_uri": "https://localhost:8080/"
        },
        "id": "FEMP59lpS9Kj",
        "outputId": "87fd172d-c48b-4b53-8bcd-0aa70acf3fc6"
      },
      "source": [
        "np.sqrt(86.969838845568)"
      ],
      "execution_count": null,
      "outputs": [
        {
          "output_type": "execute_result",
          "data": {
            "text/plain": [
              "9.325762105349247"
            ]
          },
          "metadata": {
            "tags": []
          },
          "execution_count": 101
        }
      ]
    },
    {
      "cell_type": "code",
      "metadata": {
        "colab": {
          "base_uri": "https://localhost:8080/"
        },
        "id": "AQ9VrX2pSpuV",
        "outputId": "9d97982d-4b27-4c66-ef64-bd284d849eb4"
      },
      "source": [
        "mean_squared_error(Y_val,a1)"
      ],
      "execution_count": null,
      "outputs": [
        {
          "output_type": "execute_result",
          "data": {
            "text/plain": [
              "318.35386525189494"
            ]
          },
          "metadata": {
            "tags": []
          },
          "execution_count": 99
        }
      ]
    },
    {
      "cell_type": "code",
      "metadata": {
        "colab": {
          "base_uri": "https://localhost:8080/"
        },
        "id": "RxGDPx1jTA1M",
        "outputId": "2b20a061-f3cd-492e-b141-5b58de34a164"
      },
      "source": [
        "np.sqrt(318.35386525189494)"
      ],
      "execution_count": null,
      "outputs": [
        {
          "output_type": "execute_result",
          "data": {
            "text/plain": [
              "17.842473630410524"
            ]
          },
          "metadata": {
            "tags": []
          },
          "execution_count": 103
        }
      ]
    },
    {
      "cell_type": "code",
      "metadata": {
        "colab": {
          "base_uri": "https://localhost:8080/"
        },
        "id": "gkZFPsDBLVLj",
        "outputId": "181fa497-8e79-4e9b-86bf-116873792c34"
      },
      "source": [
        "help(GridSearchCV)"
      ],
      "execution_count": null,
      "outputs": [
        {
          "output_type": "stream",
          "text": [
            "Help on class GridSearchCV in module sklearn.model_selection._search:\n",
            "\n",
            "class GridSearchCV(BaseSearchCV)\n",
            " |  Exhaustive search over specified parameter values for an estimator.\n",
            " |  \n",
            " |  Important members are fit, predict.\n",
            " |  \n",
            " |  GridSearchCV implements a \"fit\" and a \"score\" method.\n",
            " |  It also implements \"predict\", \"predict_proba\", \"decision_function\",\n",
            " |  \"transform\" and \"inverse_transform\" if they are implemented in the\n",
            " |  estimator used.\n",
            " |  \n",
            " |  The parameters of the estimator used to apply these methods are optimized\n",
            " |  by cross-validated grid-search over a parameter grid.\n",
            " |  \n",
            " |  Read more in the :ref:`User Guide <grid_search>`.\n",
            " |  \n",
            " |  Parameters\n",
            " |  ----------\n",
            " |  estimator : estimator object.\n",
            " |      This is assumed to implement the scikit-learn estimator interface.\n",
            " |      Either estimator needs to provide a ``score`` function,\n",
            " |      or ``scoring`` must be passed.\n",
            " |  \n",
            " |  param_grid : dict or list of dictionaries\n",
            " |      Dictionary with parameters names (string) as keys and lists of\n",
            " |      parameter settings to try as values, or a list of such\n",
            " |      dictionaries, in which case the grids spanned by each dictionary\n",
            " |      in the list are explored. This enables searching over any sequence\n",
            " |      of parameter settings.\n",
            " |  \n",
            " |  scoring : string, callable, list/tuple, dict or None, default: None\n",
            " |      A single string (see :ref:`scoring_parameter`) or a callable\n",
            " |      (see :ref:`scoring`) to evaluate the predictions on the test set.\n",
            " |  \n",
            " |      For evaluating multiple metrics, either give a list of (unique) strings\n",
            " |      or a dict with names as keys and callables as values.\n",
            " |  \n",
            " |      NOTE that when using custom scorers, each scorer should return a single\n",
            " |      value. Metric functions returning a list/array of values can be wrapped\n",
            " |      into multiple scorers that return one value each.\n",
            " |  \n",
            " |      See :ref:`multimetric_grid_search` for an example.\n",
            " |  \n",
            " |      If None, the estimator's score method is used.\n",
            " |  \n",
            " |  n_jobs : int or None, optional (default=None)\n",
            " |      Number of jobs to run in parallel.\n",
            " |      ``None`` means 1 unless in a :obj:`joblib.parallel_backend` context.\n",
            " |      ``-1`` means using all processors. See :term:`Glossary <n_jobs>`\n",
            " |      for more details.\n",
            " |  \n",
            " |  pre_dispatch : int, or string, optional\n",
            " |      Controls the number of jobs that get dispatched during parallel\n",
            " |      execution. Reducing this number can be useful to avoid an\n",
            " |      explosion of memory consumption when more jobs get dispatched\n",
            " |      than CPUs can process. This parameter can be:\n",
            " |  \n",
            " |          - None, in which case all the jobs are immediately\n",
            " |            created and spawned. Use this for lightweight and\n",
            " |            fast-running jobs, to avoid delays due to on-demand\n",
            " |            spawning of the jobs\n",
            " |  \n",
            " |          - An int, giving the exact number of total jobs that are\n",
            " |            spawned\n",
            " |  \n",
            " |          - A string, giving an expression as a function of n_jobs,\n",
            " |            as in '2*n_jobs'\n",
            " |  \n",
            " |  iid : boolean, default=False\n",
            " |      If True, return the average score across folds, weighted by the number\n",
            " |      of samples in each test set. In this case, the data is assumed to be\n",
            " |      identically distributed across the folds, and the loss minimized is\n",
            " |      the total loss per sample, and not the mean loss across the folds.\n",
            " |  \n",
            " |      .. deprecated:: 0.22\n",
            " |          Parameter ``iid`` is deprecated in 0.22 and will be removed in 0.24\n",
            " |  \n",
            " |  cv : int, cross-validation generator or an iterable, optional\n",
            " |      Determines the cross-validation splitting strategy.\n",
            " |      Possible inputs for cv are:\n",
            " |  \n",
            " |      - None, to use the default 5-fold cross validation,\n",
            " |      - integer, to specify the number of folds in a `(Stratified)KFold`,\n",
            " |      - :term:`CV splitter`,\n",
            " |      - An iterable yielding (train, test) splits as arrays of indices.\n",
            " |  \n",
            " |      For integer/None inputs, if the estimator is a classifier and ``y`` is\n",
            " |      either binary or multiclass, :class:`StratifiedKFold` is used. In all\n",
            " |      other cases, :class:`KFold` is used.\n",
            " |  \n",
            " |      Refer :ref:`User Guide <cross_validation>` for the various\n",
            " |      cross-validation strategies that can be used here.\n",
            " |  \n",
            " |      .. versionchanged:: 0.22\n",
            " |          ``cv`` default value if None changed from 3-fold to 5-fold.\n",
            " |  \n",
            " |  refit : boolean, string, or callable, default=True\n",
            " |      Refit an estimator using the best found parameters on the whole\n",
            " |      dataset.\n",
            " |  \n",
            " |      For multiple metric evaluation, this needs to be a string denoting the\n",
            " |      scorer that would be used to find the best parameters for refitting\n",
            " |      the estimator at the end.\n",
            " |  \n",
            " |      Where there are considerations other than maximum score in\n",
            " |      choosing a best estimator, ``refit`` can be set to a function which\n",
            " |      returns the selected ``best_index_`` given ``cv_results_``. In that\n",
            " |      case, the ``best_estimator_`` and ``best_parameters_`` will be set\n",
            " |      according to the returned ``best_index_`` while the ``best_score_``\n",
            " |      attribute will not be available.\n",
            " |  \n",
            " |      The refitted estimator is made available at the ``best_estimator_``\n",
            " |      attribute and permits using ``predict`` directly on this\n",
            " |      ``GridSearchCV`` instance.\n",
            " |  \n",
            " |      Also for multiple metric evaluation, the attributes ``best_index_``,\n",
            " |      ``best_score_`` and ``best_params_`` will only be available if\n",
            " |      ``refit`` is set and all of them will be determined w.r.t this specific\n",
            " |      scorer.\n",
            " |  \n",
            " |      See ``scoring`` parameter to know more about multiple metric\n",
            " |      evaluation.\n",
            " |  \n",
            " |      .. versionchanged:: 0.20\n",
            " |          Support for callable added.\n",
            " |  \n",
            " |  verbose : integer\n",
            " |      Controls the verbosity: the higher, the more messages.\n",
            " |  \n",
            " |  error_score : 'raise' or numeric\n",
            " |      Value to assign to the score if an error occurs in estimator fitting.\n",
            " |      If set to 'raise', the error is raised. If a numeric value is given,\n",
            " |      FitFailedWarning is raised. This parameter does not affect the refit\n",
            " |      step, which will always raise the error. Default is ``np.nan``.\n",
            " |  \n",
            " |  return_train_score : boolean, default=False\n",
            " |      If ``False``, the ``cv_results_`` attribute will not include training\n",
            " |      scores.\n",
            " |      Computing training scores is used to get insights on how different\n",
            " |      parameter settings impact the overfitting/underfitting trade-off.\n",
            " |      However computing the scores on the training set can be computationally\n",
            " |      expensive and is not strictly required to select the parameters that\n",
            " |      yield the best generalization performance.\n",
            " |  \n",
            " |  \n",
            " |  Examples\n",
            " |  --------\n",
            " |  >>> from sklearn import svm, datasets\n",
            " |  >>> from sklearn.model_selection import GridSearchCV\n",
            " |  >>> iris = datasets.load_iris()\n",
            " |  >>> parameters = {'kernel':('linear', 'rbf'), 'C':[1, 10]}\n",
            " |  >>> svc = svm.SVC()\n",
            " |  >>> clf = GridSearchCV(svc, parameters)\n",
            " |  >>> clf.fit(iris.data, iris.target)\n",
            " |  GridSearchCV(estimator=SVC(),\n",
            " |               param_grid={'C': [1, 10], 'kernel': ('linear', 'rbf')})\n",
            " |  >>> sorted(clf.cv_results_.keys())\n",
            " |  ['mean_fit_time', 'mean_score_time', 'mean_test_score',...\n",
            " |   'param_C', 'param_kernel', 'params',...\n",
            " |   'rank_test_score', 'split0_test_score',...\n",
            " |   'split2_test_score', ...\n",
            " |   'std_fit_time', 'std_score_time', 'std_test_score']\n",
            " |  \n",
            " |  Attributes\n",
            " |  ----------\n",
            " |  cv_results_ : dict of numpy (masked) ndarrays\n",
            " |      A dict with keys as column headers and values as columns, that can be\n",
            " |      imported into a pandas ``DataFrame``.\n",
            " |  \n",
            " |      For instance the below given table\n",
            " |  \n",
            " |      +------------+-----------+------------+-----------------+---+---------+\n",
            " |      |param_kernel|param_gamma|param_degree|split0_test_score|...|rank_t...|\n",
            " |      +============+===========+============+=================+===+=========+\n",
            " |      |  'poly'    |     --    |      2     |       0.80      |...|    2    |\n",
            " |      +------------+-----------+------------+-----------------+---+---------+\n",
            " |      |  'poly'    |     --    |      3     |       0.70      |...|    4    |\n",
            " |      +------------+-----------+------------+-----------------+---+---------+\n",
            " |      |  'rbf'     |     0.1   |     --     |       0.80      |...|    3    |\n",
            " |      +------------+-----------+------------+-----------------+---+---------+\n",
            " |      |  'rbf'     |     0.2   |     --     |       0.93      |...|    1    |\n",
            " |      +------------+-----------+------------+-----------------+---+---------+\n",
            " |  \n",
            " |      will be represented by a ``cv_results_`` dict of::\n",
            " |  \n",
            " |          {\n",
            " |          'param_kernel': masked_array(data = ['poly', 'poly', 'rbf', 'rbf'],\n",
            " |                                       mask = [False False False False]...)\n",
            " |          'param_gamma': masked_array(data = [-- -- 0.1 0.2],\n",
            " |                                      mask = [ True  True False False]...),\n",
            " |          'param_degree': masked_array(data = [2.0 3.0 -- --],\n",
            " |                                       mask = [False False  True  True]...),\n",
            " |          'split0_test_score'  : [0.80, 0.70, 0.80, 0.93],\n",
            " |          'split1_test_score'  : [0.82, 0.50, 0.70, 0.78],\n",
            " |          'mean_test_score'    : [0.81, 0.60, 0.75, 0.85],\n",
            " |          'std_test_score'     : [0.01, 0.10, 0.05, 0.08],\n",
            " |          'rank_test_score'    : [2, 4, 3, 1],\n",
            " |          'split0_train_score' : [0.80, 0.92, 0.70, 0.93],\n",
            " |          'split1_train_score' : [0.82, 0.55, 0.70, 0.87],\n",
            " |          'mean_train_score'   : [0.81, 0.74, 0.70, 0.90],\n",
            " |          'std_train_score'    : [0.01, 0.19, 0.00, 0.03],\n",
            " |          'mean_fit_time'      : [0.73, 0.63, 0.43, 0.49],\n",
            " |          'std_fit_time'       : [0.01, 0.02, 0.01, 0.01],\n",
            " |          'mean_score_time'    : [0.01, 0.06, 0.04, 0.04],\n",
            " |          'std_score_time'     : [0.00, 0.00, 0.00, 0.01],\n",
            " |          'params'             : [{'kernel': 'poly', 'degree': 2}, ...],\n",
            " |          }\n",
            " |  \n",
            " |      NOTE\n",
            " |  \n",
            " |      The key ``'params'`` is used to store a list of parameter\n",
            " |      settings dicts for all the parameter candidates.\n",
            " |  \n",
            " |      The ``mean_fit_time``, ``std_fit_time``, ``mean_score_time`` and\n",
            " |      ``std_score_time`` are all in seconds.\n",
            " |  \n",
            " |      For multi-metric evaluation, the scores for all the scorers are\n",
            " |      available in the ``cv_results_`` dict at the keys ending with that\n",
            " |      scorer's name (``'_<scorer_name>'``) instead of ``'_score'`` shown\n",
            " |      above. ('split0_test_precision', 'mean_train_precision' etc.)\n",
            " |  \n",
            " |  best_estimator_ : estimator\n",
            " |      Estimator that was chosen by the search, i.e. estimator\n",
            " |      which gave highest score (or smallest loss if specified)\n",
            " |      on the left out data. Not available if ``refit=False``.\n",
            " |  \n",
            " |      See ``refit`` parameter for more information on allowed values.\n",
            " |  \n",
            " |  best_score_ : float\n",
            " |      Mean cross-validated score of the best_estimator\n",
            " |  \n",
            " |      For multi-metric evaluation, this is present only if ``refit`` is\n",
            " |      specified.\n",
            " |  \n",
            " |      This attribute is not available if ``refit`` is a function.\n",
            " |  \n",
            " |  best_params_ : dict\n",
            " |      Parameter setting that gave the best results on the hold out data.\n",
            " |  \n",
            " |      For multi-metric evaluation, this is present only if ``refit`` is\n",
            " |      specified.\n",
            " |  \n",
            " |  best_index_ : int\n",
            " |      The index (of the ``cv_results_`` arrays) which corresponds to the best\n",
            " |      candidate parameter setting.\n",
            " |  \n",
            " |      The dict at ``search.cv_results_['params'][search.best_index_]`` gives\n",
            " |      the parameter setting for the best model, that gives the highest\n",
            " |      mean score (``search.best_score_``).\n",
            " |  \n",
            " |      For multi-metric evaluation, this is present only if ``refit`` is\n",
            " |      specified.\n",
            " |  \n",
            " |  scorer_ : function or a dict\n",
            " |      Scorer function used on the held out data to choose the best\n",
            " |      parameters for the model.\n",
            " |  \n",
            " |      For multi-metric evaluation, this attribute holds the validated\n",
            " |      ``scoring`` dict which maps the scorer key to the scorer callable.\n",
            " |  \n",
            " |  n_splits_ : int\n",
            " |      The number of cross-validation splits (folds/iterations).\n",
            " |  \n",
            " |  refit_time_ : float\n",
            " |      Seconds used for refitting the best model on the whole dataset.\n",
            " |  \n",
            " |      This is present only if ``refit`` is not False.\n",
            " |  \n",
            " |  Notes\n",
            " |  -----\n",
            " |  The parameters selected are those that maximize the score of the left out\n",
            " |  data, unless an explicit score is passed in which case it is used instead.\n",
            " |  \n",
            " |  If `n_jobs` was set to a value higher than one, the data is copied for each\n",
            " |  point in the grid (and not `n_jobs` times). This is done for efficiency\n",
            " |  reasons if individual jobs take very little time, but may raise errors if\n",
            " |  the dataset is large and not enough memory is available.  A workaround in\n",
            " |  this case is to set `pre_dispatch`. Then, the memory is copied only\n",
            " |  `pre_dispatch` many times. A reasonable value for `pre_dispatch` is `2 *\n",
            " |  n_jobs`.\n",
            " |  \n",
            " |  See Also\n",
            " |  ---------\n",
            " |  :class:`ParameterGrid`:\n",
            " |      generates all the combinations of a hyperparameter grid.\n",
            " |  \n",
            " |  :func:`sklearn.model_selection.train_test_split`:\n",
            " |      utility function to split the data into a development set usable\n",
            " |      for fitting a GridSearchCV instance and an evaluation set for\n",
            " |      its final evaluation.\n",
            " |  \n",
            " |  :func:`sklearn.metrics.make_scorer`:\n",
            " |      Make a scorer from a performance metric or loss function.\n",
            " |  \n",
            " |  Method resolution order:\n",
            " |      GridSearchCV\n",
            " |      BaseSearchCV\n",
            " |      sklearn.base.MetaEstimatorMixin\n",
            " |      sklearn.base.BaseEstimator\n",
            " |      builtins.object\n",
            " |  \n",
            " |  Methods defined here:\n",
            " |  \n",
            " |  __init__(self, estimator, param_grid, scoring=None, n_jobs=None, iid='deprecated', refit=True, cv=None, verbose=0, pre_dispatch='2*n_jobs', error_score=nan, return_train_score=False)\n",
            " |      Initialize self.  See help(type(self)) for accurate signature.\n",
            " |  \n",
            " |  ----------------------------------------------------------------------\n",
            " |  Data and other attributes defined here:\n",
            " |  \n",
            " |  __abstractmethods__ = frozenset()\n",
            " |  \n",
            " |  ----------------------------------------------------------------------\n",
            " |  Methods inherited from BaseSearchCV:\n",
            " |  \n",
            " |  decision_function(self, X)\n",
            " |      Call decision_function on the estimator with the best found parameters.\n",
            " |      \n",
            " |      Only available if ``refit=True`` and the underlying estimator supports\n",
            " |      ``decision_function``.\n",
            " |      \n",
            " |      Parameters\n",
            " |      ----------\n",
            " |      X : indexable, length n_samples\n",
            " |          Must fulfill the input assumptions of the\n",
            " |          underlying estimator.\n",
            " |  \n",
            " |  fit(self, X, y=None, groups=None, **fit_params)\n",
            " |      Run fit with all sets of parameters.\n",
            " |      \n",
            " |      Parameters\n",
            " |      ----------\n",
            " |      \n",
            " |      X : array-like of shape (n_samples, n_features)\n",
            " |          Training vector, where n_samples is the number of samples and\n",
            " |          n_features is the number of features.\n",
            " |      \n",
            " |      y : array-like of shape (n_samples, n_output) or (n_samples,), optional\n",
            " |          Target relative to X for classification or regression;\n",
            " |          None for unsupervised learning.\n",
            " |      \n",
            " |      groups : array-like, with shape (n_samples,), optional\n",
            " |          Group labels for the samples used while splitting the dataset into\n",
            " |          train/test set. Only used in conjunction with a \"Group\" :term:`cv`\n",
            " |          instance (e.g., :class:`~sklearn.model_selection.GroupKFold`).\n",
            " |      \n",
            " |      **fit_params : dict of string -> object\n",
            " |          Parameters passed to the ``fit`` method of the estimator\n",
            " |  \n",
            " |  inverse_transform(self, Xt)\n",
            " |      Call inverse_transform on the estimator with the best found params.\n",
            " |      \n",
            " |      Only available if the underlying estimator implements\n",
            " |      ``inverse_transform`` and ``refit=True``.\n",
            " |      \n",
            " |      Parameters\n",
            " |      ----------\n",
            " |      Xt : indexable, length n_samples\n",
            " |          Must fulfill the input assumptions of the\n",
            " |          underlying estimator.\n",
            " |  \n",
            " |  predict(self, X)\n",
            " |      Call predict on the estimator with the best found parameters.\n",
            " |      \n",
            " |      Only available if ``refit=True`` and the underlying estimator supports\n",
            " |      ``predict``.\n",
            " |      \n",
            " |      Parameters\n",
            " |      ----------\n",
            " |      X : indexable, length n_samples\n",
            " |          Must fulfill the input assumptions of the\n",
            " |          underlying estimator.\n",
            " |  \n",
            " |  predict_log_proba(self, X)\n",
            " |      Call predict_log_proba on the estimator with the best found parameters.\n",
            " |      \n",
            " |      Only available if ``refit=True`` and the underlying estimator supports\n",
            " |      ``predict_log_proba``.\n",
            " |      \n",
            " |      Parameters\n",
            " |      ----------\n",
            " |      X : indexable, length n_samples\n",
            " |          Must fulfill the input assumptions of the\n",
            " |          underlying estimator.\n",
            " |  \n",
            " |  predict_proba(self, X)\n",
            " |      Call predict_proba on the estimator with the best found parameters.\n",
            " |      \n",
            " |      Only available if ``refit=True`` and the underlying estimator supports\n",
            " |      ``predict_proba``.\n",
            " |      \n",
            " |      Parameters\n",
            " |      ----------\n",
            " |      X : indexable, length n_samples\n",
            " |          Must fulfill the input assumptions of the\n",
            " |          underlying estimator.\n",
            " |  \n",
            " |  score(self, X, y=None)\n",
            " |      Returns the score on the given data, if the estimator has been refit.\n",
            " |      \n",
            " |      This uses the score defined by ``scoring`` where provided, and the\n",
            " |      ``best_estimator_.score`` method otherwise.\n",
            " |      \n",
            " |      Parameters\n",
            " |      ----------\n",
            " |      X : array-like of shape (n_samples, n_features)\n",
            " |          Input data, where n_samples is the number of samples and\n",
            " |          n_features is the number of features.\n",
            " |      \n",
            " |      y : array-like of shape (n_samples, n_output) or (n_samples,), optional\n",
            " |          Target relative to X for classification or regression;\n",
            " |          None for unsupervised learning.\n",
            " |      \n",
            " |      Returns\n",
            " |      -------\n",
            " |      score : float\n",
            " |  \n",
            " |  transform(self, X)\n",
            " |      Call transform on the estimator with the best found parameters.\n",
            " |      \n",
            " |      Only available if the underlying estimator supports ``transform`` and\n",
            " |      ``refit=True``.\n",
            " |      \n",
            " |      Parameters\n",
            " |      ----------\n",
            " |      X : indexable, length n_samples\n",
            " |          Must fulfill the input assumptions of the\n",
            " |          underlying estimator.\n",
            " |  \n",
            " |  ----------------------------------------------------------------------\n",
            " |  Data descriptors inherited from BaseSearchCV:\n",
            " |  \n",
            " |  classes_\n",
            " |  \n",
            " |  ----------------------------------------------------------------------\n",
            " |  Data descriptors inherited from sklearn.base.MetaEstimatorMixin:\n",
            " |  \n",
            " |  __dict__\n",
            " |      dictionary for instance variables (if defined)\n",
            " |  \n",
            " |  __weakref__\n",
            " |      list of weak references to the object (if defined)\n",
            " |  \n",
            " |  ----------------------------------------------------------------------\n",
            " |  Methods inherited from sklearn.base.BaseEstimator:\n",
            " |  \n",
            " |  __getstate__(self)\n",
            " |  \n",
            " |  __repr__(self, N_CHAR_MAX=700)\n",
            " |      Return repr(self).\n",
            " |  \n",
            " |  __setstate__(self, state)\n",
            " |  \n",
            " |  get_params(self, deep=True)\n",
            " |      Get parameters for this estimator.\n",
            " |      \n",
            " |      Parameters\n",
            " |      ----------\n",
            " |      deep : bool, default=True\n",
            " |          If True, will return the parameters for this estimator and\n",
            " |          contained subobjects that are estimators.\n",
            " |      \n",
            " |      Returns\n",
            " |      -------\n",
            " |      params : mapping of string to any\n",
            " |          Parameter names mapped to their values.\n",
            " |  \n",
            " |  set_params(self, **params)\n",
            " |      Set the parameters of this estimator.\n",
            " |      \n",
            " |      The method works on simple estimators as well as on nested objects\n",
            " |      (such as pipelines). The latter have parameters of the form\n",
            " |      ``<component>__<parameter>`` so that it's possible to update each\n",
            " |      component of a nested object.\n",
            " |      \n",
            " |      Parameters\n",
            " |      ----------\n",
            " |      **params : dict\n",
            " |          Estimator parameters.\n",
            " |      \n",
            " |      Returns\n",
            " |      -------\n",
            " |      self : object\n",
            " |          Estimator instance.\n",
            "\n"
          ],
          "name": "stdout"
        }
      ]
    },
    {
      "cell_type": "code",
      "metadata": {
        "colab": {
          "base_uri": "https://localhost:8080/"
        },
        "id": "haN0bdLQLxAj",
        "outputId": "2ba63e00-952d-4785-c8dd-f76e7e36edf6"
      },
      "source": [
        "\r\n",
        "!pip install Boruta"
      ],
      "execution_count": null,
      "outputs": [
        {
          "output_type": "stream",
          "text": [
            "Collecting Boruta\n",
            "\u001b[?25l  Downloading https://files.pythonhosted.org/packages/b2/11/583f4eac99d802c79af9217e1eff56027742a69e6c866b295cce6a5a8fc2/Boruta-0.3-py3-none-any.whl (56kB)\n",
            "\r\u001b[K     |█████▉                          | 10kB 17.4MB/s eta 0:00:01\r\u001b[K     |███████████▋                    | 20kB 19.7MB/s eta 0:00:01\r\u001b[K     |█████████████████▍              | 30kB 11.1MB/s eta 0:00:01\r\u001b[K     |███████████████████████▏        | 40kB 8.3MB/s eta 0:00:01\r\u001b[K     |█████████████████████████████   | 51kB 4.5MB/s eta 0:00:01\r\u001b[K     |████████████████████████████████| 61kB 3.3MB/s \n",
            "\u001b[?25hRequirement already satisfied: numpy>=1.10.4 in /usr/local/lib/python3.6/dist-packages (from Boruta) (1.18.5)\n",
            "Requirement already satisfied: scipy>=0.17.0 in /usr/local/lib/python3.6/dist-packages (from Boruta) (1.4.1)\n",
            "Requirement already satisfied: scikit-learn>=0.17.1 in /usr/local/lib/python3.6/dist-packages (from Boruta) (0.22.2.post1)\n",
            "Requirement already satisfied: joblib>=0.11 in /usr/local/lib/python3.6/dist-packages (from scikit-learn>=0.17.1->Boruta) (0.17.0)\n",
            "Installing collected packages: Boruta\n",
            "Successfully installed Boruta-0.3\n"
          ],
          "name": "stdout"
        }
      ]
    },
    {
      "cell_type": "code",
      "metadata": {
        "id": "6nRmW6ebeDUd"
      },
      "source": [
        "from boruta import BorutaPy"
      ],
      "execution_count": null,
      "outputs": []
    },
    {
      "cell_type": "code",
      "metadata": {
        "id": "oLBYrQgBePp_",
        "colab": {
          "base_uri": "https://localhost:8080/"
        },
        "outputId": "95684c5b-3706-4c12-9fa5-e20b0f9166a0"
      },
      "source": [
        "forest = RandomForestRegressor(random_state=1)\r\n",
        "forest.fit(X_train, Y_train)"
      ],
      "execution_count": null,
      "outputs": [
        {
          "output_type": "execute_result",
          "data": {
            "text/plain": [
              "RandomForestRegressor(bootstrap=True, ccp_alpha=0.0, criterion='mse',\n",
              "                      max_depth=None, max_features='auto', max_leaf_nodes=None,\n",
              "                      max_samples=None, min_impurity_decrease=0.0,\n",
              "                      min_impurity_split=None, min_samples_leaf=1,\n",
              "                      min_samples_split=2, min_weight_fraction_leaf=0.0,\n",
              "                      n_estimators=100, n_jobs=None, oob_score=False,\n",
              "                      random_state=1, verbose=0, warm_start=False)"
            ]
          },
          "metadata": {
            "tags": []
          },
          "execution_count": 108
        }
      ]
    },
    {
      "cell_type": "code",
      "metadata": {
        "colab": {
          "base_uri": "https://localhost:8080/"
        },
        "id": "BsllfWyce8QN",
        "outputId": "7059058c-e115-4005-8ac0-919e3dc580b1"
      },
      "source": [
        "boruta_selector = BorutaPy(forest, n_estimators='auto', verbose=2, random_state=1)\r\n",
        "\r\n",
        "# find all relevant features\r\n",
        "boruta_selector.fit(np.array(X_train), np.array(Y_train))"
      ],
      "execution_count": null,
      "outputs": [
        {
          "output_type": "stream",
          "text": [
            "Iteration: \t1 / 100\n",
            "Confirmed: \t0\n",
            "Tentative: \t30\n",
            "Rejected: \t0\n",
            "Iteration: \t2 / 100\n",
            "Confirmed: \t0\n",
            "Tentative: \t30\n",
            "Rejected: \t0\n",
            "Iteration: \t3 / 100\n",
            "Confirmed: \t0\n",
            "Tentative: \t30\n",
            "Rejected: \t0\n",
            "Iteration: \t4 / 100\n",
            "Confirmed: \t0\n",
            "Tentative: \t30\n",
            "Rejected: \t0\n",
            "Iteration: \t5 / 100\n",
            "Confirmed: \t0\n",
            "Tentative: \t30\n",
            "Rejected: \t0\n",
            "Iteration: \t6 / 100\n",
            "Confirmed: \t0\n",
            "Tentative: \t30\n",
            "Rejected: \t0\n",
            "Iteration: \t7 / 100\n",
            "Confirmed: \t0\n",
            "Tentative: \t30\n",
            "Rejected: \t0\n",
            "Iteration: \t8 / 100\n",
            "Confirmed: \t13\n",
            "Tentative: \t10\n",
            "Rejected: \t7\n",
            "Iteration: \t9 / 100\n",
            "Confirmed: \t13\n",
            "Tentative: \t10\n",
            "Rejected: \t7\n",
            "Iteration: \t10 / 100\n",
            "Confirmed: \t13\n",
            "Tentative: \t10\n",
            "Rejected: \t7\n",
            "Iteration: \t11 / 100\n",
            "Confirmed: \t13\n",
            "Tentative: \t10\n",
            "Rejected: \t7\n",
            "Iteration: \t12 / 100\n",
            "Confirmed: \t14\n",
            "Tentative: \t9\n",
            "Rejected: \t7\n",
            "Iteration: \t13 / 100\n",
            "Confirmed: \t14\n",
            "Tentative: \t8\n",
            "Rejected: \t8\n",
            "Iteration: \t14 / 100\n",
            "Confirmed: \t14\n",
            "Tentative: \t8\n",
            "Rejected: \t8\n",
            "Iteration: \t15 / 100\n",
            "Confirmed: \t14\n",
            "Tentative: \t8\n",
            "Rejected: \t8\n",
            "Iteration: \t16 / 100\n",
            "Confirmed: \t14\n",
            "Tentative: \t8\n",
            "Rejected: \t8\n",
            "Iteration: \t17 / 100\n",
            "Confirmed: \t14\n",
            "Tentative: \t8\n",
            "Rejected: \t8\n",
            "Iteration: \t18 / 100\n",
            "Confirmed: \t14\n",
            "Tentative: \t8\n",
            "Rejected: \t8\n",
            "Iteration: \t19 / 100\n",
            "Confirmed: \t14\n",
            "Tentative: \t7\n",
            "Rejected: \t9\n",
            "Iteration: \t20 / 100\n",
            "Confirmed: \t14\n",
            "Tentative: \t7\n",
            "Rejected: \t9\n",
            "Iteration: \t21 / 100\n",
            "Confirmed: \t14\n",
            "Tentative: \t7\n",
            "Rejected: \t9\n",
            "Iteration: \t22 / 100\n",
            "Confirmed: \t14\n",
            "Tentative: \t7\n",
            "Rejected: \t9\n",
            "Iteration: \t23 / 100\n",
            "Confirmed: \t14\n",
            "Tentative: \t7\n",
            "Rejected: \t9\n",
            "Iteration: \t24 / 100\n",
            "Confirmed: \t14\n",
            "Tentative: \t7\n",
            "Rejected: \t9\n",
            "Iteration: \t25 / 100\n",
            "Confirmed: \t14\n",
            "Tentative: \t7\n",
            "Rejected: \t9\n",
            "Iteration: \t26 / 100\n",
            "Confirmed: \t15\n",
            "Tentative: \t6\n",
            "Rejected: \t9\n",
            "Iteration: \t27 / 100\n",
            "Confirmed: \t15\n",
            "Tentative: \t6\n",
            "Rejected: \t9\n",
            "Iteration: \t28 / 100\n",
            "Confirmed: \t15\n",
            "Tentative: \t6\n",
            "Rejected: \t9\n",
            "Iteration: \t29 / 100\n",
            "Confirmed: \t15\n",
            "Tentative: \t6\n",
            "Rejected: \t9\n",
            "Iteration: \t30 / 100\n",
            "Confirmed: \t15\n",
            "Tentative: \t6\n",
            "Rejected: \t9\n",
            "Iteration: \t31 / 100\n",
            "Confirmed: \t15\n",
            "Tentative: \t6\n",
            "Rejected: \t9\n",
            "Iteration: \t32 / 100\n",
            "Confirmed: \t16\n",
            "Tentative: \t5\n",
            "Rejected: \t9\n",
            "Iteration: \t33 / 100\n",
            "Confirmed: \t16\n",
            "Tentative: \t5\n",
            "Rejected: \t9\n",
            "Iteration: \t34 / 100\n",
            "Confirmed: \t17\n",
            "Tentative: \t4\n",
            "Rejected: \t9\n",
            "Iteration: \t35 / 100\n",
            "Confirmed: \t17\n",
            "Tentative: \t4\n",
            "Rejected: \t9\n",
            "Iteration: \t36 / 100\n",
            "Confirmed: \t17\n",
            "Tentative: \t4\n",
            "Rejected: \t9\n",
            "Iteration: \t37 / 100\n",
            "Confirmed: \t17\n",
            "Tentative: \t4\n",
            "Rejected: \t9\n",
            "Iteration: \t38 / 100\n",
            "Confirmed: \t17\n",
            "Tentative: \t4\n",
            "Rejected: \t9\n",
            "Iteration: \t39 / 100\n",
            "Confirmed: \t17\n",
            "Tentative: \t4\n",
            "Rejected: \t9\n",
            "Iteration: \t40 / 100\n",
            "Confirmed: \t17\n",
            "Tentative: \t4\n",
            "Rejected: \t9\n",
            "Iteration: \t41 / 100\n",
            "Confirmed: \t17\n",
            "Tentative: \t4\n",
            "Rejected: \t9\n",
            "Iteration: \t42 / 100\n",
            "Confirmed: \t17\n",
            "Tentative: \t4\n",
            "Rejected: \t9\n",
            "Iteration: \t43 / 100\n",
            "Confirmed: \t17\n",
            "Tentative: \t4\n",
            "Rejected: \t9\n",
            "Iteration: \t44 / 100\n",
            "Confirmed: \t17\n",
            "Tentative: \t4\n",
            "Rejected: \t9\n",
            "Iteration: \t45 / 100\n",
            "Confirmed: \t17\n",
            "Tentative: \t4\n",
            "Rejected: \t9\n",
            "Iteration: \t46 / 100\n",
            "Confirmed: \t17\n",
            "Tentative: \t3\n",
            "Rejected: \t10\n",
            "Iteration: \t47 / 100\n",
            "Confirmed: \t17\n",
            "Tentative: \t3\n",
            "Rejected: \t10\n",
            "Iteration: \t48 / 100\n",
            "Confirmed: \t17\n",
            "Tentative: \t3\n",
            "Rejected: \t10\n",
            "Iteration: \t49 / 100\n",
            "Confirmed: \t17\n",
            "Tentative: \t3\n",
            "Rejected: \t10\n",
            "Iteration: \t50 / 100\n",
            "Confirmed: \t17\n",
            "Tentative: \t3\n",
            "Rejected: \t10\n",
            "Iteration: \t51 / 100\n",
            "Confirmed: \t17\n",
            "Tentative: \t3\n",
            "Rejected: \t10\n",
            "Iteration: \t52 / 100\n",
            "Confirmed: \t17\n",
            "Tentative: \t3\n",
            "Rejected: \t10\n",
            "Iteration: \t53 / 100\n",
            "Confirmed: \t17\n",
            "Tentative: \t3\n",
            "Rejected: \t10\n",
            "Iteration: \t54 / 100\n",
            "Confirmed: \t17\n",
            "Tentative: \t3\n",
            "Rejected: \t10\n",
            "Iteration: \t55 / 100\n",
            "Confirmed: \t17\n",
            "Tentative: \t3\n",
            "Rejected: \t10\n",
            "Iteration: \t56 / 100\n",
            "Confirmed: \t17\n",
            "Tentative: \t3\n",
            "Rejected: \t10\n",
            "Iteration: \t57 / 100\n",
            "Confirmed: \t17\n",
            "Tentative: \t3\n",
            "Rejected: \t10\n",
            "Iteration: \t58 / 100\n",
            "Confirmed: \t17\n",
            "Tentative: \t3\n",
            "Rejected: \t10\n",
            "Iteration: \t59 / 100\n",
            "Confirmed: \t18\n",
            "Tentative: \t2\n",
            "Rejected: \t10\n",
            "Iteration: \t60 / 100\n",
            "Confirmed: \t18\n",
            "Tentative: \t2\n",
            "Rejected: \t10\n",
            "Iteration: \t61 / 100\n",
            "Confirmed: \t18\n",
            "Tentative: \t2\n",
            "Rejected: \t10\n",
            "Iteration: \t62 / 100\n",
            "Confirmed: \t18\n",
            "Tentative: \t2\n",
            "Rejected: \t10\n",
            "Iteration: \t63 / 100\n",
            "Confirmed: \t18\n",
            "Tentative: \t2\n",
            "Rejected: \t10\n",
            "Iteration: \t64 / 100\n",
            "Confirmed: \t18\n",
            "Tentative: \t2\n",
            "Rejected: \t10\n",
            "Iteration: \t65 / 100\n",
            "Confirmed: \t18\n",
            "Tentative: \t2\n",
            "Rejected: \t10\n",
            "Iteration: \t66 / 100\n",
            "Confirmed: \t18\n",
            "Tentative: \t2\n",
            "Rejected: \t10\n",
            "Iteration: \t67 / 100\n",
            "Confirmed: \t18\n",
            "Tentative: \t2\n",
            "Rejected: \t10\n",
            "Iteration: \t68 / 100\n",
            "Confirmed: \t18\n",
            "Tentative: \t2\n",
            "Rejected: \t10\n",
            "Iteration: \t69 / 100\n",
            "Confirmed: \t18\n",
            "Tentative: \t2\n",
            "Rejected: \t10\n",
            "Iteration: \t70 / 100\n",
            "Confirmed: \t18\n",
            "Tentative: \t2\n",
            "Rejected: \t10\n",
            "Iteration: \t71 / 100\n",
            "Confirmed: \t18\n",
            "Tentative: \t2\n",
            "Rejected: \t10\n",
            "Iteration: \t72 / 100\n",
            "Confirmed: \t18\n",
            "Tentative: \t2\n",
            "Rejected: \t10\n",
            "Iteration: \t73 / 100\n",
            "Confirmed: \t18\n",
            "Tentative: \t2\n",
            "Rejected: \t10\n",
            "Iteration: \t74 / 100\n",
            "Confirmed: \t18\n",
            "Tentative: \t2\n",
            "Rejected: \t10\n",
            "Iteration: \t75 / 100\n",
            "Confirmed: \t18\n",
            "Tentative: \t2\n",
            "Rejected: \t10\n",
            "Iteration: \t76 / 100\n",
            "Confirmed: \t18\n",
            "Tentative: \t2\n",
            "Rejected: \t10\n",
            "Iteration: \t77 / 100\n",
            "Confirmed: \t18\n",
            "Tentative: \t2\n",
            "Rejected: \t10\n",
            "Iteration: \t78 / 100\n",
            "Confirmed: \t18\n",
            "Tentative: \t2\n",
            "Rejected: \t10\n",
            "Iteration: \t79 / 100\n",
            "Confirmed: \t18\n",
            "Tentative: \t2\n",
            "Rejected: \t10\n",
            "Iteration: \t80 / 100\n",
            "Confirmed: \t18\n",
            "Tentative: \t2\n",
            "Rejected: \t10\n",
            "Iteration: \t81 / 100\n",
            "Confirmed: \t18\n",
            "Tentative: \t2\n",
            "Rejected: \t10\n",
            "Iteration: \t82 / 100\n",
            "Confirmed: \t18\n",
            "Tentative: \t2\n",
            "Rejected: \t10\n",
            "Iteration: \t83 / 100\n",
            "Confirmed: \t18\n",
            "Tentative: \t2\n",
            "Rejected: \t10\n",
            "Iteration: \t84 / 100\n",
            "Confirmed: \t18\n",
            "Tentative: \t2\n",
            "Rejected: \t10\n",
            "Iteration: \t85 / 100\n",
            "Confirmed: \t18\n",
            "Tentative: \t2\n",
            "Rejected: \t10\n",
            "Iteration: \t86 / 100\n",
            "Confirmed: \t18\n",
            "Tentative: \t2\n",
            "Rejected: \t10\n",
            "Iteration: \t87 / 100\n",
            "Confirmed: \t18\n",
            "Tentative: \t2\n",
            "Rejected: \t10\n",
            "Iteration: \t88 / 100\n",
            "Confirmed: \t18\n",
            "Tentative: \t2\n",
            "Rejected: \t10\n",
            "Iteration: \t89 / 100\n",
            "Confirmed: \t18\n",
            "Tentative: \t2\n",
            "Rejected: \t10\n",
            "Iteration: \t90 / 100\n",
            "Confirmed: \t18\n",
            "Tentative: \t2\n",
            "Rejected: \t10\n",
            "Iteration: \t91 / 100\n",
            "Confirmed: \t18\n",
            "Tentative: \t2\n",
            "Rejected: \t10\n",
            "Iteration: \t92 / 100\n",
            "Confirmed: \t18\n",
            "Tentative: \t2\n",
            "Rejected: \t10\n",
            "Iteration: \t93 / 100\n",
            "Confirmed: \t18\n",
            "Tentative: \t2\n",
            "Rejected: \t10\n",
            "Iteration: \t94 / 100\n",
            "Confirmed: \t18\n",
            "Tentative: \t2\n",
            "Rejected: \t10\n",
            "Iteration: \t95 / 100\n",
            "Confirmed: \t18\n",
            "Tentative: \t2\n",
            "Rejected: \t10\n",
            "Iteration: \t96 / 100\n",
            "Confirmed: \t18\n",
            "Tentative: \t2\n",
            "Rejected: \t10\n",
            "Iteration: \t97 / 100\n",
            "Confirmed: \t18\n",
            "Tentative: \t2\n",
            "Rejected: \t10\n",
            "Iteration: \t98 / 100\n",
            "Confirmed: \t18\n",
            "Tentative: \t2\n",
            "Rejected: \t10\n",
            "Iteration: \t99 / 100\n",
            "Confirmed: \t18\n",
            "Tentative: \t2\n",
            "Rejected: \t10\n",
            "\n",
            "\n",
            "BorutaPy finished running.\n",
            "\n",
            "Iteration: \t100 / 100\n",
            "Confirmed: \t18\n",
            "Tentative: \t1\n",
            "Rejected: \t10\n"
          ],
          "name": "stdout"
        },
        {
          "output_type": "execute_result",
          "data": {
            "text/plain": [
              "BorutaPy(alpha=0.05,\n",
              "         estimator=RandomForestRegressor(bootstrap=True, ccp_alpha=0.0,\n",
              "                                         criterion='mse', max_depth=None,\n",
              "                                         max_features='auto',\n",
              "                                         max_leaf_nodes=None, max_samples=None,\n",
              "                                         min_impurity_decrease=0.0,\n",
              "                                         min_impurity_split=None,\n",
              "                                         min_samples_leaf=1,\n",
              "                                         min_samples_split=2,\n",
              "                                         min_weight_fraction_leaf=0.0,\n",
              "                                         n_estimators=63, n_jobs=None,\n",
              "                                         oob_score=False,\n",
              "                                         random_state=RandomState(MT19937) at 0x7F0DB8C09CA8,\n",
              "                                         verbose=0, warm_start=False),\n",
              "         max_iter=100, n_estimators='auto', perc=100,\n",
              "         random_state=RandomState(MT19937) at 0x7F0DB8C09CA8, two_step=True,\n",
              "         verbose=2)"
            ]
          },
          "metadata": {
            "tags": []
          },
          "execution_count": 109
        }
      ]
    },
    {
      "cell_type": "code",
      "metadata": {
        "colab": {
          "base_uri": "https://localhost:8080/"
        },
        "id": "iVVLJjCBfe8H",
        "outputId": "0c91019f-f8e0-4931-b71c-d8056b5fcbfc"
      },
      "source": [
        "# check selected features\r\n",
        "print(\"Selected Features: \", boruta_selector.support_)\r\n",
        " \r\n",
        "# check ranking of features\r\n",
        "print(\"Ranking: \",boruta_selector.ranking_)\r\n",
        "\r\n",
        "print(\"No. of significant features: \", boruta_selector.n_features_)"
      ],
      "execution_count": null,
      "outputs": [
        {
          "output_type": "stream",
          "text": [
            "Selected Features:  [False  True  True  True  True  True False False False  True  True  True\n",
            " False  True False  True  True  True  True  True False False False  True\n",
            " False  True False  True  True False]\n",
            "Ranking:  [ 6  1  1  1  1  1 13 11 10  1  1  1  8  1  5  1  1  1  1  1 12  9  7  1\n",
            "  4  1  2  1  1  3]\n",
            "No. of significant features:  18\n"
          ],
          "name": "stdout"
        }
      ]
    },
    {
      "cell_type": "code",
      "metadata": {
        "colab": {
          "base_uri": "https://localhost:8080/",
          "height": 942
        },
        "id": "7UYF_ZL9g_eU",
        "outputId": "5725d541-76d6-4155-f458-c8bb60d93b09"
      },
      "source": [
        "# Let's visualise it better in the form of a table\r\n",
        "selected_rfe_features = pd.DataFrame({'Feature':list(X_train.columns),\r\n",
        "                                      'Ranking':boruta_selector.ranking_})\r\n",
        "selected_rfe_features.sort_values(by='Ranking')"
      ],
      "execution_count": null,
      "outputs": [
        {
          "output_type": "execute_result",
          "data": {
            "text/html": [
              "<div>\n",
              "<style scoped>\n",
              "    .dataframe tbody tr th:only-of-type {\n",
              "        vertical-align: middle;\n",
              "    }\n",
              "\n",
              "    .dataframe tbody tr th {\n",
              "        vertical-align: top;\n",
              "    }\n",
              "\n",
              "    .dataframe thead th {\n",
              "        text-align: right;\n",
              "    }\n",
              "</style>\n",
              "<table border=\"1\" class=\"dataframe\">\n",
              "  <thead>\n",
              "    <tr style=\"text-align: right;\">\n",
              "      <th></th>\n",
              "      <th>Feature</th>\n",
              "      <th>Ranking</th>\n",
              "    </tr>\n",
              "  </thead>\n",
              "  <tbody>\n",
              "    <tr>\n",
              "      <th>10</th>\n",
              "      <td>AvgHouseholdSize</td>\n",
              "      <td>1</td>\n",
              "    </tr>\n",
              "    <tr>\n",
              "      <th>18</th>\n",
              "      <td>PctUnemployed16_Over</td>\n",
              "      <td>1</td>\n",
              "    </tr>\n",
              "    <tr>\n",
              "      <th>17</th>\n",
              "      <td>PctEmployed16_Over</td>\n",
              "      <td>1</td>\n",
              "    </tr>\n",
              "    <tr>\n",
              "      <th>16</th>\n",
              "      <td>PctBachDeg25_Over</td>\n",
              "      <td>1</td>\n",
              "    </tr>\n",
              "    <tr>\n",
              "      <th>15</th>\n",
              "      <td>PctHS25_Over</td>\n",
              "      <td>1</td>\n",
              "    </tr>\n",
              "    <tr>\n",
              "      <th>28</th>\n",
              "      <td>PctMarriedHouseholds</td>\n",
              "      <td>1</td>\n",
              "    </tr>\n",
              "    <tr>\n",
              "      <th>13</th>\n",
              "      <td>PctHS18_24</td>\n",
              "      <td>1</td>\n",
              "    </tr>\n",
              "    <tr>\n",
              "      <th>11</th>\n",
              "      <td>PercentMarried</td>\n",
              "      <td>1</td>\n",
              "    </tr>\n",
              "    <tr>\n",
              "      <th>19</th>\n",
              "      <td>PctPrivateCoverage</td>\n",
              "      <td>1</td>\n",
              "    </tr>\n",
              "    <tr>\n",
              "      <th>23</th>\n",
              "      <td>PctPublicCoverageAlone</td>\n",
              "      <td>1</td>\n",
              "    </tr>\n",
              "    <tr>\n",
              "      <th>25</th>\n",
              "      <td>PctBlack</td>\n",
              "      <td>1</td>\n",
              "    </tr>\n",
              "    <tr>\n",
              "      <th>27</th>\n",
              "      <td>PctOtherRace</td>\n",
              "      <td>1</td>\n",
              "    </tr>\n",
              "    <tr>\n",
              "      <th>5</th>\n",
              "      <td>povertyPercent</td>\n",
              "      <td>1</td>\n",
              "    </tr>\n",
              "    <tr>\n",
              "      <th>4</th>\n",
              "      <td>popEst2015</td>\n",
              "      <td>1</td>\n",
              "    </tr>\n",
              "    <tr>\n",
              "      <th>3</th>\n",
              "      <td>medIncome</td>\n",
              "      <td>1</td>\n",
              "    </tr>\n",
              "    <tr>\n",
              "      <th>2</th>\n",
              "      <td>incidenceRate</td>\n",
              "      <td>1</td>\n",
              "    </tr>\n",
              "    <tr>\n",
              "      <th>1</th>\n",
              "      <td>avgDeathsPerYear</td>\n",
              "      <td>1</td>\n",
              "    </tr>\n",
              "    <tr>\n",
              "      <th>9</th>\n",
              "      <td>MedianAgeFemale</td>\n",
              "      <td>1</td>\n",
              "    </tr>\n",
              "    <tr>\n",
              "      <th>26</th>\n",
              "      <td>PctAsian</td>\n",
              "      <td>2</td>\n",
              "    </tr>\n",
              "    <tr>\n",
              "      <th>29</th>\n",
              "      <td>BirthRate</td>\n",
              "      <td>3</td>\n",
              "    </tr>\n",
              "    <tr>\n",
              "      <th>24</th>\n",
              "      <td>PctWhite</td>\n",
              "      <td>4</td>\n",
              "    </tr>\n",
              "    <tr>\n",
              "      <th>14</th>\n",
              "      <td>PctBachDeg18_24</td>\n",
              "      <td>5</td>\n",
              "    </tr>\n",
              "    <tr>\n",
              "      <th>0</th>\n",
              "      <td>avgAnnCount</td>\n",
              "      <td>6</td>\n",
              "    </tr>\n",
              "    <tr>\n",
              "      <th>22</th>\n",
              "      <td>PctPublicCoverage</td>\n",
              "      <td>7</td>\n",
              "    </tr>\n",
              "    <tr>\n",
              "      <th>12</th>\n",
              "      <td>PctNoHS18_24</td>\n",
              "      <td>8</td>\n",
              "    </tr>\n",
              "    <tr>\n",
              "      <th>21</th>\n",
              "      <td>PctEmpPrivCoverage</td>\n",
              "      <td>9</td>\n",
              "    </tr>\n",
              "    <tr>\n",
              "      <th>8</th>\n",
              "      <td>MedianAgeMale</td>\n",
              "      <td>10</td>\n",
              "    </tr>\n",
              "    <tr>\n",
              "      <th>7</th>\n",
              "      <td>MedianAge</td>\n",
              "      <td>11</td>\n",
              "    </tr>\n",
              "    <tr>\n",
              "      <th>20</th>\n",
              "      <td>PctPrivateCoverageAlone</td>\n",
              "      <td>12</td>\n",
              "    </tr>\n",
              "    <tr>\n",
              "      <th>6</th>\n",
              "      <td>studyPerCap</td>\n",
              "      <td>13</td>\n",
              "    </tr>\n",
              "  </tbody>\n",
              "</table>\n",
              "</div>"
            ],
            "text/plain": [
              "                    Feature  Ranking\n",
              "10         AvgHouseholdSize        1\n",
              "18     PctUnemployed16_Over        1\n",
              "17       PctEmployed16_Over        1\n",
              "16        PctBachDeg25_Over        1\n",
              "15             PctHS25_Over        1\n",
              "28     PctMarriedHouseholds        1\n",
              "13               PctHS18_24        1\n",
              "11           PercentMarried        1\n",
              "19       PctPrivateCoverage        1\n",
              "23   PctPublicCoverageAlone        1\n",
              "25                 PctBlack        1\n",
              "27             PctOtherRace        1\n",
              "5            povertyPercent        1\n",
              "4                popEst2015        1\n",
              "3                 medIncome        1\n",
              "2             incidenceRate        1\n",
              "1          avgDeathsPerYear        1\n",
              "9           MedianAgeFemale        1\n",
              "26                 PctAsian        2\n",
              "29                BirthRate        3\n",
              "24                 PctWhite        4\n",
              "14          PctBachDeg18_24        5\n",
              "0               avgAnnCount        6\n",
              "22        PctPublicCoverage        7\n",
              "12             PctNoHS18_24        8\n",
              "21       PctEmpPrivCoverage        9\n",
              "8             MedianAgeMale       10\n",
              "7                 MedianAge       11\n",
              "20  PctPrivateCoverageAlone       12\n",
              "6               studyPerCap       13"
            ]
          },
          "metadata": {
            "tags": []
          },
          "execution_count": 111
        }
      ]
    },
    {
      "cell_type": "code",
      "metadata": {
        "id": "thTqkPQYhETe"
      },
      "source": [
        "\r\n",
        "X_important_train = boruta_selector.transform(np.array(X_train))\r\n",
        "X_important_test = boruta_selector.transform(np.array(X_val))"
      ],
      "execution_count": null,
      "outputs": []
    },
    {
      "cell_type": "code",
      "metadata": {
        "colab": {
          "base_uri": "https://localhost:8080/"
        },
        "id": "uZ_WTCUyhRX4",
        "outputId": "67202f75-93c8-45a4-ab2b-f06859ed7d01"
      },
      "source": [
        "rf_important = RandomForestRegressor(n_estimators=1000, random_state=1, n_jobs=-1)\r\n",
        "\r\n",
        "# Train the new classifier on the new dataset containing the most important features\r\n",
        "rf_important.fit(X_important_train, Y_train)"
      ],
      "execution_count": null,
      "outputs": [
        {
          "output_type": "execute_result",
          "data": {
            "text/plain": [
              "RandomForestRegressor(bootstrap=True, ccp_alpha=0.0, criterion='mse',\n",
              "                      max_depth=None, max_features='auto', max_leaf_nodes=None,\n",
              "                      max_samples=None, min_impurity_decrease=0.0,\n",
              "                      min_impurity_split=None, min_samples_leaf=1,\n",
              "                      min_samples_split=2, min_weight_fraction_leaf=0.0,\n",
              "                      n_estimators=1000, n_jobs=-1, oob_score=False,\n",
              "                      random_state=1, verbose=0, warm_start=False)"
            ]
          },
          "metadata": {
            "tags": []
          },
          "execution_count": 113
        }
      ]
    },
    {
      "cell_type": "code",
      "metadata": {
        "id": "Pf43B2hPh5nw"
      },
      "source": [
        "y_important_pred = rf_important.predict(X_important_test)"
      ],
      "execution_count": null,
      "outputs": []
    },
    {
      "cell_type": "code",
      "metadata": {
        "colab": {
          "base_uri": "https://localhost:8080/"
        },
        "id": "yzZ68UejiEhe",
        "outputId": "1de93504-7f5f-4f1c-c79c-2a31bc80eea7"
      },
      "source": [
        "mean_squared_error(Y_val,y_important_pred)"
      ],
      "execution_count": null,
      "outputs": [
        {
          "output_type": "execute_result",
          "data": {
            "text/plain": [
              "315.93241185266317"
            ]
          },
          "metadata": {
            "tags": []
          },
          "execution_count": 115
        }
      ]
    },
    {
      "cell_type": "code",
      "metadata": {
        "colab": {
          "base_uri": "https://localhost:8080/"
        },
        "id": "szWYmYcfkV70",
        "outputId": "86d6d355-df32-4a5f-adfe-a46039d671e4"
      },
      "source": [
        "boruta_selector.support_"
      ],
      "execution_count": null,
      "outputs": [
        {
          "output_type": "execute_result",
          "data": {
            "text/plain": [
              "array([False,  True,  True,  True,  True,  True, False, False, False,\n",
              "        True,  True,  True, False,  True, False,  True,  True,  True,\n",
              "        True,  True, False, False, False,  True, False,  True, False,\n",
              "        True,  True, False])"
            ]
          },
          "metadata": {
            "tags": []
          },
          "execution_count": 116
        }
      ]
    },
    {
      "cell_type": "code",
      "metadata": {
        "colab": {
          "base_uri": "https://localhost:8080/",
          "height": 417
        },
        "id": "FlBhN_iblWyt",
        "outputId": "26f41e21-3597-468f-cfc7-f1f45be287dc"
      },
      "source": [
        "test_data = pd.read_csv('https://raw.githubusercontent.com/dphi-official/Datasets/master/cancer_death_rate/Testing_set_label.csv')\r\n",
        "test_data.head()"
      ],
      "execution_count": null,
      "outputs": [
        {
          "output_type": "execute_result",
          "data": {
            "text/html": [
              "<div>\n",
              "<style scoped>\n",
              "    .dataframe tbody tr th:only-of-type {\n",
              "        vertical-align: middle;\n",
              "    }\n",
              "\n",
              "    .dataframe tbody tr th {\n",
              "        vertical-align: top;\n",
              "    }\n",
              "\n",
              "    .dataframe thead th {\n",
              "        text-align: right;\n",
              "    }\n",
              "</style>\n",
              "<table border=\"1\" class=\"dataframe\">\n",
              "  <thead>\n",
              "    <tr style=\"text-align: right;\">\n",
              "      <th></th>\n",
              "      <th>avgAnnCount</th>\n",
              "      <th>avgDeathsPerYear</th>\n",
              "      <th>incidenceRate</th>\n",
              "      <th>medIncome</th>\n",
              "      <th>popEst2015</th>\n",
              "      <th>povertyPercent</th>\n",
              "      <th>studyPerCap</th>\n",
              "      <th>binnedInc</th>\n",
              "      <th>MedianAge</th>\n",
              "      <th>MedianAgeMale</th>\n",
              "      <th>MedianAgeFemale</th>\n",
              "      <th>Geography</th>\n",
              "      <th>AvgHouseholdSize</th>\n",
              "      <th>PercentMarried</th>\n",
              "      <th>PctNoHS18_24</th>\n",
              "      <th>PctHS18_24</th>\n",
              "      <th>PctSomeCol18_24</th>\n",
              "      <th>PctBachDeg18_24</th>\n",
              "      <th>PctHS25_Over</th>\n",
              "      <th>PctBachDeg25_Over</th>\n",
              "      <th>PctEmployed16_Over</th>\n",
              "      <th>PctUnemployed16_Over</th>\n",
              "      <th>PctPrivateCoverage</th>\n",
              "      <th>PctPrivateCoverageAlone</th>\n",
              "      <th>PctEmpPrivCoverage</th>\n",
              "      <th>PctPublicCoverage</th>\n",
              "      <th>PctPublicCoverageAlone</th>\n",
              "      <th>PctWhite</th>\n",
              "      <th>PctBlack</th>\n",
              "      <th>PctAsian</th>\n",
              "      <th>PctOtherRace</th>\n",
              "      <th>PctMarriedHouseholds</th>\n",
              "      <th>BirthRate</th>\n",
              "    </tr>\n",
              "  </thead>\n",
              "  <tbody>\n",
              "    <tr>\n",
              "      <th>0</th>\n",
              "      <td>2092.000000</td>\n",
              "      <td>763</td>\n",
              "      <td>341.000000</td>\n",
              "      <td>34368</td>\n",
              "      <td>842304</td>\n",
              "      <td>33.5</td>\n",
              "      <td>42.739913</td>\n",
              "      <td>(34218.1, 37413.8]</td>\n",
              "      <td>28.8</td>\n",
              "      <td>27.4</td>\n",
              "      <td>30.1</td>\n",
              "      <td>Hidalgo County, Texas</td>\n",
              "      <td>3.62</td>\n",
              "      <td>51.0</td>\n",
              "      <td>22.3</td>\n",
              "      <td>29.0</td>\n",
              "      <td>NaN</td>\n",
              "      <td>5.1</td>\n",
              "      <td>23.2</td>\n",
              "      <td>11.9</td>\n",
              "      <td>52.2</td>\n",
              "      <td>9.9</td>\n",
              "      <td>32.6</td>\n",
              "      <td>NaN</td>\n",
              "      <td>22.9</td>\n",
              "      <td>37.3</td>\n",
              "      <td>28.2</td>\n",
              "      <td>91.409724</td>\n",
              "      <td>0.620104</td>\n",
              "      <td>1.041848</td>\n",
              "      <td>5.804689</td>\n",
              "      <td>56.335344</td>\n",
              "      <td>6.825886</td>\n",
              "    </tr>\n",
              "    <tr>\n",
              "      <th>1</th>\n",
              "      <td>94.000000</td>\n",
              "      <td>41</td>\n",
              "      <td>445.200000</td>\n",
              "      <td>35615</td>\n",
              "      <td>16704</td>\n",
              "      <td>21.5</td>\n",
              "      <td>0.000000</td>\n",
              "      <td>(34218.1, 37413.8]</td>\n",
              "      <td>41.5</td>\n",
              "      <td>40.9</td>\n",
              "      <td>42.1</td>\n",
              "      <td>Barbour County, West Virginia</td>\n",
              "      <td>2.68</td>\n",
              "      <td>52.0</td>\n",
              "      <td>9.8</td>\n",
              "      <td>36.1</td>\n",
              "      <td>45.8</td>\n",
              "      <td>8.3</td>\n",
              "      <td>47.1</td>\n",
              "      <td>7.9</td>\n",
              "      <td>46.5</td>\n",
              "      <td>9.0</td>\n",
              "      <td>55.6</td>\n",
              "      <td>40.1</td>\n",
              "      <td>36.5</td>\n",
              "      <td>44.8</td>\n",
              "      <td>26.4</td>\n",
              "      <td>96.844181</td>\n",
              "      <td>0.836770</td>\n",
              "      <td>0.376547</td>\n",
              "      <td>0.029885</td>\n",
              "      <td>55.288859</td>\n",
              "      <td>2.292861</td>\n",
              "    </tr>\n",
              "    <tr>\n",
              "      <th>2</th>\n",
              "      <td>126.000000</td>\n",
              "      <td>43</td>\n",
              "      <td>425.700000</td>\n",
              "      <td>76672</td>\n",
              "      <td>32154</td>\n",
              "      <td>7.6</td>\n",
              "      <td>31.100330</td>\n",
              "      <td>(61494.5, 125635]</td>\n",
              "      <td>35.0</td>\n",
              "      <td>34.2</td>\n",
              "      <td>36.0</td>\n",
              "      <td>Stark County, North Dakota</td>\n",
              "      <td>2.44</td>\n",
              "      <td>55.8</td>\n",
              "      <td>13.0</td>\n",
              "      <td>26.8</td>\n",
              "      <td>NaN</td>\n",
              "      <td>10.0</td>\n",
              "      <td>30.5</td>\n",
              "      <td>17.5</td>\n",
              "      <td>71.4</td>\n",
              "      <td>2.8</td>\n",
              "      <td>83.3</td>\n",
              "      <td>68.0</td>\n",
              "      <td>55.9</td>\n",
              "      <td>19.6</td>\n",
              "      <td>5.9</td>\n",
              "      <td>92.626100</td>\n",
              "      <td>1.114294</td>\n",
              "      <td>1.257510</td>\n",
              "      <td>1.844348</td>\n",
              "      <td>52.614465</td>\n",
              "      <td>10.502567</td>\n",
              "    </tr>\n",
              "    <tr>\n",
              "      <th>3</th>\n",
              "      <td>1962.667684</td>\n",
              "      <td>16</td>\n",
              "      <td>453.549422</td>\n",
              "      <td>45856</td>\n",
              "      <td>5428</td>\n",
              "      <td>11.4</td>\n",
              "      <td>0.000000</td>\n",
              "      <td>(45201, 48021.6]</td>\n",
              "      <td>44.7</td>\n",
              "      <td>44.2</td>\n",
              "      <td>45.5</td>\n",
              "      <td>Phillips County, Kansas</td>\n",
              "      <td>2.29</td>\n",
              "      <td>60.5</td>\n",
              "      <td>33.2</td>\n",
              "      <td>13.9</td>\n",
              "      <td>45.3</td>\n",
              "      <td>7.6</td>\n",
              "      <td>35.3</td>\n",
              "      <td>15.5</td>\n",
              "      <td>63.1</td>\n",
              "      <td>4.3</td>\n",
              "      <td>75.8</td>\n",
              "      <td>55.3</td>\n",
              "      <td>44.5</td>\n",
              "      <td>33.4</td>\n",
              "      <td>15.5</td>\n",
              "      <td>96.855117</td>\n",
              "      <td>0.381749</td>\n",
              "      <td>0.181785</td>\n",
              "      <td>0.163607</td>\n",
              "      <td>55.044700</td>\n",
              "      <td>9.342231</td>\n",
              "    </tr>\n",
              "    <tr>\n",
              "      <th>4</th>\n",
              "      <td>1962.667684</td>\n",
              "      <td>4</td>\n",
              "      <td>453.549422</td>\n",
              "      <td>53739</td>\n",
              "      <td>1670</td>\n",
              "      <td>10.9</td>\n",
              "      <td>0.000000</td>\n",
              "      <td>(51046.4, 54545.6]</td>\n",
              "      <td>535.2</td>\n",
              "      <td>44.7</td>\n",
              "      <td>44.4</td>\n",
              "      <td>Lane County, Kansas</td>\n",
              "      <td>2.07</td>\n",
              "      <td>55.9</td>\n",
              "      <td>25.2</td>\n",
              "      <td>31.1</td>\n",
              "      <td>NaN</td>\n",
              "      <td>3.0</td>\n",
              "      <td>29.7</td>\n",
              "      <td>15.5</td>\n",
              "      <td>67.9</td>\n",
              "      <td>2.4</td>\n",
              "      <td>78.2</td>\n",
              "      <td>56.7</td>\n",
              "      <td>48.6</td>\n",
              "      <td>29.2</td>\n",
              "      <td>11.2</td>\n",
              "      <td>98.327360</td>\n",
              "      <td>0.358423</td>\n",
              "      <td>0.000000</td>\n",
              "      <td>0.000000</td>\n",
              "      <td>47.826087</td>\n",
              "      <td>10.029499</td>\n",
              "    </tr>\n",
              "  </tbody>\n",
              "</table>\n",
              "</div>"
            ],
            "text/plain": [
              "   avgAnnCount  avgDeathsPerYear  ...  PctMarriedHouseholds  BirthRate\n",
              "0  2092.000000               763  ...             56.335344   6.825886\n",
              "1    94.000000                41  ...             55.288859   2.292861\n",
              "2   126.000000                43  ...             52.614465  10.502567\n",
              "3  1962.667684                16  ...             55.044700   9.342231\n",
              "4  1962.667684                 4  ...             47.826087  10.029499\n",
              "\n",
              "[5 rows x 33 columns]"
            ]
          },
          "metadata": {
            "tags": []
          },
          "execution_count": 117
        }
      ]
    },
    {
      "cell_type": "code",
      "metadata": {
        "colab": {
          "base_uri": "https://localhost:8080/"
        },
        "id": "LsGKsw7yl0f6",
        "outputId": "3710e402-11a1-40b8-d893-e712e408d75e"
      },
      "source": [
        "test_data.shape"
      ],
      "execution_count": null,
      "outputs": [
        {
          "output_type": "execute_result",
          "data": {
            "text/plain": [
              "(762, 33)"
            ]
          },
          "metadata": {
            "tags": []
          },
          "execution_count": 118
        }
      ]
    },
    {
      "cell_type": "code",
      "metadata": {
        "id": "z7k3uMG4l4Mp"
      },
      "source": [
        "test_data.drop(['binnedInc', 'Geography', 'PctSomeCol18_24'],axis=1,inplace=True)"
      ],
      "execution_count": null,
      "outputs": []
    },
    {
      "cell_type": "code",
      "metadata": {
        "colab": {
          "base_uri": "https://localhost:8080/"
        },
        "id": "aExWuiTOmOtj",
        "outputId": "9a774e84-b57f-457a-cadc-445a62b23ad6"
      },
      "source": [
        "test_data.isnull().sum()"
      ],
      "execution_count": null,
      "outputs": [
        {
          "output_type": "execute_result",
          "data": {
            "text/plain": [
              "avgAnnCount                0\n",
              "avgDeathsPerYear           0\n",
              "incidenceRate              0\n",
              "medIncome                  0\n",
              "popEst2015                 0\n",
              "povertyPercent             0\n",
              "studyPerCap                0\n",
              "MedianAge                  0\n",
              "MedianAgeMale              0\n",
              "MedianAgeFemale            0\n",
              "AvgHouseholdSize           0\n",
              "PercentMarried             0\n",
              "PctNoHS18_24               0\n",
              "PctHS18_24                 0\n",
              "PctBachDeg18_24            0\n",
              "PctHS25_Over               0\n",
              "PctBachDeg25_Over          0\n",
              "PctEmployed16_Over         0\n",
              "PctUnemployed16_Over       0\n",
              "PctPrivateCoverage         0\n",
              "PctPrivateCoverageAlone    0\n",
              "PctEmpPrivCoverage         0\n",
              "PctPublicCoverage          0\n",
              "PctPublicCoverageAlone     0\n",
              "PctWhite                   0\n",
              "PctBlack                   0\n",
              "PctAsian                   0\n",
              "PctOtherRace               0\n",
              "PctMarriedHouseholds       0\n",
              "BirthRate                  0\n",
              "dtype: int64"
            ]
          },
          "metadata": {
            "tags": []
          },
          "execution_count": 127
        }
      ]
    },
    {
      "cell_type": "code",
      "metadata": {
        "id": "XgURCxjCmV99"
      },
      "source": [
        "test_data['PctPrivateCoverageAlone'].fillna(test_data['PctPrivateCoverageAlone'].mean(),inplace=True)\r\n",
        "test_data['PctEmployed16_Over'].fillna(test_data['PctEmployed16_Over'].mean(),inplace=True)"
      ],
      "execution_count": null,
      "outputs": []
    },
    {
      "cell_type": "code",
      "metadata": {
        "id": "q_87bi6MmF91"
      },
      "source": [
        "important_test = boruta_selector.transform(np.array(test_data))"
      ],
      "execution_count": null,
      "outputs": []
    },
    {
      "cell_type": "code",
      "metadata": {
        "colab": {
          "base_uri": "https://localhost:8080/"
        },
        "id": "Xn8nC1PKm4p_",
        "outputId": "00a1ef46-16b1-4499-da91-2497a262769f"
      },
      "source": [
        ""
      ],
      "execution_count": null,
      "outputs": [
        {
          "output_type": "execute_result",
          "data": {
            "text/plain": [
              "array([[7.63000000e+02, 3.41000000e+02, 3.43680000e+04, ...,\n",
              "        6.20104319e-01, 5.80468911e+00, 5.63353436e+01],\n",
              "       [4.10000000e+01, 4.45200000e+02, 3.56150000e+04, ...,\n",
              "        8.36770068e-01, 2.98846450e-02, 5.52888595e+01],\n",
              "       [4.30000000e+01, 4.25700000e+02, 7.66720000e+04, ...,\n",
              "        1.11429370e+00, 1.84434819e+00, 5.26144652e+01],\n",
              "       ...,\n",
              "       [9.30000000e+01, 4.06200000e+02, 3.71220000e+04, ...,\n",
              "        6.25959608e-01, 1.41726704e-01, 4.81089659e+01],\n",
              "       [1.39000000e+02, 5.11100000e+02, 3.55550000e+04, ...,\n",
              "        3.28965290e+01, 1.09749033e+00, 4.56838491e+01],\n",
              "       [7.00000000e+00, 3.60800000e+02, 4.96140000e+04, ...,\n",
              "        2.70343336e-01, 4.19302514e+01, 6.40614096e+01]])"
            ]
          },
          "metadata": {
            "tags": []
          },
          "execution_count": 129
        }
      ]
    },
    {
      "cell_type": "code",
      "metadata": {
        "id": "5_d2xYW2nY_6"
      },
      "source": [
        "pred = rf_important.predict(important_test)"
      ],
      "execution_count": null,
      "outputs": []
    },
    {
      "cell_type": "code",
      "metadata": {
        "id": "6-g9Ej9povTJ"
      },
      "source": [
        "submission=pd.DataFrame({'prediction':pred})"
      ],
      "execution_count": null,
      "outputs": []
    },
    {
      "cell_type": "code",
      "metadata": {
        "id": "ZWyEzeB3o3_C"
      },
      "source": [
        "submission.to_csv('cancer1.csv',index=False)"
      ],
      "execution_count": null,
      "outputs": []
    },
    {
      "cell_type": "code",
      "metadata": {
        "id": "G6lVMwnXpDGp"
      },
      "source": [
        ""
      ],
      "execution_count": null,
      "outputs": []
    }
  ]
}