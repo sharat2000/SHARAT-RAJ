{
  "nbformat": 4,
  "nbformat_minor": 0,
  "metadata": {
    "colab": {
      "name": "MIN-310 PROJECT.ipynb",
      "provenance": [],
      "authorship_tag": "ABX9TyOOrNkRWXZO5RAThxuzIHFW",
      "include_colab_link": true
    },
    "kernelspec": {
      "name": "python3",
      "display_name": "Python 3"
    },
    "language_info": {
      "name": "python"
    }
  },
  "cells": [
    {
      "cell_type": "markdown",
      "metadata": {
        "id": "view-in-github",
        "colab_type": "text"
      },
      "source": [
        "<a href=\"https://colab.research.google.com/github/sharat2000/SHARAT-RAJ/blob/main/MIN_310_PROJECT.ipynb\" target=\"_parent\"><img src=\"https://colab.research.google.com/assets/colab-badge.svg\" alt=\"Open In Colab\"/></a>"
      ]
    },
    {
      "cell_type": "code",
      "metadata": {
        "id": "eDijEWVwAkv9"
      },
      "source": [
        "import pandas as pd\n",
        "import numpy as np\n",
        "import matplotlib.pyplot as plt\n",
        "import seaborn as sns"
      ],
      "execution_count": null,
      "outputs": []
    },
    {
      "cell_type": "code",
      "metadata": {
        "id": "MgtXASKkDNf3"
      },
      "source": [
        "data=pd.read_csv('/content/Final Responses.csv')"
      ],
      "execution_count": null,
      "outputs": []
    },
    {
      "cell_type": "code",
      "metadata": {
        "colab": {
          "base_uri": "https://localhost:8080/",
          "height": 1000
        },
        "id": "k9IIRQXfDpeJ",
        "outputId": "565e0197-8d87-4cab-da38-48f93490c2fa"
      },
      "source": [
        "data"
      ],
      "execution_count": null,
      "outputs": [
        {
          "output_type": "execute_result",
          "data": {
            "text/html": [
              "<div>\n",
              "<style scoped>\n",
              "    .dataframe tbody tr th:only-of-type {\n",
              "        vertical-align: middle;\n",
              "    }\n",
              "\n",
              "    .dataframe tbody tr th {\n",
              "        vertical-align: top;\n",
              "    }\n",
              "\n",
              "    .dataframe thead th {\n",
              "        text-align: right;\n",
              "    }\n",
              "</style>\n",
              "<table border=\"1\" class=\"dataframe\">\n",
              "  <thead>\n",
              "    <tr style=\"text-align: right;\">\n",
              "      <th></th>\n",
              "      <th>Timestamp</th>\n",
              "      <th>Full Name</th>\n",
              "      <th>Year of study(Current year)</th>\n",
              "      <th>Bhawan(Hostel) you are residing.</th>\n",
              "      <th>Which Block in Bhawan?</th>\n",
              "      <th>Floor of your Room!</th>\n",
              "      <th>Q1) Overall maintenance service of your Bhawan?</th>\n",
              "      <th>Q2) Maintenance services of bathrooms and washbasins. (Daily cleaning, handwash &amp; water availability etc.)</th>\n",
              "      <th>Q3) Drinking water quality (cooler and water filter maintenance)?</th>\n",
              "      <th>Q4) Response time taken for any electrical or furniture's related complains.</th>\n",
              "      <th>Q5) Lift and corridor’s maintenance (cleanliness, lighting...etc.).</th>\n",
              "      <th>Q6) Bicycle Parking facilities (like availability of proper shade, its maintenance, CCTV ...etc.)?</th>\n",
              "      <th>Q7) Maintenance service of Bhawan laundry (Clothes washing time, cleanliness, quality of clothes washing...etc)</th>\n",
              "      <th>Q8) Gym facilities and its maintenance (equipment's, overcrowding, cleanliness ..etc) ?</th>\n",
              "      <th>Problems:</th>\n",
              "      <th>General Causes:</th>\n",
              "      <th>Any other problems faced along with the causes(if you know).</th>\n",
              "    </tr>\n",
              "  </thead>\n",
              "  <tbody>\n",
              "    <tr>\n",
              "      <th>0</th>\n",
              "      <td>5/5/2021 13:13:26</td>\n",
              "      <td>Manish Kumar</td>\n",
              "      <td>3rd year</td>\n",
              "      <td>NaN</td>\n",
              "      <td>A-Block</td>\n",
              "      <td>5th Floor</td>\n",
              "      <td>3</td>\n",
              "      <td>3</td>\n",
              "      <td>3</td>\n",
              "      <td>4</td>\n",
              "      <td>3</td>\n",
              "      <td>2</td>\n",
              "      <td>3</td>\n",
              "      <td>3</td>\n",
              "      <td>2. No regular cleanliness of Bathrooms., 3. De...</td>\n",
              "      <td>3. Carelessness by top management., 4. Lack of...</td>\n",
              "      <td>No</td>\n",
              "    </tr>\n",
              "    <tr>\n",
              "      <th>1</th>\n",
              "      <td>5/5/2021 17:26:43</td>\n",
              "      <td>SHARAT RAJ</td>\n",
              "      <td>3rd year</td>\n",
              "      <td>Rajiv</td>\n",
              "      <td>A-Block</td>\n",
              "      <td>5th Floor</td>\n",
              "      <td>4</td>\n",
              "      <td>3</td>\n",
              "      <td>3</td>\n",
              "      <td>4</td>\n",
              "      <td>4</td>\n",
              "      <td>2</td>\n",
              "      <td>3</td>\n",
              "      <td>4</td>\n",
              "      <td>2. No regular cleanliness of Bathrooms., 3. De...</td>\n",
              "      <td>1. Poor management system., 2. No supervision ...</td>\n",
              "      <td>NaN</td>\n",
              "    </tr>\n",
              "    <tr>\n",
              "      <th>2</th>\n",
              "      <td>5/5/2021 18:34:02</td>\n",
              "      <td>Shubhankar Garg</td>\n",
              "      <td>3rd year</td>\n",
              "      <td>NaN</td>\n",
              "      <td>F-Block</td>\n",
              "      <td>1st Floor</td>\n",
              "      <td>3</td>\n",
              "      <td>2</td>\n",
              "      <td>1</td>\n",
              "      <td>4</td>\n",
              "      <td>3</td>\n",
              "      <td>1</td>\n",
              "      <td>3</td>\n",
              "      <td>1</td>\n",
              "      <td>2. No regular cleanliness of Bathrooms., 3. De...</td>\n",
              "      <td>1. Poor management system., 2. No supervision ...</td>\n",
              "      <td>NaN</td>\n",
              "    </tr>\n",
              "    <tr>\n",
              "      <th>3</th>\n",
              "      <td>5/5/2021 19:33:11</td>\n",
              "      <td>Aditya</td>\n",
              "      <td>3rd year</td>\n",
              "      <td>Rajiv</td>\n",
              "      <td>A-Block</td>\n",
              "      <td>5th Floor</td>\n",
              "      <td>4</td>\n",
              "      <td>2</td>\n",
              "      <td>3</td>\n",
              "      <td>3</td>\n",
              "      <td>4</td>\n",
              "      <td>2</td>\n",
              "      <td>3</td>\n",
              "      <td>3</td>\n",
              "      <td>2. No regular cleanliness of Bathrooms., 3. De...</td>\n",
              "      <td>3. Carelessness by top management.</td>\n",
              "      <td>NaN</td>\n",
              "    </tr>\n",
              "    <tr>\n",
              "      <th>4</th>\n",
              "      <td>5/5/2021 20:01:31</td>\n",
              "      <td>Mangali Balasivakumar</td>\n",
              "      <td>3rd year</td>\n",
              "      <td>Rajiv</td>\n",
              "      <td>B-Block</td>\n",
              "      <td>1st Floor</td>\n",
              "      <td>4</td>\n",
              "      <td>3</td>\n",
              "      <td>3</td>\n",
              "      <td>1</td>\n",
              "      <td>4</td>\n",
              "      <td>3</td>\n",
              "      <td>4</td>\n",
              "      <td>4</td>\n",
              "      <td>1. Large response time after registering compl...</td>\n",
              "      <td>2. No supervision of workers.</td>\n",
              "      <td>NaN</td>\n",
              "    </tr>\n",
              "    <tr>\n",
              "      <th>...</th>\n",
              "      <td>...</td>\n",
              "      <td>...</td>\n",
              "      <td>...</td>\n",
              "      <td>...</td>\n",
              "      <td>...</td>\n",
              "      <td>...</td>\n",
              "      <td>...</td>\n",
              "      <td>...</td>\n",
              "      <td>...</td>\n",
              "      <td>...</td>\n",
              "      <td>...</td>\n",
              "      <td>...</td>\n",
              "      <td>...</td>\n",
              "      <td>...</td>\n",
              "      <td>...</td>\n",
              "      <td>...</td>\n",
              "      <td>...</td>\n",
              "    </tr>\n",
              "    <tr>\n",
              "      <th>85</th>\n",
              "      <td>5/10/2021 12:22:30</td>\n",
              "      <td>Hemant prasad</td>\n",
              "      <td>4th year</td>\n",
              "      <td>RAJIV</td>\n",
              "      <td>B-Block</td>\n",
              "      <td>6th Floor</td>\n",
              "      <td>4</td>\n",
              "      <td>3</td>\n",
              "      <td>4</td>\n",
              "      <td>3</td>\n",
              "      <td>4</td>\n",
              "      <td>3</td>\n",
              "      <td>4</td>\n",
              "      <td>3</td>\n",
              "      <td>1. Large response time after registering compl...</td>\n",
              "      <td>2. No supervision of workers., 3. Carelessness...</td>\n",
              "      <td>Clean but not nicely</td>\n",
              "    </tr>\n",
              "    <tr>\n",
              "      <th>86</th>\n",
              "      <td>5/10/2021 12:23:12</td>\n",
              "      <td>Rahul jaiswal</td>\n",
              "      <td>3rd year</td>\n",
              "      <td>RAJIV</td>\n",
              "      <td>A-Block</td>\n",
              "      <td>2nd Floor</td>\n",
              "      <td>5</td>\n",
              "      <td>4</td>\n",
              "      <td>4</td>\n",
              "      <td>3</td>\n",
              "      <td>5</td>\n",
              "      <td>3</td>\n",
              "      <td>4</td>\n",
              "      <td>3</td>\n",
              "      <td>2. No regular cleanliness of Bathrooms., 3. De...</td>\n",
              "      <td>1. Poor management system.</td>\n",
              "      <td>NaN</td>\n",
              "    </tr>\n",
              "    <tr>\n",
              "      <th>87</th>\n",
              "      <td>5/10/2021 12:32:43</td>\n",
              "      <td>Saurav</td>\n",
              "      <td>4th year</td>\n",
              "      <td>RAJIV</td>\n",
              "      <td>B-Block</td>\n",
              "      <td>4th Floor</td>\n",
              "      <td>4</td>\n",
              "      <td>3</td>\n",
              "      <td>4</td>\n",
              "      <td>4</td>\n",
              "      <td>4</td>\n",
              "      <td>4</td>\n",
              "      <td>4</td>\n",
              "      <td>3</td>\n",
              "      <td>2. No regular cleanliness of Bathrooms., 3. De...</td>\n",
              "      <td>1. Poor management system., 4. Lack of motivat...</td>\n",
              "      <td>NaN</td>\n",
              "    </tr>\n",
              "    <tr>\n",
              "      <th>88</th>\n",
              "      <td>5/10/2021 13:23:50</td>\n",
              "      <td>Kumar Ravi</td>\n",
              "      <td>4th year</td>\n",
              "      <td>RAJIV</td>\n",
              "      <td>B-Block</td>\n",
              "      <td>4th Floor</td>\n",
              "      <td>4</td>\n",
              "      <td>2</td>\n",
              "      <td>2</td>\n",
              "      <td>4</td>\n",
              "      <td>3</td>\n",
              "      <td>2</td>\n",
              "      <td>4</td>\n",
              "      <td>4</td>\n",
              "      <td>4. Poor water quality due to poor maintenance ...</td>\n",
              "      <td>2. No supervision of workers., 4. Lack of moti...</td>\n",
              "      <td>NaN</td>\n",
              "    </tr>\n",
              "    <tr>\n",
              "      <th>89</th>\n",
              "      <td>5/10/2021 13:25:06</td>\n",
              "      <td>Roshan Raja</td>\n",
              "      <td>3rd year</td>\n",
              "      <td>RAJIV</td>\n",
              "      <td>A-Block</td>\n",
              "      <td>6th Floor</td>\n",
              "      <td>4</td>\n",
              "      <td>3</td>\n",
              "      <td>2</td>\n",
              "      <td>4</td>\n",
              "      <td>4</td>\n",
              "      <td>2</td>\n",
              "      <td>4</td>\n",
              "      <td>3</td>\n",
              "      <td>3. Delay in filling of Handwash, dirty washbas...</td>\n",
              "      <td>1. Poor management system., 2. No supervision ...</td>\n",
              "      <td>NaN</td>\n",
              "    </tr>\n",
              "  </tbody>\n",
              "</table>\n",
              "<p>90 rows × 17 columns</p>\n",
              "</div>"
            ],
            "text/plain": [
              "             Timestamp  ... Any other problems faced along with the causes(if you know).\n",
              "0    5/5/2021 13:13:26  ...                                                 No          \n",
              "1    5/5/2021 17:26:43  ...                                                NaN          \n",
              "2    5/5/2021 18:34:02  ...                                                NaN          \n",
              "3    5/5/2021 19:33:11  ...                                                NaN          \n",
              "4    5/5/2021 20:01:31  ...                                                NaN          \n",
              "..                 ...  ...                                                ...          \n",
              "85  5/10/2021 12:22:30  ...                               Clean but not nicely          \n",
              "86  5/10/2021 12:23:12  ...                                                NaN          \n",
              "87  5/10/2021 12:32:43  ...                                                NaN          \n",
              "88  5/10/2021 13:23:50  ...                                                NaN          \n",
              "89  5/10/2021 13:25:06  ...                                                NaN          \n",
              "\n",
              "[90 rows x 17 columns]"
            ]
          },
          "metadata": {
            "tags": []
          },
          "execution_count": 3
        }
      ]
    },
    {
      "cell_type": "code",
      "metadata": {
        "colab": {
          "base_uri": "https://localhost:8080/"
        },
        "id": "5GoHCH6bDp8O",
        "outputId": "72c084c0-779b-41d7-9f41-b6439c672603"
      },
      "source": [
        "data.shape"
      ],
      "execution_count": null,
      "outputs": [
        {
          "output_type": "execute_result",
          "data": {
            "text/plain": [
              "(90, 17)"
            ]
          },
          "metadata": {
            "tags": []
          },
          "execution_count": 4
        }
      ]
    },
    {
      "cell_type": "code",
      "metadata": {
        "colab": {
          "base_uri": "https://localhost:8080/"
        },
        "id": "ZD5l2ChTD-7g",
        "outputId": "cb5246ce-f280-4fb6-877e-816c773b041f"
      },
      "source": [
        "data.dtypes"
      ],
      "execution_count": null,
      "outputs": [
        {
          "output_type": "execute_result",
          "data": {
            "text/plain": [
              "Timestamp                                                                                                          object\n",
              "Full Name                                                                                                          object\n",
              "Year of study(Current year)                                                                                        object\n",
              "Bhawan(Hostel) you are residing.                                                                                   object\n",
              "Which Block in Bhawan?                                                                                             object\n",
              "Floor of your Room!                                                                                                object\n",
              "Q1) Overall maintenance service of your Bhawan?                                                                     int64\n",
              "Q2) Maintenance services of bathrooms and washbasins. (Daily cleaning, handwash & water availability etc.)          int64\n",
              "Q3) Drinking water quality (cooler and water filter maintenance)?                                                   int64\n",
              "Q4) Response time taken for any electrical or furniture's related complains.                                        int64\n",
              "Q5) Lift and corridor’s maintenance (cleanliness, lighting...etc.).                                                 int64\n",
              "Q6) Bicycle Parking facilities (like availability of proper shade, its maintenance, CCTV ...etc.)?                  int64\n",
              "Q7) Maintenance service of Bhawan laundry (Clothes washing time, cleanliness, quality of clothes washing...etc)     int64\n",
              "Q8) Gym facilities and its maintenance (equipment's, overcrowding, cleanliness ..etc) ?                             int64\n",
              "Problems:                                                                                                          object\n",
              "General Causes:                                                                                                    object\n",
              "Any other problems faced along with the causes(if you know).                                                       object\n",
              "dtype: object"
            ]
          },
          "metadata": {
            "tags": []
          },
          "execution_count": 5
        }
      ]
    },
    {
      "cell_type": "code",
      "metadata": {
        "colab": {
          "base_uri": "https://localhost:8080/"
        },
        "id": "UnVnEzH0EAvz",
        "outputId": "8fd78d71-2f89-46b4-c216-7bd7efb6102e"
      },
      "source": [
        "data.isnull().sum()"
      ],
      "execution_count": null,
      "outputs": [
        {
          "output_type": "execute_result",
          "data": {
            "text/plain": [
              "Timestamp                                                                                                           0\n",
              "Full Name                                                                                                           0\n",
              "Year of study(Current year)                                                                                         0\n",
              "Bhawan(Hostel) you are residing.                                                                                    9\n",
              "Which Block in Bhawan?                                                                                              0\n",
              "Floor of your Room!                                                                                                 0\n",
              "Q1) Overall maintenance service of your Bhawan?                                                                     0\n",
              "Q2) Maintenance services of bathrooms and washbasins. (Daily cleaning, handwash & water availability etc.)          0\n",
              "Q3) Drinking water quality (cooler and water filter maintenance)?                                                   0\n",
              "Q4) Response time taken for any electrical or furniture's related complains.                                        0\n",
              "Q5) Lift and corridor’s maintenance (cleanliness, lighting...etc.).                                                 0\n",
              "Q6) Bicycle Parking facilities (like availability of proper shade, its maintenance, CCTV ...etc.)?                  0\n",
              "Q7) Maintenance service of Bhawan laundry (Clothes washing time, cleanliness, quality of clothes washing...etc)     0\n",
              "Q8) Gym facilities and its maintenance (equipment's, overcrowding, cleanliness ..etc) ?                             0\n",
              "Problems:                                                                                                           0\n",
              "General Causes:                                                                                                     0\n",
              "Any other problems faced along with the causes(if you know).                                                       75\n",
              "dtype: int64"
            ]
          },
          "metadata": {
            "tags": []
          },
          "execution_count": 6
        }
      ]
    },
    {
      "cell_type": "code",
      "metadata": {
        "colab": {
          "base_uri": "https://localhost:8080/"
        },
        "id": "rRlCUMUdENMS",
        "outputId": "47a49f16-1678-4f35-cd33-6473d2c6e150"
      },
      "source": [
        "data.nunique()"
      ],
      "execution_count": null,
      "outputs": [
        {
          "output_type": "execute_result",
          "data": {
            "text/plain": [
              "Timestamp                                                                                                          90\n",
              "Full Name                                                                                                          90\n",
              "Year of study(Current year)                                                                                         3\n",
              "Bhawan(Hostel) you are residing.                                                                                   10\n",
              "Which Block in Bhawan?                                                                                              6\n",
              "Floor of your Room!                                                                                                 8\n",
              "Q1) Overall maintenance service of your Bhawan?                                                                     5\n",
              "Q2) Maintenance services of bathrooms and washbasins. (Daily cleaning, handwash & water availability etc.)          5\n",
              "Q3) Drinking water quality (cooler and water filter maintenance)?                                                   5\n",
              "Q4) Response time taken for any electrical or furniture's related complains.                                        5\n",
              "Q5) Lift and corridor’s maintenance (cleanliness, lighting...etc.).                                                 5\n",
              "Q6) Bicycle Parking facilities (like availability of proper shade, its maintenance, CCTV ...etc.)?                  5\n",
              "Q7) Maintenance service of Bhawan laundry (Clothes washing time, cleanliness, quality of clothes washing...etc)     5\n",
              "Q8) Gym facilities and its maintenance (equipment's, overcrowding, cleanliness ..etc) ?                             5\n",
              "Problems:                                                                                                          52\n",
              "General Causes:                                                                                                    15\n",
              "Any other problems faced along with the causes(if you know).                                                       13\n",
              "dtype: int64"
            ]
          },
          "metadata": {
            "tags": []
          },
          "execution_count": 7
        }
      ]
    },
    {
      "cell_type": "code",
      "metadata": {
        "id": "gVizT3E8cG4y"
      },
      "source": [
        "data=data.drop(['Timestamp','Full Name'],axis=1)"
      ],
      "execution_count": null,
      "outputs": []
    },
    {
      "cell_type": "code",
      "metadata": {
        "id": "JJLq8fy5cZnw"
      },
      "source": [
        "data1=data.iloc[:,0:12]"
      ],
      "execution_count": null,
      "outputs": []
    },
    {
      "cell_type": "code",
      "metadata": {
        "colab": {
          "base_uri": "https://localhost:8080/",
          "height": 704
        },
        "id": "0W2gmCB3ctyB",
        "outputId": "f1e433cf-2b96-4911-8faa-e9b5d05d856c"
      },
      "source": [
        "data1"
      ],
      "execution_count": null,
      "outputs": [
        {
          "output_type": "execute_result",
          "data": {
            "text/html": [
              "<div>\n",
              "<style scoped>\n",
              "    .dataframe tbody tr th:only-of-type {\n",
              "        vertical-align: middle;\n",
              "    }\n",
              "\n",
              "    .dataframe tbody tr th {\n",
              "        vertical-align: top;\n",
              "    }\n",
              "\n",
              "    .dataframe thead th {\n",
              "        text-align: right;\n",
              "    }\n",
              "</style>\n",
              "<table border=\"1\" class=\"dataframe\">\n",
              "  <thead>\n",
              "    <tr style=\"text-align: right;\">\n",
              "      <th></th>\n",
              "      <th>Year of study(Current year)</th>\n",
              "      <th>Bhawan(Hostel) you are residing.</th>\n",
              "      <th>Which Block in Bhawan?</th>\n",
              "      <th>Floor of your Room!</th>\n",
              "      <th>Q1) Overall maintenance service of your Bhawan?</th>\n",
              "      <th>Q2) Maintenance services of bathrooms and washbasins. (Daily cleaning, handwash &amp; water availability etc.)</th>\n",
              "      <th>Q3) Drinking water quality (cooler and water filter maintenance)?</th>\n",
              "      <th>Q4) Response time taken for any electrical or furniture's related complains.</th>\n",
              "      <th>Q5) Lift and corridor’s maintenance (cleanliness, lighting...etc.).</th>\n",
              "      <th>Q6) Bicycle Parking facilities (like availability of proper shade, its maintenance, CCTV ...etc.)?</th>\n",
              "      <th>Q7) Maintenance service of Bhawan laundry (Clothes washing time, cleanliness, quality of clothes washing...etc)</th>\n",
              "      <th>Q8) Gym facilities and its maintenance (equipment's, overcrowding, cleanliness ..etc) ?</th>\n",
              "    </tr>\n",
              "  </thead>\n",
              "  <tbody>\n",
              "    <tr>\n",
              "      <th>0</th>\n",
              "      <td>3rd year</td>\n",
              "      <td>NaN</td>\n",
              "      <td>A-Block</td>\n",
              "      <td>5th Floor</td>\n",
              "      <td>3</td>\n",
              "      <td>3</td>\n",
              "      <td>3</td>\n",
              "      <td>4</td>\n",
              "      <td>3</td>\n",
              "      <td>2</td>\n",
              "      <td>3</td>\n",
              "      <td>3</td>\n",
              "    </tr>\n",
              "    <tr>\n",
              "      <th>1</th>\n",
              "      <td>3rd year</td>\n",
              "      <td>Rajiv</td>\n",
              "      <td>A-Block</td>\n",
              "      <td>5th Floor</td>\n",
              "      <td>4</td>\n",
              "      <td>3</td>\n",
              "      <td>3</td>\n",
              "      <td>4</td>\n",
              "      <td>4</td>\n",
              "      <td>2</td>\n",
              "      <td>3</td>\n",
              "      <td>4</td>\n",
              "    </tr>\n",
              "    <tr>\n",
              "      <th>2</th>\n",
              "      <td>3rd year</td>\n",
              "      <td>NaN</td>\n",
              "      <td>F-Block</td>\n",
              "      <td>1st Floor</td>\n",
              "      <td>3</td>\n",
              "      <td>2</td>\n",
              "      <td>1</td>\n",
              "      <td>4</td>\n",
              "      <td>3</td>\n",
              "      <td>1</td>\n",
              "      <td>3</td>\n",
              "      <td>1</td>\n",
              "    </tr>\n",
              "    <tr>\n",
              "      <th>3</th>\n",
              "      <td>3rd year</td>\n",
              "      <td>Rajiv</td>\n",
              "      <td>A-Block</td>\n",
              "      <td>5th Floor</td>\n",
              "      <td>4</td>\n",
              "      <td>2</td>\n",
              "      <td>3</td>\n",
              "      <td>3</td>\n",
              "      <td>4</td>\n",
              "      <td>2</td>\n",
              "      <td>3</td>\n",
              "      <td>3</td>\n",
              "    </tr>\n",
              "    <tr>\n",
              "      <th>4</th>\n",
              "      <td>3rd year</td>\n",
              "      <td>Rajiv</td>\n",
              "      <td>B-Block</td>\n",
              "      <td>1st Floor</td>\n",
              "      <td>4</td>\n",
              "      <td>3</td>\n",
              "      <td>3</td>\n",
              "      <td>1</td>\n",
              "      <td>4</td>\n",
              "      <td>3</td>\n",
              "      <td>4</td>\n",
              "      <td>4</td>\n",
              "    </tr>\n",
              "    <tr>\n",
              "      <th>...</th>\n",
              "      <td>...</td>\n",
              "      <td>...</td>\n",
              "      <td>...</td>\n",
              "      <td>...</td>\n",
              "      <td>...</td>\n",
              "      <td>...</td>\n",
              "      <td>...</td>\n",
              "      <td>...</td>\n",
              "      <td>...</td>\n",
              "      <td>...</td>\n",
              "      <td>...</td>\n",
              "      <td>...</td>\n",
              "    </tr>\n",
              "    <tr>\n",
              "      <th>85</th>\n",
              "      <td>4th year</td>\n",
              "      <td>RAJIV</td>\n",
              "      <td>B-Block</td>\n",
              "      <td>6th Floor</td>\n",
              "      <td>4</td>\n",
              "      <td>3</td>\n",
              "      <td>4</td>\n",
              "      <td>3</td>\n",
              "      <td>4</td>\n",
              "      <td>3</td>\n",
              "      <td>4</td>\n",
              "      <td>3</td>\n",
              "    </tr>\n",
              "    <tr>\n",
              "      <th>86</th>\n",
              "      <td>3rd year</td>\n",
              "      <td>RAJIV</td>\n",
              "      <td>A-Block</td>\n",
              "      <td>2nd Floor</td>\n",
              "      <td>5</td>\n",
              "      <td>4</td>\n",
              "      <td>4</td>\n",
              "      <td>3</td>\n",
              "      <td>5</td>\n",
              "      <td>3</td>\n",
              "      <td>4</td>\n",
              "      <td>3</td>\n",
              "    </tr>\n",
              "    <tr>\n",
              "      <th>87</th>\n",
              "      <td>4th year</td>\n",
              "      <td>RAJIV</td>\n",
              "      <td>B-Block</td>\n",
              "      <td>4th Floor</td>\n",
              "      <td>4</td>\n",
              "      <td>3</td>\n",
              "      <td>4</td>\n",
              "      <td>4</td>\n",
              "      <td>4</td>\n",
              "      <td>4</td>\n",
              "      <td>4</td>\n",
              "      <td>3</td>\n",
              "    </tr>\n",
              "    <tr>\n",
              "      <th>88</th>\n",
              "      <td>4th year</td>\n",
              "      <td>RAJIV</td>\n",
              "      <td>B-Block</td>\n",
              "      <td>4th Floor</td>\n",
              "      <td>4</td>\n",
              "      <td>2</td>\n",
              "      <td>2</td>\n",
              "      <td>4</td>\n",
              "      <td>3</td>\n",
              "      <td>2</td>\n",
              "      <td>4</td>\n",
              "      <td>4</td>\n",
              "    </tr>\n",
              "    <tr>\n",
              "      <th>89</th>\n",
              "      <td>3rd year</td>\n",
              "      <td>RAJIV</td>\n",
              "      <td>A-Block</td>\n",
              "      <td>6th Floor</td>\n",
              "      <td>4</td>\n",
              "      <td>3</td>\n",
              "      <td>2</td>\n",
              "      <td>4</td>\n",
              "      <td>4</td>\n",
              "      <td>2</td>\n",
              "      <td>4</td>\n",
              "      <td>3</td>\n",
              "    </tr>\n",
              "  </tbody>\n",
              "</table>\n",
              "<p>90 rows × 12 columns</p>\n",
              "</div>"
            ],
            "text/plain": [
              "   Year of study(Current year)  ... Q8) Gym facilities and its maintenance (equipment's, overcrowding, cleanliness ..etc) ?\n",
              "0                     3rd year  ...                                                  3                                     \n",
              "1                     3rd year  ...                                                  4                                     \n",
              "2                     3rd year  ...                                                  1                                     \n",
              "3                     3rd year  ...                                                  3                                     \n",
              "4                     3rd year  ...                                                  4                                     \n",
              "..                         ...  ...                                                ...                                     \n",
              "85                    4th year  ...                                                  3                                     \n",
              "86                    3rd year  ...                                                  3                                     \n",
              "87                    4th year  ...                                                  3                                     \n",
              "88                    4th year  ...                                                  4                                     \n",
              "89                    3rd year  ...                                                  3                                     \n",
              "\n",
              "[90 rows x 12 columns]"
            ]
          },
          "metadata": {
            "tags": []
          },
          "execution_count": 10
        }
      ]
    },
    {
      "cell_type": "code",
      "metadata": {
        "colab": {
          "base_uri": "https://localhost:8080/"
        },
        "id": "QRlYJ5mtc8CY",
        "outputId": "30150a71-6de5-4889-a198-a12e9a3e0736"
      },
      "source": [
        "data1['Year of study(Current year)'].value_counts()"
      ],
      "execution_count": null,
      "outputs": [
        {
          "output_type": "execute_result",
          "data": {
            "text/plain": [
              "3rd year    64\n",
              "4th year    17\n",
              "2nd year     9\n",
              "Name: Year of study(Current year), dtype: int64"
            ]
          },
          "metadata": {
            "tags": []
          },
          "execution_count": 11
        }
      ]
    },
    {
      "cell_type": "code",
      "metadata": {
        "id": "iO1WlYXldFUJ"
      },
      "source": [
        "data['Year of study(Current year)'].replace('2nd year','4th year',inplace=True)"
      ],
      "execution_count": null,
      "outputs": []
    },
    {
      "cell_type": "code",
      "metadata": {
        "colab": {
          "base_uri": "https://localhost:8080/"
        },
        "id": "xQUDobZNdP2x",
        "outputId": "56df1a27-c4b3-4081-e05d-cdf223dca222"
      },
      "source": [
        "data['Year of study(Current year)'].value_counts()"
      ],
      "execution_count": null,
      "outputs": [
        {
          "output_type": "execute_result",
          "data": {
            "text/plain": [
              "3rd year    64\n",
              "4th year    26\n",
              "Name: Year of study(Current year), dtype: int64"
            ]
          },
          "metadata": {
            "tags": []
          },
          "execution_count": 5
        }
      ]
    },
    {
      "cell_type": "code",
      "metadata": {
        "colab": {
          "base_uri": "https://localhost:8080/"
        },
        "id": "P48sFU5ZEZWE",
        "outputId": "6da21876-e935-4a0e-a416-2390d688be37"
      },
      "source": [
        "data1['Bhawan(Hostel) you are residing.'].value_counts()"
      ],
      "execution_count": null,
      "outputs": [
        {
          "output_type": "execute_result",
          "data": {
            "text/plain": [
              "RAJIV       28\n",
              "GOVIND      11\n",
              "JAWAHAR     10\n",
              "KASTURBA     9\n",
              "RJB          5\n",
              "RKB          5\n",
              "Rajiv        5\n",
              "RAVINDRA     4\n",
              "SAROJNI      3\n",
              "Jawahar      1\n",
              "Name: Bhawan(Hostel) you are residing., dtype: int64"
            ]
          },
          "metadata": {
            "tags": []
          },
          "execution_count": 14
        }
      ]
    },
    {
      "cell_type": "code",
      "metadata": {
        "id": "KPVFE2p_E6b3"
      },
      "source": [
        "data['Bhawan(Hostel) you are residing.'].fillna(data['Bhawan(Hostel) you are residing.'].mode()[0],inplace=True)"
      ],
      "execution_count": null,
      "outputs": []
    },
    {
      "cell_type": "code",
      "metadata": {
        "id": "Xu1a_TL7I5oA"
      },
      "source": [
        "data['Bhawan(Hostel) you are residing.'].replace('Rajiv','RAJIV',inplace=True)\n",
        "data['Bhawan(Hostel) you are residing.'].replace('Jawahar','JAWAHAR',inplace=True)\n",
        "data['Bhawan(Hostel) you are residing.'].replace('GOVIND','RAJIV',inplace=True)\n",
        "data['Bhawan(Hostel) you are residing.'].replace('KASTURBA','RAJIV',inplace=True)\n",
        "data['Bhawan(Hostel) you are residing.'].replace('RKB','RAJIV',inplace=True)\n",
        "data['Bhawan(Hostel) you are residing.'].replace('RJB','RAJIV',inplace=True)\n",
        "data['Bhawan(Hostel) you are residing.'].replace('RAVINDRA','RAJIV',inplace=True)\n",
        "data['Bhawan(Hostel) you are residing.'].replace('SAROJNI','RAJIV',inplace=True)\n",
        "data['Bhawan(Hostel) you are residing.'].replace('JAWAHAR','RAJIV',inplace=True)"
      ],
      "execution_count": null,
      "outputs": []
    },
    {
      "cell_type": "code",
      "metadata": {
        "id": "_JNXksZrJOPJ",
        "colab": {
          "base_uri": "https://localhost:8080/"
        },
        "outputId": "4c8388a1-27f2-41a0-d05d-bc58d3018e5c"
      },
      "source": [
        "data['Bhawan(Hostel) you are residing.'].value_counts()"
      ],
      "execution_count": null,
      "outputs": [
        {
          "output_type": "execute_result",
          "data": {
            "text/plain": [
              "RAJIV    90\n",
              "Name: Bhawan(Hostel) you are residing., dtype: int64"
            ]
          },
          "metadata": {
            "tags": []
          },
          "execution_count": 9
        }
      ]
    },
    {
      "cell_type": "code",
      "metadata": {
        "colab": {
          "base_uri": "https://localhost:8080/"
        },
        "id": "d17cC85UIynD",
        "outputId": "a5a5f09e-cc85-42d2-969d-d0af71a70233"
      },
      "source": [
        "data1['Floor of your Room!'].value_counts()"
      ],
      "execution_count": null,
      "outputs": [
        {
          "output_type": "execute_result",
          "data": {
            "text/plain": [
              "1st Floor       27\n",
              "2nd Floor       17\n",
              "5th Floor       13\n",
              "Ground Floor    11\n",
              "3rd Floor       10\n",
              "6th Floor        6\n",
              "4th Floor        5\n",
              "7th Floor        1\n",
              "Name: Floor of your Room!, dtype: int64"
            ]
          },
          "metadata": {
            "tags": []
          },
          "execution_count": 25
        }
      ]
    },
    {
      "cell_type": "code",
      "metadata": {
        "id": "Qn_oHIfyJ7st"
      },
      "source": [
        "data['Floor of your Room!'].replace('7th Floor','4th Floor',inplace=True)"
      ],
      "execution_count": null,
      "outputs": []
    },
    {
      "cell_type": "code",
      "metadata": {
        "colab": {
          "base_uri": "https://localhost:8080/"
        },
        "id": "qb9-Ie_YKGIT",
        "outputId": "2850e4e1-f016-408f-924a-79637405824b"
      },
      "source": [
        "data['Floor of your Room!'].value_counts()"
      ],
      "execution_count": null,
      "outputs": [
        {
          "output_type": "execute_result",
          "data": {
            "text/plain": [
              "1st Floor       27\n",
              "2nd Floor       17\n",
              "5th Floor       13\n",
              "Ground Floor    11\n",
              "3rd Floor       10\n",
              "4th Floor        6\n",
              "6th Floor        6\n",
              "Name: Floor of your Room!, dtype: int64"
            ]
          },
          "metadata": {
            "tags": []
          },
          "execution_count": 11
        }
      ]
    },
    {
      "cell_type": "code",
      "metadata": {
        "colab": {
          "base_uri": "https://localhost:8080/"
        },
        "id": "pqrJg0trI9d8",
        "outputId": "a56c4b10-29dc-4921-d986-a9319b059fd5"
      },
      "source": [
        "data1['Which Block in Bhawan?'].value_counts()"
      ],
      "execution_count": null,
      "outputs": [
        {
          "output_type": "execute_result",
          "data": {
            "text/plain": [
              "A-Block    45\n",
              "B-Block    27\n",
              "C-Block     7\n",
              "F-Block     7\n",
              "D-Block     3\n",
              "E-Block     1\n",
              "Name: Which Block in Bhawan?, dtype: int64"
            ]
          },
          "metadata": {
            "tags": []
          },
          "execution_count": 28
        }
      ]
    },
    {
      "cell_type": "code",
      "metadata": {
        "id": "m0aRczd9JY4L"
      },
      "source": [
        "data['Which Block in Bhawan?'].replace('E-Block','A-Block',inplace=True)\n",
        "data['Which Block in Bhawan?'].replace('D-Block','A-Block',inplace=True)\n",
        "data['Which Block in Bhawan?'].replace('F-Block','B-Block',inplace=True)\n",
        "data['Which Block in Bhawan?'].replace('C-Block','B-Block',inplace=True)"
      ],
      "execution_count": null,
      "outputs": []
    },
    {
      "cell_type": "code",
      "metadata": {
        "colab": {
          "base_uri": "https://localhost:8080/"
        },
        "id": "Pd369DpoJ39L",
        "outputId": "336b877a-4960-4dfe-8c2e-0a5674588975"
      },
      "source": [
        "data['Which Block in Bhawan?'].value_counts()"
      ],
      "execution_count": null,
      "outputs": [
        {
          "output_type": "execute_result",
          "data": {
            "text/plain": [
              "A-Block    49\n",
              "B-Block    41\n",
              "Name: Which Block in Bhawan?, dtype: int64"
            ]
          },
          "metadata": {
            "tags": []
          },
          "execution_count": 13
        }
      ]
    },
    {
      "cell_type": "code",
      "metadata": {
        "id": "L0H4Tb8tc-JZ"
      },
      "source": [
        "data=data.drop([\"Q8) Gym facilities and its maintenance (equipment's, overcrowding, cleanliness ..etc) ?\"],axis=1)"
      ],
      "execution_count": null,
      "outputs": []
    },
    {
      "cell_type": "code",
      "metadata": {
        "colab": {
          "base_uri": "https://localhost:8080/",
          "height": 731
        },
        "id": "o_Uz3_3cfghA",
        "outputId": "1eeaa7f1-b1cc-4f8d-986d-4f1fb598ef93"
      },
      "source": [
        "data.sample(5)"
      ],
      "execution_count": null,
      "outputs": [
        {
          "output_type": "execute_result",
          "data": {
            "text/html": [
              "<div>\n",
              "<style scoped>\n",
              "    .dataframe tbody tr th:only-of-type {\n",
              "        vertical-align: middle;\n",
              "    }\n",
              "\n",
              "    .dataframe tbody tr th {\n",
              "        vertical-align: top;\n",
              "    }\n",
              "\n",
              "    .dataframe thead th {\n",
              "        text-align: right;\n",
              "    }\n",
              "</style>\n",
              "<table border=\"1\" class=\"dataframe\">\n",
              "  <thead>\n",
              "    <tr style=\"text-align: right;\">\n",
              "      <th></th>\n",
              "      <th>Year of study(Current year)</th>\n",
              "      <th>Bhawan(Hostel) you are residing.</th>\n",
              "      <th>Which Block in Bhawan?</th>\n",
              "      <th>Floor of your Room!</th>\n",
              "      <th>Q1) Overall maintenance service of your Bhawan?</th>\n",
              "      <th>Q2) Maintenance services of bathrooms and washbasins. (Daily cleaning, handwash &amp; water availability etc.)</th>\n",
              "      <th>Q3) Drinking water quality (cooler and water filter maintenance)?</th>\n",
              "      <th>Q4) Response time taken for any electrical or furniture's related complains.</th>\n",
              "      <th>Q5) Lift and corridor’s maintenance (cleanliness, lighting...etc.).</th>\n",
              "      <th>Q6) Bicycle Parking facilities (like availability of proper shade, its maintenance, CCTV ...etc.)?</th>\n",
              "      <th>Q7) Maintenance service of Bhawan laundry (Clothes washing time, cleanliness, quality of clothes washing...etc)</th>\n",
              "      <th>Problems:</th>\n",
              "      <th>General Causes:</th>\n",
              "      <th>Any other problems faced along with the causes(if you know).</th>\n",
              "    </tr>\n",
              "  </thead>\n",
              "  <tbody>\n",
              "    <tr>\n",
              "      <th>12</th>\n",
              "      <td>3rd year</td>\n",
              "      <td>RAJIV</td>\n",
              "      <td>A-Block</td>\n",
              "      <td>4th Floor</td>\n",
              "      <td>5</td>\n",
              "      <td>4</td>\n",
              "      <td>4</td>\n",
              "      <td>1</td>\n",
              "      <td>5</td>\n",
              "      <td>4</td>\n",
              "      <td>5</td>\n",
              "      <td>1. Large response time after registering compl...</td>\n",
              "      <td>2. No supervision of workers., 4. Lack of moti...</td>\n",
              "      <td>NaN</td>\n",
              "    </tr>\n",
              "    <tr>\n",
              "      <th>63</th>\n",
              "      <td>4th year</td>\n",
              "      <td>RAJIV</td>\n",
              "      <td>A-Block</td>\n",
              "      <td>3rd Floor</td>\n",
              "      <td>4</td>\n",
              "      <td>4</td>\n",
              "      <td>2</td>\n",
              "      <td>2</td>\n",
              "      <td>3</td>\n",
              "      <td>3</td>\n",
              "      <td>4</td>\n",
              "      <td>1. Large response time after registering compl...</td>\n",
              "      <td>1. Poor management system., 2. No supervision ...</td>\n",
              "      <td>NaN</td>\n",
              "    </tr>\n",
              "    <tr>\n",
              "      <th>35</th>\n",
              "      <td>3rd year</td>\n",
              "      <td>RAJIV</td>\n",
              "      <td>B-Block</td>\n",
              "      <td>1st Floor</td>\n",
              "      <td>1</td>\n",
              "      <td>1</td>\n",
              "      <td>1</td>\n",
              "      <td>1</td>\n",
              "      <td>1</td>\n",
              "      <td>1</td>\n",
              "      <td>2</td>\n",
              "      <td>1. Large response time after registering compl...</td>\n",
              "      <td>1. Poor management system., 2. No supervision ...</td>\n",
              "      <td>NaN</td>\n",
              "    </tr>\n",
              "    <tr>\n",
              "      <th>81</th>\n",
              "      <td>3rd year</td>\n",
              "      <td>RAJIV</td>\n",
              "      <td>A-Block</td>\n",
              "      <td>Ground Floor</td>\n",
              "      <td>2</td>\n",
              "      <td>2</td>\n",
              "      <td>4</td>\n",
              "      <td>5</td>\n",
              "      <td>2</td>\n",
              "      <td>2</td>\n",
              "      <td>4</td>\n",
              "      <td>2. No regular cleanliness of Bathrooms., 3. De...</td>\n",
              "      <td>1. Poor management system., 4. Lack of motivat...</td>\n",
              "      <td>NaN</td>\n",
              "    </tr>\n",
              "    <tr>\n",
              "      <th>31</th>\n",
              "      <td>3rd year</td>\n",
              "      <td>RAJIV</td>\n",
              "      <td>A-Block</td>\n",
              "      <td>5th Floor</td>\n",
              "      <td>4</td>\n",
              "      <td>2</td>\n",
              "      <td>3</td>\n",
              "      <td>5</td>\n",
              "      <td>4</td>\n",
              "      <td>4</td>\n",
              "      <td>4</td>\n",
              "      <td>2. No regular cleanliness of Bathrooms., 3. De...</td>\n",
              "      <td>1. Poor management system., 2. No supervision ...</td>\n",
              "      <td>NaN</td>\n",
              "    </tr>\n",
              "  </tbody>\n",
              "</table>\n",
              "</div>"
            ],
            "text/plain": [
              "   Year of study(Current year)  ... Any other problems faced along with the causes(if you know).\n",
              "12                    3rd year  ...                                                NaN          \n",
              "63                    4th year  ...                                                NaN          \n",
              "35                    3rd year  ...                                                NaN          \n",
              "81                    3rd year  ...                                                NaN          \n",
              "31                    3rd year  ...                                                NaN          \n",
              "\n",
              "[5 rows x 14 columns]"
            ]
          },
          "metadata": {
            "tags": []
          },
          "execution_count": 22
        }
      ]
    },
    {
      "cell_type": "code",
      "metadata": {
        "id": "J5UtPv7VgPHg"
      },
      "source": [
        "data1=data1.iloc[:,0:11]"
      ],
      "execution_count": null,
      "outputs": []
    },
    {
      "cell_type": "code",
      "metadata": {
        "colab": {
          "base_uri": "https://localhost:8080/",
          "height": 670
        },
        "id": "ZzELf-eZg3Pg",
        "outputId": "f67a295f-8452-489e-a475-099c9f6e4902"
      },
      "source": [
        "data1"
      ],
      "execution_count": null,
      "outputs": [
        {
          "output_type": "execute_result",
          "data": {
            "text/html": [
              "<div>\n",
              "<style scoped>\n",
              "    .dataframe tbody tr th:only-of-type {\n",
              "        vertical-align: middle;\n",
              "    }\n",
              "\n",
              "    .dataframe tbody tr th {\n",
              "        vertical-align: top;\n",
              "    }\n",
              "\n",
              "    .dataframe thead th {\n",
              "        text-align: right;\n",
              "    }\n",
              "</style>\n",
              "<table border=\"1\" class=\"dataframe\">\n",
              "  <thead>\n",
              "    <tr style=\"text-align: right;\">\n",
              "      <th></th>\n",
              "      <th>Year of study(Current year)</th>\n",
              "      <th>Bhawan(Hostel) you are residing.</th>\n",
              "      <th>Which Block in Bhawan?</th>\n",
              "      <th>Floor of your Room!</th>\n",
              "      <th>Q1) Overall maintenance service of your Bhawan?</th>\n",
              "      <th>Q2) Maintenance services of bathrooms and washbasins. (Daily cleaning, handwash &amp; water availability etc.)</th>\n",
              "      <th>Q3) Drinking water quality (cooler and water filter maintenance)?</th>\n",
              "      <th>Q4) Response time taken for any electrical or furniture's related complains.</th>\n",
              "      <th>Q5) Lift and corridor’s maintenance (cleanliness, lighting...etc.).</th>\n",
              "      <th>Q6) Bicycle Parking facilities (like availability of proper shade, its maintenance, CCTV ...etc.)?</th>\n",
              "      <th>Q7) Maintenance service of Bhawan laundry (Clothes washing time, cleanliness, quality of clothes washing...etc)</th>\n",
              "    </tr>\n",
              "  </thead>\n",
              "  <tbody>\n",
              "    <tr>\n",
              "      <th>0</th>\n",
              "      <td>3rd year</td>\n",
              "      <td>RAJIV</td>\n",
              "      <td>A-Block</td>\n",
              "      <td>5th Floor</td>\n",
              "      <td>3</td>\n",
              "      <td>3</td>\n",
              "      <td>3</td>\n",
              "      <td>4</td>\n",
              "      <td>3</td>\n",
              "      <td>2</td>\n",
              "      <td>3</td>\n",
              "    </tr>\n",
              "    <tr>\n",
              "      <th>1</th>\n",
              "      <td>3rd year</td>\n",
              "      <td>RAJIV</td>\n",
              "      <td>A-Block</td>\n",
              "      <td>5th Floor</td>\n",
              "      <td>4</td>\n",
              "      <td>3</td>\n",
              "      <td>3</td>\n",
              "      <td>4</td>\n",
              "      <td>4</td>\n",
              "      <td>2</td>\n",
              "      <td>3</td>\n",
              "    </tr>\n",
              "    <tr>\n",
              "      <th>2</th>\n",
              "      <td>3rd year</td>\n",
              "      <td>RAJIV</td>\n",
              "      <td>B-Block</td>\n",
              "      <td>1st Floor</td>\n",
              "      <td>3</td>\n",
              "      <td>2</td>\n",
              "      <td>1</td>\n",
              "      <td>4</td>\n",
              "      <td>3</td>\n",
              "      <td>1</td>\n",
              "      <td>3</td>\n",
              "    </tr>\n",
              "    <tr>\n",
              "      <th>3</th>\n",
              "      <td>3rd year</td>\n",
              "      <td>RAJIV</td>\n",
              "      <td>A-Block</td>\n",
              "      <td>5th Floor</td>\n",
              "      <td>4</td>\n",
              "      <td>2</td>\n",
              "      <td>3</td>\n",
              "      <td>3</td>\n",
              "      <td>4</td>\n",
              "      <td>2</td>\n",
              "      <td>3</td>\n",
              "    </tr>\n",
              "    <tr>\n",
              "      <th>4</th>\n",
              "      <td>3rd year</td>\n",
              "      <td>RAJIV</td>\n",
              "      <td>B-Block</td>\n",
              "      <td>1st Floor</td>\n",
              "      <td>4</td>\n",
              "      <td>3</td>\n",
              "      <td>3</td>\n",
              "      <td>1</td>\n",
              "      <td>4</td>\n",
              "      <td>3</td>\n",
              "      <td>4</td>\n",
              "    </tr>\n",
              "    <tr>\n",
              "      <th>...</th>\n",
              "      <td>...</td>\n",
              "      <td>...</td>\n",
              "      <td>...</td>\n",
              "      <td>...</td>\n",
              "      <td>...</td>\n",
              "      <td>...</td>\n",
              "      <td>...</td>\n",
              "      <td>...</td>\n",
              "      <td>...</td>\n",
              "      <td>...</td>\n",
              "      <td>...</td>\n",
              "    </tr>\n",
              "    <tr>\n",
              "      <th>85</th>\n",
              "      <td>4th year</td>\n",
              "      <td>RAJIV</td>\n",
              "      <td>B-Block</td>\n",
              "      <td>6th Floor</td>\n",
              "      <td>4</td>\n",
              "      <td>3</td>\n",
              "      <td>4</td>\n",
              "      <td>3</td>\n",
              "      <td>4</td>\n",
              "      <td>3</td>\n",
              "      <td>4</td>\n",
              "    </tr>\n",
              "    <tr>\n",
              "      <th>86</th>\n",
              "      <td>3rd year</td>\n",
              "      <td>RAJIV</td>\n",
              "      <td>A-Block</td>\n",
              "      <td>2nd Floor</td>\n",
              "      <td>5</td>\n",
              "      <td>4</td>\n",
              "      <td>4</td>\n",
              "      <td>3</td>\n",
              "      <td>5</td>\n",
              "      <td>3</td>\n",
              "      <td>4</td>\n",
              "    </tr>\n",
              "    <tr>\n",
              "      <th>87</th>\n",
              "      <td>4th year</td>\n",
              "      <td>RAJIV</td>\n",
              "      <td>B-Block</td>\n",
              "      <td>4th Floor</td>\n",
              "      <td>4</td>\n",
              "      <td>3</td>\n",
              "      <td>4</td>\n",
              "      <td>4</td>\n",
              "      <td>4</td>\n",
              "      <td>4</td>\n",
              "      <td>4</td>\n",
              "    </tr>\n",
              "    <tr>\n",
              "      <th>88</th>\n",
              "      <td>4th year</td>\n",
              "      <td>RAJIV</td>\n",
              "      <td>B-Block</td>\n",
              "      <td>4th Floor</td>\n",
              "      <td>4</td>\n",
              "      <td>2</td>\n",
              "      <td>2</td>\n",
              "      <td>4</td>\n",
              "      <td>3</td>\n",
              "      <td>2</td>\n",
              "      <td>4</td>\n",
              "    </tr>\n",
              "    <tr>\n",
              "      <th>89</th>\n",
              "      <td>3rd year</td>\n",
              "      <td>RAJIV</td>\n",
              "      <td>A-Block</td>\n",
              "      <td>6th Floor</td>\n",
              "      <td>4</td>\n",
              "      <td>3</td>\n",
              "      <td>2</td>\n",
              "      <td>4</td>\n",
              "      <td>4</td>\n",
              "      <td>2</td>\n",
              "      <td>4</td>\n",
              "    </tr>\n",
              "  </tbody>\n",
              "</table>\n",
              "<p>90 rows × 11 columns</p>\n",
              "</div>"
            ],
            "text/plain": [
              "   Year of study(Current year)  ... Q7) Maintenance service of Bhawan laundry (Clothes washing time, cleanliness, quality of clothes washing...etc)\n",
              "0                     3rd year  ...                                                  3                                                             \n",
              "1                     3rd year  ...                                                  3                                                             \n",
              "2                     3rd year  ...                                                  3                                                             \n",
              "3                     3rd year  ...                                                  3                                                             \n",
              "4                     3rd year  ...                                                  4                                                             \n",
              "..                         ...  ...                                                ...                                                             \n",
              "85                    4th year  ...                                                  4                                                             \n",
              "86                    3rd year  ...                                                  4                                                             \n",
              "87                    4th year  ...                                                  4                                                             \n",
              "88                    4th year  ...                                                  4                                                             \n",
              "89                    3rd year  ...                                                  4                                                             \n",
              "\n",
              "[90 rows x 11 columns]"
            ]
          },
          "metadata": {
            "tags": []
          },
          "execution_count": 36
        }
      ]
    },
    {
      "cell_type": "code",
      "metadata": {
        "colab": {
          "base_uri": "https://localhost:8080/",
          "height": 351
        },
        "id": "XDEGgt0lhFLw",
        "outputId": "ef1dd232-33e3-4ee9-e8c6-7d4afe68eeaf"
      },
      "source": [
        "data1.describe().round(3)"
      ],
      "execution_count": null,
      "outputs": [
        {
          "output_type": "execute_result",
          "data": {
            "text/html": [
              "<div>\n",
              "<style scoped>\n",
              "    .dataframe tbody tr th:only-of-type {\n",
              "        vertical-align: middle;\n",
              "    }\n",
              "\n",
              "    .dataframe tbody tr th {\n",
              "        vertical-align: top;\n",
              "    }\n",
              "\n",
              "    .dataframe thead th {\n",
              "        text-align: right;\n",
              "    }\n",
              "</style>\n",
              "<table border=\"1\" class=\"dataframe\">\n",
              "  <thead>\n",
              "    <tr style=\"text-align: right;\">\n",
              "      <th></th>\n",
              "      <th>Q1) Overall maintenance service of your Bhawan?</th>\n",
              "      <th>Q2) Maintenance services of bathrooms and washbasins. (Daily cleaning, handwash &amp; water availability etc.)</th>\n",
              "      <th>Q3) Drinking water quality (cooler and water filter maintenance)?</th>\n",
              "      <th>Q4) Response time taken for any electrical or furniture's related complains.</th>\n",
              "      <th>Q5) Lift and corridor’s maintenance (cleanliness, lighting...etc.).</th>\n",
              "      <th>Q6) Bicycle Parking facilities (like availability of proper shade, its maintenance, CCTV ...etc.)?</th>\n",
              "      <th>Q7) Maintenance service of Bhawan laundry (Clothes washing time, cleanliness, quality of clothes washing...etc)</th>\n",
              "    </tr>\n",
              "  </thead>\n",
              "  <tbody>\n",
              "    <tr>\n",
              "      <th>count</th>\n",
              "      <td>90.000</td>\n",
              "      <td>90.000</td>\n",
              "      <td>90.000</td>\n",
              "      <td>90.000</td>\n",
              "      <td>90.00</td>\n",
              "      <td>90.000</td>\n",
              "      <td>90.000</td>\n",
              "    </tr>\n",
              "    <tr>\n",
              "      <th>mean</th>\n",
              "      <td>3.444</td>\n",
              "      <td>3.089</td>\n",
              "      <td>3.122</td>\n",
              "      <td>3.389</td>\n",
              "      <td>3.40</td>\n",
              "      <td>2.811</td>\n",
              "      <td>3.411</td>\n",
              "    </tr>\n",
              "    <tr>\n",
              "      <th>std</th>\n",
              "      <td>1.092</td>\n",
              "      <td>1.128</td>\n",
              "      <td>1.026</td>\n",
              "      <td>1.139</td>\n",
              "      <td>1.14</td>\n",
              "      <td>1.150</td>\n",
              "      <td>1.027</td>\n",
              "    </tr>\n",
              "    <tr>\n",
              "      <th>min</th>\n",
              "      <td>1.000</td>\n",
              "      <td>1.000</td>\n",
              "      <td>1.000</td>\n",
              "      <td>1.000</td>\n",
              "      <td>1.00</td>\n",
              "      <td>1.000</td>\n",
              "      <td>1.000</td>\n",
              "    </tr>\n",
              "    <tr>\n",
              "      <th>25%</th>\n",
              "      <td>3.000</td>\n",
              "      <td>2.000</td>\n",
              "      <td>2.250</td>\n",
              "      <td>3.000</td>\n",
              "      <td>3.00</td>\n",
              "      <td>2.000</td>\n",
              "      <td>3.000</td>\n",
              "    </tr>\n",
              "    <tr>\n",
              "      <th>50%</th>\n",
              "      <td>4.000</td>\n",
              "      <td>3.000</td>\n",
              "      <td>3.000</td>\n",
              "      <td>4.000</td>\n",
              "      <td>3.50</td>\n",
              "      <td>3.000</td>\n",
              "      <td>4.000</td>\n",
              "    </tr>\n",
              "    <tr>\n",
              "      <th>75%</th>\n",
              "      <td>4.000</td>\n",
              "      <td>4.000</td>\n",
              "      <td>4.000</td>\n",
              "      <td>4.000</td>\n",
              "      <td>4.00</td>\n",
              "      <td>4.000</td>\n",
              "      <td>4.000</td>\n",
              "    </tr>\n",
              "    <tr>\n",
              "      <th>max</th>\n",
              "      <td>5.000</td>\n",
              "      <td>5.000</td>\n",
              "      <td>5.000</td>\n",
              "      <td>5.000</td>\n",
              "      <td>5.00</td>\n",
              "      <td>5.000</td>\n",
              "      <td>5.000</td>\n",
              "    </tr>\n",
              "  </tbody>\n",
              "</table>\n",
              "</div>"
            ],
            "text/plain": [
              "       Q1) Overall maintenance service of your Bhawan?  ...  Q7) Maintenance service of Bhawan laundry (Clothes washing time, cleanliness, quality of clothes washing...etc)\n",
              "count                                           90.000  ...                                             90.000                                                              \n",
              "mean                                             3.444  ...                                              3.411                                                              \n",
              "std                                              1.092  ...                                              1.027                                                              \n",
              "min                                              1.000  ...                                              1.000                                                              \n",
              "25%                                              3.000  ...                                              3.000                                                              \n",
              "50%                                              4.000  ...                                              4.000                                                              \n",
              "75%                                              4.000  ...                                              4.000                                                              \n",
              "max                                              5.000  ...                                              5.000                                                              \n",
              "\n",
              "[8 rows x 7 columns]"
            ]
          },
          "metadata": {
            "tags": []
          },
          "execution_count": 40
        }
      ]
    },
    {
      "cell_type": "code",
      "metadata": {
        "id": "sxwBiXlvtd6P"
      },
      "source": [
        "Ques=['Overall maintenance service of your Bhawan?','Maintenance services of bathrooms and washbasins. (Daily cleaning, handwash & water availability etc.)',\n",
        "      'Drinking water quality (cooler and water filter maintenance)?',\n",
        "      'Response time taken for any electrical or furnitures related complains.',\n",
        "      'Lift and corridor’s maintenance (cleanliness, lighting...etc.).',\n",
        "      'Bicycle Parking facilities (like availability of proper shade, its maintenance, CCTV ...etc.)?',\n",
        "      'Maintenance service of Bhawan laundry (Clothes washing time, cleanliness, quality of clothes washing...etc)'\n",
        "      \n",
        "      ]"
      ],
      "execution_count": null,
      "outputs": []
    },
    {
      "cell_type": "code",
      "metadata": {
        "id": "c8B0KFikt-Kf"
      },
      "source": [
        "Mean=[3.444\t,3.089,\t3.122\t,3.389,\t3.40,\t2.811,\t3.411]"
      ],
      "execution_count": null,
      "outputs": []
    },
    {
      "cell_type": "code",
      "metadata": {
        "id": "yR_VKqqauGdW"
      },
      "source": [
        "std=[1.092,\t1.128,\t1.026,\t1.139,\t1.14,\t1.150\t,1.027]"
      ],
      "execution_count": null,
      "outputs": []
    },
    {
      "cell_type": "code",
      "metadata": {
        "id": "k7ybC7yvuOMO"
      },
      "source": [
        "Rating_Obser=pd.DataFrame({'Questions':Ques,'Mean':Mean,'Std_dev':std})"
      ],
      "execution_count": null,
      "outputs": []
    },
    {
      "cell_type": "code",
      "metadata": {
        "colab": {
          "base_uri": "https://localhost:8080/",
          "height": 254
        },
        "id": "8bD-aSJmuffm",
        "outputId": "88a7180b-09d7-429a-e0be-da607cf4796a"
      },
      "source": [
        "Rating_Obser.sort_values(by='Mean',ascending=True)"
      ],
      "execution_count": null,
      "outputs": [
        {
          "output_type": "execute_result",
          "data": {
            "text/html": [
              "<div>\n",
              "<style scoped>\n",
              "    .dataframe tbody tr th:only-of-type {\n",
              "        vertical-align: middle;\n",
              "    }\n",
              "\n",
              "    .dataframe tbody tr th {\n",
              "        vertical-align: top;\n",
              "    }\n",
              "\n",
              "    .dataframe thead th {\n",
              "        text-align: right;\n",
              "    }\n",
              "</style>\n",
              "<table border=\"1\" class=\"dataframe\">\n",
              "  <thead>\n",
              "    <tr style=\"text-align: right;\">\n",
              "      <th></th>\n",
              "      <th>Questions</th>\n",
              "      <th>Mean</th>\n",
              "      <th>Std_dev</th>\n",
              "    </tr>\n",
              "  </thead>\n",
              "  <tbody>\n",
              "    <tr>\n",
              "      <th>5</th>\n",
              "      <td>Bicycle Parking facilities (like availability ...</td>\n",
              "      <td>2.811</td>\n",
              "      <td>1.150</td>\n",
              "    </tr>\n",
              "    <tr>\n",
              "      <th>1</th>\n",
              "      <td>Maintenance services of bathrooms and washbasi...</td>\n",
              "      <td>3.089</td>\n",
              "      <td>1.128</td>\n",
              "    </tr>\n",
              "    <tr>\n",
              "      <th>2</th>\n",
              "      <td>Drinking water quality (cooler and water filte...</td>\n",
              "      <td>3.122</td>\n",
              "      <td>1.026</td>\n",
              "    </tr>\n",
              "    <tr>\n",
              "      <th>3</th>\n",
              "      <td>Response time taken for any electrical or furn...</td>\n",
              "      <td>3.389</td>\n",
              "      <td>1.139</td>\n",
              "    </tr>\n",
              "    <tr>\n",
              "      <th>4</th>\n",
              "      <td>Lift and corridor’s maintenance (cleanliness, ...</td>\n",
              "      <td>3.400</td>\n",
              "      <td>1.140</td>\n",
              "    </tr>\n",
              "    <tr>\n",
              "      <th>6</th>\n",
              "      <td>Maintenance service of Bhawan laundry (Clothes...</td>\n",
              "      <td>3.411</td>\n",
              "      <td>1.027</td>\n",
              "    </tr>\n",
              "    <tr>\n",
              "      <th>0</th>\n",
              "      <td>Overall maintenance service of your Bhawan?</td>\n",
              "      <td>3.444</td>\n",
              "      <td>1.092</td>\n",
              "    </tr>\n",
              "  </tbody>\n",
              "</table>\n",
              "</div>"
            ],
            "text/plain": [
              "                                           Questions   Mean  Std_dev\n",
              "5  Bicycle Parking facilities (like availability ...  2.811    1.150\n",
              "1  Maintenance services of bathrooms and washbasi...  3.089    1.128\n",
              "2  Drinking water quality (cooler and water filte...  3.122    1.026\n",
              "3  Response time taken for any electrical or furn...  3.389    1.139\n",
              "4  Lift and corridor’s maintenance (cleanliness, ...  3.400    1.140\n",
              "6  Maintenance service of Bhawan laundry (Clothes...  3.411    1.027\n",
              "0        Overall maintenance service of your Bhawan?  3.444    1.092"
            ]
          },
          "metadata": {
            "tags": []
          },
          "execution_count": 78
        }
      ]
    },
    {
      "cell_type": "code",
      "metadata": {
        "colab": {
          "base_uri": "https://localhost:8080/",
          "height": 450
        },
        "id": "edWh5oUofTXo",
        "outputId": "e5a68794-9fcc-48dc-8b66-a614794ffeba"
      },
      "source": [
        "sns.distplot(data1['Q2) Maintenance services of bathrooms and washbasins. (Daily cleaning, handwash & water availability etc.)'],hist=False)\n",
        "plt.xticks(np.arange(0,6))"
      ],
      "execution_count": null,
      "outputs": [
        {
          "output_type": "stream",
          "text": [
            "/usr/local/lib/python3.7/dist-packages/seaborn/distributions.py:2557: FutureWarning: `distplot` is a deprecated function and will be removed in a future version. Please adapt your code to use either `displot` (a figure-level function with similar flexibility) or `kdeplot` (an axes-level function for kernel density plots).\n",
            "  warnings.warn(msg, FutureWarning)\n"
          ],
          "name": "stderr"
        },
        {
          "output_type": "execute_result",
          "data": {
            "text/plain": [
              "([<matplotlib.axis.XTick at 0x7f78154c4b10>,\n",
              "  <matplotlib.axis.XTick at 0x7f78154c4cd0>,\n",
              "  <matplotlib.axis.XTick at 0x7f78124ab4d0>,\n",
              "  <matplotlib.axis.XTick at 0x7f781326f5d0>,\n",
              "  <matplotlib.axis.XTick at 0x7f7812f85990>,\n",
              "  <matplotlib.axis.XTick at 0x7f7812463890>],\n",
              " <a list of 6 Text major ticklabel objects>)"
            ]
          },
          "metadata": {
            "tags": []
          },
          "execution_count": 136
        },
        {
          "output_type": "display_data",
          "data": {
            "image/png": "[encoded data removed]",
            "text/plain": [
              "<Figure size 432x288 with 1 Axes>"
            ]
          },
          "metadata": {
            "tags": [],
            "needs_background": "light"
          }
        }
      ]
    },
    {
      "cell_type": "code",
      "metadata": {
        "colab": {
          "base_uri": "https://localhost:8080/",
          "height": 450
        },
        "id": "0r8I27daF2eD",
        "outputId": "4e677c89-b612-48aa-8244-62c23d48ecc4"
      },
      "source": [
        "sns.distplot(data1['Q5) Lift and corridor’s maintenance (cleanliness, lighting...etc.).'],hist=False,color='r')\n",
        "plt.xticks(np.arange(0,6))"
      ],
      "execution_count": null,
      "outputs": [
        {
          "output_type": "stream",
          "text": [
            "/usr/local/lib/python3.7/dist-packages/seaborn/distributions.py:2557: FutureWarning: `distplot` is a deprecated function and will be removed in a future version. Please adapt your code to use either `displot` (a figure-level function with similar flexibility) or `kdeplot` (an axes-level function for kernel density plots).\n",
            "  warnings.warn(msg, FutureWarning)\n"
          ],
          "name": "stderr"
        },
        {
          "output_type": "execute_result",
          "data": {
            "text/plain": [
              "([<matplotlib.axis.XTick at 0x7f7812d7d3d0>,\n",
              "  <matplotlib.axis.XTick at 0x7f7812d7d1d0>,\n",
              "  <matplotlib.axis.XTick at 0x7f78133a0390>,\n",
              "  <matplotlib.axis.XTick at 0x7f78127469d0>,\n",
              "  <matplotlib.axis.XTick at 0x7f7812d97c10>,\n",
              "  <matplotlib.axis.XTick at 0x7f78127d66d0>],\n",
              " <a list of 6 Text major ticklabel objects>)"
            ]
          },
          "metadata": {
            "tags": []
          },
          "execution_count": 137
        },
        {
          "output_type": "display_data",
          "data": {
            "image/png": "[encoded data removed]",
            "text/plain": [
              "<Figure size 432x288 with 1 Axes>"
            ]
          },
          "metadata": {
            "tags": [],
            "needs_background": "light"
          }
        }
      ]
    },
    {
      "cell_type": "code",
      "metadata": {
        "colab": {
          "base_uri": "https://localhost:8080/",
          "height": 450
        },
        "id": "Cm4I-DSyGa8C",
        "outputId": "0a02d3a2-f5d4-46ec-8456-6b7ea51fbc2d"
      },
      "source": [
        "sns.distplot(data1['Q3) Drinking water quality (cooler and water filter maintenance)?'],hist=False,color='g')\n",
        "plt.xticks(np.arange(0,6))"
      ],
      "execution_count": null,
      "outputs": [
        {
          "output_type": "stream",
          "text": [
            "/usr/local/lib/python3.7/dist-packages/seaborn/distributions.py:2557: FutureWarning: `distplot` is a deprecated function and will be removed in a future version. Please adapt your code to use either `displot` (a figure-level function with similar flexibility) or `kdeplot` (an axes-level function for kernel density plots).\n",
            "  warnings.warn(msg, FutureWarning)\n"
          ],
          "name": "stderr"
        },
        {
          "output_type": "execute_result",
          "data": {
            "text/plain": [
              "([<matplotlib.axis.XTick at 0x7f781128f6d0>,\n",
              "  <matplotlib.axis.XTick at 0x7f781128f910>,\n",
              "  <matplotlib.axis.XTick at 0x7f78114e9f10>,\n",
              "  <matplotlib.axis.XTick at 0x7f7811519f90>,\n",
              "  <matplotlib.axis.XTick at 0x7f7811519dd0>,\n",
              "  <matplotlib.axis.XTick at 0x7f7811519a10>],\n",
              " <a list of 6 Text major ticklabel objects>)"
            ]
          },
          "metadata": {
            "tags": []
          },
          "execution_count": 197
        },
        {
          "output_type": "display_data",
          "data": {
            "image/png": "[encoded data removed]",
            "text/plain": [
              "<Figure size 432x288 with 1 Axes>"
            ]
          },
          "metadata": {
            "tags": [],
            "needs_background": "light"
          }
        }
      ]
    },
    {
      "cell_type": "code",
      "metadata": {
        "colab": {
          "base_uri": "https://localhost:8080/",
          "height": 279
        },
        "id": "IFQBlEJEIpor",
        "outputId": "29541a88-fe30-4787-de51-15d30ee7606e"
      },
      "source": [
        "plt.hist(data['Q1) Overall maintenance service of your Bhawan?'],bins=5,align='mid')\n",
        "plt.xticks(np.arange(1,6))\n",
        "plt.xlabel('Overall maintenance service of your Bhawan')\n",
        "plt.ylabel('Frequency')\n",
        "plt.grid()\n",
        "plt.show()"
      ],
      "execution_count": null,
      "outputs": [
        {
          "output_type": "display_data",
          "data": {
            "image/png": "[encoded data removed]",
            "text/plain": [
              "<Figure size 432x288 with 1 Axes>"
            ]
          },
          "metadata": {
            "tags": [],
            "needs_background": "light"
          }
        }
      ]
    },
    {
      "cell_type": "code",
      "metadata": {
        "colab": {
          "base_uri": "https://localhost:8080/",
          "height": 279
        },
        "id": "OaPqbk9nKZNF",
        "outputId": "d97a5e9e-6b3a-41eb-e561-6db1a716d9bb"
      },
      "source": [
        "plt.hist(data1['Q7) Maintenance service of Bhawan laundry (Clothes washing time, cleanliness, quality of clothes washing...etc)'],bins=5,align='mid')\n",
        "plt.xticks(np.arange(1,6))\n",
        "plt.xlabel(' Maintenance service of Bhawan laundry (Clothes washing time, cleanliness, quality of clothes washing...etc)')\n",
        "plt.ylabel('Frequency')\n",
        "plt.grid()\n",
        "plt.show()"
      ],
      "execution_count": null,
      "outputs": [
        {
          "output_type": "display_data",
          "data": {
            "image/png": "[encoded data removed]",
            "text/plain": [
              "<Figure size 432x288 with 1 Axes>"
            ]
          },
          "metadata": {
            "tags": [],
            "needs_background": "light"
          }
        }
      ]
    },
    {
      "cell_type": "code",
      "metadata": {
        "colab": {
          "base_uri": "https://localhost:8080/",
          "height": 279
        },
        "id": "Q-FGYNqvK2t8",
        "outputId": "f8804c74-fad2-4211-e66a-64a8aec90389"
      },
      "source": [
        "\n",
        "plt.hist(data1['Q6) Bicycle Parking facilities (like availability of proper shade, its maintenance, CCTV ...etc.)?'],bins=5,align='mid')\n",
        "plt.xticks(np.arange(1,6))\n",
        "plt.xlabel('Bicycle Parking facilities (like availability of proper shade, its maintenance, CCTV ...etc.)')\n",
        "plt.ylabel('Frequency')\n",
        "plt.grid()\n",
        "plt.show()"
      ],
      "execution_count": null,
      "outputs": [
        {
          "output_type": "display_data",
          "data": {
            "image/png": "[encoded data removed]",
            "text/plain": [
              "<Figure size 432x288 with 1 Axes>"
            ]
          },
          "metadata": {
            "tags": [],
            "needs_background": "light"
          }
        }
      ]
    },
    {
      "cell_type": "code",
      "metadata": {
        "colab": {
          "base_uri": "https://localhost:8080/",
          "height": 279
        },
        "id": "tJQaMDHaNmqc",
        "outputId": "238ef3ff-428e-403c-bfb5-70460f19c269"
      },
      "source": [
        "\n",
        "plt.hist(data1[\"Q4) Response time taken for any electrical or furniture's related complains.\"],bins=5,align='mid')\n",
        "plt.xticks(np.arange(1,6))\n",
        "plt.xlabel(\"Response time taken for any electrical or furniture's related complains\")\n",
        "plt.ylabel('Frequency')\n",
        "plt.grid()\n",
        "plt.show()"
      ],
      "execution_count": null,
      "outputs": [
        {
          "output_type": "display_data",
          "data": {
            "image/png": "[encoded data removed]",
            "text/plain": [
              "<Figure size 432x288 with 1 Axes>"
            ]
          },
          "metadata": {
            "tags": [],
            "needs_background": "light"
          }
        }
      ]
    },
    {
      "cell_type": "code",
      "metadata": {
        "id": "_XCxJv0kIRga"
      },
      "source": [
        "plt.bar(data1['Q1) Overall maintenance service of your Bhawan?'])"
      ],
      "execution_count": null,
      "outputs": []
    },
    {
      "cell_type": "code",
      "metadata": {
        "colab": {
          "base_uri": "https://localhost:8080/"
        },
        "id": "TyBSyJY8ENZL",
        "outputId": "48a52cba-4c2d-458e-86b8-17bce6088946"
      },
      "source": [
        "data1['Q1) Overall maintenance service of your Bhawan?'].value_counts()"
      ],
      "execution_count": null,
      "outputs": [
        {
          "output_type": "execute_result",
          "data": {
            "text/plain": [
              "4    39\n",
              "3    23\n",
              "5    12\n",
              "2     9\n",
              "1     7\n",
              "Name: Q1) Overall maintenance service of your Bhawan?, dtype: int64"
            ]
          },
          "metadata": {
            "tags": []
          },
          "execution_count": 127
        }
      ]
    },
    {
      "cell_type": "code",
      "metadata": {
        "colab": {
          "base_uri": "https://localhost:8080/",
          "height": 841
        },
        "id": "EyViNC15iPDn",
        "outputId": "e7f13ba7-2d5f-4245-8f49-120ea6af640e"
      },
      "source": [
        "sns.heatmap(data1.corr(),annot=True)"
      ],
      "execution_count": null,
      "outputs": [
        {
          "output_type": "execute_result",
          "data": {
            "text/plain": [
              "<matplotlib.axes._subplots.AxesSubplot at 0x7f78215bc4d0>"
            ]
          },
          "metadata": {
            "tags": []
          },
          "execution_count": 42
        },
        {
          "output_type": "display_data",
          "data": {
            "image/png": "[encoded data removed]",
            "text/plain": [
              "<Figure size 432x288 with 2 Axes>"
            ]
          },
          "metadata": {
            "tags": [],
            "needs_background": "light"
          }
        }
      ]
    },
    {
      "cell_type": "code",
      "metadata": {
        "id": "owey3MUPE6hy"
      },
      "source": [
        ""
      ],
      "execution_count": null,
      "outputs": []
    },
    {
      "cell_type": "code",
      "metadata": {
        "colab": {
          "base_uri": "https://localhost:8080/"
        },
        "id": "V0_mA3EXFsC8",
        "outputId": "01cd5b5e-f54c-4581-dc89-a436a2fb087d"
      },
      "source": [
        "data['Problems:'].value_counts()"
      ],
      "execution_count": null,
      "outputs": [
        {
          "output_type": "execute_result",
          "data": {
            "text/plain": [
              "2. No regular cleanliness of Bathrooms., 3. Delay in filling of Handwash, dirty washbasins, 4. Poor water quality due to poor maintenance of water cooler and Filter., 5. Poor maintenance of Parking area, no proper shading.                                                                                                                                                                            6\n",
              "4. Poor water quality due to poor maintenance of water cooler and Filter.                                                                                                                                                                                                                                                                                                                                 5\n",
              "2. No regular cleanliness of Bathrooms., 3. Delay in filling of Handwash, dirty washbasins, 6. No yearly maintenance of rooms like new furniture's, wall painting.                                                                                                                                                                                                                                        5\n",
              "3. Delay in filling of Handwash, dirty washbasins                                                                                                                                                                                                                                                                                                                                                         5\n",
              "2. No regular cleanliness of Bathrooms., 3. Delay in filling of Handwash, dirty washbasins                                                                                                                                                                                                                                                                                                                4\n",
              "1. Large response time after registering complain, 2. No regular cleanliness of Bathrooms., 3. Delay in filling of Handwash, dirty washbasins, 4. Poor water quality due to poor maintenance of water cooler and Filter., 5. Poor maintenance of Parking area, no proper shading., 6. No yearly maintenance of rooms like new furniture's, wall painting., 7. No regular cleaning of corridors, lifts.    4\n",
              "7. No regular cleaning of corridors, lifts.                                                                                                                                                                                                                                                                                                                                                               3\n",
              "1. Large response time after registering complain                                                                                                                                                                                                                                                                                                                                                         3\n",
              "6. No yearly maintenance of rooms like new furniture's, wall painting., 7. No regular cleaning of corridors, lifts.                                                                                                                                                                                                                                                                                       3\n",
              "2. No regular cleanliness of Bathrooms., 3. Delay in filling of Handwash, dirty washbasins, 4. Poor water quality due to poor maintenance of water cooler and Filter.                                                                                                                                                                                                                                     3\n",
              "1. Large response time after registering complain, 3. Delay in filling of Handwash, dirty washbasins, 4. Poor water quality due to poor maintenance of water cooler and Filter.                                                                                                                                                                                                                           2\n",
              "1. Large response time after registering complain, 3. Delay in filling of Handwash, dirty washbasins                                                                                                                                                                                                                                                                                                      2\n",
              "1. Large response time after registering complain, 6. No yearly maintenance of rooms like new furniture's, wall painting.                                                                                                                                                                                                                                                                                 2\n",
              "3. Delay in filling of Handwash, dirty washbasins, 5. Poor maintenance of Parking area, no proper shading., 6. No yearly maintenance of rooms like new furniture's, wall painting., 7. No regular cleaning of corridors, lifts.                                                                                                                                                                           2\n",
              "4. Poor water quality due to poor maintenance of water cooler and Filter., 5. Poor maintenance of Parking area, no proper shading., 6. No yearly maintenance of rooms like new furniture's, wall painting.                                                                                                                                                                                                2\n",
              "4. Poor water quality due to poor maintenance of water cooler and Filter., 5. Poor maintenance of Parking area, no proper shading.                                                                                                                                                                                                                                                                        2\n",
              "1. Large response time after registering complain, 4. Poor water quality due to poor maintenance of water cooler and Filter.                                                                                                                                                                                                                                                                              2\n",
              "4. Poor water quality due to poor maintenance of water cooler and Filter., 6. No yearly maintenance of rooms like new furniture's, wall painting.                                                                                                                                                                                                                                                         1\n",
              "3. Delay in filling of Handwash, dirty washbasins, 4. Poor water quality due to poor maintenance of water cooler and Filter., 5. Poor maintenance of Parking area, no proper shading.                                                                                                                                                                                                                     1\n",
              "3. Delay in filling of Handwash, dirty washbasins, 4. Poor water quality due to poor maintenance of water cooler and Filter., 5. Poor maintenance of Parking area, no proper shading., 7. No regular cleaning of corridors, lifts.                                                                                                                                                                        1\n",
              "2. No regular cleanliness of Bathrooms., 3. Delay in filling of Handwash, dirty washbasins, 6. No yearly maintenance of rooms like new furniture's, wall painting., 7. No regular cleaning of corridors, lifts.                                                                                                                                                                                           1\n",
              "1. Large response time after registering complain, 3. Delay in filling of Handwash, dirty washbasins, 6. No yearly maintenance of rooms like new furniture's, wall painting.                                                                                                                                                                                                                              1\n",
              "1. Large response time after registering complain, 2. No regular cleanliness of Bathrooms., 3. Delay in filling of Handwash, dirty washbasins, 5. Poor maintenance of Parking area, no proper shading.                                                                                                                                                                                                    1\n",
              "2. No regular cleanliness of Bathrooms., 3. Delay in filling of Handwash, dirty washbasins, 5. Poor maintenance of Parking area, no proper shading.                                                                                                                                                                                                                                                       1\n",
              "3. Delay in filling of Handwash, dirty washbasins, 5. Poor maintenance of Parking area, no proper shading.                                                                                                                                                                                                                                                                                                1\n",
              "3. Delay in filling of Handwash, dirty washbasins, 4. Poor water quality due to poor maintenance of water cooler and Filter., 6. No yearly maintenance of rooms like new furniture's, wall painting.                                                                                                                                                                                                      1\n",
              "1. Large response time after registering complain, 2. No regular cleanliness of Bathrooms., 6. No yearly maintenance of rooms like new furniture's, wall painting., 7. No regular cleaning of corridors, lifts.                                                                                                                                                                                           1\n",
              "3. Delay in filling of Handwash, dirty washbasins, 4. Poor water quality due to poor maintenance of water cooler and Filter., 5. Poor maintenance of Parking area, no proper shading., 6. No yearly maintenance of rooms like new furniture's, wall painting.                                                                                                                                             1\n",
              "2. No regular cleanliness of Bathrooms., 4. Poor water quality due to poor maintenance of water cooler and Filter., 7. No regular cleaning of corridors, lifts.                                                                                                                                                                                                                                           1\n",
              "2. No regular cleanliness of Bathrooms., 4. Poor water quality due to poor maintenance of water cooler and Filter., 5. Poor maintenance of Parking area, no proper shading., 6. No yearly maintenance of rooms like new furniture's, wall painting.                                                                                                                                                       1\n",
              "2. No regular cleanliness of Bathrooms., 3. Delay in filling of Handwash, dirty washbasins, 4. Poor water quality due to poor maintenance of water cooler and Filter., 5. Poor maintenance of Parking area, no proper shading., 6. No yearly maintenance of rooms like new furniture's, wall painting., 7. No regular cleaning of corridors, lifts.                                                       1\n",
              "1. Large response time after registering complain, 3. Delay in filling of Handwash, dirty washbasins, 7. No regular cleaning of corridors, lifts.                                                                                                                                                                                                                                                         1\n",
              "1. Large response time after registering complain, 2. No regular cleanliness of Bathrooms., 3. Delay in filling of Handwash, dirty washbasins, 4. Poor water quality due to poor maintenance of water cooler and Filter., 5. Poor maintenance of Parking area, no proper shading.                                                                                                                         1\n",
              "2. No regular cleanliness of Bathrooms., 3. Delay in filling of Handwash, dirty washbasins, 7. No regular cleaning of corridors, lifts.                                                                                                                                                                                                                                                                   1\n",
              "2. No regular cleanliness of Bathrooms., 3. Delay in filling of Handwash, dirty washbasins, 5. Poor maintenance of Parking area, no proper shading., 7. No regular cleaning of corridors, lifts.                                                                                                                                                                                                          1\n",
              "5. Poor maintenance of Parking area, no proper shading., 6. No yearly maintenance of rooms like new furniture's, wall painting., 7. No regular cleaning of corridors, lifts.                                                                                                                                                                                                                              1\n",
              "2. No regular cleanliness of Bathrooms., 4. Poor water quality due to poor maintenance of water cooler and Filter., 5. Poor maintenance of Parking area, no proper shading., 7. No regular cleaning of corridors, lifts.                                                                                                                                                                                  1\n",
              "1. Large response time after registering complain, 3. Delay in filling of Handwash, dirty washbasins, 4. Poor water quality due to poor maintenance of water cooler and Filter., 5. Poor maintenance of Parking area, no proper shading., 6. No yearly maintenance of rooms like new furniture's, wall painting.                                                                                          1\n",
              "3. Delay in filling of Handwash, dirty washbasins, 6. No yearly maintenance of rooms like new furniture's, wall painting.                                                                                                                                                                                                                                                                                 1\n",
              "6. No yearly maintenance of rooms like new furniture's, wall painting.                                                                                                                                                                                                                                                                                                                                    1\n",
              "1. Large response time after registering complain, 5. Poor maintenance of Parking area, no proper shading.                                                                                                                                                                                                                                                                                                1\n",
              "1. Large response time after registering complain, 2. No regular cleanliness of Bathrooms., 3. Delay in filling of Handwash, dirty washbasins, 6. No yearly maintenance of rooms like new furniture's, wall painting., 7. No regular cleaning of corridors, lifts.                                                                                                                                        1\n",
              "2. No regular cleanliness of Bathrooms., 4. Poor water quality due to poor maintenance of water cooler and Filter.                                                                                                                                                                                                                                                                                        1\n",
              "4. Poor water quality due to poor maintenance of water cooler and Filter., 5. Poor maintenance of Parking area, no proper shading., 7. No regular cleaning of corridors, lifts.                                                                                                                                                                                                                           1\n",
              "3. Delay in filling of Handwash, dirty washbasins, 4. Poor water quality due to poor maintenance of water cooler and Filter.                                                                                                                                                                                                                                                                              1\n",
              "3. Delay in filling of Handwash, dirty washbasins, 4. Poor water quality due to poor maintenance of water cooler and Filter., 7. No regular cleaning of corridors, lifts.                                                                                                                                                                                                                                 1\n",
              "5. Poor maintenance of Parking area, no proper shading.                                                                                                                                                                                                                                                                                                                                                   1\n",
              "5. Poor maintenance of Parking area, no proper shading., 7. No regular cleaning of corridors, lifts.                                                                                                                                                                                                                                                                                                      1\n",
              "2. No regular cleanliness of Bathrooms.                                                                                                                                                                                                                                                                                                                                                                   1\n",
              "3. Delay in filling of Handwash, dirty washbasins, 7. No regular cleaning of corridors, lifts.                                                                                                                                                                                                                                                                                                            1\n",
              "1. Large response time after registering complain, 3. Delay in filling of Handwash, dirty washbasins, 4. Poor water quality due to poor maintenance of water cooler and Filter., 5. Poor maintenance of Parking area, no proper shading., 7. No regular cleaning of corridors, lifts.                                                                                                                     1\n",
              "1. Large response time after registering complain, 5. Poor maintenance of Parking area, no proper shading., 7. No regular cleaning of corridors, lifts.                                                                                                                                                                                                                                                   1\n",
              "Name: Problems:, dtype: int64"
            ]
          },
          "metadata": {
            "tags": []
          },
          "execution_count": 43
        }
      ]
    },
    {
      "cell_type": "code",
      "metadata": {
        "colab": {
          "base_uri": "https://localhost:8080/"
        },
        "id": "8imSBhUnGB4t",
        "outputId": "e5bb1be6-2bc9-4265-b102-6b26952ae51f"
      },
      "source": [
        "data['General Causes:'].value_counts()"
      ],
      "execution_count": null,
      "outputs": [
        {
          "output_type": "execute_result",
          "data": {
            "text/plain": [
              "4. Lack of motivation among workers.                                                                                                   12\n",
              "2. No supervision of workers.                                                                                                          10\n",
              "1. Poor management system., 3. Carelessness by top management.                                                                         10\n",
              "1. Poor management system.                                                                                                              9\n",
              "1. Poor management system., 2. No supervision of workers., 3. Carelessness by top management., 4. Lack of motivation among workers.     9\n",
              "3. Carelessness by top management.                                                                                                      8\n",
              "1. Poor management system., 4. Lack of motivation among workers.                                                                        6\n",
              "2. No supervision of workers., 3. Carelessness by top management.                                                                       6\n",
              "2. No supervision of workers., 4. Lack of motivation among workers.                                                                     5\n",
              "1. Poor management system., 2. No supervision of workers.                                                                               5\n",
              "1. Poor management system., 3. Carelessness by top management., 4. Lack of motivation among workers.                                    3\n",
              "2. No supervision of workers., 3. Carelessness by top management., 4. Lack of motivation among workers.                                 2\n",
              "1. Poor management system., 2. No supervision of workers., 4. Lack of motivation among workers.                                         2\n",
              "3. Carelessness by top management., 4. Lack of motivation among workers.                                                                2\n",
              "1. Poor management system., 2. No supervision of workers., 3. Carelessness by top management.                                           1\n",
              "Name: General Causes:, dtype: int64"
            ]
          },
          "metadata": {
            "tags": []
          },
          "execution_count": 44
        }
      ]
    },
    {
      "cell_type": "code",
      "metadata": {
        "colab": {
          "base_uri": "https://localhost:8080/",
          "height": 350
        },
        "id": "prstTRxyGaHr",
        "outputId": "273b809c-0fed-44cb-aa75-5d8e9d325e7b"
      },
      "source": [
        "sns.boxplot(data['Q1) Overall maintenance service of your Bhawan?'])"
      ],
      "execution_count": null,
      "outputs": [
        {
          "output_type": "stream",
          "text": [
            "/usr/local/lib/python3.7/dist-packages/seaborn/_decorators.py:43: FutureWarning: Pass the following variable as a keyword arg: x. From version 0.12, the only valid positional argument will be `data`, and passing other arguments without an explicit keyword will result in an error or misinterpretation.\n",
            "  FutureWarning\n"
          ],
          "name": "stderr"
        },
        {
          "output_type": "execute_result",
          "data": {
            "text/plain": [
              "<matplotlib.axes._subplots.AxesSubplot at 0x7fca4a2f5e50>"
            ]
          },
          "metadata": {
            "tags": []
          },
          "execution_count": 16
        },
        {
          "output_type": "display_data",
          "data": {
            "image/png": "[encoded data removed]",
            "text/plain": [
              "<Figure size 432x288 with 1 Axes>"
            ]
          },
          "metadata": {
            "tags": [],
            "needs_background": "light"
          }
        }
      ]
    },
    {
      "cell_type": "code",
      "metadata": {
        "colab": {
          "base_uri": "https://localhost:8080/"
        },
        "id": "VGTz9bc5Gyoc",
        "outputId": "93115765-a771-4587-d237-34b9bee15ec1"
      },
      "source": [
        "data['Any other problems faced along with the causes(if you know).'].value_counts()"
      ],
      "execution_count": null,
      "outputs": [
        {
          "output_type": "execute_result",
          "data": {
            "text/plain": [
              "No                                                                                                                                                                                                                                                                                              3\n",
              "Bhai ab tou bhawan yad b nahi a rha, btw main problem yeh hai ki yeh sb main building kai through regulate hota hai...supervisor bs ek bridge hai..tou vo ek direct communication nahi hai...                                                                                                   1\n",
              "Gym timings are very odd.                                                                                                                                                                                                                                                                       1\n",
              "need more lighting in our corridor , raat ko cricket khelne me mza aayegaa                                                                                                                                                                                                                      1\n",
              "Not as such.                                                                                                                                                                                                                                                                                    1\n",
              "Clean but not nicely                                                                                                                                                                                                                                                                            1\n",
              "Improve in gym counter                                                                                                                                                                                                                                                                          1\n",
              "No regularities                                                                                                                                                                                                                                                                                 1\n",
              "Badminton court floors are very old. They have become slippery over years and may cause serious injury to some student one day. Process of issuing books for bhawan library seems tedious so we just don't use those books. Weighing machine needs to be installed in Gym (working machine).    1\n",
              "Lack of infrastructure and cleanness  in washroom  and corridors and there is no weekly or monthly supervision in sple words worst management                                                                                                                                                   1\n",
              "Saari toh puch liye inke alawa kya problem ho sakti hai bhai                                                                                                                                                                                                                                    1\n",
              "Need supervision                                                                                                                                                                                                                                                                                1\n",
              "Bhawan me girls ki entry ko restrict kiya jye for any reason.                                                                                                                                                                                                                                   1\n",
              "Name: Any other problems faced along with the causes(if you know)., dtype: int64"
            ]
          },
          "metadata": {
            "tags": []
          },
          "execution_count": 45
        }
      ]
    },
    {
      "cell_type": "code",
      "metadata": {
        "colab": {
          "base_uri": "https://localhost:8080/",
          "height": 418
        },
        "id": "ygf4ou_VG4Hj",
        "outputId": "8d01c1a3-064d-412d-8918-14e12a238604"
      },
      "source": [
        "X= data['General Causes:'].str.get_dummies(sep=',')\n",
        "X"
      ],
      "execution_count": null,
      "outputs": [
        {
          "output_type": "execute_result",
          "data": {
            "text/html": [
              "<div>\n",
              "<style scoped>\n",
              "    .dataframe tbody tr th:only-of-type {\n",
              "        vertical-align: middle;\n",
              "    }\n",
              "\n",
              "    .dataframe tbody tr th {\n",
              "        vertical-align: top;\n",
              "    }\n",
              "\n",
              "    .dataframe thead th {\n",
              "        text-align: right;\n",
              "    }\n",
              "</style>\n",
              "<table border=\"1\" class=\"dataframe\">\n",
              "  <thead>\n",
              "    <tr style=\"text-align: right;\">\n",
              "      <th></th>\n",
              "      <th>2. No supervision of workers.</th>\n",
              "      <th>3. Carelessness by top management.</th>\n",
              "      <th>4. Lack of motivation among workers.</th>\n",
              "      <th>1. Poor management system.</th>\n",
              "      <th>2. No supervision of workers.</th>\n",
              "      <th>3. Carelessness by top management.</th>\n",
              "      <th>4. Lack of motivation among workers.</th>\n",
              "    </tr>\n",
              "  </thead>\n",
              "  <tbody>\n",
              "    <tr>\n",
              "      <th>0</th>\n",
              "      <td>0</td>\n",
              "      <td>0</td>\n",
              "      <td>1</td>\n",
              "      <td>0</td>\n",
              "      <td>0</td>\n",
              "      <td>1</td>\n",
              "      <td>0</td>\n",
              "    </tr>\n",
              "    <tr>\n",
              "      <th>1</th>\n",
              "      <td>1</td>\n",
              "      <td>0</td>\n",
              "      <td>1</td>\n",
              "      <td>1</td>\n",
              "      <td>0</td>\n",
              "      <td>0</td>\n",
              "      <td>0</td>\n",
              "    </tr>\n",
              "    <tr>\n",
              "      <th>2</th>\n",
              "      <td>1</td>\n",
              "      <td>1</td>\n",
              "      <td>1</td>\n",
              "      <td>1</td>\n",
              "      <td>0</td>\n",
              "      <td>0</td>\n",
              "      <td>0</td>\n",
              "    </tr>\n",
              "    <tr>\n",
              "      <th>3</th>\n",
              "      <td>0</td>\n",
              "      <td>0</td>\n",
              "      <td>0</td>\n",
              "      <td>0</td>\n",
              "      <td>0</td>\n",
              "      <td>1</td>\n",
              "      <td>0</td>\n",
              "    </tr>\n",
              "    <tr>\n",
              "      <th>4</th>\n",
              "      <td>0</td>\n",
              "      <td>0</td>\n",
              "      <td>0</td>\n",
              "      <td>0</td>\n",
              "      <td>1</td>\n",
              "      <td>0</td>\n",
              "      <td>0</td>\n",
              "    </tr>\n",
              "    <tr>\n",
              "      <th>...</th>\n",
              "      <td>...</td>\n",
              "      <td>...</td>\n",
              "      <td>...</td>\n",
              "      <td>...</td>\n",
              "      <td>...</td>\n",
              "      <td>...</td>\n",
              "      <td>...</td>\n",
              "    </tr>\n",
              "    <tr>\n",
              "      <th>85</th>\n",
              "      <td>0</td>\n",
              "      <td>1</td>\n",
              "      <td>1</td>\n",
              "      <td>0</td>\n",
              "      <td>1</td>\n",
              "      <td>0</td>\n",
              "      <td>0</td>\n",
              "    </tr>\n",
              "    <tr>\n",
              "      <th>86</th>\n",
              "      <td>0</td>\n",
              "      <td>0</td>\n",
              "      <td>0</td>\n",
              "      <td>1</td>\n",
              "      <td>0</td>\n",
              "      <td>0</td>\n",
              "      <td>0</td>\n",
              "    </tr>\n",
              "    <tr>\n",
              "      <th>87</th>\n",
              "      <td>0</td>\n",
              "      <td>0</td>\n",
              "      <td>1</td>\n",
              "      <td>1</td>\n",
              "      <td>0</td>\n",
              "      <td>0</td>\n",
              "      <td>0</td>\n",
              "    </tr>\n",
              "    <tr>\n",
              "      <th>88</th>\n",
              "      <td>0</td>\n",
              "      <td>0</td>\n",
              "      <td>1</td>\n",
              "      <td>0</td>\n",
              "      <td>1</td>\n",
              "      <td>0</td>\n",
              "      <td>0</td>\n",
              "    </tr>\n",
              "    <tr>\n",
              "      <th>89</th>\n",
              "      <td>1</td>\n",
              "      <td>0</td>\n",
              "      <td>1</td>\n",
              "      <td>1</td>\n",
              "      <td>0</td>\n",
              "      <td>0</td>\n",
              "      <td>0</td>\n",
              "    </tr>\n",
              "  </tbody>\n",
              "</table>\n",
              "<p>90 rows × 7 columns</p>\n",
              "</div>"
            ],
            "text/plain": [
              "     2. No supervision of workers.  ...  4. Lack of motivation among workers.\n",
              "0                                0  ...                                     0\n",
              "1                                1  ...                                     0\n",
              "2                                1  ...                                     0\n",
              "3                                0  ...                                     0\n",
              "4                                0  ...                                     0\n",
              "..                             ...  ...                                   ...\n",
              "85                               0  ...                                     0\n",
              "86                               0  ...                                     0\n",
              "87                               0  ...                                     0\n",
              "88                               0  ...                                     0\n",
              "89                               1  ...                                     0\n",
              "\n",
              "[90 rows x 7 columns]"
            ]
          },
          "metadata": {
            "tags": []
          },
          "execution_count": 46
        }
      ]
    },
    {
      "cell_type": "code",
      "metadata": {
        "colab": {
          "base_uri": "https://localhost:8080/"
        },
        "id": "PCrvyke4NPRd",
        "outputId": "60408961-2178-4eb4-89ad-0b50bc00830f"
      },
      "source": [
        "X.sum()"
      ],
      "execution_count": null,
      "outputs": [
        {
          "output_type": "execute_result",
          "data": {
            "text/plain": [
              " 2. No supervision of workers.           17\n",
              " 3. Carelessness by top management.      31\n",
              " 4. Lack of motivation among workers.    29\n",
              "1. Poor management system.               45\n",
              "2. No supervision of workers.            23\n",
              "3. Carelessness by top management.       10\n",
              "4. Lack of motivation among workers.     12\n",
              "dtype: int64"
            ]
          },
          "metadata": {
            "tags": []
          },
          "execution_count": 47
        }
      ]
    },
    {
      "cell_type": "code",
      "metadata": {
        "id": "2XR8rovUNf8F"
      },
      "source": [
        "X.replace(' 2. No supervision of workers.','2. No supervision of workers.',inplace=True)"
      ],
      "execution_count": null,
      "outputs": []
    },
    {
      "cell_type": "code",
      "metadata": {
        "colab": {
          "base_uri": "https://localhost:8080/"
        },
        "id": "YW3irj0hOrhC",
        "outputId": "b5c7aadd-5458-484f-bc13-8396bb46a7f2"
      },
      "source": [
        "X.sum()"
      ],
      "execution_count": null,
      "outputs": [
        {
          "output_type": "execute_result",
          "data": {
            "text/plain": [
              " 2. No supervision of workers.           17\n",
              " 3. Carelessness by top management.      31\n",
              " 4. Lack of motivation among workers.    29\n",
              "1. Poor management system.               45\n",
              "2. No supervision of workers.            23\n",
              "3. Carelessness by top management.       10\n",
              "4. Lack of motivation among workers.     12\n",
              "dtype: int64"
            ]
          },
          "metadata": {
            "tags": []
          },
          "execution_count": 49
        }
      ]
    },
    {
      "cell_type": "code",
      "metadata": {
        "colab": {
          "base_uri": "https://localhost:8080/",
          "height": 539
        },
        "id": "0CAxFxmpPF4C",
        "outputId": "efd846b5-c11d-4cb8-8187-ceec2a8890df"
      },
      "source": [
        "Y=data['Problems:'].str.get_dummies(sep=',')\n",
        "Y"
      ],
      "execution_count": null,
      "outputs": [
        {
          "output_type": "execute_result",
          "data": {
            "text/html": [
              "<div>\n",
              "<style scoped>\n",
              "    .dataframe tbody tr th:only-of-type {\n",
              "        vertical-align: middle;\n",
              "    }\n",
              "\n",
              "    .dataframe tbody tr th {\n",
              "        vertical-align: top;\n",
              "    }\n",
              "\n",
              "    .dataframe thead th {\n",
              "        text-align: right;\n",
              "    }\n",
              "</style>\n",
              "<table border=\"1\" class=\"dataframe\">\n",
              "  <thead>\n",
              "    <tr style=\"text-align: right;\">\n",
              "      <th></th>\n",
              "      <th>2. No regular cleanliness of Bathrooms.</th>\n",
              "      <th>3. Delay in filling of Handwash</th>\n",
              "      <th>4. Poor water quality due to poor maintenance of water cooler and Filter.</th>\n",
              "      <th>5. Poor maintenance of Parking area</th>\n",
              "      <th>6. No yearly maintenance of rooms like new furniture's</th>\n",
              "      <th>7. No regular cleaning of corridors</th>\n",
              "      <th>dirty washbasins</th>\n",
              "      <th>lifts.</th>\n",
              "      <th>no proper shading.</th>\n",
              "      <th>wall painting.</th>\n",
              "      <th>1. Large response time after registering complain</th>\n",
              "      <th>2. No regular cleanliness of Bathrooms.</th>\n",
              "      <th>3. Delay in filling of Handwash</th>\n",
              "      <th>4. Poor water quality due to poor maintenance of water cooler and Filter.</th>\n",
              "      <th>5. Poor maintenance of Parking area</th>\n",
              "      <th>6. No yearly maintenance of rooms like new furniture's</th>\n",
              "      <th>7. No regular cleaning of corridors</th>\n",
              "    </tr>\n",
              "  </thead>\n",
              "  <tbody>\n",
              "    <tr>\n",
              "      <th>0</th>\n",
              "      <td>0</td>\n",
              "      <td>1</td>\n",
              "      <td>1</td>\n",
              "      <td>1</td>\n",
              "      <td>0</td>\n",
              "      <td>0</td>\n",
              "      <td>1</td>\n",
              "      <td>0</td>\n",
              "      <td>1</td>\n",
              "      <td>0</td>\n",
              "      <td>0</td>\n",
              "      <td>1</td>\n",
              "      <td>0</td>\n",
              "      <td>0</td>\n",
              "      <td>0</td>\n",
              "      <td>0</td>\n",
              "      <td>0</td>\n",
              "    </tr>\n",
              "    <tr>\n",
              "      <th>1</th>\n",
              "      <td>0</td>\n",
              "      <td>1</td>\n",
              "      <td>1</td>\n",
              "      <td>1</td>\n",
              "      <td>0</td>\n",
              "      <td>0</td>\n",
              "      <td>1</td>\n",
              "      <td>0</td>\n",
              "      <td>1</td>\n",
              "      <td>0</td>\n",
              "      <td>0</td>\n",
              "      <td>1</td>\n",
              "      <td>0</td>\n",
              "      <td>0</td>\n",
              "      <td>0</td>\n",
              "      <td>0</td>\n",
              "      <td>0</td>\n",
              "    </tr>\n",
              "    <tr>\n",
              "      <th>2</th>\n",
              "      <td>0</td>\n",
              "      <td>1</td>\n",
              "      <td>1</td>\n",
              "      <td>0</td>\n",
              "      <td>0</td>\n",
              "      <td>0</td>\n",
              "      <td>1</td>\n",
              "      <td>0</td>\n",
              "      <td>0</td>\n",
              "      <td>0</td>\n",
              "      <td>0</td>\n",
              "      <td>1</td>\n",
              "      <td>0</td>\n",
              "      <td>0</td>\n",
              "      <td>0</td>\n",
              "      <td>0</td>\n",
              "      <td>0</td>\n",
              "    </tr>\n",
              "    <tr>\n",
              "      <th>3</th>\n",
              "      <td>0</td>\n",
              "      <td>1</td>\n",
              "      <td>1</td>\n",
              "      <td>1</td>\n",
              "      <td>0</td>\n",
              "      <td>0</td>\n",
              "      <td>1</td>\n",
              "      <td>0</td>\n",
              "      <td>1</td>\n",
              "      <td>0</td>\n",
              "      <td>0</td>\n",
              "      <td>1</td>\n",
              "      <td>0</td>\n",
              "      <td>0</td>\n",
              "      <td>0</td>\n",
              "      <td>0</td>\n",
              "      <td>0</td>\n",
              "    </tr>\n",
              "    <tr>\n",
              "      <th>4</th>\n",
              "      <td>0</td>\n",
              "      <td>0</td>\n",
              "      <td>0</td>\n",
              "      <td>1</td>\n",
              "      <td>0</td>\n",
              "      <td>1</td>\n",
              "      <td>0</td>\n",
              "      <td>1</td>\n",
              "      <td>1</td>\n",
              "      <td>0</td>\n",
              "      <td>1</td>\n",
              "      <td>0</td>\n",
              "      <td>0</td>\n",
              "      <td>0</td>\n",
              "      <td>0</td>\n",
              "      <td>0</td>\n",
              "      <td>0</td>\n",
              "    </tr>\n",
              "    <tr>\n",
              "      <th>...</th>\n",
              "      <td>...</td>\n",
              "      <td>...</td>\n",
              "      <td>...</td>\n",
              "      <td>...</td>\n",
              "      <td>...</td>\n",
              "      <td>...</td>\n",
              "      <td>...</td>\n",
              "      <td>...</td>\n",
              "      <td>...</td>\n",
              "      <td>...</td>\n",
              "      <td>...</td>\n",
              "      <td>...</td>\n",
              "      <td>...</td>\n",
              "      <td>...</td>\n",
              "      <td>...</td>\n",
              "      <td>...</td>\n",
              "      <td>...</td>\n",
              "    </tr>\n",
              "    <tr>\n",
              "      <th>85</th>\n",
              "      <td>1</td>\n",
              "      <td>1</td>\n",
              "      <td>0</td>\n",
              "      <td>0</td>\n",
              "      <td>1</td>\n",
              "      <td>1</td>\n",
              "      <td>1</td>\n",
              "      <td>1</td>\n",
              "      <td>0</td>\n",
              "      <td>1</td>\n",
              "      <td>1</td>\n",
              "      <td>0</td>\n",
              "      <td>0</td>\n",
              "      <td>0</td>\n",
              "      <td>0</td>\n",
              "      <td>0</td>\n",
              "      <td>0</td>\n",
              "    </tr>\n",
              "    <tr>\n",
              "      <th>86</th>\n",
              "      <td>0</td>\n",
              "      <td>1</td>\n",
              "      <td>0</td>\n",
              "      <td>0</td>\n",
              "      <td>0</td>\n",
              "      <td>0</td>\n",
              "      <td>1</td>\n",
              "      <td>0</td>\n",
              "      <td>0</td>\n",
              "      <td>0</td>\n",
              "      <td>0</td>\n",
              "      <td>1</td>\n",
              "      <td>0</td>\n",
              "      <td>0</td>\n",
              "      <td>0</td>\n",
              "      <td>0</td>\n",
              "      <td>0</td>\n",
              "    </tr>\n",
              "    <tr>\n",
              "      <th>87</th>\n",
              "      <td>0</td>\n",
              "      <td>1</td>\n",
              "      <td>1</td>\n",
              "      <td>0</td>\n",
              "      <td>0</td>\n",
              "      <td>0</td>\n",
              "      <td>1</td>\n",
              "      <td>0</td>\n",
              "      <td>0</td>\n",
              "      <td>0</td>\n",
              "      <td>0</td>\n",
              "      <td>1</td>\n",
              "      <td>0</td>\n",
              "      <td>0</td>\n",
              "      <td>0</td>\n",
              "      <td>0</td>\n",
              "      <td>0</td>\n",
              "    </tr>\n",
              "    <tr>\n",
              "      <th>88</th>\n",
              "      <td>0</td>\n",
              "      <td>0</td>\n",
              "      <td>0</td>\n",
              "      <td>0</td>\n",
              "      <td>0</td>\n",
              "      <td>0</td>\n",
              "      <td>0</td>\n",
              "      <td>0</td>\n",
              "      <td>0</td>\n",
              "      <td>0</td>\n",
              "      <td>0</td>\n",
              "      <td>0</td>\n",
              "      <td>0</td>\n",
              "      <td>1</td>\n",
              "      <td>0</td>\n",
              "      <td>0</td>\n",
              "      <td>0</td>\n",
              "    </tr>\n",
              "    <tr>\n",
              "      <th>89</th>\n",
              "      <td>0</td>\n",
              "      <td>0</td>\n",
              "      <td>1</td>\n",
              "      <td>0</td>\n",
              "      <td>0</td>\n",
              "      <td>1</td>\n",
              "      <td>1</td>\n",
              "      <td>1</td>\n",
              "      <td>0</td>\n",
              "      <td>0</td>\n",
              "      <td>0</td>\n",
              "      <td>0</td>\n",
              "      <td>1</td>\n",
              "      <td>0</td>\n",
              "      <td>0</td>\n",
              "      <td>0</td>\n",
              "      <td>0</td>\n",
              "    </tr>\n",
              "  </tbody>\n",
              "</table>\n",
              "<p>90 rows × 17 columns</p>\n",
              "</div>"
            ],
            "text/plain": [
              "     2. No regular cleanliness of Bathrooms.  ...  7. No regular cleaning of corridors\n",
              "0                                          0  ...                                    0\n",
              "1                                          0  ...                                    0\n",
              "2                                          0  ...                                    0\n",
              "3                                          0  ...                                    0\n",
              "4                                          0  ...                                    0\n",
              "..                                       ...  ...                                  ...\n",
              "85                                         1  ...                                    0\n",
              "86                                         0  ...                                    0\n",
              "87                                         0  ...                                    0\n",
              "88                                         0  ...                                    0\n",
              "89                                         0  ...                                    0\n",
              "\n",
              "[90 rows x 17 columns]"
            ]
          },
          "metadata": {
            "tags": []
          },
          "execution_count": 50
        }
      ]
    },
    {
      "cell_type": "code",
      "metadata": {
        "colab": {
          "base_uri": "https://localhost:8080/"
        },
        "id": "qoackgC9PR61",
        "outputId": "e69a0b97-0aeb-4f36-bc94-20c8c45aeb23"
      },
      "source": [
        "Y.sum()"
      ],
      "execution_count": null,
      "outputs": [
        {
          "output_type": "execute_result",
          "data": {
            "text/plain": [
              " 2. No regular cleanliness of Bathrooms.                                       8\n",
              " 3. Delay in filling of Handwash                                              38\n",
              " 4. Poor water quality due to poor maintenance of water cooler and Filter.    31\n",
              " 5. Poor maintenance of Parking area                                          32\n",
              " 6. No yearly maintenance of rooms like new furniture's                       27\n",
              " 7. No regular cleaning of corridors                                          26\n",
              " dirty washbasins                                                             54\n",
              " lifts.                                                                       29\n",
              " no proper shading.                                                           35\n",
              " wall painting.                                                               31\n",
              "1. Large response time after registering complain                             25\n",
              "2. No regular cleanliness of Bathrooms.                                       28\n",
              "3. Delay in filling of Handwash                                               16\n",
              "4. Poor water quality due to poor maintenance of water cooler and Filter.     11\n",
              "5. Poor maintenance of Parking area                                            3\n",
              "6. No yearly maintenance of rooms like new furniture's                         4\n",
              "7. No regular cleaning of corridors                                            3\n",
              "dtype: int64"
            ]
          },
          "metadata": {
            "tags": []
          },
          "execution_count": 51
        }
      ]
    },
    {
      "cell_type": "code",
      "metadata": {
        "id": "-9yLszOvqPZI"
      },
      "source": [
        "Prob=[\n",
        "\n",
        "'Delay in filling of Handwash, dirty washbasins',\n",
        "'Poor water quality due to poor maintenance of water cooler and Filter.',\n",
        "'No regular cleanliness of Bathrooms.',\n",
        "'Poor maintenance of Parking area, no proper shading.',\n",
        "'No yearly maintenance of rooms like new furnitures, wall painting.',\n",
        "'No regular cleaning of corridors, lifts.',\n",
        "'Large response time after registering complain']"
      ],
      "execution_count": null,
      "outputs": []
    },
    {
      "cell_type": "code",
      "metadata": {
        "id": "S4awGFvGqov3"
      },
      "source": [
        "Freq=[54,42,36,35,31,29,25]"
      ],
      "execution_count": null,
      "outputs": []
    },
    {
      "cell_type": "code",
      "metadata": {
        "colab": {
          "base_uri": "https://localhost:8080/",
          "height": 266
        },
        "id": "fd6Uop1UPS5R",
        "outputId": "36a95576-5c1d-4b25-c981-f279f11740a5"
      },
      "source": [
        "Problems=pd.DataFrame({'Abbr':[1,2,3,4,5,6,7],'Problems':Prob,'Frequency':Freq})\n",
        "Problems"
      ],
      "execution_count": null,
      "outputs": [
        {
          "output_type": "execute_result",
          "data": {
            "text/html": [
              "<div>\n",
              "<style scoped>\n",
              "    .dataframe tbody tr th:only-of-type {\n",
              "        vertical-align: middle;\n",
              "    }\n",
              "\n",
              "    .dataframe tbody tr th {\n",
              "        vertical-align: top;\n",
              "    }\n",
              "\n",
              "    .dataframe thead th {\n",
              "        text-align: right;\n",
              "    }\n",
              "</style>\n",
              "<table border=\"1\" class=\"dataframe\">\n",
              "  <thead>\n",
              "    <tr style=\"text-align: right;\">\n",
              "      <th></th>\n",
              "      <th>Abbr</th>\n",
              "      <th>Problems</th>\n",
              "      <th>Frequency</th>\n",
              "    </tr>\n",
              "  </thead>\n",
              "  <tbody>\n",
              "    <tr>\n",
              "      <th>0</th>\n",
              "      <td>1</td>\n",
              "      <td>Delay in filling of Handwash, dirty washbasins</td>\n",
              "      <td>54</td>\n",
              "    </tr>\n",
              "    <tr>\n",
              "      <th>1</th>\n",
              "      <td>2</td>\n",
              "      <td>Poor water quality due to poor maintenance of ...</td>\n",
              "      <td>42</td>\n",
              "    </tr>\n",
              "    <tr>\n",
              "      <th>2</th>\n",
              "      <td>3</td>\n",
              "      <td>No regular cleanliness of Bathrooms.</td>\n",
              "      <td>36</td>\n",
              "    </tr>\n",
              "    <tr>\n",
              "      <th>3</th>\n",
              "      <td>4</td>\n",
              "      <td>Poor maintenance of Parking area, no proper sh...</td>\n",
              "      <td>35</td>\n",
              "    </tr>\n",
              "    <tr>\n",
              "      <th>4</th>\n",
              "      <td>5</td>\n",
              "      <td>No yearly maintenance of rooms like new furnit...</td>\n",
              "      <td>31</td>\n",
              "    </tr>\n",
              "    <tr>\n",
              "      <th>5</th>\n",
              "      <td>6</td>\n",
              "      <td>No regular cleaning of corridors, lifts.</td>\n",
              "      <td>29</td>\n",
              "    </tr>\n",
              "    <tr>\n",
              "      <th>6</th>\n",
              "      <td>7</td>\n",
              "      <td>Large response time after registering complain</td>\n",
              "      <td>25</td>\n",
              "    </tr>\n",
              "  </tbody>\n",
              "</table>\n",
              "</div>"
            ],
            "text/plain": [
              "   Abbr                                           Problems  Frequency\n",
              "0     1     Delay in filling of Handwash, dirty washbasins         54\n",
              "1     2  Poor water quality due to poor maintenance of ...         42\n",
              "2     3               No regular cleanliness of Bathrooms.         36\n",
              "3     4  Poor maintenance of Parking area, no proper sh...         35\n",
              "4     5  No yearly maintenance of rooms like new furnit...         31\n",
              "5     6           No regular cleaning of corridors, lifts.         29\n",
              "6     7     Large response time after registering complain         25"
            ]
          },
          "metadata": {
            "tags": []
          },
          "execution_count": 5
        }
      ]
    },
    {
      "cell_type": "code",
      "metadata": {
        "id": "SawfKvjLq8YG"
      },
      "source": [
        "Problem=Problems.sort_values(by='Frequency',ascending=False,ignore_index=True)"
      ],
      "execution_count": null,
      "outputs": []
    },
    {
      "cell_type": "code",
      "metadata": {
        "colab": {
          "base_uri": "https://localhost:8080/",
          "height": 254
        },
        "id": "uKLwrpjYrxbn",
        "outputId": "63266292-b6df-4130-f148-7672f4b810f9"
      },
      "source": [
        "Problem"
      ],
      "execution_count": null,
      "outputs": [
        {
          "output_type": "execute_result",
          "data": {
            "text/html": [
              "<div>\n",
              "<style scoped>\n",
              "    .dataframe tbody tr th:only-of-type {\n",
              "        vertical-align: middle;\n",
              "    }\n",
              "\n",
              "    .dataframe tbody tr th {\n",
              "        vertical-align: top;\n",
              "    }\n",
              "\n",
              "    .dataframe thead th {\n",
              "        text-align: right;\n",
              "    }\n",
              "</style>\n",
              "<table border=\"1\" class=\"dataframe\">\n",
              "  <thead>\n",
              "    <tr style=\"text-align: right;\">\n",
              "      <th></th>\n",
              "      <th>Abbr</th>\n",
              "      <th>Problems</th>\n",
              "      <th>Frequency</th>\n",
              "    </tr>\n",
              "  </thead>\n",
              "  <tbody>\n",
              "    <tr>\n",
              "      <th>0</th>\n",
              "      <td>3</td>\n",
              "      <td>Delay in filling of Handwash, dirty washbasins</td>\n",
              "      <td>54</td>\n",
              "    </tr>\n",
              "    <tr>\n",
              "      <th>1</th>\n",
              "      <td>4</td>\n",
              "      <td>Poor water quality due to poor maintenance of ...</td>\n",
              "      <td>42</td>\n",
              "    </tr>\n",
              "    <tr>\n",
              "      <th>2</th>\n",
              "      <td>2</td>\n",
              "      <td>No regular cleanliness of Bathrooms.</td>\n",
              "      <td>36</td>\n",
              "    </tr>\n",
              "    <tr>\n",
              "      <th>3</th>\n",
              "      <td>5</td>\n",
              "      <td>Poor maintenance of Parking area, no proper sh...</td>\n",
              "      <td>35</td>\n",
              "    </tr>\n",
              "    <tr>\n",
              "      <th>4</th>\n",
              "      <td>6</td>\n",
              "      <td>No yearly maintenance of rooms like new furnit...</td>\n",
              "      <td>31</td>\n",
              "    </tr>\n",
              "    <tr>\n",
              "      <th>5</th>\n",
              "      <td>7</td>\n",
              "      <td>No regular cleaning of corridors, lifts.</td>\n",
              "      <td>29</td>\n",
              "    </tr>\n",
              "    <tr>\n",
              "      <th>6</th>\n",
              "      <td>1</td>\n",
              "      <td>Large response time after registering complain</td>\n",
              "      <td>25</td>\n",
              "    </tr>\n",
              "  </tbody>\n",
              "</table>\n",
              "</div>"
            ],
            "text/plain": [
              "   Abbr                                           Problems  Frequency\n",
              "0     3     Delay in filling of Handwash, dirty washbasins         54\n",
              "1     4  Poor water quality due to poor maintenance of ...         42\n",
              "2     2               No regular cleanliness of Bathrooms.         36\n",
              "3     5  Poor maintenance of Parking area, no proper sh...         35\n",
              "4     6  No yearly maintenance of rooms like new furnit...         31\n",
              "5     7           No regular cleaning of corridors, lifts.         29\n",
              "6     1     Large response time after registering complain         25"
            ]
          },
          "metadata": {
            "tags": []
          },
          "execution_count": 106
        }
      ]
    },
    {
      "cell_type": "code",
      "metadata": {
        "colab": {
          "base_uri": "https://localhost:8080/"
        },
        "id": "dn3Q-St9V_ia",
        "outputId": "5a5cfb83-3e09-4fc7-b963-9cead6819b55"
      },
      "source": [
        "Problems['Frequency'].sum()"
      ],
      "execution_count": null,
      "outputs": [
        {
          "output_type": "execute_result",
          "data": {
            "text/plain": [
              "252"
            ]
          },
          "metadata": {
            "tags": []
          },
          "execution_count": 8
        }
      ]
    },
    {
      "cell_type": "code",
      "metadata": {
        "id": "DlN1RbvPVrDW"
      },
      "source": [
        "x=[1,2,3,4,5,6,7]\n",
        "y=[54,96,132,167,198,227,252]"
      ],
      "execution_count": null,
      "outputs": []
    },
    {
      "cell_type": "code",
      "metadata": {
        "colab": {
          "base_uri": "https://localhost:8080/",
          "height": 497
        },
        "id": "qjJ4WZ5sryVI",
        "outputId": "f89f1163-51c4-46d8-f008-f76ef8a39705"
      },
      "source": [
        "\n",
        "plt.figure(figsize=(15,8))\n",
        "plt.bar(Problems['Abbr'],Problems['Frequency'],width=.9999,color='r')\n",
        "plt.plot(x,y)\n",
        "plt.scatter(x,y,c='black',marker='*')\n",
        "plt.grid()\n",
        "plt.xlabel('Problem')\n",
        "plt.ylabel('Frequency')\n",
        "plt.show()\n"
      ],
      "execution_count": null,
      "outputs": [
        {
          "output_type": "display_data",
          "data": {
            "image/png": "[encoded data removed]",
            "text/plain": [
              "<Figure size 1080x576 with 1 Axes>"
            ]
          },
          "metadata": {
            "tags": [],
            "needs_background": "light"
          }
        }
      ]
    },
    {
      "cell_type": "code",
      "metadata": {
        "colab": {
          "base_uri": "https://localhost:8080/",
          "height": 670
        },
        "id": "bhLZyVMf8R8X",
        "outputId": "75d7ec3b-b03e-4d17-ea4c-be5a53e43168"
      },
      "source": [
        "data1"
      ],
      "execution_count": null,
      "outputs": [
        {
          "output_type": "execute_result",
          "data": {
            "text/html": [
              "<div>\n",
              "<style scoped>\n",
              "    .dataframe tbody tr th:only-of-type {\n",
              "        vertical-align: middle;\n",
              "    }\n",
              "\n",
              "    .dataframe tbody tr th {\n",
              "        vertical-align: top;\n",
              "    }\n",
              "\n",
              "    .dataframe thead th {\n",
              "        text-align: right;\n",
              "    }\n",
              "</style>\n",
              "<table border=\"1\" class=\"dataframe\">\n",
              "  <thead>\n",
              "    <tr style=\"text-align: right;\">\n",
              "      <th></th>\n",
              "      <th>Year of study(Current year)</th>\n",
              "      <th>Bhawan(Hostel) you are residing.</th>\n",
              "      <th>Which Block in Bhawan?</th>\n",
              "      <th>Floor of your Room!</th>\n",
              "      <th>Q1) Overall maintenance service of your Bhawan?</th>\n",
              "      <th>Q2) Maintenance services of bathrooms and washbasins. (Daily cleaning, handwash &amp; water availability etc.)</th>\n",
              "      <th>Q3) Drinking water quality (cooler and water filter maintenance)?</th>\n",
              "      <th>Q4) Response time taken for any electrical or furniture's related complains.</th>\n",
              "      <th>Q5) Lift and corridor’s maintenance (cleanliness, lighting...etc.).</th>\n",
              "      <th>Q6) Bicycle Parking facilities (like availability of proper shade, its maintenance, CCTV ...etc.)?</th>\n",
              "      <th>Q7) Maintenance service of Bhawan laundry (Clothes washing time, cleanliness, quality of clothes washing...etc)</th>\n",
              "    </tr>\n",
              "  </thead>\n",
              "  <tbody>\n",
              "    <tr>\n",
              "      <th>0</th>\n",
              "      <td>3rd year</td>\n",
              "      <td>RAJIV</td>\n",
              "      <td>A-Block</td>\n",
              "      <td>5th Floor</td>\n",
              "      <td>3</td>\n",
              "      <td>3</td>\n",
              "      <td>3</td>\n",
              "      <td>4</td>\n",
              "      <td>3</td>\n",
              "      <td>2</td>\n",
              "      <td>3</td>\n",
              "    </tr>\n",
              "    <tr>\n",
              "      <th>1</th>\n",
              "      <td>3rd year</td>\n",
              "      <td>RAJIV</td>\n",
              "      <td>A-Block</td>\n",
              "      <td>5th Floor</td>\n",
              "      <td>4</td>\n",
              "      <td>3</td>\n",
              "      <td>3</td>\n",
              "      <td>4</td>\n",
              "      <td>4</td>\n",
              "      <td>2</td>\n",
              "      <td>3</td>\n",
              "    </tr>\n",
              "    <tr>\n",
              "      <th>2</th>\n",
              "      <td>3rd year</td>\n",
              "      <td>RAJIV</td>\n",
              "      <td>B-Block</td>\n",
              "      <td>1st Floor</td>\n",
              "      <td>3</td>\n",
              "      <td>2</td>\n",
              "      <td>1</td>\n",
              "      <td>4</td>\n",
              "      <td>3</td>\n",
              "      <td>1</td>\n",
              "      <td>3</td>\n",
              "    </tr>\n",
              "    <tr>\n",
              "      <th>3</th>\n",
              "      <td>3rd year</td>\n",
              "      <td>RAJIV</td>\n",
              "      <td>A-Block</td>\n",
              "      <td>5th Floor</td>\n",
              "      <td>4</td>\n",
              "      <td>2</td>\n",
              "      <td>3</td>\n",
              "      <td>3</td>\n",
              "      <td>4</td>\n",
              "      <td>2</td>\n",
              "      <td>3</td>\n",
              "    </tr>\n",
              "    <tr>\n",
              "      <th>4</th>\n",
              "      <td>3rd year</td>\n",
              "      <td>RAJIV</td>\n",
              "      <td>B-Block</td>\n",
              "      <td>1st Floor</td>\n",
              "      <td>4</td>\n",
              "      <td>3</td>\n",
              "      <td>3</td>\n",
              "      <td>1</td>\n",
              "      <td>4</td>\n",
              "      <td>3</td>\n",
              "      <td>4</td>\n",
              "    </tr>\n",
              "    <tr>\n",
              "      <th>...</th>\n",
              "      <td>...</td>\n",
              "      <td>...</td>\n",
              "      <td>...</td>\n",
              "      <td>...</td>\n",
              "      <td>...</td>\n",
              "      <td>...</td>\n",
              "      <td>...</td>\n",
              "      <td>...</td>\n",
              "      <td>...</td>\n",
              "      <td>...</td>\n",
              "      <td>...</td>\n",
              "    </tr>\n",
              "    <tr>\n",
              "      <th>85</th>\n",
              "      <td>4th year</td>\n",
              "      <td>RAJIV</td>\n",
              "      <td>B-Block</td>\n",
              "      <td>6th Floor</td>\n",
              "      <td>4</td>\n",
              "      <td>3</td>\n",
              "      <td>4</td>\n",
              "      <td>3</td>\n",
              "      <td>4</td>\n",
              "      <td>3</td>\n",
              "      <td>4</td>\n",
              "    </tr>\n",
              "    <tr>\n",
              "      <th>86</th>\n",
              "      <td>3rd year</td>\n",
              "      <td>RAJIV</td>\n",
              "      <td>A-Block</td>\n",
              "      <td>2nd Floor</td>\n",
              "      <td>5</td>\n",
              "      <td>4</td>\n",
              "      <td>4</td>\n",
              "      <td>3</td>\n",
              "      <td>5</td>\n",
              "      <td>3</td>\n",
              "      <td>4</td>\n",
              "    </tr>\n",
              "    <tr>\n",
              "      <th>87</th>\n",
              "      <td>4th year</td>\n",
              "      <td>RAJIV</td>\n",
              "      <td>B-Block</td>\n",
              "      <td>4th Floor</td>\n",
              "      <td>4</td>\n",
              "      <td>3</td>\n",
              "      <td>4</td>\n",
              "      <td>4</td>\n",
              "      <td>4</td>\n",
              "      <td>4</td>\n",
              "      <td>4</td>\n",
              "    </tr>\n",
              "    <tr>\n",
              "      <th>88</th>\n",
              "      <td>4th year</td>\n",
              "      <td>RAJIV</td>\n",
              "      <td>B-Block</td>\n",
              "      <td>4th Floor</td>\n",
              "      <td>4</td>\n",
              "      <td>2</td>\n",
              "      <td>2</td>\n",
              "      <td>4</td>\n",
              "      <td>3</td>\n",
              "      <td>2</td>\n",
              "      <td>4</td>\n",
              "    </tr>\n",
              "    <tr>\n",
              "      <th>89</th>\n",
              "      <td>3rd year</td>\n",
              "      <td>RAJIV</td>\n",
              "      <td>A-Block</td>\n",
              "      <td>6th Floor</td>\n",
              "      <td>4</td>\n",
              "      <td>3</td>\n",
              "      <td>2</td>\n",
              "      <td>4</td>\n",
              "      <td>4</td>\n",
              "      <td>2</td>\n",
              "      <td>4</td>\n",
              "    </tr>\n",
              "  </tbody>\n",
              "</table>\n",
              "<p>90 rows × 11 columns</p>\n",
              "</div>"
            ],
            "text/plain": [
              "   Year of study(Current year)  ... Q7) Maintenance service of Bhawan laundry (Clothes washing time, cleanliness, quality of clothes washing...etc)\n",
              "0                     3rd year  ...                                                  3                                                             \n",
              "1                     3rd year  ...                                                  3                                                             \n",
              "2                     3rd year  ...                                                  3                                                             \n",
              "3                     3rd year  ...                                                  3                                                             \n",
              "4                     3rd year  ...                                                  4                                                             \n",
              "..                         ...  ...                                                ...                                                             \n",
              "85                    4th year  ...                                                  4                                                             \n",
              "86                    3rd year  ...                                                  4                                                             \n",
              "87                    4th year  ...                                                  4                                                             \n",
              "88                    4th year  ...                                                  4                                                             \n",
              "89                    3rd year  ...                                                  4                                                             \n",
              "\n",
              "[90 rows x 11 columns]"
            ]
          },
          "metadata": {
            "tags": []
          },
          "execution_count": 173
        }
      ]
    },
    {
      "cell_type": "code",
      "metadata": {
        "colab": {
          "base_uri": "https://localhost:8080/"
        },
        "id": "E71DVc3rOLSR",
        "outputId": "c9dd47e2-f00c-4b2b-f117-2fae6e03a566"
      },
      "source": [
        "data1['Bhawan(Hostel) you are residing.'].value_counts()"
      ],
      "execution_count": null,
      "outputs": [
        {
          "output_type": "execute_result",
          "data": {
            "text/plain": [
              "RAJIV    90\n",
              "Name: Bhawan(Hostel) you are residing., dtype: int64"
            ]
          },
          "metadata": {
            "tags": []
          },
          "execution_count": 174
        }
      ]
    },
    {
      "cell_type": "code",
      "metadata": {
        "colab": {
          "base_uri": "https://localhost:8080/"
        },
        "id": "pomlDPdkOcOo",
        "outputId": "3950691f-7b23-4937-8006-39e193804117"
      },
      "source": [
        "data1['Floor of your Room!'].value_counts()"
      ],
      "execution_count": null,
      "outputs": [
        {
          "output_type": "execute_result",
          "data": {
            "text/plain": [
              "1st Floor       27\n",
              "2nd Floor       17\n",
              "5th Floor       13\n",
              "Ground Floor    11\n",
              "3rd Floor       10\n",
              "4th Floor        6\n",
              "6th Floor        6\n",
              "Name: Floor of your Room!, dtype: int64"
            ]
          },
          "metadata": {
            "tags": []
          },
          "execution_count": 175
        }
      ]
    },
    {
      "cell_type": "code",
      "metadata": {
        "colab": {
          "base_uri": "https://localhost:8080/"
        },
        "id": "tCBmEjvzObSj",
        "outputId": "81f753f1-ce40-4971-af7e-5a4b5e49eb1f"
      },
      "source": [
        "data1['Which Block in Bhawan?'].value_counts()"
      ],
      "execution_count": null,
      "outputs": [
        {
          "output_type": "execute_result",
          "data": {
            "text/plain": [
              "A-Block    49\n",
              "B-Block    41\n",
              "Name: Which Block in Bhawan?, dtype: int64"
            ]
          },
          "metadata": {
            "tags": []
          },
          "execution_count": 176
        }
      ]
    },
    {
      "cell_type": "code",
      "metadata": {
        "colab": {
          "base_uri": "https://localhost:8080/",
          "height": 304
        },
        "id": "d8grPGEcOqmg",
        "outputId": "2edd187f-fd2a-4fab-fac4-f41302db4b3b"
      },
      "source": [
        "data_g1=data1.groupby(by='Which Block in Bhawan?')"
      ],
      "execution_count": null,
      "outputs": [
        {
          "output_type": "execute_result",
          "data": {
            "text/html": [
              "<div>\n",
              "<style scoped>\n",
              "    .dataframe tbody tr th:only-of-type {\n",
              "        vertical-align: middle;\n",
              "    }\n",
              "\n",
              "    .dataframe tbody tr th {\n",
              "        vertical-align: top;\n",
              "    }\n",
              "\n",
              "    .dataframe thead th {\n",
              "        text-align: right;\n",
              "    }\n",
              "</style>\n",
              "<table border=\"1\" class=\"dataframe\">\n",
              "  <thead>\n",
              "    <tr style=\"text-align: right;\">\n",
              "      <th></th>\n",
              "      <th>Year of study(Current year)</th>\n",
              "      <th>Bhawan(Hostel) you are residing.</th>\n",
              "      <th>Floor of your Room!</th>\n",
              "      <th>Q1) Overall maintenance service of your Bhawan?</th>\n",
              "      <th>Q2) Maintenance services of bathrooms and washbasins. (Daily cleaning, handwash &amp; water availability etc.)</th>\n",
              "      <th>Q3) Drinking water quality (cooler and water filter maintenance)?</th>\n",
              "      <th>Q4) Response time taken for any electrical or furniture's related complains.</th>\n",
              "      <th>Q5) Lift and corridor’s maintenance (cleanliness, lighting...etc.).</th>\n",
              "      <th>Q6) Bicycle Parking facilities (like availability of proper shade, its maintenance, CCTV ...etc.)?</th>\n",
              "      <th>Q7) Maintenance service of Bhawan laundry (Clothes washing time, cleanliness, quality of clothes washing...etc)</th>\n",
              "    </tr>\n",
              "    <tr>\n",
              "      <th>Which Block in Bhawan?</th>\n",
              "      <th></th>\n",
              "      <th></th>\n",
              "      <th></th>\n",
              "      <th></th>\n",
              "      <th></th>\n",
              "      <th></th>\n",
              "      <th></th>\n",
              "      <th></th>\n",
              "      <th></th>\n",
              "      <th></th>\n",
              "    </tr>\n",
              "  </thead>\n",
              "  <tbody>\n",
              "    <tr>\n",
              "      <th>A-Block</th>\n",
              "      <td>3rd year</td>\n",
              "      <td>RAJIV</td>\n",
              "      <td>5th Floor</td>\n",
              "      <td>3</td>\n",
              "      <td>3</td>\n",
              "      <td>3</td>\n",
              "      <td>4</td>\n",
              "      <td>3</td>\n",
              "      <td>2</td>\n",
              "      <td>3</td>\n",
              "    </tr>\n",
              "    <tr>\n",
              "      <th>B-Block</th>\n",
              "      <td>3rd year</td>\n",
              "      <td>RAJIV</td>\n",
              "      <td>1st Floor</td>\n",
              "      <td>3</td>\n",
              "      <td>2</td>\n",
              "      <td>1</td>\n",
              "      <td>4</td>\n",
              "      <td>3</td>\n",
              "      <td>1</td>\n",
              "      <td>3</td>\n",
              "    </tr>\n",
              "  </tbody>\n",
              "</table>\n",
              "</div>"
            ],
            "text/plain": [
              "                       Year of study(Current year)  ... Q7) Maintenance service of Bhawan laundry (Clothes washing time, cleanliness, quality of clothes washing...etc)\n",
              "Which Block in Bhawan?                              ...                                                                                                                \n",
              "A-Block                                   3rd year  ...                                                  3                                                             \n",
              "B-Block                                   3rd year  ...                                                  3                                                             \n",
              "\n",
              "[2 rows x 10 columns]"
            ]
          },
          "metadata": {
            "tags": []
          },
          "execution_count": 178
        }
      ]
    },
    {
      "cell_type": "code",
      "metadata": {
        "colab": {
          "base_uri": "https://localhost:8080/",
          "height": 203
        },
        "id": "MpeyZfXYPKp7",
        "outputId": "f3b98dd0-2e86-4265-e995-675d24b21fc8"
      },
      "source": [
        "data_g1.mean().iloc[:,1:5]"
      ],
      "execution_count": null,
      "outputs": [
        {
          "output_type": "execute_result",
          "data": {
            "text/html": [
              "<div>\n",
              "<style scoped>\n",
              "    .dataframe tbody tr th:only-of-type {\n",
              "        vertical-align: middle;\n",
              "    }\n",
              "\n",
              "    .dataframe tbody tr th {\n",
              "        vertical-align: top;\n",
              "    }\n",
              "\n",
              "    .dataframe thead th {\n",
              "        text-align: right;\n",
              "    }\n",
              "</style>\n",
              "<table border=\"1\" class=\"dataframe\">\n",
              "  <thead>\n",
              "    <tr style=\"text-align: right;\">\n",
              "      <th></th>\n",
              "      <th>Q2) Maintenance services of bathrooms and washbasins. (Daily cleaning, handwash &amp; water availability etc.)</th>\n",
              "      <th>Q3) Drinking water quality (cooler and water filter maintenance)?</th>\n",
              "      <th>Q4) Response time taken for any electrical or furniture's related complains.</th>\n",
              "      <th>Q5) Lift and corridor’s maintenance (cleanliness, lighting...etc.).</th>\n",
              "    </tr>\n",
              "    <tr>\n",
              "      <th>Which Block in Bhawan?</th>\n",
              "      <th></th>\n",
              "      <th></th>\n",
              "      <th></th>\n",
              "      <th></th>\n",
              "    </tr>\n",
              "  </thead>\n",
              "  <tbody>\n",
              "    <tr>\n",
              "      <th>A-Block</th>\n",
              "      <td>3.122449</td>\n",
              "      <td>3.244898</td>\n",
              "      <td>3.428571</td>\n",
              "      <td>3.510204</td>\n",
              "    </tr>\n",
              "    <tr>\n",
              "      <th>B-Block</th>\n",
              "      <td>3.048780</td>\n",
              "      <td>2.975610</td>\n",
              "      <td>3.341463</td>\n",
              "      <td>3.268293</td>\n",
              "    </tr>\n",
              "  </tbody>\n",
              "</table>\n",
              "</div>"
            ],
            "text/plain": [
              "                        Q2) Maintenance services of bathrooms and washbasins. (Daily cleaning, handwash & water availability etc.)  ...  Q5) Lift and corridor’s maintenance (cleanliness, lighting...etc.).\n",
              "Which Block in Bhawan?                                                                                                              ...                                                                     \n",
              "A-Block                                                          3.122449                                                           ...                                           3.510204                  \n",
              "B-Block                                                          3.048780                                                           ...                                           3.268293                  \n",
              "\n",
              "[2 rows x 4 columns]"
            ]
          },
          "metadata": {
            "tags": []
          },
          "execution_count": 186
        }
      ]
    },
    {
      "cell_type": "code",
      "metadata": {
        "colab": {
          "base_uri": "https://localhost:8080/",
          "height": 368
        },
        "id": "hm8iM9iXPMFG",
        "outputId": "3c3f8064-2be3-49da-dfe5-f8cbd5589b05"
      },
      "source": [
        "data_g2=data1.groupby(by='Floor of your Room!')\n",
        "data_g2.mean().iloc[:,1:5]"
      ],
      "execution_count": null,
      "outputs": [
        {
          "output_type": "execute_result",
          "data": {
            "text/html": [
              "<div>\n",
              "<style scoped>\n",
              "    .dataframe tbody tr th:only-of-type {\n",
              "        vertical-align: middle;\n",
              "    }\n",
              "\n",
              "    .dataframe tbody tr th {\n",
              "        vertical-align: top;\n",
              "    }\n",
              "\n",
              "    .dataframe thead th {\n",
              "        text-align: right;\n",
              "    }\n",
              "</style>\n",
              "<table border=\"1\" class=\"dataframe\">\n",
              "  <thead>\n",
              "    <tr style=\"text-align: right;\">\n",
              "      <th></th>\n",
              "      <th>Q2) Maintenance services of bathrooms and washbasins. (Daily cleaning, handwash &amp; water availability etc.)</th>\n",
              "      <th>Q3) Drinking water quality (cooler and water filter maintenance)?</th>\n",
              "      <th>Q4) Response time taken for any electrical or furniture's related complains.</th>\n",
              "      <th>Q5) Lift and corridor’s maintenance (cleanliness, lighting...etc.).</th>\n",
              "    </tr>\n",
              "    <tr>\n",
              "      <th>Floor of your Room!</th>\n",
              "      <th></th>\n",
              "      <th></th>\n",
              "      <th></th>\n",
              "      <th></th>\n",
              "    </tr>\n",
              "  </thead>\n",
              "  <tbody>\n",
              "    <tr>\n",
              "      <th>1st Floor</th>\n",
              "      <td>3.000000</td>\n",
              "      <td>3.000000</td>\n",
              "      <td>3.333333</td>\n",
              "      <td>3.185185</td>\n",
              "    </tr>\n",
              "    <tr>\n",
              "      <th>2nd Floor</th>\n",
              "      <td>3.000000</td>\n",
              "      <td>3.000000</td>\n",
              "      <td>3.764706</td>\n",
              "      <td>3.705882</td>\n",
              "    </tr>\n",
              "    <tr>\n",
              "      <th>3rd Floor</th>\n",
              "      <td>3.800000</td>\n",
              "      <td>2.900000</td>\n",
              "      <td>3.100000</td>\n",
              "      <td>3.300000</td>\n",
              "    </tr>\n",
              "    <tr>\n",
              "      <th>4th Floor</th>\n",
              "      <td>3.333333</td>\n",
              "      <td>3.333333</td>\n",
              "      <td>3.000000</td>\n",
              "      <td>3.666667</td>\n",
              "    </tr>\n",
              "    <tr>\n",
              "      <th>5th Floor</th>\n",
              "      <td>2.538462</td>\n",
              "      <td>2.846154</td>\n",
              "      <td>3.384615</td>\n",
              "      <td>3.384615</td>\n",
              "    </tr>\n",
              "    <tr>\n",
              "      <th>6th Floor</th>\n",
              "      <td>3.166667</td>\n",
              "      <td>3.333333</td>\n",
              "      <td>3.166667</td>\n",
              "      <td>3.666667</td>\n",
              "    </tr>\n",
              "    <tr>\n",
              "      <th>Ground Floor</th>\n",
              "      <td>3.272727</td>\n",
              "      <td>3.909091</td>\n",
              "      <td>3.545455</td>\n",
              "      <td>3.272727</td>\n",
              "    </tr>\n",
              "  </tbody>\n",
              "</table>\n",
              "</div>"
            ],
            "text/plain": [
              "                     Q2) Maintenance services of bathrooms and washbasins. (Daily cleaning, handwash & water availability etc.)  ...  Q5) Lift and corridor’s maintenance (cleanliness, lighting...etc.).\n",
              "Floor of your Room!                                                                                                              ...                                                                     \n",
              "1st Floor                                                     3.000000                                                           ...                                           3.185185                  \n",
              "2nd Floor                                                     3.000000                                                           ...                                           3.705882                  \n",
              "3rd Floor                                                     3.800000                                                           ...                                           3.300000                  \n",
              "4th Floor                                                     3.333333                                                           ...                                           3.666667                  \n",
              "5th Floor                                                     2.538462                                                           ...                                           3.384615                  \n",
              "6th Floor                                                     3.166667                                                           ...                                           3.666667                  \n",
              "Ground Floor                                                  3.272727                                                           ...                                           3.272727                  \n",
              "\n",
              "[7 rows x 4 columns]"
            ]
          },
          "metadata": {
            "tags": []
          },
          "execution_count": 187
        }
      ]
    },
    {
      "cell_type": "code",
      "metadata": {
        "colab": {
          "base_uri": "https://localhost:8080/",
          "height": 601
        },
        "id": "1g0yJ65qTZWy",
        "outputId": "59796442-39c7-4dfa-92c0-073bedd1ceae"
      },
      "source": [
        "plt.figure(figsize=(12,8))\n",
        "plt.plot(data1['Q1) Overall maintenance service of your Bhawan?'])\n",
        "plt.plot(data1['Q1) Overall maintenance service of your Bhawan?'].mean())\n",
        "plt.xticks(np.arange(0,90,10))\n",
        "plt.yticks(np.arange(0,6))\n"
      ],
      "execution_count": null,
      "outputs": [
        {
          "output_type": "execute_result",
          "data": {
            "text/plain": [
              "([<matplotlib.axis.YTick at 0x7f781147b590>,\n",
              "  <matplotlib.axis.YTick at 0x7f78113a5850>,\n",
              "  <matplotlib.axis.YTick at 0x7f7811465650>,\n",
              "  <matplotlib.axis.YTick at 0x7f781129fb90>,\n",
              "  <matplotlib.axis.YTick at 0x7f781128a950>,\n",
              "  <matplotlib.axis.YTick at 0x7f781128a710>],\n",
              " <a list of 6 Text major ticklabel objects>)"
            ]
          },
          "metadata": {
            "tags": []
          },
          "execution_count": 192
        },
        {
          "output_type": "display_data",
          "data": {
            "image/png": "[encoded data removed]",
            "text/plain": [
              "<Figure size 864x576 with 1 Axes>"
            ]
          },
          "metadata": {
            "tags": [],
            "needs_background": "light"
          }
        }
      ]
    },
    {
      "cell_type": "code",
      "metadata": {
        "colab": {
          "base_uri": "https://localhost:8080/",
          "height": 282
        },
        "id": "jou1pJNiTiTy",
        "outputId": "aa5bee92-11c7-4a0a-98c3-81d041773763"
      },
      "source": [
        "plt.plot(data1['Q2) Maintenance services of bathrooms and washbasins. (Daily cleaning, handwash & water availability etc.)'])"
      ],
      "execution_count": null,
      "outputs": [
        {
          "output_type": "execute_result",
          "data": {
            "text/plain": [
              "[<matplotlib.lines.Line2D at 0x7f781143c410>]"
            ]
          },
          "metadata": {
            "tags": []
          },
          "execution_count": 189
        },
        {
          "output_type": "display_data",
          "data": {
            "image/png": "[encoded data removed]",
            "text/plain": [
              "<Figure size 432x288 with 1 Axes>"
            ]
          },
          "metadata": {
            "tags": [],
            "needs_background": "light"
          }
        }
      ]
    }
  ]
}