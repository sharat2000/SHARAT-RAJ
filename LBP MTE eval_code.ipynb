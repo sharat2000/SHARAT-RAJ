{
  "nbformat": 4,
  "nbformat_minor": 0,
  "metadata": {
    "kernelspec": {
      "display_name": "Python 3",
      "language": "python",
      "name": "python3"
    },
    "language_info": {
      "codemirror_mode": {
        "name": "ipython",
        "version": 3
      },
      "file_extension": ".py",
      "mimetype": "text/x-python",
      "name": "python",
      "nbconvert_exporter": "python",
      "pygments_lexer": "ipython3",
      "version": "3.8.8"
    },
    "colab": {
      "name": "2020-07-27-demand-forecasting.ipynb",
      "provenance": []
    }
  },
  "cells": [
    {
      "cell_type": "code",
      "metadata": {
        "id": "YHWoWyiHUFuL",
        "outputId": "4c7fdc7a-af0e-4455-ce23-f39473024df9",
        "colab": {
          "base_uri": "https://localhost:8080/"
        }
      },
      "source": [
        "from google.colab import drive\n",
        "drive.mount('/content/drive')"
      ],
      "execution_count": 2,
      "outputs": [
        {
          "output_type": "stream",
          "text": [
            "Mounted at /content/drive\n"
          ],
          "name": "stdout"
        }
      ]
    },
    {
      "cell_type": "code",
      "metadata": {
        "colab": {
          "base_uri": "https://localhost:8080/"
        },
        "id": "DNY40feKRBZN",
        "outputId": "6804bfad-c8e0-4f14-8933-629f0ec89861"
      },
      "source": [
        "# packages\n",
        "import numpy as np\n",
        "import pandas as pd\n",
        "import matplotlib.pyplot as plt\n",
        "import seaborn as sns\n",
        "\n",
        "# data import\n",
        "infos  = pd.read_csv('/content/drive/MyDrive/DMC20_Data/infos.csv',  sep = '|')\n",
        "items  = pd.read_csv('/content/drive/MyDrive/DMC20_Data/items.csv',  sep = '|')\n",
        "orders = pd.read_csv('/content/drive/MyDrive/DMC20_Data/orders.csv', sep = '|')\n",
        "print(infos.shape)\n",
        "print(items.shape)\n",
        "print(orders.shape)"
      ],
      "execution_count": 3,
      "outputs": [
        {
          "output_type": "stream",
          "text": [
            "(10463, 3)\n",
            "(10463, 8)\n",
            "(2181955, 5)\n"
          ],
          "name": "stdout"
        }
      ]
    },
    {
      "cell_type": "code",
      "metadata": {
        "colab": {
          "base_uri": "https://localhost:8080/",
          "height": 136
        },
        "id": "6BG1l2Z0RBZO",
        "outputId": "c114f0f0-0cc6-4f37-971f-1e5c70392bb1"
      },
      "source": [
        "infos.head(3)"
      ],
      "execution_count": 4,
      "outputs": [
        {
          "output_type": "execute_result",
          "data": {
            "text/html": [
              "<div>\n",
              "<style scoped>\n",
              "    .dataframe tbody tr th:only-of-type {\n",
              "        vertical-align: middle;\n",
              "    }\n",
              "\n",
              "    .dataframe tbody tr th {\n",
              "        vertical-align: top;\n",
              "    }\n",
              "\n",
              "    .dataframe thead th {\n",
              "        text-align: right;\n",
              "    }\n",
              "</style>\n",
              "<table border=\"1\" class=\"dataframe\">\n",
              "  <thead>\n",
              "    <tr style=\"text-align: right;\">\n",
              "      <th></th>\n",
              "      <th>itemID</th>\n",
              "      <th>simulationPrice</th>\n",
              "      <th>promotion</th>\n",
              "    </tr>\n",
              "  </thead>\n",
              "  <tbody>\n",
              "    <tr>\n",
              "      <th>0</th>\n",
              "      <td>1</td>\n",
              "      <td>3.43</td>\n",
              "      <td>NaN</td>\n",
              "    </tr>\n",
              "    <tr>\n",
              "      <th>1</th>\n",
              "      <td>2</td>\n",
              "      <td>9.15</td>\n",
              "      <td>NaN</td>\n",
              "    </tr>\n",
              "    <tr>\n",
              "      <th>2</th>\n",
              "      <td>3</td>\n",
              "      <td>14.04</td>\n",
              "      <td>NaN</td>\n",
              "    </tr>\n",
              "  </tbody>\n",
              "</table>\n",
              "</div>"
            ],
            "text/plain": [
              "   itemID  simulationPrice promotion\n",
              "0       1             3.43       NaN\n",
              "1       2             9.15       NaN\n",
              "2       3            14.04       NaN"
            ]
          },
          "metadata": {
            "tags": []
          },
          "execution_count": 4
        }
      ]
    },
    {
      "cell_type": "code",
      "metadata": {
        "colab": {
          "base_uri": "https://localhost:8080/",
          "height": 195
        },
        "id": "UNzzSrr1RBZO",
        "outputId": "bbf89812-31de-46de-b4a0-e8d994bbfbd9"
      },
      "source": [
        "items.head()"
      ],
      "execution_count": 6,
      "outputs": [
        {
          "output_type": "execute_result",
          "data": {
            "text/html": [
              "<div>\n",
              "<style scoped>\n",
              "    .dataframe tbody tr th:only-of-type {\n",
              "        vertical-align: middle;\n",
              "    }\n",
              "\n",
              "    .dataframe tbody tr th {\n",
              "        vertical-align: top;\n",
              "    }\n",
              "\n",
              "    .dataframe thead th {\n",
              "        text-align: right;\n",
              "    }\n",
              "</style>\n",
              "<table border=\"1\" class=\"dataframe\">\n",
              "  <thead>\n",
              "    <tr style=\"text-align: right;\">\n",
              "      <th></th>\n",
              "      <th>itemID</th>\n",
              "      <th>brand</th>\n",
              "      <th>manufacturer</th>\n",
              "      <th>customerRating</th>\n",
              "      <th>category1</th>\n",
              "      <th>category2</th>\n",
              "      <th>category3</th>\n",
              "      <th>recommendedRetailPrice</th>\n",
              "    </tr>\n",
              "  </thead>\n",
              "  <tbody>\n",
              "    <tr>\n",
              "      <th>0</th>\n",
              "      <td>1</td>\n",
              "      <td>0</td>\n",
              "      <td>1</td>\n",
              "      <td>4.38</td>\n",
              "      <td>1</td>\n",
              "      <td>1</td>\n",
              "      <td>1</td>\n",
              "      <td>8.84</td>\n",
              "    </tr>\n",
              "    <tr>\n",
              "      <th>1</th>\n",
              "      <td>2</td>\n",
              "      <td>0</td>\n",
              "      <td>2</td>\n",
              "      <td>3.00</td>\n",
              "      <td>1</td>\n",
              "      <td>2</td>\n",
              "      <td>1</td>\n",
              "      <td>16.92</td>\n",
              "    </tr>\n",
              "    <tr>\n",
              "      <th>2</th>\n",
              "      <td>3</td>\n",
              "      <td>0</td>\n",
              "      <td>3</td>\n",
              "      <td>5.00</td>\n",
              "      <td>1</td>\n",
              "      <td>3</td>\n",
              "      <td>1</td>\n",
              "      <td>15.89</td>\n",
              "    </tr>\n",
              "    <tr>\n",
              "      <th>3</th>\n",
              "      <td>4</td>\n",
              "      <td>0</td>\n",
              "      <td>2</td>\n",
              "      <td>4.44</td>\n",
              "      <td>1</td>\n",
              "      <td>2</td>\n",
              "      <td>1</td>\n",
              "      <td>40.17</td>\n",
              "    </tr>\n",
              "    <tr>\n",
              "      <th>4</th>\n",
              "      <td>5</td>\n",
              "      <td>0</td>\n",
              "      <td>2</td>\n",
              "      <td>2.33</td>\n",
              "      <td>1</td>\n",
              "      <td>1</td>\n",
              "      <td>1</td>\n",
              "      <td>17.04</td>\n",
              "    </tr>\n",
              "  </tbody>\n",
              "</table>\n",
              "</div>"
            ],
            "text/plain": [
              "   itemID  brand  manufacturer  ...  category2  category3  recommendedRetailPrice\n",
              "0       1      0             1  ...          1          1                    8.84\n",
              "1       2      0             2  ...          2          1                   16.92\n",
              "2       3      0             3  ...          3          1                   15.89\n",
              "3       4      0             2  ...          2          1                   40.17\n",
              "4       5      0             2  ...          1          1                   17.04\n",
              "\n",
              "[5 rows x 8 columns]"
            ]
          },
          "metadata": {
            "tags": []
          },
          "execution_count": 6
        }
      ]
    },
    {
      "cell_type": "code",
      "metadata": {
        "colab": {
          "base_uri": "https://localhost:8080/",
          "height": 195
        },
        "id": "9MELDdh3RBZP",
        "outputId": "d817cff1-3f9f-4f9c-848f-3666374a5f33"
      },
      "source": [
        "orders.head()"
      ],
      "execution_count": 7,
      "outputs": [
        {
          "output_type": "execute_result",
          "data": {
            "text/html": [
              "<div>\n",
              "<style scoped>\n",
              "    .dataframe tbody tr th:only-of-type {\n",
              "        vertical-align: middle;\n",
              "    }\n",
              "\n",
              "    .dataframe tbody tr th {\n",
              "        vertical-align: top;\n",
              "    }\n",
              "\n",
              "    .dataframe thead th {\n",
              "        text-align: right;\n",
              "    }\n",
              "</style>\n",
              "<table border=\"1\" class=\"dataframe\">\n",
              "  <thead>\n",
              "    <tr style=\"text-align: right;\">\n",
              "      <th></th>\n",
              "      <th>time</th>\n",
              "      <th>transactID</th>\n",
              "      <th>itemID</th>\n",
              "      <th>order</th>\n",
              "      <th>salesPrice</th>\n",
              "    </tr>\n",
              "  </thead>\n",
              "  <tbody>\n",
              "    <tr>\n",
              "      <th>0</th>\n",
              "      <td>2018-01-01 00:01:56</td>\n",
              "      <td>2278968</td>\n",
              "      <td>450</td>\n",
              "      <td>1</td>\n",
              "      <td>17.42</td>\n",
              "    </tr>\n",
              "    <tr>\n",
              "      <th>1</th>\n",
              "      <td>2018-01-01 00:01:56</td>\n",
              "      <td>2278968</td>\n",
              "      <td>83</td>\n",
              "      <td>1</td>\n",
              "      <td>5.19</td>\n",
              "    </tr>\n",
              "    <tr>\n",
              "      <th>2</th>\n",
              "      <td>2018-01-01 00:07:11</td>\n",
              "      <td>2255797</td>\n",
              "      <td>7851</td>\n",
              "      <td>2</td>\n",
              "      <td>20.47</td>\n",
              "    </tr>\n",
              "    <tr>\n",
              "      <th>3</th>\n",
              "      <td>2018-01-01 00:09:24</td>\n",
              "      <td>2278968</td>\n",
              "      <td>450</td>\n",
              "      <td>1</td>\n",
              "      <td>17.42</td>\n",
              "    </tr>\n",
              "    <tr>\n",
              "      <th>4</th>\n",
              "      <td>2018-01-01 00:09:24</td>\n",
              "      <td>2278968</td>\n",
              "      <td>83</td>\n",
              "      <td>1</td>\n",
              "      <td>5.19</td>\n",
              "    </tr>\n",
              "  </tbody>\n",
              "</table>\n",
              "</div>"
            ],
            "text/plain": [
              "                  time  transactID  itemID  order  salesPrice\n",
              "0  2018-01-01 00:01:56     2278968     450      1       17.42\n",
              "1  2018-01-01 00:01:56     2278968      83      1        5.19\n",
              "2  2018-01-01 00:07:11     2255797    7851      2       20.47\n",
              "3  2018-01-01 00:09:24     2278968     450      1       17.42\n",
              "4  2018-01-01 00:09:24     2278968      83      1        5.19"
            ]
          },
          "metadata": {
            "tags": []
          },
          "execution_count": 7
        }
      ]
    },
    {
      "cell_type": "code",
      "metadata": {
        "colab": {
          "base_uri": "https://localhost:8080/"
        },
        "id": "K1vo9oWqRBZP",
        "outputId": "8514b1cd-4fb4-47bb-9355-2a119da70e53"
      },
      "source": [
        "print(infos.shape)\n",
        "print(items.shape)\n",
        "items = pd.merge(infos, items, on = 'itemID', how = 'left')\n",
        "print(items.shape)\n",
        "del infos"
      ],
      "execution_count": 8,
      "outputs": [
        {
          "output_type": "stream",
          "text": [
            "(10463, 3)\n",
            "(10463, 8)\n",
            "(10463, 10)\n"
          ],
          "name": "stdout"
        }
      ]
    },
    {
      "cell_type": "markdown",
      "metadata": {
        "id": "fjTbdyk6RBZQ"
      },
      "source": [
        "Next, we check and convert feature types to the appropriate format:"
      ]
    },
    {
      "cell_type": "code",
      "metadata": {
        "colab": {
          "base_uri": "https://localhost:8080/"
        },
        "id": "fLD88EOFRBZQ",
        "outputId": "9733b3d2-2e10-4ceb-c3f4-4fb72dec162b"
      },
      "source": [
        "#collapse-hide\n",
        "\n",
        "print('-' * 50)\n",
        "print(items.dtypes)\n",
        "print('-' * 50)\n",
        "print(orders.dtypes)\n",
        "print('-' * 50)\n",
        "\n",
        "# items\n",
        "for var in ['itemID', 'brand', 'manufacturer', 'category1', 'category2', 'category3']:\n",
        "    items[var] = items[var].astype('str').astype('object') \n",
        "    \n",
        "# orders\n",
        "for var in ['transactID', 'itemID']:\n",
        "    orders[var] = orders[var].astype('str').astype('object') \n",
        "    \n",
        "# dates\n",
        "orders['time'] = pd.to_datetime(orders['time'].astype('str'), infer_datetime_format = True)"
      ],
      "execution_count": 9,
      "outputs": [
        {
          "output_type": "stream",
          "text": [
            "--------------------------------------------------\n",
            "itemID                      int64\n",
            "simulationPrice           float64\n",
            "promotion                  object\n",
            "brand                       int64\n",
            "manufacturer                int64\n",
            "customerRating            float64\n",
            "category1                   int64\n",
            "category2                   int64\n",
            "category3                   int64\n",
            "recommendedRetailPrice    float64\n",
            "dtype: object\n",
            "--------------------------------------------------\n",
            "time           object\n",
            "transactID      int64\n",
            "itemID          int64\n",
            "order           int64\n",
            "salesPrice    float64\n",
            "dtype: object\n",
            "--------------------------------------------------\n"
          ],
          "name": "stdout"
        }
      ]
    },
    {
      "cell_type": "code",
      "metadata": {
        "colab": {
          "base_uri": "https://localhost:8080/"
        },
        "id": "33cpOSNwRBZQ",
        "outputId": "2889d42f-ce9f-4647-a994-7de38e311933"
      },
      "source": [
        "#collapse-show\n",
        "\n",
        "# import packages\n",
        "!pip install dptools\n",
        "from dptools import *\n",
        "\n",
        "# split promotion feature\n",
        "items = split_nested_features(items, split_vars = 'promotion', sep = ',')\n",
        "print(items.head(3))\n",
        "\n",
        "# convert dates\n",
        "promotion_vars = items.filter(like = 'promotion_').columns\n",
        "for var in promotion_vars:\n",
        "    items[var] = pd.to_datetime(items[var], infer_datetime_format = True)"
      ],
      "execution_count": 10,
      "outputs": [
        {
          "output_type": "stream",
          "text": [
            "Collecting dptools\n",
            "  Downloading https://files.pythonhosted.org/packages/61/69/243ef45b5256865c3240b3c1021310f6cb22959e624d0ecc4f0836ab29de/dptools-0.4.0.tar.gz\n",
            "Requirement already satisfied: numpy in /usr/local/lib/python3.7/dist-packages (from dptools) (1.19.5)\n",
            "Requirement already satisfied: pandas in /usr/local/lib/python3.7/dist-packages (from dptools) (1.1.5)\n",
            "Requirement already satisfied: scikit-learn in /usr/local/lib/python3.7/dist-packages (from dptools) (0.22.2.post1)\n",
            "Requirement already satisfied: scipy in /usr/local/lib/python3.7/dist-packages (from dptools) (1.4.1)\n",
            "Requirement already satisfied: python-dateutil>=2.7.3 in /usr/local/lib/python3.7/dist-packages (from pandas->dptools) (2.8.1)\n",
            "Requirement already satisfied: pytz>=2017.2 in /usr/local/lib/python3.7/dist-packages (from pandas->dptools) (2018.9)\n",
            "Requirement already satisfied: joblib>=0.11 in /usr/local/lib/python3.7/dist-packages (from scikit-learn->dptools) (1.0.1)\n",
            "Requirement already satisfied: six>=1.5 in /usr/local/lib/python3.7/dist-packages (from python-dateutil>=2.7.3->pandas->dptools) (1.15.0)\n",
            "Building wheels for collected packages: dptools\n",
            "  Building wheel for dptools (setup.py) ... \u001b[?25l\u001b[?25hdone\n",
            "  Created wheel for dptools: filename=dptools-0.4.0-cp37-none-any.whl size=11851 sha256=afc529d661572fd879a985c6f333769bef2d4f5400b9809014ceadf0326fbbba\n",
            "  Stored in directory: /root/.cache/pip/wheels/07/b9/89/fabed7652bd114c7293b3e4204289d4312fc60b214743f3c9c\n",
            "Successfully built dptools\n",
            "Installing collected packages: dptools\n",
            "Successfully installed dptools-0.4.0\n",
            "Added 3 split-based features.\n",
            "  itemID  simulationPrice brand  ... promotion_0  promotion_1 promotion_2\n",
            "0      1             3.43     0  ...         NaN          NaN         NaN\n",
            "1      2             9.15     0  ...         NaN          NaN         NaN\n",
            "2      3            14.04     0  ...         NaN          NaN         NaN\n",
            "\n",
            "[3 rows x 12 columns]\n"
          ],
          "name": "stdout"
        }
      ]
    },
    {
      "cell_type": "code",
      "metadata": {
        "colab": {
          "base_uri": "https://localhost:8080/"
        },
        "id": "DCgBC8byRBZR",
        "outputId": "12471a16-802a-4097-cde2-bbe5bbdc84ae"
      },
      "source": [
        "save_csv_version('/content/drive/MyDrive/DMC20_Data/orders_1.csv', orders, index = False, compression = 'gzip')\n",
        "save_csv_version('/content/drive/MyDrive/DMC20_Data/items_1.csv',  items,  index = False, compression = 'gzip')"
      ],
      "execution_count": 12,
      "outputs": [
        {
          "output_type": "stream",
          "text": [
            "Saved as /content/drive/MyDrive/DMC20_Data/orders_1_v1.csv\n",
            "Saved as /content/drive/MyDrive/DMC20_Data/items_1_v1.csv\n"
          ],
          "name": "stdout"
        }
      ]
    },
    {
      "cell_type": "markdown",
      "metadata": {
        "id": "jiIc3FZDRBZR"
      },
      "source": [
        "# 3. Aggregation and feature engineering\n",
        "\n",
        "## Data aggregation\n",
        "\n",
        "\n"
      ]
    },
    {
      "cell_type": "code",
      "metadata": {
        "colab": {
          "base_uri": "https://localhost:8080/",
          "height": 136
        },
        "id": "Ff6GfACRRBZS",
        "outputId": "1dd99bd7-1434-4c87-ba6e-706e59a0d7fa"
      },
      "source": [
        "#collapse-show\n",
        "orders['day_of_year'] = orders['time'].dt.dayofyear\n",
        "orders_price = orders.groupby(['itemID', 'day_of_year'])['salesPrice'].agg('mean').reset_index()\n",
        "orders = orders.groupby(['itemID', 'day_of_year'])['order'].agg('sum').reset_index()\n",
        "orders.head(3)"
      ],
      "execution_count": 13,
      "outputs": [
        {
          "output_type": "execute_result",
          "data": {
            "text/html": [
              "<div>\n",
              "<style scoped>\n",
              "    .dataframe tbody tr th:only-of-type {\n",
              "        vertical-align: middle;\n",
              "    }\n",
              "\n",
              "    .dataframe tbody tr th {\n",
              "        vertical-align: top;\n",
              "    }\n",
              "\n",
              "    .dataframe thead th {\n",
              "        text-align: right;\n",
              "    }\n",
              "</style>\n",
              "<table border=\"1\" class=\"dataframe\">\n",
              "  <thead>\n",
              "    <tr style=\"text-align: right;\">\n",
              "      <th></th>\n",
              "      <th>itemID</th>\n",
              "      <th>day_of_year</th>\n",
              "      <th>order</th>\n",
              "    </tr>\n",
              "  </thead>\n",
              "  <tbody>\n",
              "    <tr>\n",
              "      <th>0</th>\n",
              "      <td>1</td>\n",
              "      <td>23</td>\n",
              "      <td>1</td>\n",
              "    </tr>\n",
              "    <tr>\n",
              "      <th>1</th>\n",
              "      <td>1</td>\n",
              "      <td>25</td>\n",
              "      <td>1</td>\n",
              "    </tr>\n",
              "    <tr>\n",
              "      <th>2</th>\n",
              "      <td>1</td>\n",
              "      <td>29</td>\n",
              "      <td>307</td>\n",
              "    </tr>\n",
              "  </tbody>\n",
              "</table>\n",
              "</div>"
            ],
            "text/plain": [
              "  itemID  day_of_year  order\n",
              "0      1           23      1\n",
              "1      1           25      1\n",
              "2      1           29    307"
            ]
          },
          "metadata": {
            "tags": []
          },
          "execution_count": 13
        }
      ]
    },
    {
      "cell_type": "markdown",
      "metadata": {
        "id": "geL2gzh9RBZS"
      },
      "source": [
        "## Adding missing item-day combinations\n",
        "\n",
        "\n",
        "\n",
        "To account for the missing data, we add entries with `order = 0` for missing day-item combinations. This increases the number of observations from 100,771 to 1,883,340 and provides useful information about zero sales."
      ]
    },
    {
      "cell_type": "code",
      "metadata": {
        "colab": {
          "base_uri": "https://localhost:8080/"
        },
        "id": "wF0BWTPqRBZS",
        "outputId": "5c9fbd86-9ba9-4726-eac6-4c28d9b798ec"
      },
      "source": [
        "#collapse-show\n",
        "\n",
        "# add items that were never sold before\n",
        "missing_itemIDs = set(items['itemID'].unique()) - set(orders['itemID'].unique())\n",
        "missing_rows = pd.DataFrame({'itemID':     list(missing_itemIDs), \n",
        "                            'day_of_year': np.ones(len(missing_itemIDs)).astype('int'), \n",
        "                            'order':       np.zeros(len(missing_itemIDs)).astype('int')})\n",
        "orders = pd.concat([orders, missing_rows], axis = 0)\n",
        "print(orders.shape)\n",
        "\n",
        "# add zeros for days with no transactions\n",
        "agg_orders = orders.groupby(['itemID', 'day_of_year']).order.unique().unstack('day_of_year').stack('day_of_year', dropna = False)\n",
        "agg_orders = agg_orders.reset_index()\n",
        "agg_orders.columns = ['itemID', 'day_of_year', 'order']\n",
        "agg_orders['order'].fillna(0, inplace = True)\n",
        "agg_orders['order'] = agg_orders['order'].astype(int)\n",
        "print(agg_orders.shape)"
      ],
      "execution_count": 14,
      "outputs": [
        {
          "output_type": "stream",
          "text": [
            "(100771, 3)\n",
            "(1883340, 3)\n"
          ],
          "name": "stdout"
        }
      ]
    },
    {
      "cell_type": "code",
      "metadata": {
        "id": "4vwe0IySRBZT",
        "outputId": "99bffaac-073f-4877-de71-787062ffb9e8"
      },
      "source": [
        "#collapse-show\n",
        "\n",
        "# computations\n",
        "agg_orders['promotion'] = 0\n",
        "for itemID in tqdm(agg_orders['itemID'].unique()):\n",
        "    promo    = np.zeros(len(agg_orders[agg_orders['itemID'] == itemID]))\n",
        "    avg      = agg_orders[(agg_orders['itemID'] == itemID)]['order'].median()\n",
        "    std      = agg_orders[(agg_orders['itemID'] == itemID)]['order'].std()\n",
        "    peaks, _ = find_peaks(np.append(agg_orders[agg_orders['itemID'] == itemID]['order'].values, avg), # append avg to enable marking last point as promo\n",
        "                          prominence = max(5, std),  # peak difference with neighbor points; max(5,std) to exclude cases when std is too small\n",
        "                          height     = avg + 2*std)  # minimal height of a peak\n",
        "    promo[peaks] = 1\n",
        "    agg_orders.loc[agg_orders['itemID'] == itemID, 'promotion'] = promo\n",
        "\n",
        "# compare promotion number\n",
        "promo_in_train = (agg_orders['promotion'].sum() / agg_orders['day_of_year'].max()) / len(items)\n",
        "promo_in_test  = (3*len(items) - items.promotion_0.isnull().sum() - items.promotion_2.isnull().sum() - items.promotion_1.isnull().sum()) / 14 / len(items)\n",
        "print('Daily p(promotion) per item in train: {}'.format(np.round(promo_in_train, 4)))\n",
        "print('Daily p(promotion) per item in test:  {}'.format(np.round(promo_in_test , 4)))"
      ],
      "execution_count": null,
      "outputs": [
        {
          "output_type": "stream",
          "text": [
            "Daily p(promotion) per item in train: 0.0079\n",
            "Daily p(promotion) per item in test:  0.0141\n"
          ],
          "name": "stdout"
        }
      ]
    },
    {
      "cell_type": "code",
      "metadata": {
        "id": "acZSsYAMRBZU"
      },
      "source": [
        "#collapse-hide\n",
        "\n",
        "# compute promo count\n",
        "promo_count = agg_orders.groupby('itemID')['promotion'].agg('sum').reset_index()\n",
        "promo_count = promo_count.sort_values('promotion').reset_index(drop = True)\n",
        "\n",
        "# plot some items\n",
        "item_plots = [0, 2000, 4000, 6000, 8000, 9000, 10000, 10100, 10200, 10300, 10400, 10462]\n",
        "fig = plt.figure(figsize = (16, 12))\n",
        "for i in range(len(item_plots)):\n",
        "    plt.subplot(3, 4, i + 1)\n",
        "    df = agg_orders[agg_orders.itemID == promo_count['itemID'][item_plots[i]]]\n",
        "    plt.scatter(df['day_of_year'], df['order'], c = df['promotion'])\n",
        "    plt.ylabel('Total Orders')\n",
        "    plt.xlabel('Day')"
      ],
      "execution_count": null,
      "outputs": []
    },
    {
      "cell_type": "markdown",
      "metadata": {
        "id": "fSs96-07RBZU"
      },
      "source": [
        "![](https://github.com/kozodoi/blog/blob/master/_notebooks/images/fig_promotions.png?raw=1)"
      ]
    },
    {
      "cell_type": "code",
      "metadata": {
        "id": "MCB7mCcnRBZU",
        "outputId": "d4c3b0f6-219b-41b5-9c0a-d4f2f6ab5c79"
      },
      "source": [
        "#collapse-show\n",
        "\n",
        "# packages\n",
        "from tsfresh import extract_features\n",
        "\n",
        "# parameters\n",
        "days_input  = [1, 7, 14, 21, 28, 35]\n",
        "days_target = 14\n",
        "\n",
        "# preparations\n",
        "day_first = np.max(days_input)\n",
        "day_last  = agg_orders['day_of_year'].max() - days_target + 1\n",
        "orders    = None\n",
        "\n",
        "# merge manufacturer and category\n",
        "agg_orders = agg_orders.merge(items[['itemID', 'manufacturer']], how = 'left')\n",
        "agg_orders = agg_orders.merge(items[['itemID', 'category']],     how = 'left')\n",
        "\n",
        "# computations\n",
        "for day_of_year in tqdm(list(range(149, day_last)) + [agg_orders['day_of_year'].max()]):    \n",
        "\n",
        "    ### VALIDAION: TARGET, PROMOTIONS, PRICES\n",
        "        \n",
        "    # day intervals\n",
        "    target_day_min = day_of_year + 1\n",
        "    target_day_max = day_of_year + days_target\n",
        "    \n",
        "    # compute target and promo: labeled data\n",
        "    if day_of_year < agg_orders['day_of_year'].max():\n",
        "        \n",
        "        # target and future promo\n",
        "        tmp_df = agg_orders[(agg_orders['day_of_year'] >= target_day_min) &\n",
        "                            (agg_orders['day_of_year'] <= target_day_max)\n",
        "                           ].groupby('itemID')['order', 'promotion'].agg('sum').reset_index()\n",
        "        tmp_df.columns = ['itemID', 'target', 'promo_in_test']\n",
        "        \n",
        "        # future price\n",
        "        tmp_df['mean_price_test'] = agg_orders[(agg_orders['day_of_year'] >= target_day_min) &\n",
        "                                               (agg_orders['day_of_year'] <= target_day_max)\n",
        "                                              ].groupby('itemID')['salesPrice'].agg('mean').reset_index()['salesPrice']\n",
        "        \n",
        "        # merge manufacturer and category\n",
        "        tmp_df = tmp_df.merge(items[['itemID', 'manufacturer', 'category']], how = 'left', on = 'itemID')\n",
        "        \n",
        "        # future price per manufacturer\n",
        "        tmp_df_manufacturer = agg_orders[(agg_orders['day_of_year'] >= target_day_min) &\n",
        "                                         (agg_orders['day_of_year'] <= target_day_max)\n",
        "                                         ].groupby('manufacturer')['salesPrice'].agg('mean').reset_index()\n",
        "        tmp_df_manufacturer.columns = ['manufacturer', 'mean_price_test_manufacturer']\n",
        "        tmp_df = tmp_df.merge(tmp_df_manufacturer, how = 'left', on = 'manufacturer')\n",
        "        \n",
        "        # future price per category\n",
        "        tmp_df_category = agg_orders[(agg_orders['day_of_year'] >= target_day_min) &\n",
        "                                     (agg_orders['day_of_year'] <= target_day_max)\n",
        "                                     ].groupby('category')['salesPrice'].agg('mean').reset_index()\n",
        "        tmp_df_category.columns = ['category', 'mean_price_test_category']\n",
        "        tmp_df = tmp_df.merge(tmp_df_category, how = 'left', on = 'category')\n",
        "        \n",
        "        # future promo per manufacturer\n",
        "        tmp_df_manufacturer = agg_orders[(agg_orders['day_of_year'] >= target_day_min) &\n",
        "                                         (agg_orders['day_of_year'] <= target_day_max)\n",
        "                                         ].groupby('manufacturer')['promotion'].agg('sum').reset_index()\n",
        "        tmp_df_manufacturer.columns = ['manufacturer', 'promo_in_test_manufacturer']\n",
        "        tmp_df = tmp_df.merge(tmp_df_manufacturer, how = 'left', on = 'manufacturer')\n",
        "\n",
        "        # future promo per category\n",
        "        tmp_df_category = agg_orders[(agg_orders['day_of_year'] >= target_day_min) &\n",
        "                                     (agg_orders['day_of_year'] <= target_day_max)\n",
        "                                     ].groupby('category')['promotion'].agg('sum').reset_index()\n",
        "        tmp_df_category.columns = ['category', 'promo_in_test_category']\n",
        "        tmp_df = tmp_df.merge(tmp_df_category, how = 'left', on = 'category')\n",
        "                       \n",
        "        \n",
        "    # compute target and promo: unlabeled data\n",
        "    else:\n",
        "        \n",
        "        # placeholders\n",
        "        tmp_df = pd.DataFrame({'itemID':                     items.itemID,\n",
        "                               'target':                     np.nan,\n",
        "                               'promo_in_test':              np.nan,\n",
        "                               'mean_price_test':            items.simulationPrice,\n",
        "                               'manufacturer':               items.manufacturer,\n",
        "                               'category':                   items.category,\n",
        "                               'promo_in_test_manufacturer': np.nan,\n",
        "                               'promo_in_test_category':     np.nan})\n",
        "\n",
        "        \n",
        "    ### TRAINING: LAG-BASED FEATURES\n",
        "            \n",
        "    # compute features\n",
        "    for day_input in days_input:\n",
        "        \n",
        "        # day intervals\n",
        "        input_day_min  = day_of_year - day_input + 1\n",
        "        input_day_max  = day_of_year\n",
        "    \n",
        "        # frequency, promo and price\n",
        "        tmp_df_input = agg_orders[(agg_orders['day_of_year'] >= input_day_min) &\n",
        "                                  (agg_orders['day_of_year'] <= input_day_max)\n",
        "                                 ].groupby('itemID')\n",
        "        tmp_df['order_sum_last_'   + str(day_input)] = tmp_df_input['order'].agg('sum').reset_index()['order']\n",
        "        tmp_df['order_count_last_' + str(day_input)] = tmp_df_input['order'].agg(lambda x: len(x[x > 0])).reset_index()['order']\n",
        "        tmp_df['promo_count_last_' + str(day_input)] = tmp_df_input['promotion'].agg('sum').reset_index()['promotion']\n",
        "        tmp_df['mean_price_last_'  + str(day_input)] = tmp_df_input['salesPrice'].agg('mean').reset_index()['salesPrice']\n",
        "\n",
        "        # frequency, promo per manufacturer\n",
        "        tmp_df_input = agg_orders[(agg_orders['day_of_year'] >= input_day_min) &\n",
        "                                  (agg_orders['day_of_year'] <= input_day_max)\n",
        "                                 ].groupby('manufacturer')\n",
        "        tmp_df_manufacturer = tmp_df_input['order'].agg('sum').reset_index()\n",
        "        tmp_df_manufacturer.columns = ['manufacturer', 'order_manufacturer_sum_last_' + str(day_input)]\n",
        "        tmp_df_manufacturer['order_manufacturer_count_last_' + str(day_input)] = tmp_df_input['order'].agg(lambda x: len(x[x > 0])).reset_index()['order']\n",
        "        tmp_df_manufacturer['promo_manufacturer_count_last_' + str(day_input)] = tmp_df_input['promotion'].agg('sum').reset_index()['promotion']\n",
        "        tmp_df = tmp_df.merge(tmp_df_manufacturer, how = 'left', on = 'manufacturer')\n",
        "    \n",
        "        # frequency, promo per category\n",
        "        tmp_df_input = agg_orders[(agg_orders['day_of_year'] >= input_day_min) &\n",
        "                                  (agg_orders['day_of_year'] <= input_day_max)\n",
        "                                 ].groupby('category')\n",
        "        tmp_df_category = tmp_df_input['order'].agg('sum').reset_index()\n",
        "        tmp_df_category.columns = ['category', 'order_category_sum_last_' + str(day_input)]       \n",
        "        tmp_df_category['order_category_count_last_' + str(day_input)] = tmp_df_input['order'].agg(lambda x: len(x[x > 0])).reset_index()['order']\n",
        "        tmp_df_category['promo_category_count_last_' + str(day_input)] = tmp_df_input['promotion'].agg('sum').reset_index()['promotion']\n",
        "        tmp_df = tmp_df.merge(tmp_df_category, how = 'left', on = 'category')\n",
        "\n",
        "        # frequency, promo per all items\n",
        "        tmp_df_input = agg_orders[(agg_orders['day_of_year'] >= input_day_min) &\n",
        "                                  (agg_orders['day_of_year'] <= input_day_max)]\n",
        "        tmp_df['order_all_sum_last_'   + str(day_input)] = tmp_df_input['order'].agg('sum')\n",
        "        tmp_df['order_all_count_last_' + str(day_input)] = tmp_df_input['order'].agg(lambda x: len(x[x > 0]))\n",
        "        tmp_df['promo_all_count_last_' + str(day_input)] = tmp_df_input['promotion'].agg('sum')\n",
        "        \n",
        "        # recency\n",
        "        if day_input == max(days_input):\n",
        "            tmp_df_input = agg_orders[(agg_orders['day_of_year'] >= input_day_min) &\n",
        "                                      (agg_orders['day_of_year'] <= input_day_max) &\n",
        "                                      (agg_orders['order'] > 0)\n",
        "                                     ].groupby('itemID')\n",
        "            tmp_df['days_since_last_order'] = (day_of_year - tmp_df_input['day_of_year'].agg('max')).reindex(tmp_df.itemID).reset_index()['day_of_year']\n",
        "            tmp_df['days_since_last_order'].fillna(day_input, inplace = True)\n",
        "            \n",
        "            \n",
        "        # tsfresh features\n",
        "        if day_input == max(days_input):\n",
        "            tmp_df_input = agg_orders[(agg_orders['day_of_year'] >= input_day_min) &\n",
        "                                      (agg_orders['day_of_year'] <= input_day_max)]\n",
        "            tmp_df_input = tmp_df_input[['day_of_year', 'itemID', 'order']]\n",
        "            extracted_features = extract_features(tmp_df_input, column_id = 'itemID', column_sort = 'day_of_year')\n",
        "            extracted_features['itemID'] = extracted_features.index\n",
        "            tmp_df = tmp_df.merge(extracted_features, how = 'left', on = 'itemID')\n",
        "            \n",
        "            \n",
        "    ### FINAL PREPARATIONS\n",
        "            \n",
        "    # day of year\n",
        "    tmp_df.insert(1, column = 'day_of_year', value = day_of_year)\n",
        "        \n",
        "    # merge data\n",
        "    orders = pd.concat([orders, tmp_df], axis = 0)\n",
        "    \n",
        "    # drop manufacturer and category\n",
        "    del orders['manufacturer']\n",
        "    del orders['category']\n",
        "\n",
        "\n",
        "##### REMOVE MISSINGS\n",
        "\n",
        "good_nas = ['target', \n",
        "            'mean_price_test_category', 'mean_price_test_manufacturer',\n",
        "            'promo_in_test', 'promo_in_test_category', 'promo_in_test_manufacturer']\n",
        "nonas = list(orders.columns[orders.isnull().sum() == 0]) + good_nas\n",
        "orders = orders[nonas]\n",
        "print(orders.shape)\n",
        "\n",
        "\n",
        "##### COMPUTE MEAN PRICE RATIOS\n",
        "\n",
        "print(orders.shape)\n",
        "price_vars = ['mean_price_last_1', 'mean_price_last_7', 'mean_price_last_14', \n",
        "              'mean_price_last_21', 'mean_price_last_28', 'mean_price_last_35']\n",
        "for var in price_vars:\n",
        "    orders['ratio_'              + str(var)] = orders['mean_price_test']              / orders[var]\n",
        "    orders['ratio_manufacturer_' + str(var)] = orders['mean_price_test_manufacturer'] / orders[var]\n",
        "    orders['ratio_category_'     + str(var)] = orders['mean_price_test_category']     / orders[var]\n",
        "print(orders.shape)"
      ],
      "execution_count": null,
      "outputs": [
        {
          "output_type": "stream",
          "text": [
            "(1391579, 458)\n",
            "(1391579, 470)\n"
          ],
          "name": "stdout"
        }
      ]
    },
    {
      "cell_type": "code",
      "metadata": {
        "id": "ckTjM5QmRBZW"
      },
      "source": [
        "#collapse-show\n",
        "\n",
        "# price ratio\n",
        "items['recommended_simulation_price_ratio'] = items['simulationPrice'] / items['recommendedRetailPrice']\n",
        "\n",
        "# detailed item category\n",
        "items['category'] = items['category1'].astype(str) + items['category2'].astype(str) + items['category3'].astype(str)\n",
        "items['category'] = items['category'].astype(int)\n",
        "\n",
        "# customer rating ratio per manufacturer\n",
        "rating_manufacturer = items.groupby('manufacturer')['customerRating'].agg('mean').reset_index()\n",
        "rating_manufacturer.columns = ['manufacturer', 'mean_customerRating_manufacturer']\n",
        "items = items.merge(rating_manufacturer, how = 'left', on = 'manufacturer')\n",
        "items['customerRating_manufacturer_ratio'] = items['customerRating'] / items['mean_customerRating_manufacturer']\n",
        "del items['mean_customerRating_manufacturer']\n",
        "\n",
        "# customer rating ratio per category\n",
        "rating_category = items.groupby('category')['customerRating'].agg('mean').reset_index()\n",
        "rating_category.columns = ['category', 'mean_customerRating_category']\n",
        "items = items.merge(rating_category, how = 'left', on = 'category')\n",
        "items['customerRating_category_ratio'] = items['customerRating'] / items['mean_customerRating_category']\n",
        "del items['mean_customerRating_category']"
      ],
      "execution_count": null,
      "outputs": []
    },
    {
      "cell_type": "markdown",
      "metadata": {
        "id": "i9aMAtnWRBZW"
      },
      "source": [
        "We can now merge `orders` and `items`. We also partition the data into the labeled training set and the unlabeled test set, compute some missing features for the test set and export the data as csv."
      ]
    },
    {
      "cell_type": "code",
      "metadata": {
        "id": "E_51RhH3RBZW",
        "outputId": "d55061e2-f0b6-46f3-dc52-9f202538ac0c"
      },
      "source": [
        "#collapse-hide\n",
        "\n",
        "##### DATA PARTITIONING\n",
        "\n",
        "# merge data\n",
        "df = pd.merge(orders, items, on = 'itemID', how = 'left')\n",
        "\n",
        "# partition intro train and test\n",
        "df_train = df[df['day_of_year'] <  df['day_of_year'].max()]\n",
        "df_test  = df[df['day_of_year'] == df['day_of_year'].max()]\n",
        "\n",
        "\n",
        "##### COMPUTE FEATURES FOR TEST DATA\n",
        "\n",
        "# add promotion info to test\n",
        "promo_vars = df_test.filter(like = 'promotion_').columns\n",
        "df_test['promo_in_test'] = 3 - df_test[promo_vars].isnull().sum(axis = 1)\n",
        "df_test['promo_in_test'].describe()\n",
        "\n",
        "del df_test['promo_in_test_manufacturer'], df_test['promo_in_test_category']\n",
        "\n",
        "# future promo per manufacturer\n",
        "tmp_df_manufacturer = df_test.groupby('manufacturer')['promo_in_test'].agg('sum').reset_index()\n",
        "tmp_df_manufacturer.columns = ['manufacturer', 'promo_in_test_manufacturer']\n",
        "df_test = df_test.merge(tmp_df_manufacturer, how = 'left', on = 'manufacturer')\n",
        "\n",
        "# future promo per category\n",
        "tmp_df_category = df_test.groupby('category')['promo_in_test'].agg('sum').reset_index()\n",
        "tmp_df_category.columns = ['category', 'promo_in_test_category']\n",
        "df_test = df_test.merge(tmp_df_category, how = 'left', on = 'category')\n",
        "\n",
        "del df_test['mean_price_test_manufacturer'], df_test['mean_price_test_category']\n",
        "\n",
        "# future price per manufacturer\n",
        "tmp_df_manufacturer = df_test.groupby('manufacturer')['mean_price_test'].agg('mean').reset_index()\n",
        "tmp_df_manufacturer.columns = ['manufacturer', 'mean_price_test_manufacturer']\n",
        "df_test = df_test.merge(tmp_df_manufacturer, how = 'left', on = 'manufacturer')\n",
        "\n",
        "# future price per category\n",
        "tmp_df_category = df_test.groupby('category')['mean_price_test'].agg('mean').reset_index()\n",
        "tmp_df_category.columns = ['category', 'mean_price_test_category']\n",
        "df_test = df_test.merge(tmp_df_category, how = 'left', on = 'category')\n",
        "\n",
        "# mean price ratios\n",
        "for var in price_vars:\n",
        "    df_test['ratio_'              + str(var)] = df_test['mean_price_test']              / df_test[var]\n",
        "    df_test['ratio_manufacturer_' + str(var)] = df_test['mean_price_test_manufacturer'] / df_test[var]\n",
        "    df_test['ratio_category_'     + str(var)] = df_test['mean_price_test_category']     / df_test[var]\n",
        "\n",
        "\n",
        "##### DROP FEATURES\n",
        "\n",
        "# drop promotion dates\n",
        "df_test.drop(promo_vars,  axis = 1, inplace = True)\n",
        "df_train.drop(promo_vars, axis = 1, inplace = True)\n",
        "\n",
        "# drop mean prices\n",
        "price_vars = price_vars + ['mean_price_test_manufacturer', 'mean_price_test_category']\n",
        "df_test.drop(price_vars,  axis = 1, inplace = True)\n",
        "df_train.drop(price_vars, axis = 1, inplace = True)\n",
        "\n",
        "# export data\n",
        "save_csv_version('../data/prepared/df.csv',      df_train, index = False, compression = 'gzip')\n",
        "save_csv_version('../data/prepared/df_test.csv', df_test,  index = False, compression = 'gzip', min_version = 3)\n",
        "print(df_train.shape)\n",
        "print(df_test.shape)"
      ],
      "execution_count": null,
      "outputs": [
        {
          "output_type": "stream",
          "text": [
            "Saved as ../data/prepared/df_v14.csv\n",
            "Saved as ../data/prepared/df_test_v14.csv\n",
            "(1381116, 476)\n",
            "(10463, 476)\n"
          ],
          "name": "stdout"
        }
      ]
    },
    {
      "cell_type": "markdown",
      "metadata": {
        "id": "dhb5-f3yRBZW"
      },
      "source": [
        "# 4. Modeling\n",
        "\n",
        "## Custom loss functions\n",
        "\n",
        "\n"
      ]
    },
    {
      "cell_type": "code",
      "metadata": {
        "id": "JYnYLv-qRBZW"
      },
      "source": [
        "def profit(y_true, y_pred, price):\n",
        "    '''\n",
        "    Computes retailer's profit.\n",
        "    \n",
        "    Arguments:\n",
        "    - y_true (numpy array): ground truth demand values\n",
        "    - y_pred (numpy array): predicted demand values\n",
        "    - price (numpy array): item prices\n",
        "\n",
        "    Returns:\n",
        "    - profit value\n",
        "    '''\n",
        "\n",
        "    # remove negative and round\n",
        "    y_pred = np.where(y_pred > 0, y_pred, 0)\n",
        "    y_pred = np.round(y_pred).astype('int')\n",
        "\n",
        "    # sold units\n",
        "    units_sold = np.minimum(y_true, y_pred)\n",
        "\n",
        "    # overstocked units\n",
        "    units_overstock = y_pred - y_true\n",
        "    units_overstock[units_overstock < 0] = 0\n",
        "\n",
        "    # profit\n",
        "    revenue = units_sold * price\n",
        "    fee     = units_overstock * price * 0.6\n",
        "    profit  = revenue - fee\n",
        "    profit  = profit.sum()\n",
        "    \n",
        "    return profit"
      ],
      "execution_count": null,
      "outputs": []
    },
    {
      "cell_type": "code",
      "metadata": {
        "id": "a0WmctSnRBZX"
      },
      "source": [
        "# collpase-show\n",
        "\n",
        "##### TRAINING LOSS\n",
        "def asymmetric_mse(y_true, y_pred):\n",
        "    '''\n",
        "    Asymmetric MSE objective for training LightGBM regressor.\n",
        "     \n",
        "    Arguments:\n",
        "    - y_true (numpy array): ground truth target values\n",
        "    - y_pred (numpy array): estimated target values\n",
        "    \n",
        "    Returns:\n",
        "    - gradient\n",
        "    - hessian\n",
        "    '''\n",
        "    \n",
        "    residual = (y_true - y_pred).astype('float')    \n",
        "    grad     = np.where(residual > 0, -2*residual, -0.72*residual)\n",
        "    hess     = np.where(residual > 0,  2.0, 0.72)\n",
        "    return grad, hess\n",
        "\n",
        "\n",
        "##### VALIDATION LOSS\n",
        "def asymmetric_mse_eval(y_true, y_pred):\n",
        "    \n",
        "    '''\n",
        "    Asymmetric MSE evaluation metric for evaluating LightGBM regressor.\n",
        "     \n",
        "    Arguments:\n",
        "    - y_true (numpy array): ground truth target values\n",
        "    - y_pred (numpy array): estimated target values\n",
        "    \n",
        "    Returns:\n",
        "    - metric name\n",
        "    - metric value\n",
        "    - whether the metric is maximized\n",
        "    '''\n",
        "    \n",
        "    residual = (y_true - y_pred).astype('float')      \n",
        "    loss     = np.where(residual > 0, 2*residual**2, 0.72*residual**2)\n",
        "    return 'asymmetric_mse_eval', np.mean(loss), False"
      ],
      "execution_count": null,
      "outputs": []
    },
    {
      "cell_type": "markdown",
      "metadata": {
        "id": "PmcJqIjfRBZX"
      },
      "source": [
        "## Modeling pipeline\n",
        "\n"
      ]
    },
    {
      "cell_type": "code",
      "metadata": {
        "id": "AJ62eH1jRBZY",
        "outputId": "419155dc-e15d-4fa0-c4b4-b2eef91e5586"
      },
      "source": [
        "#collapse-hide\n",
        "\n",
        "# extract target\n",
        "y = df_train['target']\n",
        "X = df_train.drop('target', axis = 1)\n",
        "del df_train\n",
        "print(X.shape, y.shape)\n",
        "\n",
        "# format test data\n",
        "X_test = df_test.drop('target', axis = 1)\n",
        "del df_test\n",
        "print(X_test.shape)\n",
        "\n",
        "# relevant features\n",
        "drop_feats = ['itemID', 'day_of_year']\n",
        "features = [var for var in X.columns if var not in drop_feats]"
      ],
      "execution_count": null,
      "outputs": [
        {
          "output_type": "stream",
          "text": [
            "(1381116, 475) (1381116,)\n",
            "(10463, 475)\n"
          ],
          "name": "stdout"
        }
      ]
    },
    {
      "cell_type": "code",
      "metadata": {
        "id": "ZGSVp0K7RBZY"
      },
      "source": [
        "#collapse-hide\n",
        "\n",
        "##### TRAINING OPTIONS\n",
        "\n",
        "# target transformation\n",
        "target_transform = True\n",
        "\n",
        "# train on positive sales only\n",
        "train_on_positive = False\n",
        "\n",
        "# two-stage model\n",
        "two_stage = True\n",
        "\n",
        "# use tuned meta-params\n",
        "tuned_params = True\n",
        "\n",
        "\n",
        "##### CLASSIFIER PARAMETERS\n",
        "\n",
        "# rounds and options\n",
        "cores       = 4\n",
        "stop_rounds = 100\n",
        "verbose     = 100\n",
        "seed        = 23\n",
        "\n",
        "# LGB parameters\n",
        "lgb_params = {\n",
        "    'boosting_type':    'goss',\n",
        "    'objective':        asymmetric_mse,\n",
        "    'metrics':          asymmetric_mse_eval,\n",
        "    'n_estimators':     1000,\n",
        "    'learning_rate':    0.1,\n",
        "    'bagging_fraction': 0.8,\n",
        "    'feature_fraction': 0.8,\n",
        "    'lambda_l1':        0.1,\n",
        "    'lambda_l2':        0.1,\n",
        "    'silent':           True,\n",
        "    'verbosity':        -1,\n",
        "    'nthread' :         cores,\n",
        "    'random_state':     seed,\n",
        "}\n",
        "\n",
        "# load optimal parameters\n",
        "if tuned_params:\n",
        "    par_file   = open('../lgb_meta_params_100.pkl', 'rb')\n",
        "    lgb_params = pickle.load(par_file)\n",
        "    lgb_params['nthread']      = cores\n",
        "    lgb_params['random_state'] = seed\n",
        "\n",
        "# second-stage LGB\n",
        "if two_stage:\n",
        "    lgb_classifier_params              = lgb_params.copy()\n",
        "    lgb_classifier_params['objective'] = 'binary'\n",
        "    lgb_classifier_params['metrics']   = 'logloss'"
      ],
      "execution_count": null,
      "outputs": []
    },
    {
      "cell_type": "markdown",
      "metadata": {
        "id": "cec3AkbORBZY"
      },
      "source": [
        "We also define the partitioning parameters. We use a sliding window approach with 7 folds, where each subsequent fold is shifted by one day into the past. "
      ]
    },
    {
      "cell_type": "code",
      "metadata": {
        "id": "N5iuKYHuRBZY"
      },
      "source": [
        "#collapse-hide\n",
        "num_folds = 7   # no. CV folds\n",
        "test_days = 14  # no. days in the test set"
      ],
      "execution_count": null,
      "outputs": []
    },
    {
      "cell_type": "code",
      "metadata": {
        "id": "l3iDHsYPRBZZ",
        "outputId": "346424c4-1392-4de8-f9b2-563961ae8a92"
      },
      "source": [
        "#collapse-show\n",
        "\n",
        "# placeholders\n",
        "importances   = pd.DataFrame()\n",
        "preds_oof     = np.zeros((num_folds, items.shape[0]))\n",
        "reals_oof     = np.zeros((num_folds, items.shape[0]))\n",
        "prices_oof    = np.zeros((num_folds, items.shape[0]))\n",
        "preds_test    = np.zeros(items.shape[0])\n",
        "oof_rmse      = []\n",
        "oof_profit    = []\n",
        "oracle_profit = []\n",
        "clfs          = []\n",
        "train_idx     = []\n",
        "valid_idx     = []\n",
        "\n",
        "# objects\n",
        "train_days = X['day_of_year'].max() - test_days + 1 - num_folds - X['day_of_year'].min() # no. days in the train set\n",
        "time_start = time.time()\n",
        "\n",
        "# modeling loop\n",
        "for fold in range(num_folds):\n",
        "    \n",
        "    ##### PARTITIONING\n",
        "    \n",
        "    # dates\n",
        "    if fold == 0:\n",
        "        v_end = X['day_of_year'].max()\n",
        "    else:\n",
        "        v_end = v_end - 1\n",
        "    v_start = v_end\n",
        "    t_end   = v_start - (test_days + 1)\n",
        "    t_start = t_end   - (train_days - 1)\n",
        "    \n",
        "    # extract index\n",
        "    train_idx.append(list(X[(X.day_of_year >= t_start) & (X.day_of_year <= t_end)].index))\n",
        "    valid_idx.append(list(X[(X.day_of_year >= v_start) & (X.day_of_year <= v_end)].index))   \n",
        "    \n",
        "    # extract samples\n",
        "    X_train, y_train = X.iloc[train_idx[fold]][features], y.iloc[train_idx[fold]]\n",
        "    X_valid, y_valid = X.iloc[valid_idx[fold]][features], y.iloc[valid_idx[fold]]\n",
        "    X_test = X_test[features]\n",
        "    \n",
        "    # keep positive cases\n",
        "    if train_on_positive:\n",
        "        y_train = y_train.loc[(X_train['order_sum_last_28'] > 0) | (X_train['promo_in_test'] > 0)]\n",
        "        X_train = X_train.loc[(X_train['order_sum_last_28'] > 0) | (X_train['promo_in_test'] > 0)]\n",
        "\n",
        "    # information\n",
        "    print('-' * 65)\n",
        "    print('- train period days: {} -- {} (n = {})'.format(t_start, t_end, len(train_idx[fold])))\n",
        "    print('- valid period days: {} -- {} (n = {})'.format(v_start, v_end, len(valid_idx[fold])))\n",
        "    print('-' * 65)\n",
        "\n",
        "    \n",
        "    ##### MODELING\n",
        "    \n",
        "    # target transformation\n",
        "    if target_transform:\n",
        "        y_train = np.sqrt(y_train)\n",
        "        y_valid = np.sqrt(y_valid)\n",
        "        \n",
        "    # first stage model\n",
        "    if two_stage:\n",
        "        y_train_binary, y_valid_binary = y_train.copy(), y_valid.copy()\n",
        "        y_train_binary[y_train_binary > 0] = 1\n",
        "        y_valid_binary[y_valid_binary > 0] = 1\n",
        "        clf_classifier = lgb.LGBMClassifier(**lgb_classifier_params) \n",
        "        clf_classifier = clf_classifier.fit(X_train, y_train_binary, \n",
        "                                            eval_set              = [(X_train, y_train_binary), (X_valid, y_valid_binary)],\n",
        "                                            eval_metric           = 'logloss',\n",
        "                                            early_stopping_rounds = stop_rounds,\n",
        "                                            verbose               = verbose)\n",
        "        preds_oof_fold_binary  = clf_classifier.predict(X_valid)\n",
        "        preds_test_fold_binary = clf_classifier.predict(X_test)\n",
        "\n",
        "    # training\n",
        "    clf = lgb.LGBMRegressor(**lgb_params) \n",
        "    clf = clf.fit(X_train, y_train, \n",
        "                  eval_set              = [(X_train, y_train), (X_valid, y_valid)], \n",
        "                  eval_metric           = asymmetric_mse_eval,\n",
        "                  sample_weight         = X_train['simulationPrice'].values,\n",
        "                  eval_sample_weight    = [X_train['simulationPrice'].values, X_valid['simulationPrice'].values],\n",
        "                  early_stopping_rounds = stop_rounds,\n",
        "                  verbose               = verbose)\n",
        "    clfs.append(clf)\n",
        "    \n",
        "    # inference\n",
        "    if target_transform:      \n",
        "        preds_oof_fold  = postprocess_preds(clf.predict(X_valid)**2)\n",
        "        reals_oof_fold  = y_valid**2\n",
        "        preds_test_fold = postprocess_preds(clf.predict(X_test)**2) / num_folds\n",
        "    else:\n",
        "        preds_oof_fold  = postprocess_preds(clf.predict(X_valid))\n",
        "        reals_oof_fold  = y_valid\n",
        "        preds_test_fold = postprocess_preds(clf.predict(X_test)) / num_folds\n",
        "        \n",
        "    # impute zeros\n",
        "    if train_on_positive:\n",
        "        preds_oof_fold[(X_valid['order_sum_last_28'] == 0) & (X_valid['promo_in_test'] == 0)] = 0\n",
        "        preds_test_fold[(X_test['order_sum_last_28'] == 0) & (X_test['promo_in_test']  == 0)] = 0\n",
        "        \n",
        "    # multiply with first stage predictions\n",
        "    if two_stage:\n",
        "        preds_oof_fold  = preds_oof_fold  * np.round(preds_oof_fold_binary)\n",
        "        preds_test_fold = preds_test_fold * np.round(preds_test_fold_binary)\n",
        "\n",
        "    # write predictions\n",
        "    preds_oof[fold, :] = preds_oof_fold\n",
        "    reals_oof[fold, :] = reals_oof_fold\n",
        "    preds_test        += preds_test_fold\n",
        "    \n",
        "    # save prices\n",
        "    prices_oof[fold, :] = X.iloc[valid_idx[fold]]['simulationPrice'].values\n",
        "        \n",
        "        \n",
        "    ##### EVALUATION\n",
        "\n",
        "    # evaluation\n",
        "    oof_rmse.append(np.sqrt(mean_squared_error(reals_oof[fold, :], \n",
        "                                               preds_oof[fold, :])))\n",
        "    oof_profit.append(profit(reals_oof[fold, :], \n",
        "                             preds_oof[fold, :], \n",
        "                             price = X.iloc[valid_idx[fold]]['simulationPrice'].values))\n",
        "    oracle_profit.append(profit(reals_oof[fold, :], \n",
        "                                reals_oof[fold, :], \n",
        "                                price = X.iloc[valid_idx[fold]]['simulationPrice'].values))\n",
        "    \n",
        "    # feature importance\n",
        "    fold_importance_df = pd.DataFrame()\n",
        "    fold_importance_df['Feature'] = features\n",
        "    fold_importance_df['Importance'] = clf.feature_importances_\n",
        "    fold_importance_df['Fold'] = fold + 1\n",
        "    importances = pd.concat([importances, fold_importance_df], axis = 0)\n",
        "    \n",
        "    # information\n",
        "    print('-' * 65)\n",
        "    print('FOLD {:d}/{:d}: RMSE = {:.2f}, PROFIT = {:.0f}'.format(fold + 1, \n",
        "                                                                  num_folds, \n",
        "                                                                  oof_rmse[fold], \n",
        "                                                                  oof_profit[fold]))\n",
        "    print('-' * 65)\n",
        "    print('')\n",
        "    \n",
        "\n",
        "# print performance\n",
        "print('')\n",
        "print('-' * 65)\n",
        "print('- AVERAGE RMSE:   {:.2f}'.format(np.mean(oof_rmse)))\n",
        "print('- AVERAGE PROFIT: {:.0f} ({:.2f}%)'.format(np.mean(oof_profit), 100 * np.mean(oof_profit) / np.mean(oracle_profit)))\n",
        "print('- RUNNING TIME:   {:.2f} minutes'.format((time.time() - time_start) / 60))\n",
        "print('-' * 65)"
      ],
      "execution_count": null,
      "outputs": [
        {
          "output_type": "stream",
          "text": [
            "-----------------------------------------------------------------\n",
            "- train period days: 41 -- 151 (n = 1161393)\n",
            "- valid period days: 166 -- 166 (n = 10463)\n",
            "-----------------------------------------------------------------\n",
            "Training until validation scores don't improve for 100 rounds\n",
            "Early stopping, best iteration is:\n",
            "[532]\ttraining's binary_logloss: 0.238417\tvalid_1's binary_logloss: 0.347182\n",
            "Training until validation scores don't improve for 100 rounds\n",
            "Early stopping, best iteration is:\n",
            "[788]\ttraining's rmse: 0.611924\ttraining's asymmetric_mse_eval: 2.82734\tvalid_1's rmse: 0.98004\tvalid_1's asymmetric_mse_eval: 5.83945\n",
            "-----------------------------------------------------------------\n",
            "FOLD 1/7: RMSE = 74.46, PROFIT = 4146664\n",
            "-----------------------------------------------------------------\n",
            "\n",
            "...\n",
            "\n",
            "-----------------------------------------------------------------\n",
            "- train period days: 35 -- 145 (n = 1161393)\n",
            "- valid period days: 160 -- 160 (n = 10463)\n",
            "-----------------------------------------------------------------\n",
            "Training until validation scores don't improve for 100 rounds\n",
            "Early stopping, best iteration is:\n",
            "[711]\ttraining's binary_logloss: 0.22193\tvalid_1's binary_logloss: 0.338637\n",
            "Training until validation scores don't improve for 100 rounds\n",
            "Early stopping, best iteration is:\n",
            "[782]\ttraining's rmse: 0.600011\ttraining's asymmetric_mse_eval: 2.71385\tvalid_1's rmse: 0.987073\tvalid_1's asymmetric_mse_eval: 5.67223\n",
            "-----------------------------------------------------------------\n",
            "FOLD 7/7: RMSE = 74.46, PROFIT = 3958098\n",
            "-----------------------------------------------------------------\n",
            "\n",
            "\n",
            "-----------------------------------------------------------------\n",
            "- AVERAGE RMSE:   69.66\n",
            "- AVERAGE PROFIT: 3997598 (54.19%)\n",
            "- RUNNING TIME:   88.53 minutes\n",
            "-----------------------------------------------------------------\n"
          ],
          "name": "stdout"
        }
      ]
    }
  ]
}