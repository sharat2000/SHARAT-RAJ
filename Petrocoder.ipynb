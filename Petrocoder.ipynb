{
  "nbformat": 4,
  "nbformat_minor": 0,
  "metadata": {
    "colab": {
      "name": "Petrocoder.ipynb",
      "provenance": [],
      "collapsed_sections": [],
      "mount_file_id": "1zJREWkHJD75S5705NyDjAeR4KjXifo-0",
      "authorship_tag": "ABX9TyPGTuAHOx9okER01e4cJIn5",
      "include_colab_link": true
    },
    "kernelspec": {
      "display_name": "Python 3",
      "name": "python3"
    },
    "language_info": {
      "name": "python"
    },
    "accelerator": "GPU"
  },
  "cells": [
    {
      "cell_type": "markdown",
      "metadata": {
        "id": "view-in-github",
        "colab_type": "text"
      },
      "source": [
        "<a href=\"https://colab.research.google.com/github/sharat2000/SHARAT-RAJ/blob/main/Petrocoder.ipynb\" target=\"_parent\"><img src=\"https://colab.research.google.com/assets/colab-badge.svg\" alt=\"Open In Colab\"/></a>"
      ]
    },
    {
      "cell_type": "code",
      "metadata": {
        "id": "xS85asnfxVXm"
      },
      "source": [
        "import numpy as np\n",
        "import pandas as pd\n",
        "import matplotlib.pyplot as plt\n",
        "import seaborn as sns"
      ],
      "execution_count": 1,
      "outputs": []
    },
    {
      "cell_type": "code",
      "metadata": {
        "id": "SdSjGDgIyI-c"
      },
      "source": [
        "train_data=pd.read_csv('/content/drive/MyDrive/Petrocoder Data/tech_challenge2021_train.csv')\n"
      ],
      "execution_count": 2,
      "outputs": []
    },
    {
      "cell_type": "code",
      "metadata": {
        "id": "wbMQrLkyKg2Z"
      },
      "source": [
        "test_data=pd.read_csv('/content/drive/MyDrive/Petrocoder Data/tech_challenge2021_test.csv')"
      ],
      "execution_count": 3,
      "outputs": []
    },
    {
      "cell_type": "code",
      "metadata": {
        "colab": {
          "base_uri": "https://localhost:8080/",
          "height": 603
        },
        "id": "LA5yPEY81nz3",
        "outputId": "f3a340e1-c80d-4819-ea65-bd9c695b160a"
      },
      "source": [
        "train_data"
      ],
      "execution_count": 4,
      "outputs": [
        {
          "output_type": "execute_result",
          "data": {
            "text/html": [
              "<div>\n",
              "<style scoped>\n",
              "    .dataframe tbody tr th:only-of-type {\n",
              "        vertical-align: middle;\n",
              "    }\n",
              "\n",
              "    .dataframe tbody tr th {\n",
              "        vertical-align: top;\n",
              "    }\n",
              "\n",
              "    .dataframe thead th {\n",
              "        text-align: right;\n",
              "    }\n",
              "</style>\n",
              "<table border=\"1\" class=\"dataframe\">\n",
              "  <thead>\n",
              "    <tr style=\"text-align: right;\">\n",
              "      <th></th>\n",
              "      <th>Well Identifier</th>\n",
              "      <th>Measured Depth m</th>\n",
              "      <th>Weight on Bit kkgf</th>\n",
              "      <th>Average Standpipe Pressure kPa</th>\n",
              "      <th>Average Surface Torque kN.m</th>\n",
              "      <th>Rate of Penetration m/h</th>\n",
              "      <th>Average Rotary Speed rpm</th>\n",
              "      <th>Mud Flow In L/min</th>\n",
              "      <th>Mud Density In g/cm3</th>\n",
              "      <th>Diameter mm</th>\n",
              "      <th>Average Hookload kkgf</th>\n",
              "      <th>Hole Depth (TVD) m</th>\n",
              "      <th>USROP Gamma gAPI</th>\n",
              "    </tr>\n",
              "  </thead>\n",
              "  <tbody>\n",
              "    <tr>\n",
              "      <th>0</th>\n",
              "      <td>USROP_A 0 N-NA_F-9_Ad</td>\n",
              "      <td>491.033</td>\n",
              "      <td>5.842270</td>\n",
              "      <td>9440.922214</td>\n",
              "      <td>0.244047</td>\n",
              "      <td>42.864024</td>\n",
              "      <td>84.0</td>\n",
              "      <td>2784.321942</td>\n",
              "      <td>1.21</td>\n",
              "      <td>311.15</td>\n",
              "      <td>93.780222</td>\n",
              "      <td>490.760309</td>\n",
              "      <td>150.880</td>\n",
              "    </tr>\n",
              "    <tr>\n",
              "      <th>1</th>\n",
              "      <td>USROP_A 0 N-NA_F-9_Ad</td>\n",
              "      <td>491.185</td>\n",
              "      <td>6.241431</td>\n",
              "      <td>9499.941336</td>\n",
              "      <td>0.244047</td>\n",
              "      <td>42.315384</td>\n",
              "      <td>84.0</td>\n",
              "      <td>2784.321942</td>\n",
              "      <td>1.21</td>\n",
              "      <td>311.15</td>\n",
              "      <td>93.979803</td>\n",
              "      <td>490.910880</td>\n",
              "      <td>150.880</td>\n",
              "    </tr>\n",
              "    <tr>\n",
              "      <th>2</th>\n",
              "      <td>USROP_A 0 N-NA_F-9_Ad</td>\n",
              "      <td>491.222</td>\n",
              "      <td>6.241431</td>\n",
              "      <td>9499.941336</td>\n",
              "      <td>0.244047</td>\n",
              "      <td>42.315384</td>\n",
              "      <td>84.0</td>\n",
              "      <td>2784.321942</td>\n",
              "      <td>1.21</td>\n",
              "      <td>311.15</td>\n",
              "      <td>93.979803</td>\n",
              "      <td>490.910880</td>\n",
              "      <td>150.880</td>\n",
              "    </tr>\n",
              "    <tr>\n",
              "      <th>3</th>\n",
              "      <td>USROP_A 0 N-NA_F-9_Ad</td>\n",
              "      <td>491.338</td>\n",
              "      <td>6.368437</td>\n",
              "      <td>9313.024466</td>\n",
              "      <td>0.216931</td>\n",
              "      <td>42.894504</td>\n",
              "      <td>84.0</td>\n",
              "      <td>2784.321942</td>\n",
              "      <td>1.21</td>\n",
              "      <td>311.15</td>\n",
              "      <td>94.079593</td>\n",
              "      <td>491.061756</td>\n",
              "      <td>146.260</td>\n",
              "    </tr>\n",
              "    <tr>\n",
              "      <th>4</th>\n",
              "      <td>USROP_A 0 N-NA_F-9_Ad</td>\n",
              "      <td>491.341</td>\n",
              "      <td>6.368437</td>\n",
              "      <td>9313.024466</td>\n",
              "      <td>0.216931</td>\n",
              "      <td>42.894504</td>\n",
              "      <td>84.0</td>\n",
              "      <td>2784.321942</td>\n",
              "      <td>1.21</td>\n",
              "      <td>311.15</td>\n",
              "      <td>94.079593</td>\n",
              "      <td>491.061756</td>\n",
              "      <td>146.260</td>\n",
              "    </tr>\n",
              "    <tr>\n",
              "      <th>...</th>\n",
              "      <td>...</td>\n",
              "      <td>...</td>\n",
              "      <td>...</td>\n",
              "      <td>...</td>\n",
              "      <td>...</td>\n",
              "      <td>...</td>\n",
              "      <td>...</td>\n",
              "      <td>...</td>\n",
              "      <td>...</td>\n",
              "      <td>...</td>\n",
              "      <td>...</td>\n",
              "      <td>...</td>\n",
              "      <td>...</td>\n",
              "    </tr>\n",
              "    <tr>\n",
              "      <th>198923</th>\n",
              "      <td>USROP_A 6 N-SH_F-9d</td>\n",
              "      <td>633.374</td>\n",
              "      <td>8.014969</td>\n",
              "      <td>10348.000340</td>\n",
              "      <td>6.550000</td>\n",
              "      <td>38.529999</td>\n",
              "      <td>143.0</td>\n",
              "      <td>3434.469970</td>\n",
              "      <td>1.03</td>\n",
              "      <td>444.50</td>\n",
              "      <td>99.075631</td>\n",
              "      <td>633.068076</td>\n",
              "      <td>84.578</td>\n",
              "    </tr>\n",
              "    <tr>\n",
              "      <th>198924</th>\n",
              "      <td>USROP_A 6 N-SH_F-9d</td>\n",
              "      <td>633.420</td>\n",
              "      <td>8.014969</td>\n",
              "      <td>10348.000340</td>\n",
              "      <td>6.550000</td>\n",
              "      <td>38.529999</td>\n",
              "      <td>143.0</td>\n",
              "      <td>3434.469970</td>\n",
              "      <td>1.03</td>\n",
              "      <td>444.50</td>\n",
              "      <td>99.075631</td>\n",
              "      <td>633.208589</td>\n",
              "      <td>84.578</td>\n",
              "    </tr>\n",
              "    <tr>\n",
              "      <th>198925</th>\n",
              "      <td>USROP_A 6 N-SH_F-9d</td>\n",
              "      <td>633.478</td>\n",
              "      <td>8.014969</td>\n",
              "      <td>10348.000340</td>\n",
              "      <td>6.550000</td>\n",
              "      <td>38.529999</td>\n",
              "      <td>143.0</td>\n",
              "      <td>3434.469970</td>\n",
              "      <td>1.03</td>\n",
              "      <td>444.50</td>\n",
              "      <td>99.075631</td>\n",
              "      <td>633.266196</td>\n",
              "      <td>84.578</td>\n",
              "    </tr>\n",
              "    <tr>\n",
              "      <th>198926</th>\n",
              "      <td>USROP_A 6 N-SH_F-9d</td>\n",
              "      <td>633.527</td>\n",
              "      <td>8.014969</td>\n",
              "      <td>10348.000340</td>\n",
              "      <td>6.550000</td>\n",
              "      <td>38.529999</td>\n",
              "      <td>143.0</td>\n",
              "      <td>3434.469970</td>\n",
              "      <td>1.03</td>\n",
              "      <td>444.50</td>\n",
              "      <td>99.075631</td>\n",
              "      <td>633.219562</td>\n",
              "      <td>82.161</td>\n",
              "    </tr>\n",
              "    <tr>\n",
              "      <th>198927</th>\n",
              "      <td>USROP_A 6 N-SH_F-9d</td>\n",
              "      <td>633.536</td>\n",
              "      <td>8.014969</td>\n",
              "      <td>10348.000340</td>\n",
              "      <td>6.550000</td>\n",
              "      <td>38.529999</td>\n",
              "      <td>143.0</td>\n",
              "      <td>3434.469970</td>\n",
              "      <td>1.03</td>\n",
              "      <td>444.50</td>\n",
              "      <td>99.075631</td>\n",
              "      <td>633.323803</td>\n",
              "      <td>82.161</td>\n",
              "    </tr>\n",
              "  </tbody>\n",
              "</table>\n",
              "<p>198928 rows × 13 columns</p>\n",
              "</div>"
            ],
            "text/plain": [
              "              Well Identifier  ...  USROP Gamma gAPI\n",
              "0       USROP_A 0 N-NA_F-9_Ad  ...           150.880\n",
              "1       USROP_A 0 N-NA_F-9_Ad  ...           150.880\n",
              "2       USROP_A 0 N-NA_F-9_Ad  ...           150.880\n",
              "3       USROP_A 0 N-NA_F-9_Ad  ...           146.260\n",
              "4       USROP_A 0 N-NA_F-9_Ad  ...           146.260\n",
              "...                       ...  ...               ...\n",
              "198923    USROP_A 6 N-SH_F-9d  ...            84.578\n",
              "198924    USROP_A 6 N-SH_F-9d  ...            84.578\n",
              "198925    USROP_A 6 N-SH_F-9d  ...            84.578\n",
              "198926    USROP_A 6 N-SH_F-9d  ...            82.161\n",
              "198927    USROP_A 6 N-SH_F-9d  ...            82.161\n",
              "\n",
              "[198928 rows x 13 columns]"
            ]
          },
          "metadata": {
            "tags": []
          },
          "execution_count": 4
        }
      ]
    },
    {
      "cell_type": "code",
      "metadata": {
        "colab": {
          "base_uri": "https://localhost:8080/"
        },
        "id": "I98pFvLb19Sm",
        "outputId": "54531371-ebc5-4df5-b3ce-52bb94a33c53"
      },
      "source": [
        "train_data.nunique()"
      ],
      "execution_count": 5,
      "outputs": [
        {
          "output_type": "execute_result",
          "data": {
            "text/plain": [
              "Well Identifier                        7\n",
              "Measured Depth m                  170275\n",
              "Weight on Bit kkgf                 12162\n",
              "Average Standpipe Pressure kPa     31849\n",
              "Average Surface Torque kN.m        10946\n",
              "Rate of Penetration m/h            13540\n",
              "Average Rotary Speed rpm            5560\n",
              "Mud Flow In L/min                   3798\n",
              "Mud Density In g/cm3                  51\n",
              "Diameter mm                            3\n",
              "Average Hookload kkgf              15752\n",
              "Hole Depth (TVD) m                142094\n",
              "USROP Gamma gAPI                    1933\n",
              "dtype: int64"
            ]
          },
          "metadata": {
            "tags": []
          },
          "execution_count": 5
        }
      ]
    },
    {
      "cell_type": "code",
      "metadata": {
        "colab": {
          "base_uri": "https://localhost:8080/"
        },
        "id": "ArT27wV02KIN",
        "outputId": "f38a91c3-a302-41a0-acbb-01a7c32c278a"
      },
      "source": [
        "train_data.isnull().sum()"
      ],
      "execution_count": 6,
      "outputs": [
        {
          "output_type": "execute_result",
          "data": {
            "text/plain": [
              "Well Identifier                   0\n",
              "Measured Depth m                  0\n",
              "Weight on Bit kkgf                0\n",
              "Average Standpipe Pressure kPa    0\n",
              "Average Surface Torque kN.m       0\n",
              "Rate of Penetration m/h           0\n",
              "Average Rotary Speed rpm          0\n",
              "Mud Flow In L/min                 0\n",
              "Mud Density In g/cm3              0\n",
              "Diameter mm                       0\n",
              "Average Hookload kkgf             0\n",
              "Hole Depth (TVD) m                0\n",
              "USROP Gamma gAPI                  0\n",
              "dtype: int64"
            ]
          },
          "metadata": {
            "tags": []
          },
          "execution_count": 6
        }
      ]
    },
    {
      "cell_type": "code",
      "metadata": {
        "colab": {
          "base_uri": "https://localhost:8080/",
          "height": 318
        },
        "id": "6dE3h6ge2dZm",
        "outputId": "898d5f1b-40ae-4358-8449-dd1997088e61"
      },
      "source": [
        "train_data.describe()"
      ],
      "execution_count": 7,
      "outputs": [
        {
          "output_type": "execute_result",
          "data": {
            "text/html": [
              "<div>\n",
              "<style scoped>\n",
              "    .dataframe tbody tr th:only-of-type {\n",
              "        vertical-align: middle;\n",
              "    }\n",
              "\n",
              "    .dataframe tbody tr th {\n",
              "        vertical-align: top;\n",
              "    }\n",
              "\n",
              "    .dataframe thead th {\n",
              "        text-align: right;\n",
              "    }\n",
              "</style>\n",
              "<table border=\"1\" class=\"dataframe\">\n",
              "  <thead>\n",
              "    <tr style=\"text-align: right;\">\n",
              "      <th></th>\n",
              "      <th>Measured Depth m</th>\n",
              "      <th>Weight on Bit kkgf</th>\n",
              "      <th>Average Standpipe Pressure kPa</th>\n",
              "      <th>Average Surface Torque kN.m</th>\n",
              "      <th>Rate of Penetration m/h</th>\n",
              "      <th>Average Rotary Speed rpm</th>\n",
              "      <th>Mud Flow In L/min</th>\n",
              "      <th>Mud Density In g/cm3</th>\n",
              "      <th>Diameter mm</th>\n",
              "      <th>Average Hookload kkgf</th>\n",
              "      <th>Hole Depth (TVD) m</th>\n",
              "      <th>USROP Gamma gAPI</th>\n",
              "    </tr>\n",
              "  </thead>\n",
              "  <tbody>\n",
              "    <tr>\n",
              "      <th>count</th>\n",
              "      <td>198928.000000</td>\n",
              "      <td>198928.000000</td>\n",
              "      <td>198928.000000</td>\n",
              "      <td>198928.000000</td>\n",
              "      <td>198928.000000</td>\n",
              "      <td>198928.000000</td>\n",
              "      <td>198928.000000</td>\n",
              "      <td>198928.000000</td>\n",
              "      <td>198928.000000</td>\n",
              "      <td>198928.000000</td>\n",
              "      <td>198928.000000</td>\n",
              "      <td>198928.000000</td>\n",
              "    </tr>\n",
              "    <tr>\n",
              "      <th>mean</th>\n",
              "      <td>2411.781370</td>\n",
              "      <td>6.087997</td>\n",
              "      <td>17451.302922</td>\n",
              "      <td>14.430343</td>\n",
              "      <td>24.978426</td>\n",
              "      <td>152.368019</td>\n",
              "      <td>2873.576072</td>\n",
              "      <td>4.008286</td>\n",
              "      <td>297.470693</td>\n",
              "      <td>127.503708</td>\n",
              "      <td>2153.624785</td>\n",
              "      <td>67.197939</td>\n",
              "    </tr>\n",
              "    <tr>\n",
              "      <th>std</th>\n",
              "      <td>1066.443448</td>\n",
              "      <td>3.957126</td>\n",
              "      <td>4236.531326</td>\n",
              "      <td>7.239629</td>\n",
              "      <td>15.086731</td>\n",
              "      <td>49.998842</td>\n",
              "      <td>1055.406219</td>\n",
              "      <td>4.496288</td>\n",
              "      <td>100.344171</td>\n",
              "      <td>15.551890</td>\n",
              "      <td>846.519288</td>\n",
              "      <td>50.519888</td>\n",
              "    </tr>\n",
              "    <tr>\n",
              "      <th>min</th>\n",
              "      <td>225.171000</td>\n",
              "      <td>0.001814</td>\n",
              "      <td>1432.661618</td>\n",
              "      <td>0.008135</td>\n",
              "      <td>0.330000</td>\n",
              "      <td>0.000000</td>\n",
              "      <td>185.420836</td>\n",
              "      <td>1.020000</td>\n",
              "      <td>215.900000</td>\n",
              "      <td>84.047945</td>\n",
              "      <td>225.162770</td>\n",
              "      <td>0.000000</td>\n",
              "    </tr>\n",
              "    <tr>\n",
              "      <th>25%</th>\n",
              "      <td>1548.686750</td>\n",
              "      <td>3.283486</td>\n",
              "      <td>14655.999760</td>\n",
              "      <td>9.639866</td>\n",
              "      <td>12.990000</td>\n",
              "      <td>129.250000</td>\n",
              "      <td>1993.927917</td>\n",
              "      <td>1.300000</td>\n",
              "      <td>215.900000</td>\n",
              "      <td>124.925435</td>\n",
              "      <td>1516.593360</td>\n",
              "      <td>25.380000</td>\n",
              "    </tr>\n",
              "    <tr>\n",
              "      <th>50%</th>\n",
              "      <td>2697.182500</td>\n",
              "      <td>5.190356</td>\n",
              "      <td>16683.999630</td>\n",
              "      <td>12.798921</td>\n",
              "      <td>21.090000</td>\n",
              "      <td>139.736000</td>\n",
              "      <td>2121.382739</td>\n",
              "      <td>1.350000</td>\n",
              "      <td>215.900000</td>\n",
              "      <td>130.905851</td>\n",
              "      <td>2528.949222</td>\n",
              "      <td>54.490000</td>\n",
              "    </tr>\n",
              "    <tr>\n",
              "      <th>75%</th>\n",
              "      <td>3288.946500</td>\n",
              "      <td>8.127138</td>\n",
              "      <td>21153.529060</td>\n",
              "      <td>17.815448</td>\n",
              "      <td>32.470001</td>\n",
              "      <td>179.283000</td>\n",
              "      <td>3987.855834</td>\n",
              "      <td>10.849026</td>\n",
              "      <td>444.500000</td>\n",
              "      <td>138.719433</td>\n",
              "      <td>2865.091577</td>\n",
              "      <td>98.140000</td>\n",
              "    </tr>\n",
              "    <tr>\n",
              "      <th>max</th>\n",
              "      <td>4090.001000</td>\n",
              "      <td>31.411272</td>\n",
              "      <td>24998.459410</td>\n",
              "      <td>36.489128</td>\n",
              "      <td>99.206304</td>\n",
              "      <td>311.230011</td>\n",
              "      <td>4538.450195</td>\n",
              "      <td>12.017384</td>\n",
              "      <td>444.500000</td>\n",
              "      <td>152.926842</td>\n",
              "      <td>3248.389893</td>\n",
              "      <td>260.899000</td>\n",
              "    </tr>\n",
              "  </tbody>\n",
              "</table>\n",
              "</div>"
            ],
            "text/plain": [
              "       Measured Depth m  ...  USROP Gamma gAPI\n",
              "count     198928.000000  ...     198928.000000\n",
              "mean        2411.781370  ...         67.197939\n",
              "std         1066.443448  ...         50.519888\n",
              "min          225.171000  ...          0.000000\n",
              "25%         1548.686750  ...         25.380000\n",
              "50%         2697.182500  ...         54.490000\n",
              "75%         3288.946500  ...         98.140000\n",
              "max         4090.001000  ...        260.899000\n",
              "\n",
              "[8 rows x 12 columns]"
            ]
          },
          "metadata": {
            "tags": []
          },
          "execution_count": 7
        }
      ]
    },
    {
      "cell_type": "code",
      "metadata": {
        "colab": {
          "base_uri": "https://localhost:8080/"
        },
        "id": "5OclFlN13T5V",
        "outputId": "503b9e42-82b3-46be-e06d-a6a793a618a1"
      },
      "source": [
        "train_data['Well Identifier'].value_counts()"
      ],
      "execution_count": 8,
      "outputs": [
        {
          "output_type": "execute_result",
          "data": {
            "text/plain": [
              "USROP_A 3 N-SH-F-15d     53041\n",
              "USROP_A 4 N-SH_F-15Sd    51708\n",
              "USROP_A 2 N-SH_F-14d     47645\n",
              "USROP_A 5 N-SH-F-5d      18548\n",
              "USROP_A 0 N-NA_F-9_Ad    13746\n",
              "USROP_A 6 N-SH_F-9d       7851\n",
              "USROP_A 1 N-S_F-7d        6389\n",
              "Name: Well Identifier, dtype: int64"
            ]
          },
          "metadata": {
            "tags": []
          },
          "execution_count": 8
        }
      ]
    },
    {
      "cell_type": "code",
      "metadata": {
        "colab": {
          "base_uri": "https://localhost:8080/",
          "height": 452
        },
        "id": "a8YniZitJxem",
        "outputId": "e0cc2547-6af6-4331-cb4b-239d4e43933f"
      },
      "source": [
        "A= train_data.groupby(['Well Identifier'])\n",
        "A.first()"
      ],
      "execution_count": 9,
      "outputs": [
        {
          "output_type": "execute_result",
          "data": {
            "text/html": [
              "<div>\n",
              "<style scoped>\n",
              "    .dataframe tbody tr th:only-of-type {\n",
              "        vertical-align: middle;\n",
              "    }\n",
              "\n",
              "    .dataframe tbody tr th {\n",
              "        vertical-align: top;\n",
              "    }\n",
              "\n",
              "    .dataframe thead th {\n",
              "        text-align: right;\n",
              "    }\n",
              "</style>\n",
              "<table border=\"1\" class=\"dataframe\">\n",
              "  <thead>\n",
              "    <tr style=\"text-align: right;\">\n",
              "      <th></th>\n",
              "      <th>Measured Depth m</th>\n",
              "      <th>Weight on Bit kkgf</th>\n",
              "      <th>Average Standpipe Pressure kPa</th>\n",
              "      <th>Average Surface Torque kN.m</th>\n",
              "      <th>Rate of Penetration m/h</th>\n",
              "      <th>Average Rotary Speed rpm</th>\n",
              "      <th>Mud Flow In L/min</th>\n",
              "      <th>Mud Density In g/cm3</th>\n",
              "      <th>Diameter mm</th>\n",
              "      <th>Average Hookload kkgf</th>\n",
              "      <th>Hole Depth (TVD) m</th>\n",
              "      <th>USROP Gamma gAPI</th>\n",
              "    </tr>\n",
              "    <tr>\n",
              "      <th>Well Identifier</th>\n",
              "      <th></th>\n",
              "      <th></th>\n",
              "      <th></th>\n",
              "      <th></th>\n",
              "      <th></th>\n",
              "      <th></th>\n",
              "      <th></th>\n",
              "      <th></th>\n",
              "      <th></th>\n",
              "      <th></th>\n",
              "      <th></th>\n",
              "      <th></th>\n",
              "    </tr>\n",
              "  </thead>\n",
              "  <tbody>\n",
              "    <tr>\n",
              "      <th>USROP_A 0 N-NA_F-9_Ad</th>\n",
              "      <td>491.033</td>\n",
              "      <td>5.842270</td>\n",
              "      <td>9440.922214</td>\n",
              "      <td>0.244047</td>\n",
              "      <td>42.864024</td>\n",
              "      <td>84.000000</td>\n",
              "      <td>2784.321942</td>\n",
              "      <td>1.210000</td>\n",
              "      <td>311.15</td>\n",
              "      <td>93.780222</td>\n",
              "      <td>490.760309</td>\n",
              "      <td>150.880</td>\n",
              "    </tr>\n",
              "    <tr>\n",
              "      <th>USROP_A 1 N-S_F-7d</th>\n",
              "      <td>301.231</td>\n",
              "      <td>3.834133</td>\n",
              "      <td>13463.000490</td>\n",
              "      <td>4.159999</td>\n",
              "      <td>64.580002</td>\n",
              "      <td>208.000000</td>\n",
              "      <td>4260.669920</td>\n",
              "      <td>1.030000</td>\n",
              "      <td>444.50</td>\n",
              "      <td>95.129326</td>\n",
              "      <td>301.220124</td>\n",
              "      <td>43.497</td>\n",
              "    </tr>\n",
              "    <tr>\n",
              "      <th>USROP_A 2 N-SH_F-14d</th>\n",
              "      <td>987.948</td>\n",
              "      <td>6.179480</td>\n",
              "      <td>16538.999940</td>\n",
              "      <td>13.479999</td>\n",
              "      <td>12.790000</td>\n",
              "      <td>179.850006</td>\n",
              "      <td>1883.349976</td>\n",
              "      <td>1.360000</td>\n",
              "      <td>444.50</td>\n",
              "      <td>140.914586</td>\n",
              "      <td>987.459950</td>\n",
              "      <td>19.015</td>\n",
              "    </tr>\n",
              "    <tr>\n",
              "      <th>USROP_A 3 N-SH-F-15d</th>\n",
              "      <td>1306.525</td>\n",
              "      <td>0.390089</td>\n",
              "      <td>5922.527567</td>\n",
              "      <td>6.521484</td>\n",
              "      <td>70.420992</td>\n",
              "      <td>30.000000</td>\n",
              "      <td>1993.927917</td>\n",
              "      <td>11.850475</td>\n",
              "      <td>444.50</td>\n",
              "      <td>121.871198</td>\n",
              "      <td>1283.159232</td>\n",
              "      <td>62.090</td>\n",
              "    </tr>\n",
              "    <tr>\n",
              "      <th>USROP_A 4 N-SH_F-15Sd</th>\n",
              "      <td>1400.550</td>\n",
              "      <td>5.822580</td>\n",
              "      <td>16523.354800</td>\n",
              "      <td>12.148129</td>\n",
              "      <td>19.961352</td>\n",
              "      <td>99.930000</td>\n",
              "      <td>3544.773359</td>\n",
              "      <td>1.430000</td>\n",
              "      <td>311.15</td>\n",
              "      <td>119.735076</td>\n",
              "      <td>1367.018856</td>\n",
              "      <td>126.460</td>\n",
              "    </tr>\n",
              "    <tr>\n",
              "      <th>USROP_A 5 N-SH-F-5d</th>\n",
              "      <td>2828.239</td>\n",
              "      <td>14.847068</td>\n",
              "      <td>19732.000730</td>\n",
              "      <td>15.600001</td>\n",
              "      <td>4.690000</td>\n",
              "      <td>99.180000</td>\n",
              "      <td>2774.260011</td>\n",
              "      <td>1.380000</td>\n",
              "      <td>215.90</td>\n",
              "      <td>136.947890</td>\n",
              "      <td>2530.261538</td>\n",
              "      <td>19.070</td>\n",
              "    </tr>\n",
              "    <tr>\n",
              "      <th>USROP_A 6 N-SH_F-9d</th>\n",
              "      <td>225.171</td>\n",
              "      <td>0.560844</td>\n",
              "      <td>8883.999635</td>\n",
              "      <td>1.440001</td>\n",
              "      <td>3.350000</td>\n",
              "      <td>144.000000</td>\n",
              "      <td>3478.899903</td>\n",
              "      <td>1.030000</td>\n",
              "      <td>444.50</td>\n",
              "      <td>95.547406</td>\n",
              "      <td>225.162770</td>\n",
              "      <td>16.916</td>\n",
              "    </tr>\n",
              "  </tbody>\n",
              "</table>\n",
              "</div>"
            ],
            "text/plain": [
              "                       Measured Depth m  ...  USROP Gamma gAPI\n",
              "Well Identifier                          ...                  \n",
              "USROP_A 0 N-NA_F-9_Ad           491.033  ...           150.880\n",
              "USROP_A 1 N-S_F-7d              301.231  ...            43.497\n",
              "USROP_A 2 N-SH_F-14d            987.948  ...            19.015\n",
              "USROP_A 3 N-SH-F-15d           1306.525  ...            62.090\n",
              "USROP_A 4 N-SH_F-15Sd          1400.550  ...           126.460\n",
              "USROP_A 5 N-SH-F-5d            2828.239  ...            19.070\n",
              "USROP_A 6 N-SH_F-9d             225.171  ...            16.916\n",
              "\n",
              "[7 rows x 12 columns]"
            ]
          },
          "metadata": {
            "tags": []
          },
          "execution_count": 9
        }
      ]
    },
    {
      "cell_type": "code",
      "metadata": {
        "colab": {
          "base_uri": "https://localhost:8080/",
          "height": 747
        },
        "id": "iXlqw6AJ_Ypm",
        "outputId": "4722643f-48e9-4c23-93b6-b8dd043cc8e6"
      },
      "source": [
        "plt.figure(figsize=(12,10))\n",
        "sns.heatmap(train_data.corr(),annot=True)\n",
        "plt.show()"
      ],
      "execution_count": 10,
      "outputs": [
        {
          "output_type": "display_data",
          "data": {
            "image/png": "[encoded data removed]",
            "text/plain": [
              "<Figure size 864x720 with 2 Axes>"
            ]
          },
          "metadata": {
            "tags": [],
            "needs_background": "light"
          }
        }
      ]
    },
    {
      "cell_type": "code",
      "metadata": {
        "id": "iR6GaZzlNKgZ"
      },
      "source": [
        "train_data=train_data.drop_duplicates()"
      ],
      "execution_count": 11,
      "outputs": []
    },
    {
      "cell_type": "code",
      "metadata": {
        "id": "7otCaca45xT0"
      },
      "source": [
        "train_data=train_data.drop(['Well Identifier'],axis=1)"
      ],
      "execution_count": 12,
      "outputs": []
    },
    {
      "cell_type": "code",
      "metadata": {
        "colab": {
          "base_uri": "https://localhost:8080/",
          "height": 500
        },
        "id": "2xvELf4XYXzJ",
        "outputId": "587053fe-b864-4312-84b8-34fd4bc14418"
      },
      "source": [
        "plt.figure(figsize=(12,8))\n",
        "plt.scatter(train_data['Measured Depth m'],train_data['Hole Depth (TVD) m'],c='r')"
      ],
      "execution_count": 13,
      "outputs": [
        {
          "output_type": "execute_result",
          "data": {
            "text/plain": [
              "<matplotlib.collections.PathCollection at 0x7f8049f9c9d0>"
            ]
          },
          "metadata": {
            "tags": []
          },
          "execution_count": 13
        },
        {
          "output_type": "display_data",
          "data": {
            "image/png": "[encoded data removed]",
            "text/plain": [
              "<Figure size 864x576 with 1 Axes>"
            ]
          },
          "metadata": {
            "tags": [],
            "needs_background": "light"
          }
        }
      ]
    },
    {
      "cell_type": "code",
      "metadata": {
        "id": "Yew4PR2kZu6H"
      },
      "source": [
        "X=train_data\n"
      ],
      "execution_count": 14,
      "outputs": []
    },
    {
      "cell_type": "code",
      "metadata": {
        "colab": {
          "base_uri": "https://localhost:8080/",
          "height": 350
        },
        "id": "URUEUfAsbIqw",
        "outputId": "9bc49f87-1806-4992-a0aa-58b1cfcbf8c6"
      },
      "source": [
        "sns.boxplot(X['Rate of Penetration m/h'])"
      ],
      "execution_count": 15,
      "outputs": [
        {
          "output_type": "stream",
          "text": [
            "/usr/local/lib/python3.7/dist-packages/seaborn/_decorators.py:43: FutureWarning: Pass the following variable as a keyword arg: x. From version 0.12, the only valid positional argument will be `data`, and passing other arguments without an explicit keyword will result in an error or misinterpretation.\n",
            "  FutureWarning\n"
          ],
          "name": "stderr"
        },
        {
          "output_type": "execute_result",
          "data": {
            "text/plain": [
              "<matplotlib.axes._subplots.AxesSubplot at 0x7f8048752d50>"
            ]
          },
          "metadata": {
            "tags": []
          },
          "execution_count": 15
        },
        {
          "output_type": "display_data",
          "data": {
            "image/png": "[encoded data removed]",
            "text/plain": [
              "<Figure size 432x288 with 1 Axes>"
            ]
          },
          "metadata": {
            "tags": [],
            "needs_background": "light"
          }
        }
      ]
    },
    {
      "cell_type": "code",
      "metadata": {
        "colab": {
          "base_uri": "https://localhost:8080/"
        },
        "id": "EHGBBr4K8SuO",
        "outputId": "bef5421a-f6d5-422e-bea3-d4099230879b"
      },
      "source": [
        "y1=X['Rate of Penetration m/h'].quantile(.75)+(X['Rate of Penetration m/h'].quantile(.75)-X['Rate of Penetration m/h'].quantile(.25))*1.5\n",
        "print(y1)\n",
        "for i in X['Rate of Penetration m/h']:\n",
        "  if i>y1:\n",
        "    X['Rate of Penetration m/h'].replace(i,y1,inplace=True)\n",
        "\n",
        "X=X[X['Rate of Penetration m/h']<y1]"
      ],
      "execution_count": 16,
      "outputs": [
        {
          "output_type": "stream",
          "text": [
            "61.690003319999995\n"
          ],
          "name": "stdout"
        }
      ]
    },
    {
      "cell_type": "code",
      "metadata": {
        "colab": {
          "base_uri": "https://localhost:8080/",
          "height": 350
        },
        "id": "IMu5FThgMkRl",
        "outputId": "3ffbb2c2-ddcc-49b9-9d75-1e59c73bf91b"
      },
      "source": [
        "sns.boxplot(X['Measured Depth m'])"
      ],
      "execution_count": 17,
      "outputs": [
        {
          "output_type": "stream",
          "text": [
            "/usr/local/lib/python3.7/dist-packages/seaborn/_decorators.py:43: FutureWarning: Pass the following variable as a keyword arg: x. From version 0.12, the only valid positional argument will be `data`, and passing other arguments without an explicit keyword will result in an error or misinterpretation.\n",
            "  FutureWarning\n"
          ],
          "name": "stderr"
        },
        {
          "output_type": "execute_result",
          "data": {
            "text/plain": [
              "<matplotlib.axes._subplots.AxesSubplot at 0x7f804a594a10>"
            ]
          },
          "metadata": {
            "tags": []
          },
          "execution_count": 17
        },
        {
          "output_type": "display_data",
          "data": {
            "image/png": "[encoded data removed]",
            "text/plain": [
              "<Figure size 432x288 with 1 Axes>"
            ]
          },
          "metadata": {
            "tags": [],
            "needs_background": "light"
          }
        }
      ]
    },
    {
      "cell_type": "code",
      "metadata": {
        "id": "SLdumPoqSpQ2"
      },
      "source": [
        "X=X.drop(['Measured Depth m'],axis=1)"
      ],
      "execution_count": 18,
      "outputs": []
    },
    {
      "cell_type": "code",
      "metadata": {
        "colab": {
          "base_uri": "https://localhost:8080/",
          "height": 350
        },
        "id": "KUOean95NZtl",
        "outputId": "66417797-ddb7-4a07-888b-14445af426f4"
      },
      "source": [
        "sns.boxplot(X['Weight on Bit kkgf'])"
      ],
      "execution_count": 19,
      "outputs": [
        {
          "output_type": "stream",
          "text": [
            "/usr/local/lib/python3.7/dist-packages/seaborn/_decorators.py:43: FutureWarning: Pass the following variable as a keyword arg: x. From version 0.12, the only valid positional argument will be `data`, and passing other arguments without an explicit keyword will result in an error or misinterpretation.\n",
            "  FutureWarning\n"
          ],
          "name": "stderr"
        },
        {
          "output_type": "execute_result",
          "data": {
            "text/plain": [
              "<matplotlib.axes._subplots.AxesSubplot at 0x7f805264d650>"
            ]
          },
          "metadata": {
            "tags": []
          },
          "execution_count": 19
        },
        {
          "output_type": "display_data",
          "data": {
            "image/png": "[encoded data removed]",
            "text/plain": [
              "<Figure size 432x288 with 1 Axes>"
            ]
          },
          "metadata": {
            "tags": [],
            "needs_background": "light"
          }
        }
      ]
    },
    {
      "cell_type": "code",
      "metadata": {
        "colab": {
          "base_uri": "https://localhost:8080/"
        },
        "id": "p3AqG53N78ys",
        "outputId": "7333b681-6857-455a-ff50-bf01e16602f4"
      },
      "source": [
        "\n",
        "a1=X['Weight on Bit kkgf'].quantile(.75)+(X['Weight on Bit kkgf'].quantile(.75)-X['Weight on Bit kkgf'].quantile(.25))*1.5\n",
        "print(a1)"
      ],
      "execution_count": 20,
      "outputs": [
        {
          "output_type": "stream",
          "text": [
            "15.726047468500001\n"
          ],
          "name": "stdout"
        }
      ]
    },
    {
      "cell_type": "code",
      "metadata": {
        "id": "nI1CKx0i9EZx"
      },
      "source": [
        "X=X[X['Weight on Bit kkgf']<a1]"
      ],
      "execution_count": 21,
      "outputs": []
    },
    {
      "cell_type": "code",
      "metadata": {
        "colab": {
          "base_uri": "https://localhost:8080/",
          "height": 350
        },
        "id": "54qojBxNOQJW",
        "outputId": "21626e33-944f-4ff5-9336-5fa5abc11549"
      },
      "source": [
        "sns.boxplot(X['Average Standpipe Pressure kPa'])"
      ],
      "execution_count": 22,
      "outputs": [
        {
          "output_type": "stream",
          "text": [
            "/usr/local/lib/python3.7/dist-packages/seaborn/_decorators.py:43: FutureWarning: Pass the following variable as a keyword arg: x. From version 0.12, the only valid positional argument will be `data`, and passing other arguments without an explicit keyword will result in an error or misinterpretation.\n",
            "  FutureWarning\n"
          ],
          "name": "stderr"
        },
        {
          "output_type": "execute_result",
          "data": {
            "text/plain": [
              "<matplotlib.axes._subplots.AxesSubplot at 0x7f8052609990>"
            ]
          },
          "metadata": {
            "tags": []
          },
          "execution_count": 22
        },
        {
          "output_type": "display_data",
          "data": {
            "image/png": "[encoded data removed]",
            "text/plain": [
              "<Figure size 432x288 with 1 Axes>"
            ]
          },
          "metadata": {
            "tags": [],
            "needs_background": "light"
          }
        }
      ]
    },
    {
      "cell_type": "code",
      "metadata": {
        "colab": {
          "base_uri": "https://localhost:8080/"
        },
        "id": "cMiYY3Zq9VHt",
        "outputId": "b7916e1a-fe13-4449-9eb4-3435527f7459"
      },
      "source": [
        "a2=X['Average Standpipe Pressure kPa'].quantile(.25)-(X['Average Standpipe Pressure kPa'].quantile(.75)-X['Average Standpipe Pressure kPa'].quantile(.25))*1.5\n",
        "a2"
      ],
      "execution_count": 23,
      "outputs": [
        {
          "output_type": "execute_result",
          "data": {
            "text/plain": [
              "4950.045229999994"
            ]
          },
          "metadata": {
            "tags": []
          },
          "execution_count": 23
        }
      ]
    },
    {
      "cell_type": "code",
      "metadata": {
        "colab": {
          "base_uri": "https://localhost:8080/",
          "height": 350
        },
        "id": "whfvfRQDO3zh",
        "outputId": "d5c44b8c-bd5d-44b3-f269-a96900c7f42b"
      },
      "source": [
        "sns.boxplot(X['Average Surface Torque kN.m'])"
      ],
      "execution_count": 24,
      "outputs": [
        {
          "output_type": "stream",
          "text": [
            "/usr/local/lib/python3.7/dist-packages/seaborn/_decorators.py:43: FutureWarning: Pass the following variable as a keyword arg: x. From version 0.12, the only valid positional argument will be `data`, and passing other arguments without an explicit keyword will result in an error or misinterpretation.\n",
            "  FutureWarning\n"
          ],
          "name": "stderr"
        },
        {
          "output_type": "execute_result",
          "data": {
            "text/plain": [
              "<matplotlib.axes._subplots.AxesSubplot at 0x7f804a56f5d0>"
            ]
          },
          "metadata": {
            "tags": []
          },
          "execution_count": 24
        },
        {
          "output_type": "display_data",
          "data": {
            "image/png": "[encoded data removed]",
            "text/plain": [
              "<Figure size 432x288 with 1 Axes>"
            ]
          },
          "metadata": {
            "tags": [],
            "needs_background": "light"
          }
        }
      ]
    },
    {
      "cell_type": "code",
      "metadata": {
        "colab": {
          "base_uri": "https://localhost:8080/"
        },
        "id": "fx1DD9R59usA",
        "outputId": "a3622064-1890-48bc-c682-86f27291b0ae"
      },
      "source": [
        "a3=X['Average Surface Torque kN.m'].quantile(.75)+(X['Average Surface Torque kN.m'].quantile(.75)-X['Average Surface Torque kN.m'].quantile(.25))*1.5\n",
        "a3"
      ],
      "execution_count": 25,
      "outputs": [
        {
          "output_type": "execute_result",
          "data": {
            "text/plain": [
              "29.748189395999997"
            ]
          },
          "metadata": {
            "tags": []
          },
          "execution_count": 25
        }
      ]
    },
    {
      "cell_type": "code",
      "metadata": {
        "id": "IGAVcMZ_gtTw"
      },
      "source": [
        "X=X.drop(['Average Surface Torque kN.m'],axis=1)"
      ],
      "execution_count": 26,
      "outputs": []
    },
    {
      "cell_type": "code",
      "metadata": {
        "colab": {
          "base_uri": "https://localhost:8080/",
          "height": 350
        },
        "id": "kmf2RsYrPL59",
        "outputId": "66f55274-00d5-4816-c8a8-ad641fd7290c"
      },
      "source": [
        "sns.boxplot(X['Average Rotary Speed rpm'])"
      ],
      "execution_count": 27,
      "outputs": [
        {
          "output_type": "stream",
          "text": [
            "/usr/local/lib/python3.7/dist-packages/seaborn/_decorators.py:43: FutureWarning: Pass the following variable as a keyword arg: x. From version 0.12, the only valid positional argument will be `data`, and passing other arguments without an explicit keyword will result in an error or misinterpretation.\n",
            "  FutureWarning\n"
          ],
          "name": "stderr"
        },
        {
          "output_type": "execute_result",
          "data": {
            "text/plain": [
              "<matplotlib.axes._subplots.AxesSubplot at 0x7f804a501f10>"
            ]
          },
          "metadata": {
            "tags": []
          },
          "execution_count": 27
        },
        {
          "output_type": "display_data",
          "data": {
            "image/png": "[encoded data removed]",
            "text/plain": [
              "<Figure size 432x288 with 1 Axes>"
            ]
          },
          "metadata": {
            "tags": [],
            "needs_background": "light"
          }
        }
      ]
    },
    {
      "cell_type": "code",
      "metadata": {
        "colab": {
          "base_uri": "https://localhost:8080/"
        },
        "id": "GW3m6M7k-tSP",
        "outputId": "18001728-eca7-4191-834c-dc1c36d0689e"
      },
      "source": [
        "a5=X['Average Rotary Speed rpm'].quantile(.75)+(X['Average Rotary Speed rpm'].quantile(.75)-X['Average Rotary Speed rpm'].quantile(.25))*1.5\n",
        "print(a5)\n",
        "a6=X['Average Rotary Speed rpm'].quantile(.25)-(X['Average Rotary Speed rpm'].quantile(.75)-X['Average Rotary Speed rpm'].quantile(.25))*1.5\n",
        "print(a6)"
      ],
      "execution_count": 28,
      "outputs": [
        {
          "output_type": "stream",
          "text": [
            "253.745\n",
            "54.42499999999997\n"
          ],
          "name": "stdout"
        }
      ]
    },
    {
      "cell_type": "code",
      "metadata": {
        "id": "YlfFh2dJikCr"
      },
      "source": [
        "X=X.drop(['Average Rotary Speed rpm'],axis=1)"
      ],
      "execution_count": 29,
      "outputs": []
    },
    {
      "cell_type": "code",
      "metadata": {
        "colab": {
          "base_uri": "https://localhost:8080/",
          "height": 350
        },
        "id": "N_pWWx5cPaqa",
        "outputId": "75d6721f-084d-49cc-fd1d-e602a65380b0"
      },
      "source": [
        "sns.boxplot(X['Mud Flow In L/min'])"
      ],
      "execution_count": 30,
      "outputs": [
        {
          "output_type": "stream",
          "text": [
            "/usr/local/lib/python3.7/dist-packages/seaborn/_decorators.py:43: FutureWarning: Pass the following variable as a keyword arg: x. From version 0.12, the only valid positional argument will be `data`, and passing other arguments without an explicit keyword will result in an error or misinterpretation.\n",
            "  FutureWarning\n"
          ],
          "name": "stderr"
        },
        {
          "output_type": "execute_result",
          "data": {
            "text/plain": [
              "<matplotlib.axes._subplots.AxesSubplot at 0x7f80473db610>"
            ]
          },
          "metadata": {
            "tags": []
          },
          "execution_count": 30
        },
        {
          "output_type": "display_data",
          "data": {
            "image/png": "[encoded data removed]",
            "text/plain": [
              "<Figure size 432x288 with 1 Axes>"
            ]
          },
          "metadata": {
            "tags": [],
            "needs_background": "light"
          }
        }
      ]
    },
    {
      "cell_type": "code",
      "metadata": {
        "colab": {
          "base_uri": "https://localhost:8080/",
          "height": 350
        },
        "id": "wf_C5HooTINz",
        "outputId": "56c5041e-908d-4550-ce0d-9885e5f0fd37"
      },
      "source": [
        "sns.boxplot(X['Mud Density In g/cm3'])"
      ],
      "execution_count": 31,
      "outputs": [
        {
          "output_type": "stream",
          "text": [
            "/usr/local/lib/python3.7/dist-packages/seaborn/_decorators.py:43: FutureWarning: Pass the following variable as a keyword arg: x. From version 0.12, the only valid positional argument will be `data`, and passing other arguments without an explicit keyword will result in an error or misinterpretation.\n",
            "  FutureWarning\n"
          ],
          "name": "stderr"
        },
        {
          "output_type": "execute_result",
          "data": {
            "text/plain": [
              "<matplotlib.axes._subplots.AxesSubplot at 0x7f80473be0d0>"
            ]
          },
          "metadata": {
            "tags": []
          },
          "execution_count": 31
        },
        {
          "output_type": "display_data",
          "data": {
            "image/png": "[encoded data removed]",
            "text/plain": [
              "<Figure size 432x288 with 1 Axes>"
            ]
          },
          "metadata": {
            "tags": [],
            "needs_background": "light"
          }
        }
      ]
    },
    {
      "cell_type": "code",
      "metadata": {
        "id": "aKdQAequTO-i",
        "colab": {
          "base_uri": "https://localhost:8080/",
          "height": 350
        },
        "outputId": "c4608df8-751f-40e8-ec9d-83fd2b86bd6b"
      },
      "source": [
        "sns.boxplot(X['Diameter mm'])"
      ],
      "execution_count": 32,
      "outputs": [
        {
          "output_type": "stream",
          "text": [
            "/usr/local/lib/python3.7/dist-packages/seaborn/_decorators.py:43: FutureWarning: Pass the following variable as a keyword arg: x. From version 0.12, the only valid positional argument will be `data`, and passing other arguments without an explicit keyword will result in an error or misinterpretation.\n",
            "  FutureWarning\n"
          ],
          "name": "stderr"
        },
        {
          "output_type": "execute_result",
          "data": {
            "text/plain": [
              "<matplotlib.axes._subplots.AxesSubplot at 0x7f8047375790>"
            ]
          },
          "metadata": {
            "tags": []
          },
          "execution_count": 32
        },
        {
          "output_type": "display_data",
          "data": {
            "image/png": "[encoded data removed]",
            "text/plain": [
              "<Figure size 432x288 with 1 Axes>"
            ]
          },
          "metadata": {
            "tags": [],
            "needs_background": "light"
          }
        }
      ]
    },
    {
      "cell_type": "code",
      "metadata": {
        "colab": {
          "base_uri": "https://localhost:8080/",
          "height": 350
        },
        "id": "w1zqZX_jTUSA",
        "outputId": "999f658e-9572-4b62-98c0-effabe6598e3"
      },
      "source": [
        "sns.boxplot(X['Average Hookload kkgf'])"
      ],
      "execution_count": 33,
      "outputs": [
        {
          "output_type": "stream",
          "text": [
            "/usr/local/lib/python3.7/dist-packages/seaborn/_decorators.py:43: FutureWarning: Pass the following variable as a keyword arg: x. From version 0.12, the only valid positional argument will be `data`, and passing other arguments without an explicit keyword will result in an error or misinterpretation.\n",
            "  FutureWarning\n"
          ],
          "name": "stderr"
        },
        {
          "output_type": "execute_result",
          "data": {
            "text/plain": [
              "<matplotlib.axes._subplots.AxesSubplot at 0x7f80473167d0>"
            ]
          },
          "metadata": {
            "tags": []
          },
          "execution_count": 33
        },
        {
          "output_type": "display_data",
          "data": {
            "image/png": "[encoded data removed]",
            "text/plain": [
              "<Figure size 432x288 with 1 Axes>"
            ]
          },
          "metadata": {
            "tags": [],
            "needs_background": "light"
          }
        }
      ]
    },
    {
      "cell_type": "code",
      "metadata": {
        "colab": {
          "base_uri": "https://localhost:8080/"
        },
        "id": "gAkZk8dH_Qhd",
        "outputId": "d9cd4c9d-3603-43a4-86fe-4dd8dbd9ad1b"
      },
      "source": [
        "a8=X['Average Hookload kkgf'].quantile(.25)-(X['Average Hookload kkgf'].quantile(.75)-X['Average Hookload kkgf'].quantile(.25))*1.5\n",
        "print(a8)"
      ],
      "execution_count": 34,
      "outputs": [
        {
          "output_type": "stream",
          "text": [
            "105.50804629999999\n"
          ],
          "name": "stdout"
        }
      ]
    },
    {
      "cell_type": "code",
      "metadata": {
        "id": "FTc9i4_YP33z"
      },
      "source": [
        "X=X[X['Average Hookload kkgf']>a8]"
      ],
      "execution_count": 35,
      "outputs": []
    },
    {
      "cell_type": "code",
      "metadata": {
        "colab": {
          "base_uri": "https://localhost:8080/",
          "height": 350
        },
        "id": "2DAAaRmQTlOe",
        "outputId": "365253d0-f38e-41a4-f413-eee0da9f3cbe"
      },
      "source": [
        "sns.boxplot(X['Hole Depth (TVD) m'])"
      ],
      "execution_count": 36,
      "outputs": [
        {
          "output_type": "stream",
          "text": [
            "/usr/local/lib/python3.7/dist-packages/seaborn/_decorators.py:43: FutureWarning: Pass the following variable as a keyword arg: x. From version 0.12, the only valid positional argument will be `data`, and passing other arguments without an explicit keyword will result in an error or misinterpretation.\n",
            "  FutureWarning\n"
          ],
          "name": "stderr"
        },
        {
          "output_type": "execute_result",
          "data": {
            "text/plain": [
              "<matplotlib.axes._subplots.AxesSubplot at 0x7f804727db50>"
            ]
          },
          "metadata": {
            "tags": []
          },
          "execution_count": 36
        },
        {
          "output_type": "display_data",
          "data": {
            "image/png": "[encoded data removed]",
            "text/plain": [
              "<Figure size 432x288 with 1 Axes>"
            ]
          },
          "metadata": {
            "tags": [],
            "needs_background": "light"
          }
        }
      ]
    },
    {
      "cell_type": "code",
      "metadata": {
        "colab": {
          "base_uri": "https://localhost:8080/",
          "height": 350
        },
        "id": "_q9KQjVLT_Ka",
        "outputId": "c66e8ffb-c55e-42b6-bc57-b7a0ced37d09"
      },
      "source": [
        "sns.boxplot(X['USROP Gamma gAPI'])"
      ],
      "execution_count": 37,
      "outputs": [
        {
          "output_type": "stream",
          "text": [
            "/usr/local/lib/python3.7/dist-packages/seaborn/_decorators.py:43: FutureWarning: Pass the following variable as a keyword arg: x. From version 0.12, the only valid positional argument will be `data`, and passing other arguments without an explicit keyword will result in an error or misinterpretation.\n",
            "  FutureWarning\n"
          ],
          "name": "stderr"
        },
        {
          "output_type": "execute_result",
          "data": {
            "text/plain": [
              "<matplotlib.axes._subplots.AxesSubplot at 0x7f80471f0a90>"
            ]
          },
          "metadata": {
            "tags": []
          },
          "execution_count": 37
        },
        {
          "output_type": "display_data",
          "data": {
            "image/png": "[encoded data removed]",
            "text/plain": [
              "<Figure size 432x288 with 1 Axes>"
            ]
          },
          "metadata": {
            "tags": [],
            "needs_background": "light"
          }
        }
      ]
    },
    {
      "cell_type": "code",
      "metadata": {
        "id": "Xo0kyduHj7XL"
      },
      "source": [
        "X['USROP Gamma gAPI']=np.sqrt(X['USROP Gamma gAPI'])"
      ],
      "execution_count": 38,
      "outputs": []
    },
    {
      "cell_type": "code",
      "metadata": {
        "colab": {
          "base_uri": "https://localhost:8080/",
          "height": 418
        },
        "id": "4c02_KgvDjco",
        "outputId": "96d6ae23-1fa6-45ca-bd3b-df657892b447"
      },
      "source": [
        "X"
      ],
      "execution_count": 39,
      "outputs": [
        {
          "output_type": "execute_result",
          "data": {
            "text/html": [
              "<div>\n",
              "<style scoped>\n",
              "    .dataframe tbody tr th:only-of-type {\n",
              "        vertical-align: middle;\n",
              "    }\n",
              "\n",
              "    .dataframe tbody tr th {\n",
              "        vertical-align: top;\n",
              "    }\n",
              "\n",
              "    .dataframe thead th {\n",
              "        text-align: right;\n",
              "    }\n",
              "</style>\n",
              "<table border=\"1\" class=\"dataframe\">\n",
              "  <thead>\n",
              "    <tr style=\"text-align: right;\">\n",
              "      <th></th>\n",
              "      <th>Weight on Bit kkgf</th>\n",
              "      <th>Average Standpipe Pressure kPa</th>\n",
              "      <th>Rate of Penetration m/h</th>\n",
              "      <th>Mud Flow In L/min</th>\n",
              "      <th>Mud Density In g/cm3</th>\n",
              "      <th>Diameter mm</th>\n",
              "      <th>Average Hookload kkgf</th>\n",
              "      <th>Hole Depth (TVD) m</th>\n",
              "      <th>USROP Gamma gAPI</th>\n",
              "    </tr>\n",
              "  </thead>\n",
              "  <tbody>\n",
              "    <tr>\n",
              "      <th>20135</th>\n",
              "      <td>6.179480</td>\n",
              "      <td>16538.99994</td>\n",
              "      <td>12.79</td>\n",
              "      <td>1883.349976</td>\n",
              "      <td>1.36</td>\n",
              "      <td>444.5</td>\n",
              "      <td>140.914586</td>\n",
              "      <td>987.459950</td>\n",
              "      <td>4.360619</td>\n",
              "    </tr>\n",
              "    <tr>\n",
              "      <th>20136</th>\n",
              "      <td>6.179480</td>\n",
              "      <td>16538.99994</td>\n",
              "      <td>12.79</td>\n",
              "      <td>1883.349976</td>\n",
              "      <td>1.36</td>\n",
              "      <td>444.5</td>\n",
              "      <td>140.914586</td>\n",
              "      <td>987.612350</td>\n",
              "      <td>4.360619</td>\n",
              "    </tr>\n",
              "    <tr>\n",
              "      <th>20137</th>\n",
              "      <td>6.179480</td>\n",
              "      <td>16538.99994</td>\n",
              "      <td>12.79</td>\n",
              "      <td>1883.349976</td>\n",
              "      <td>1.36</td>\n",
              "      <td>444.5</td>\n",
              "      <td>140.914586</td>\n",
              "      <td>987.917150</td>\n",
              "      <td>4.360619</td>\n",
              "    </tr>\n",
              "    <tr>\n",
              "      <th>20138</th>\n",
              "      <td>6.179480</td>\n",
              "      <td>16538.99994</td>\n",
              "      <td>12.79</td>\n",
              "      <td>1883.349976</td>\n",
              "      <td>1.36</td>\n",
              "      <td>444.5</td>\n",
              "      <td>140.914586</td>\n",
              "      <td>988.069550</td>\n",
              "      <td>4.360619</td>\n",
              "    </tr>\n",
              "    <tr>\n",
              "      <th>20139</th>\n",
              "      <td>6.179480</td>\n",
              "      <td>16538.99994</td>\n",
              "      <td>12.79</td>\n",
              "      <td>1883.349976</td>\n",
              "      <td>1.36</td>\n",
              "      <td>444.5</td>\n",
              "      <td>140.914586</td>\n",
              "      <td>988.374350</td>\n",
              "      <td>4.360619</td>\n",
              "    </tr>\n",
              "    <tr>\n",
              "      <th>...</th>\n",
              "      <td>...</td>\n",
              "      <td>...</td>\n",
              "      <td>...</td>\n",
              "      <td>...</td>\n",
              "      <td>...</td>\n",
              "      <td>...</td>\n",
              "      <td>...</td>\n",
              "      <td>...</td>\n",
              "      <td>...</td>\n",
              "    </tr>\n",
              "    <tr>\n",
              "      <th>191072</th>\n",
              "      <td>5.292327</td>\n",
              "      <td>21008.00018</td>\n",
              "      <td>7.68</td>\n",
              "      <td>2088.929932</td>\n",
              "      <td>1.46</td>\n",
              "      <td>215.9</td>\n",
              "      <td>145.727648</td>\n",
              "      <td>3246.482712</td>\n",
              "      <td>7.525955</td>\n",
              "    </tr>\n",
              "    <tr>\n",
              "      <th>191073</th>\n",
              "      <td>5.292327</td>\n",
              "      <td>21008.00018</td>\n",
              "      <td>7.68</td>\n",
              "      <td>2088.929932</td>\n",
              "      <td>1.46</td>\n",
              "      <td>215.9</td>\n",
              "      <td>145.727648</td>\n",
              "      <td>3246.491856</td>\n",
              "      <td>7.525955</td>\n",
              "    </tr>\n",
              "    <tr>\n",
              "      <th>191074</th>\n",
              "      <td>5.292327</td>\n",
              "      <td>21008.00018</td>\n",
              "      <td>7.68</td>\n",
              "      <td>2088.929932</td>\n",
              "      <td>1.46</td>\n",
              "      <td>215.9</td>\n",
              "      <td>145.727648</td>\n",
              "      <td>3246.513192</td>\n",
              "      <td>7.525955</td>\n",
              "    </tr>\n",
              "    <tr>\n",
              "      <th>191075</th>\n",
              "      <td>5.292327</td>\n",
              "      <td>21008.00018</td>\n",
              "      <td>7.68</td>\n",
              "      <td>2088.929932</td>\n",
              "      <td>1.46</td>\n",
              "      <td>215.9</td>\n",
              "      <td>145.727648</td>\n",
              "      <td>3246.524165</td>\n",
              "      <td>7.525955</td>\n",
              "    </tr>\n",
              "    <tr>\n",
              "      <th>191076</th>\n",
              "      <td>5.292327</td>\n",
              "      <td>21008.00018</td>\n",
              "      <td>7.68</td>\n",
              "      <td>2088.929932</td>\n",
              "      <td>1.46</td>\n",
              "      <td>215.9</td>\n",
              "      <td>145.727648</td>\n",
              "      <td>3246.545196</td>\n",
              "      <td>7.525955</td>\n",
              "    </tr>\n",
              "  </tbody>\n",
              "</table>\n",
              "<p>164212 rows × 9 columns</p>\n",
              "</div>"
            ],
            "text/plain": [
              "        Weight on Bit kkgf  ...  USROP Gamma gAPI\n",
              "20135             6.179480  ...          4.360619\n",
              "20136             6.179480  ...          4.360619\n",
              "20137             6.179480  ...          4.360619\n",
              "20138             6.179480  ...          4.360619\n",
              "20139             6.179480  ...          4.360619\n",
              "...                    ...  ...               ...\n",
              "191072            5.292327  ...          7.525955\n",
              "191073            5.292327  ...          7.525955\n",
              "191074            5.292327  ...          7.525955\n",
              "191075            5.292327  ...          7.525955\n",
              "191076            5.292327  ...          7.525955\n",
              "\n",
              "[164212 rows x 9 columns]"
            ]
          },
          "metadata": {
            "tags": []
          },
          "execution_count": 39
        }
      ]
    },
    {
      "cell_type": "code",
      "metadata": {
        "id": "U13434PkSu4o"
      },
      "source": [
        "Y=X['Rate of Penetration m/h']\n",
        "X=X.drop(['Rate of Penetration m/h'],axis=1)"
      ],
      "execution_count": 40,
      "outputs": []
    },
    {
      "cell_type": "code",
      "metadata": {
        "id": "Ns2Ep2VS7bKu"
      },
      "source": [
        "from sklearn.preprocessing import StandardScaler\n",
        "scaler=StandardScaler()\n",
        "XX=scaler.fit_transform(X)"
      ],
      "execution_count": 41,
      "outputs": []
    },
    {
      "cell_type": "code",
      "metadata": {
        "colab": {
          "base_uri": "https://localhost:8080/",
          "height": 402
        },
        "id": "l_d-scHe71dT",
        "outputId": "a4e87099-e2f4-43da-fc57-cd108c663fcc"
      },
      "source": [
        "X=pd.DataFrame(data=XX,columns=X.columns)\n",
        "X"
      ],
      "execution_count": 42,
      "outputs": [
        {
          "output_type": "execute_result",
          "data": {
            "text/html": [
              "<div>\n",
              "<style scoped>\n",
              "    .dataframe tbody tr th:only-of-type {\n",
              "        vertical-align: middle;\n",
              "    }\n",
              "\n",
              "    .dataframe tbody tr th {\n",
              "        vertical-align: top;\n",
              "    }\n",
              "\n",
              "    .dataframe thead th {\n",
              "        text-align: right;\n",
              "    }\n",
              "</style>\n",
              "<table border=\"1\" class=\"dataframe\">\n",
              "  <thead>\n",
              "    <tr style=\"text-align: right;\">\n",
              "      <th></th>\n",
              "      <th>Weight on Bit kkgf</th>\n",
              "      <th>Average Standpipe Pressure kPa</th>\n",
              "      <th>Mud Flow In L/min</th>\n",
              "      <th>Mud Density In g/cm3</th>\n",
              "      <th>Diameter mm</th>\n",
              "      <th>Average Hookload kkgf</th>\n",
              "      <th>Hole Depth (TVD) m</th>\n",
              "      <th>USROP Gamma gAPI</th>\n",
              "    </tr>\n",
              "  </thead>\n",
              "  <tbody>\n",
              "    <tr>\n",
              "      <th>0</th>\n",
              "      <td>0.102202</td>\n",
              "      <td>-0.539029</td>\n",
              "      <td>-0.855881</td>\n",
              "      <td>-0.672403</td>\n",
              "      <td>1.639367</td>\n",
              "      <td>0.907174</td>\n",
              "      <td>-2.441949</td>\n",
              "      <td>-0.950423</td>\n",
              "    </tr>\n",
              "    <tr>\n",
              "      <th>1</th>\n",
              "      <td>0.102202</td>\n",
              "      <td>-0.539029</td>\n",
              "      <td>-0.855881</td>\n",
              "      <td>-0.672403</td>\n",
              "      <td>1.639367</td>\n",
              "      <td>0.907174</td>\n",
              "      <td>-2.441689</td>\n",
              "      <td>-0.950423</td>\n",
              "    </tr>\n",
              "    <tr>\n",
              "      <th>2</th>\n",
              "      <td>0.102202</td>\n",
              "      <td>-0.539029</td>\n",
              "      <td>-0.855881</td>\n",
              "      <td>-0.672403</td>\n",
              "      <td>1.639367</td>\n",
              "      <td>0.907174</td>\n",
              "      <td>-2.441171</td>\n",
              "      <td>-0.950423</td>\n",
              "    </tr>\n",
              "    <tr>\n",
              "      <th>3</th>\n",
              "      <td>0.102202</td>\n",
              "      <td>-0.539029</td>\n",
              "      <td>-0.855881</td>\n",
              "      <td>-0.672403</td>\n",
              "      <td>1.639367</td>\n",
              "      <td>0.907174</td>\n",
              "      <td>-2.440911</td>\n",
              "      <td>-0.950423</td>\n",
              "    </tr>\n",
              "    <tr>\n",
              "      <th>4</th>\n",
              "      <td>0.102202</td>\n",
              "      <td>-0.539029</td>\n",
              "      <td>-0.855881</td>\n",
              "      <td>-0.672403</td>\n",
              "      <td>1.639367</td>\n",
              "      <td>0.907174</td>\n",
              "      <td>-2.440392</td>\n",
              "      <td>-0.950423</td>\n",
              "    </tr>\n",
              "    <tr>\n",
              "      <th>...</th>\n",
              "      <td>...</td>\n",
              "      <td>...</td>\n",
              "      <td>...</td>\n",
              "      <td>...</td>\n",
              "      <td>...</td>\n",
              "      <td>...</td>\n",
              "      <td>...</td>\n",
              "      <td>...</td>\n",
              "    </tr>\n",
              "    <tr>\n",
              "      <th>164207</th>\n",
              "      <td>-0.138282</td>\n",
              "      <td>0.694825</td>\n",
              "      <td>-0.663295</td>\n",
              "      <td>-0.651102</td>\n",
              "      <td>-0.722281</td>\n",
              "      <td>1.485013</td>\n",
              "      <td>1.403301</td>\n",
              "      <td>0.063307</td>\n",
              "    </tr>\n",
              "    <tr>\n",
              "      <th>164208</th>\n",
              "      <td>-0.138282</td>\n",
              "      <td>0.694825</td>\n",
              "      <td>-0.663295</td>\n",
              "      <td>-0.651102</td>\n",
              "      <td>-0.722281</td>\n",
              "      <td>1.485013</td>\n",
              "      <td>1.403316</td>\n",
              "      <td>0.063307</td>\n",
              "    </tr>\n",
              "    <tr>\n",
              "      <th>164209</th>\n",
              "      <td>-0.138282</td>\n",
              "      <td>0.694825</td>\n",
              "      <td>-0.663295</td>\n",
              "      <td>-0.651102</td>\n",
              "      <td>-0.722281</td>\n",
              "      <td>1.485013</td>\n",
              "      <td>1.403353</td>\n",
              "      <td>0.063307</td>\n",
              "    </tr>\n",
              "    <tr>\n",
              "      <th>164210</th>\n",
              "      <td>-0.138282</td>\n",
              "      <td>0.694825</td>\n",
              "      <td>-0.663295</td>\n",
              "      <td>-0.651102</td>\n",
              "      <td>-0.722281</td>\n",
              "      <td>1.485013</td>\n",
              "      <td>1.403371</td>\n",
              "      <td>0.063307</td>\n",
              "    </tr>\n",
              "    <tr>\n",
              "      <th>164211</th>\n",
              "      <td>-0.138282</td>\n",
              "      <td>0.694825</td>\n",
              "      <td>-0.663295</td>\n",
              "      <td>-0.651102</td>\n",
              "      <td>-0.722281</td>\n",
              "      <td>1.485013</td>\n",
              "      <td>1.403407</td>\n",
              "      <td>0.063307</td>\n",
              "    </tr>\n",
              "  </tbody>\n",
              "</table>\n",
              "<p>164212 rows × 8 columns</p>\n",
              "</div>"
            ],
            "text/plain": [
              "        Weight on Bit kkgf  ...  USROP Gamma gAPI\n",
              "0                 0.102202  ...         -0.950423\n",
              "1                 0.102202  ...         -0.950423\n",
              "2                 0.102202  ...         -0.950423\n",
              "3                 0.102202  ...         -0.950423\n",
              "4                 0.102202  ...         -0.950423\n",
              "...                    ...  ...               ...\n",
              "164207           -0.138282  ...          0.063307\n",
              "164208           -0.138282  ...          0.063307\n",
              "164209           -0.138282  ...          0.063307\n",
              "164210           -0.138282  ...          0.063307\n",
              "164211           -0.138282  ...          0.063307\n",
              "\n",
              "[164212 rows x 8 columns]"
            ]
          },
          "metadata": {
            "tags": []
          },
          "execution_count": 42
        }
      ]
    },
    {
      "cell_type": "code",
      "metadata": {
        "colab": {
          "base_uri": "https://localhost:8080/"
        },
        "id": "i_ODngQU8wBT",
        "outputId": "3657e430-dfcf-4e09-c3aa-3e5cef9a0996"
      },
      "source": [
        "Y"
      ],
      "execution_count": 43,
      "outputs": [
        {
          "output_type": "execute_result",
          "data": {
            "text/plain": [
              "20135     12.79\n",
              "20136     12.79\n",
              "20137     12.79\n",
              "20138     12.79\n",
              "20139     12.79\n",
              "          ...  \n",
              "191072     7.68\n",
              "191073     7.68\n",
              "191074     7.68\n",
              "191075     7.68\n",
              "191076     7.68\n",
              "Name: Rate of Penetration m/h, Length: 164212, dtype: float64"
            ]
          },
          "metadata": {
            "tags": []
          },
          "execution_count": 43
        }
      ]
    },
    {
      "cell_type": "code",
      "metadata": {
        "id": "Bkjr1osO8yYa"
      },
      "source": [
        "from sklearn.model_selection import train_test_split\n",
        "X_train,X_val,Y_train,Y_val=train_test_split(X,Y,random_state=42,test_size=.20)"
      ],
      "execution_count": 44,
      "outputs": []
    },
    {
      "cell_type": "code",
      "metadata": {
        "colab": {
          "base_uri": "https://localhost:8080/"
        },
        "id": "8dmYJqxz3dO5",
        "outputId": "2e92ab2b-08cf-466c-c219-9cc7641161fd"
      },
      "source": [
        "test_data['Well Identifier'].value_counts()"
      ],
      "execution_count": 45,
      "outputs": [
        {
          "output_type": "execute_result",
          "data": {
            "text/plain": [
              "TC-2021-TW    114299\n",
              "Name: Well Identifier, dtype: int64"
            ]
          },
          "metadata": {
            "tags": []
          },
          "execution_count": 45
        }
      ]
    },
    {
      "cell_type": "code",
      "metadata": {
        "id": "406P7_upiqb0"
      },
      "source": [
        "test_data=test_data.drop(['Well Identifier'],axis=1)"
      ],
      "execution_count": 46,
      "outputs": []
    },
    {
      "cell_type": "code",
      "metadata": {
        "colab": {
          "base_uri": "https://localhost:8080/"
        },
        "id": "RNTIGIsTFale",
        "outputId": "2616044e-ead0-4fb7-f5cb-7b5dcef71e59"
      },
      "source": [
        "test_data.nunique()"
      ],
      "execution_count": 47,
      "outputs": [
        {
          "output_type": "execute_result",
          "data": {
            "text/plain": [
              "Measured Depth m                  114296\n",
              "Weight on Bit kkgf                  6616\n",
              "Average Standpipe Pressure kPa     14367\n",
              "Average Surface Torque kN.m         4217\n",
              "Average Rotary Speed rpm            4916\n",
              "Mud Flow In L/min                    905\n",
              "Mud Density In g/cm3                  21\n",
              "Diameter mm                            4\n",
              "Average Hookload kkgf               9062\n",
              "Hole Depth (TVD) m                 48489\n",
              "USROP Gamma gAPI                    2939\n",
              "dtype: int64"
            ]
          },
          "metadata": {
            "tags": []
          },
          "execution_count": 47
        }
      ]
    },
    {
      "cell_type": "code",
      "metadata": {
        "colab": {
          "base_uri": "https://localhost:8080/"
        },
        "id": "TLTIjeXOFeTT",
        "outputId": "44d3bf58-fc9a-4544-a065-4bd8d0fe97b4"
      },
      "source": [
        "test_data.isnull().sum()"
      ],
      "execution_count": 48,
      "outputs": [
        {
          "output_type": "execute_result",
          "data": {
            "text/plain": [
              "Measured Depth m                  0\n",
              "Weight on Bit kkgf                0\n",
              "Average Standpipe Pressure kPa    0\n",
              "Average Surface Torque kN.m       0\n",
              "Average Rotary Speed rpm          0\n",
              "Mud Flow In L/min                 0\n",
              "Mud Density In g/cm3              0\n",
              "Diameter mm                       0\n",
              "Average Hookload kkgf             0\n",
              "Hole Depth (TVD) m                0\n",
              "USROP Gamma gAPI                  0\n",
              "dtype: int64"
            ]
          },
          "metadata": {
            "tags": []
          },
          "execution_count": 48
        }
      ]
    },
    {
      "cell_type": "code",
      "metadata": {
        "id": "qOoujEyLL4Ub"
      },
      "source": [
        "test_data=test_data.drop(['Measured Depth m','Average Surface Torque kN.m','Average Rotary Speed rpm'],axis=1)"
      ],
      "execution_count": 49,
      "outputs": []
    },
    {
      "cell_type": "code",
      "metadata": {
        "colab": {
          "base_uri": "https://localhost:8080/",
          "height": 402
        },
        "id": "ps542f_eKpjB",
        "outputId": "a857a90c-43f4-4ca8-8ba3-93a3d9c29a7c"
      },
      "source": [
        "test_data"
      ],
      "execution_count": 50,
      "outputs": [
        {
          "output_type": "execute_result",
          "data": {
            "text/html": [
              "<div>\n",
              "<style scoped>\n",
              "    .dataframe tbody tr th:only-of-type {\n",
              "        vertical-align: middle;\n",
              "    }\n",
              "\n",
              "    .dataframe tbody tr th {\n",
              "        vertical-align: top;\n",
              "    }\n",
              "\n",
              "    .dataframe thead th {\n",
              "        text-align: right;\n",
              "    }\n",
              "</style>\n",
              "<table border=\"1\" class=\"dataframe\">\n",
              "  <thead>\n",
              "    <tr style=\"text-align: right;\">\n",
              "      <th></th>\n",
              "      <th>Weight on Bit kkgf</th>\n",
              "      <th>Average Standpipe Pressure kPa</th>\n",
              "      <th>Mud Flow In L/min</th>\n",
              "      <th>Mud Density In g/cm3</th>\n",
              "      <th>Diameter mm</th>\n",
              "      <th>Average Hookload kkgf</th>\n",
              "      <th>Hole Depth (TVD) m</th>\n",
              "      <th>USROP Gamma gAPI</th>\n",
              "    </tr>\n",
              "  </thead>\n",
              "  <tbody>\n",
              "    <tr>\n",
              "      <th>0</th>\n",
              "      <td>10.656246</td>\n",
              "      <td>23053.9448</td>\n",
              "      <td>3491.436904</td>\n",
              "      <td>1.31</td>\n",
              "      <td>254.0</td>\n",
              "      <td>136.662392</td>\n",
              "      <td>365.124187</td>\n",
              "      <td>20.774</td>\n",
              "    </tr>\n",
              "    <tr>\n",
              "      <th>1</th>\n",
              "      <td>10.656246</td>\n",
              "      <td>23053.9448</td>\n",
              "      <td>3491.436904</td>\n",
              "      <td>1.31</td>\n",
              "      <td>254.0</td>\n",
              "      <td>136.662392</td>\n",
              "      <td>365.276587</td>\n",
              "      <td>20.774</td>\n",
              "    </tr>\n",
              "    <tr>\n",
              "      <th>2</th>\n",
              "      <td>10.656246</td>\n",
              "      <td>23053.9448</td>\n",
              "      <td>3491.436904</td>\n",
              "      <td>1.31</td>\n",
              "      <td>254.0</td>\n",
              "      <td>136.662392</td>\n",
              "      <td>365.428682</td>\n",
              "      <td>20.774</td>\n",
              "    </tr>\n",
              "    <tr>\n",
              "      <th>3</th>\n",
              "      <td>10.656246</td>\n",
              "      <td>23053.9448</td>\n",
              "      <td>3491.436904</td>\n",
              "      <td>1.31</td>\n",
              "      <td>254.0</td>\n",
              "      <td>136.662392</td>\n",
              "      <td>365.581082</td>\n",
              "      <td>20.774</td>\n",
              "    </tr>\n",
              "    <tr>\n",
              "      <th>4</th>\n",
              "      <td>10.656246</td>\n",
              "      <td>23053.9448</td>\n",
              "      <td>3491.436904</td>\n",
              "      <td>1.31</td>\n",
              "      <td>254.0</td>\n",
              "      <td>136.662392</td>\n",
              "      <td>365.733178</td>\n",
              "      <td>20.774</td>\n",
              "    </tr>\n",
              "    <tr>\n",
              "      <th>...</th>\n",
              "      <td>...</td>\n",
              "      <td>...</td>\n",
              "      <td>...</td>\n",
              "      <td>...</td>\n",
              "      <td>...</td>\n",
              "      <td>...</td>\n",
              "      <td>...</td>\n",
              "      <td>...</td>\n",
              "    </tr>\n",
              "    <tr>\n",
              "      <th>114294</th>\n",
              "      <td>1.238761</td>\n",
              "      <td>23439.5410</td>\n",
              "      <td>2304.100791</td>\n",
              "      <td>1.48</td>\n",
              "      <td>254.0</td>\n",
              "      <td>140.390921</td>\n",
              "      <td>3005.314284</td>\n",
              "      <td>53.970</td>\n",
              "    </tr>\n",
              "    <tr>\n",
              "      <th>114295</th>\n",
              "      <td>1.238761</td>\n",
              "      <td>23439.5410</td>\n",
              "      <td>2304.100791</td>\n",
              "      <td>1.48</td>\n",
              "      <td>254.0</td>\n",
              "      <td>140.390921</td>\n",
              "      <td>3005.335010</td>\n",
              "      <td>53.970</td>\n",
              "    </tr>\n",
              "    <tr>\n",
              "      <th>114296</th>\n",
              "      <td>0.943019</td>\n",
              "      <td>23458.0879</td>\n",
              "      <td>2304.100791</td>\n",
              "      <td>1.48</td>\n",
              "      <td>254.0</td>\n",
              "      <td>140.475743</td>\n",
              "      <td>3005.383778</td>\n",
              "      <td>53.970</td>\n",
              "    </tr>\n",
              "    <tr>\n",
              "      <th>114297</th>\n",
              "      <td>0.943019</td>\n",
              "      <td>23458.0879</td>\n",
              "      <td>2304.100791</td>\n",
              "      <td>1.48</td>\n",
              "      <td>254.0</td>\n",
              "      <td>140.475743</td>\n",
              "      <td>3005.409077</td>\n",
              "      <td>53.970</td>\n",
              "    </tr>\n",
              "    <tr>\n",
              "      <th>114298</th>\n",
              "      <td>0.943019</td>\n",
              "      <td>23458.0879</td>\n",
              "      <td>2304.100791</td>\n",
              "      <td>1.48</td>\n",
              "      <td>254.0</td>\n",
              "      <td>140.475743</td>\n",
              "      <td>3005.423402</td>\n",
              "      <td>53.970</td>\n",
              "    </tr>\n",
              "  </tbody>\n",
              "</table>\n",
              "<p>114299 rows × 8 columns</p>\n",
              "</div>"
            ],
            "text/plain": [
              "        Weight on Bit kkgf  ...  USROP Gamma gAPI\n",
              "0                10.656246  ...            20.774\n",
              "1                10.656246  ...            20.774\n",
              "2                10.656246  ...            20.774\n",
              "3                10.656246  ...            20.774\n",
              "4                10.656246  ...            20.774\n",
              "...                    ...  ...               ...\n",
              "114294            1.238761  ...            53.970\n",
              "114295            1.238761  ...            53.970\n",
              "114296            0.943019  ...            53.970\n",
              "114297            0.943019  ...            53.970\n",
              "114298            0.943019  ...            53.970\n",
              "\n",
              "[114299 rows x 8 columns]"
            ]
          },
          "metadata": {
            "tags": []
          },
          "execution_count": 50
        }
      ]
    },
    {
      "cell_type": "code",
      "metadata": {
        "colab": {
          "base_uri": "https://localhost:8080/",
          "height": 284
        },
        "id": "C2uS07Uy4ED9",
        "outputId": "a46a03d4-e7f6-4dc0-884d-7812bf79f333"
      },
      "source": [
        "test_data.describe()"
      ],
      "execution_count": 51,
      "outputs": [
        {
          "output_type": "execute_result",
          "data": {
            "text/html": [
              "<div>\n",
              "<style scoped>\n",
              "    .dataframe tbody tr th:only-of-type {\n",
              "        vertical-align: middle;\n",
              "    }\n",
              "\n",
              "    .dataframe tbody tr th {\n",
              "        vertical-align: top;\n",
              "    }\n",
              "\n",
              "    .dataframe thead th {\n",
              "        text-align: right;\n",
              "    }\n",
              "</style>\n",
              "<table border=\"1\" class=\"dataframe\">\n",
              "  <thead>\n",
              "    <tr style=\"text-align: right;\">\n",
              "      <th></th>\n",
              "      <th>Weight on Bit kkgf</th>\n",
              "      <th>Average Standpipe Pressure kPa</th>\n",
              "      <th>Mud Flow In L/min</th>\n",
              "      <th>Mud Density In g/cm3</th>\n",
              "      <th>Diameter mm</th>\n",
              "      <th>Average Hookload kkgf</th>\n",
              "      <th>Hole Depth (TVD) m</th>\n",
              "      <th>USROP Gamma gAPI</th>\n",
              "    </tr>\n",
              "  </thead>\n",
              "  <tbody>\n",
              "    <tr>\n",
              "      <th>count</th>\n",
              "      <td>114299.000000</td>\n",
              "      <td>114299.000000</td>\n",
              "      <td>114299.000000</td>\n",
              "      <td>114299.000000</td>\n",
              "      <td>114299.000000</td>\n",
              "      <td>114299.000000</td>\n",
              "      <td>114299.000000</td>\n",
              "      <td>114299.000000</td>\n",
              "    </tr>\n",
              "    <tr>\n",
              "      <th>mean</th>\n",
              "      <td>7.212731</td>\n",
              "      <td>20166.997780</td>\n",
              "      <td>2961.677990</td>\n",
              "      <td>1.323607</td>\n",
              "      <td>279.878560</td>\n",
              "      <td>132.792489</td>\n",
              "      <td>2454.737342</td>\n",
              "      <td>37.111566</td>\n",
              "    </tr>\n",
              "    <tr>\n",
              "      <th>std</th>\n",
              "      <td>4.305159</td>\n",
              "      <td>3291.618973</td>\n",
              "      <td>797.950250</td>\n",
              "      <td>0.096742</td>\n",
              "      <td>84.492569</td>\n",
              "      <td>13.102548</td>\n",
              "      <td>424.176104</td>\n",
              "      <td>49.309222</td>\n",
              "    </tr>\n",
              "    <tr>\n",
              "      <th>min</th>\n",
              "      <td>0.002268</td>\n",
              "      <td>4852.943868</td>\n",
              "      <td>969.784700</td>\n",
              "      <td>0.990000</td>\n",
              "      <td>215.900000</td>\n",
              "      <td>91.244641</td>\n",
              "      <td>365.124187</td>\n",
              "      <td>0.000000</td>\n",
              "    </tr>\n",
              "    <tr>\n",
              "      <th>25%</th>\n",
              "      <td>4.462442</td>\n",
              "      <td>18600.696910</td>\n",
              "      <td>2364.512181</td>\n",
              "      <td>1.300000</td>\n",
              "      <td>215.900000</td>\n",
              "      <td>129.087853</td>\n",
              "      <td>2487.765713</td>\n",
              "      <td>4.746000</td>\n",
              "    </tr>\n",
              "    <tr>\n",
              "      <th>50%</th>\n",
              "      <td>6.949489</td>\n",
              "      <td>20618.702740</td>\n",
              "      <td>2496.971318</td>\n",
              "      <td>1.310000</td>\n",
              "      <td>215.900000</td>\n",
              "      <td>131.744997</td>\n",
              "      <td>2652.929822</td>\n",
              "      <td>8.173000</td>\n",
              "    </tr>\n",
              "    <tr>\n",
              "      <th>75%</th>\n",
              "      <td>9.226069</td>\n",
              "      <td>22834.815625</td>\n",
              "      <td>3491.436904</td>\n",
              "      <td>1.320000</td>\n",
              "      <td>311.150000</td>\n",
              "      <td>136.535839</td>\n",
              "      <td>2672.868619</td>\n",
              "      <td>53.410000</td>\n",
              "    </tr>\n",
              "    <tr>\n",
              "      <th>max</th>\n",
              "      <td>24.348838</td>\n",
              "      <td>24999.907310</td>\n",
              "      <td>4490.558547</td>\n",
              "      <td>1.520000</td>\n",
              "      <td>444.500000</td>\n",
              "      <td>161.973753</td>\n",
              "      <td>3005.423402</td>\n",
              "      <td>470.460000</td>\n",
              "    </tr>\n",
              "  </tbody>\n",
              "</table>\n",
              "</div>"
            ],
            "text/plain": [
              "       Weight on Bit kkgf  ...  USROP Gamma gAPI\n",
              "count       114299.000000  ...     114299.000000\n",
              "mean             7.212731  ...         37.111566\n",
              "std              4.305159  ...         49.309222\n",
              "min              0.002268  ...          0.000000\n",
              "25%              4.462442  ...          4.746000\n",
              "50%              6.949489  ...          8.173000\n",
              "75%              9.226069  ...         53.410000\n",
              "max             24.348838  ...        470.460000\n",
              "\n",
              "[8 rows x 8 columns]"
            ]
          },
          "metadata": {
            "tags": []
          },
          "execution_count": 51
        }
      ]
    },
    {
      "cell_type": "code",
      "metadata": {
        "colab": {
          "base_uri": "https://localhost:8080/",
          "height": 350
        },
        "id": "E1hR9k0JMOwv",
        "outputId": "89ef5a54-32f5-4187-db2e-aefc9cfd7c2a"
      },
      "source": [
        "sns.boxplot(test_data['Weight on Bit kkgf'])"
      ],
      "execution_count": 52,
      "outputs": [
        {
          "output_type": "stream",
          "text": [
            "/usr/local/lib/python3.7/dist-packages/seaborn/_decorators.py:43: FutureWarning: Pass the following variable as a keyword arg: x. From version 0.12, the only valid positional argument will be `data`, and passing other arguments without an explicit keyword will result in an error or misinterpretation.\n",
            "  FutureWarning\n"
          ],
          "name": "stderr"
        },
        {
          "output_type": "execute_result",
          "data": {
            "text/plain": [
              "<matplotlib.axes._subplots.AxesSubplot at 0x7f8045761650>"
            ]
          },
          "metadata": {
            "tags": []
          },
          "execution_count": 52
        },
        {
          "output_type": "display_data",
          "data": {
            "image/png": "[encoded data removed]",
            "text/plain": [
              "<Figure size 432x288 with 1 Axes>"
            ]
          },
          "metadata": {
            "tags": [],
            "needs_background": "light"
          }
        }
      ]
    },
    {
      "cell_type": "code",
      "metadata": {
        "colab": {
          "base_uri": "https://localhost:8080/",
          "height": 350
        },
        "id": "eGYVrY_UNhFK",
        "outputId": "f87fbf9e-f1b6-479a-f6e1-0fe94308ceb6"
      },
      "source": [
        "sns.boxplot(test_data['Average Standpipe Pressure kPa'])"
      ],
      "execution_count": 53,
      "outputs": [
        {
          "output_type": "stream",
          "text": [
            "/usr/local/lib/python3.7/dist-packages/seaborn/_decorators.py:43: FutureWarning: Pass the following variable as a keyword arg: x. From version 0.12, the only valid positional argument will be `data`, and passing other arguments without an explicit keyword will result in an error or misinterpretation.\n",
            "  FutureWarning\n"
          ],
          "name": "stderr"
        },
        {
          "output_type": "execute_result",
          "data": {
            "text/plain": [
              "<matplotlib.axes._subplots.AxesSubplot at 0x7f80456e34d0>"
            ]
          },
          "metadata": {
            "tags": []
          },
          "execution_count": 53
        },
        {
          "output_type": "display_data",
          "data": {
            "image/png": "[encoded data removed]",
            "text/plain": [
              "<Figure size 432x288 with 1 Axes>"
            ]
          },
          "metadata": {
            "tags": [],
            "needs_background": "light"
          }
        }
      ]
    },
    {
      "cell_type": "code",
      "metadata": {
        "colab": {
          "base_uri": "https://localhost:8080/",
          "height": 350
        },
        "id": "kBGdvXlKVG6w",
        "outputId": "4cb90123-24b8-46b6-c241-29f7c749fff7"
      },
      "source": [
        "sns.boxplot(test_data['Mud Flow In L/min'])"
      ],
      "execution_count": 54,
      "outputs": [
        {
          "output_type": "stream",
          "text": [
            "/usr/local/lib/python3.7/dist-packages/seaborn/_decorators.py:43: FutureWarning: Pass the following variable as a keyword arg: x. From version 0.12, the only valid positional argument will be `data`, and passing other arguments without an explicit keyword will result in an error or misinterpretation.\n",
            "  FutureWarning\n"
          ],
          "name": "stderr"
        },
        {
          "output_type": "execute_result",
          "data": {
            "text/plain": [
              "<matplotlib.axes._subplots.AxesSubplot at 0x7f80456d6f90>"
            ]
          },
          "metadata": {
            "tags": []
          },
          "execution_count": 54
        },
        {
          "output_type": "display_data",
          "data": {
            "image/png": "[encoded data removed]",
            "text/plain": [
              "<Figure size 432x288 with 1 Axes>"
            ]
          },
          "metadata": {
            "tags": [],
            "needs_background": "light"
          }
        }
      ]
    },
    {
      "cell_type": "code",
      "metadata": {
        "colab": {
          "base_uri": "https://localhost:8080/",
          "height": 350
        },
        "id": "S_0yyZ2PVXQS",
        "outputId": "40ab16a3-a17b-4a2b-d261-b8745f93b749"
      },
      "source": [
        "sns.boxplot(test_data['Mud Density In g/cm3'])"
      ],
      "execution_count": 55,
      "outputs": [
        {
          "output_type": "stream",
          "text": [
            "/usr/local/lib/python3.7/dist-packages/seaborn/_decorators.py:43: FutureWarning: Pass the following variable as a keyword arg: x. From version 0.12, the only valid positional argument will be `data`, and passing other arguments without an explicit keyword will result in an error or misinterpretation.\n",
            "  FutureWarning\n"
          ],
          "name": "stderr"
        },
        {
          "output_type": "execute_result",
          "data": {
            "text/plain": [
              "<matplotlib.axes._subplots.AxesSubplot at 0x7f8045641150>"
            ]
          },
          "metadata": {
            "tags": []
          },
          "execution_count": 55
        },
        {
          "output_type": "display_data",
          "data": {
            "image/png": "[encoded data removed]",
            "text/plain": [
              "<Figure size 432x288 with 1 Axes>"
            ]
          },
          "metadata": {
            "tags": [],
            "needs_background": "light"
          }
        }
      ]
    },
    {
      "cell_type": "code",
      "metadata": {
        "colab": {
          "base_uri": "https://localhost:8080/",
          "height": 350
        },
        "id": "OOMmNJ1DkySO",
        "outputId": "44a03537-9938-4683-e71d-c7a016a50743"
      },
      "source": [
        "sns.boxplot(test_data['Diameter mm'])"
      ],
      "execution_count": 56,
      "outputs": [
        {
          "output_type": "stream",
          "text": [
            "/usr/local/lib/python3.7/dist-packages/seaborn/_decorators.py:43: FutureWarning: Pass the following variable as a keyword arg: x. From version 0.12, the only valid positional argument will be `data`, and passing other arguments without an explicit keyword will result in an error or misinterpretation.\n",
            "  FutureWarning\n"
          ],
          "name": "stderr"
        },
        {
          "output_type": "execute_result",
          "data": {
            "text/plain": [
              "<matplotlib.axes._subplots.AxesSubplot at 0x7f80455fbbd0>"
            ]
          },
          "metadata": {
            "tags": []
          },
          "execution_count": 56
        },
        {
          "output_type": "display_data",
          "data": {
            "image/png": "[encoded data removed]",
            "text/plain": [
              "<Figure size 432x288 with 1 Axes>"
            ]
          },
          "metadata": {
            "tags": [],
            "needs_background": "light"
          }
        }
      ]
    },
    {
      "cell_type": "code",
      "metadata": {
        "id": "r0e7w3oq9esi"
      },
      "source": [
        "test_data_scaled=scaler.fit_transform(test_data)\n",
        "test_data=pd.DataFrame(data=test_data_scaled,columns=test_data.columns)\n"
      ],
      "execution_count": 57,
      "outputs": []
    },
    {
      "cell_type": "code",
      "metadata": {
        "colab": {
          "base_uri": "https://localhost:8080/",
          "height": 402
        },
        "id": "nQOn_B3P96aK",
        "outputId": "f5f67f46-da13-47e0-bba9-69f7f2d5ff2d"
      },
      "source": [
        "test_data"
      ],
      "execution_count": 58,
      "outputs": [
        {
          "output_type": "execute_result",
          "data": {
            "text/html": [
              "<div>\n",
              "<style scoped>\n",
              "    .dataframe tbody tr th:only-of-type {\n",
              "        vertical-align: middle;\n",
              "    }\n",
              "\n",
              "    .dataframe tbody tr th {\n",
              "        vertical-align: top;\n",
              "    }\n",
              "\n",
              "    .dataframe thead th {\n",
              "        text-align: right;\n",
              "    }\n",
              "</style>\n",
              "<table border=\"1\" class=\"dataframe\">\n",
              "  <thead>\n",
              "    <tr style=\"text-align: right;\">\n",
              "      <th></th>\n",
              "      <th>Weight on Bit kkgf</th>\n",
              "      <th>Average Standpipe Pressure kPa</th>\n",
              "      <th>Mud Flow In L/min</th>\n",
              "      <th>Mud Density In g/cm3</th>\n",
              "      <th>Diameter mm</th>\n",
              "      <th>Average Hookload kkgf</th>\n",
              "      <th>Hole Depth (TVD) m</th>\n",
              "      <th>USROP Gamma gAPI</th>\n",
              "    </tr>\n",
              "  </thead>\n",
              "  <tbody>\n",
              "    <tr>\n",
              "      <th>0</th>\n",
              "      <td>0.799861</td>\n",
              "      <td>0.877064</td>\n",
              "      <td>0.663903</td>\n",
              "      <td>-0.140658</td>\n",
              "      <td>-0.306283</td>\n",
              "      <td>0.295356</td>\n",
              "      <td>-4.926308</td>\n",
              "      <td>-0.331330</td>\n",
              "    </tr>\n",
              "    <tr>\n",
              "      <th>1</th>\n",
              "      <td>0.799861</td>\n",
              "      <td>0.877064</td>\n",
              "      <td>0.663903</td>\n",
              "      <td>-0.140658</td>\n",
              "      <td>-0.306283</td>\n",
              "      <td>0.295356</td>\n",
              "      <td>-4.925949</td>\n",
              "      <td>-0.331330</td>\n",
              "    </tr>\n",
              "    <tr>\n",
              "      <th>2</th>\n",
              "      <td>0.799861</td>\n",
              "      <td>0.877064</td>\n",
              "      <td>0.663903</td>\n",
              "      <td>-0.140658</td>\n",
              "      <td>-0.306283</td>\n",
              "      <td>0.295356</td>\n",
              "      <td>-4.925591</td>\n",
              "      <td>-0.331330</td>\n",
              "    </tr>\n",
              "    <tr>\n",
              "      <th>3</th>\n",
              "      <td>0.799861</td>\n",
              "      <td>0.877064</td>\n",
              "      <td>0.663903</td>\n",
              "      <td>-0.140658</td>\n",
              "      <td>-0.306283</td>\n",
              "      <td>0.295356</td>\n",
              "      <td>-4.925231</td>\n",
              "      <td>-0.331330</td>\n",
              "    </tr>\n",
              "    <tr>\n",
              "      <th>4</th>\n",
              "      <td>0.799861</td>\n",
              "      <td>0.877064</td>\n",
              "      <td>0.663903</td>\n",
              "      <td>-0.140658</td>\n",
              "      <td>-0.306283</td>\n",
              "      <td>0.295356</td>\n",
              "      <td>-4.924873</td>\n",
              "      <td>-0.331330</td>\n",
              "    </tr>\n",
              "    <tr>\n",
              "      <th>...</th>\n",
              "      <td>...</td>\n",
              "      <td>...</td>\n",
              "      <td>...</td>\n",
              "      <td>...</td>\n",
              "      <td>...</td>\n",
              "      <td>...</td>\n",
              "      <td>...</td>\n",
              "      <td>...</td>\n",
              "    </tr>\n",
              "    <tr>\n",
              "      <th>114294</th>\n",
              "      <td>-1.387636</td>\n",
              "      <td>0.994209</td>\n",
              "      <td>-0.824087</td>\n",
              "      <td>1.616600</td>\n",
              "      <td>-0.306283</td>\n",
              "      <td>0.579923</td>\n",
              "      <td>1.297997</td>\n",
              "      <td>0.341894</td>\n",
              "    </tr>\n",
              "    <tr>\n",
              "      <th>114295</th>\n",
              "      <td>-1.387636</td>\n",
              "      <td>0.994209</td>\n",
              "      <td>-0.824087</td>\n",
              "      <td>1.616600</td>\n",
              "      <td>-0.306283</td>\n",
              "      <td>0.579923</td>\n",
              "      <td>1.298046</td>\n",
              "      <td>0.341894</td>\n",
              "    </tr>\n",
              "    <tr>\n",
              "      <th>114296</th>\n",
              "      <td>-1.456332</td>\n",
              "      <td>0.999844</td>\n",
              "      <td>-0.824087</td>\n",
              "      <td>1.616600</td>\n",
              "      <td>-0.306283</td>\n",
              "      <td>0.586396</td>\n",
              "      <td>1.298161</td>\n",
              "      <td>0.341894</td>\n",
              "    </tr>\n",
              "    <tr>\n",
              "      <th>114297</th>\n",
              "      <td>-1.456332</td>\n",
              "      <td>0.999844</td>\n",
              "      <td>-0.824087</td>\n",
              "      <td>1.616600</td>\n",
              "      <td>-0.306283</td>\n",
              "      <td>0.586396</td>\n",
              "      <td>1.298221</td>\n",
              "      <td>0.341894</td>\n",
              "    </tr>\n",
              "    <tr>\n",
              "      <th>114298</th>\n",
              "      <td>-1.456332</td>\n",
              "      <td>0.999844</td>\n",
              "      <td>-0.824087</td>\n",
              "      <td>1.616600</td>\n",
              "      <td>-0.306283</td>\n",
              "      <td>0.586396</td>\n",
              "      <td>1.298254</td>\n",
              "      <td>0.341894</td>\n",
              "    </tr>\n",
              "  </tbody>\n",
              "</table>\n",
              "<p>114299 rows × 8 columns</p>\n",
              "</div>"
            ],
            "text/plain": [
              "        Weight on Bit kkgf  ...  USROP Gamma gAPI\n",
              "0                 0.799861  ...         -0.331330\n",
              "1                 0.799861  ...         -0.331330\n",
              "2                 0.799861  ...         -0.331330\n",
              "3                 0.799861  ...         -0.331330\n",
              "4                 0.799861  ...         -0.331330\n",
              "...                    ...  ...               ...\n",
              "114294           -1.387636  ...          0.341894\n",
              "114295           -1.387636  ...          0.341894\n",
              "114296           -1.456332  ...          0.341894\n",
              "114297           -1.456332  ...          0.341894\n",
              "114298           -1.456332  ...          0.341894\n",
              "\n",
              "[114299 rows x 8 columns]"
            ]
          },
          "metadata": {
            "tags": []
          },
          "execution_count": 58
        }
      ]
    },
    {
      "cell_type": "code",
      "metadata": {
        "id": "nKDU4x0mQs6P"
      },
      "source": [
        "from keras.models import Sequential\n",
        "from keras.layers import InputLayer,Dense"
      ],
      "execution_count": 59,
      "outputs": []
    },
    {
      "cell_type": "code",
      "metadata": {
        "id": "H9IM7p-WYrbO"
      },
      "source": [
        "import tensorflow as tf\n",
        "tf.random.set_seed(1)"
      ],
      "execution_count": 60,
      "outputs": []
    },
    {
      "cell_type": "code",
      "metadata": {
        "colab": {
          "base_uri": "https://localhost:8080/"
        },
        "id": "XVdytlPESKmi",
        "outputId": "266da0e3-d39d-4b03-e9ca-9bfb1bfb26f4"
      },
      "source": [
        "X_train.shape"
      ],
      "execution_count": 61,
      "outputs": [
        {
          "output_type": "execute_result",
          "data": {
            "text/plain": [
              "(131369, 8)"
            ]
          },
          "metadata": {
            "tags": []
          },
          "execution_count": 61
        }
      ]
    },
    {
      "cell_type": "code",
      "metadata": {
        "id": "VelDXmeYSGO2"
      },
      "source": [
        "input_neurons=X_train.shape[1]\n",
        "output_neurons=1\n",
        "NHL_1=4\n",
        "NHL_2=3"
      ],
      "execution_count": 62,
      "outputs": []
    },
    {
      "cell_type": "code",
      "metadata": {
        "id": "4CEGiN9rSYAj"
      },
      "source": [
        "model=Sequential()\n",
        "model.add(InputLayer(input_shape=(input_neurons,)))\n",
        "model.add(Dense(units=NHL_1,activation='relu'))\n",
        "model.add(Dense(units=NHL_2,activation='relu'))\n",
        "model.add(Dense(units=output_neurons,activation='linear'))"
      ],
      "execution_count": 63,
      "outputs": []
    },
    {
      "cell_type": "code",
      "metadata": {
        "colab": {
          "base_uri": "https://localhost:8080/"
        },
        "id": "PtqMVCNZS6jS",
        "outputId": "f3945a7f-503c-4599-88d4-7b7a1573b008"
      },
      "source": [
        "model.summary()"
      ],
      "execution_count": 64,
      "outputs": [
        {
          "output_type": "stream",
          "text": [
            "Model: \"sequential\"\n",
            "_________________________________________________________________\n",
            "Layer (type)                 Output Shape              Param #   \n",
            "=================================================================\n",
            "dense (Dense)                (None, 4)                 36        \n",
            "_________________________________________________________________\n",
            "dense_1 (Dense)              (None, 3)                 15        \n",
            "_________________________________________________________________\n",
            "dense_2 (Dense)              (None, 1)                 4         \n",
            "=================================================================\n",
            "Total params: 55\n",
            "Trainable params: 55\n",
            "Non-trainable params: 0\n",
            "_________________________________________________________________\n"
          ],
          "name": "stdout"
        }
      ]
    },
    {
      "cell_type": "code",
      "metadata": {
        "id": "Dqb7lY2yTEMu"
      },
      "source": [
        "model.compile(optimizer='adam',loss='mean_absolute_error')"
      ],
      "execution_count": 65,
      "outputs": []
    },
    {
      "cell_type": "code",
      "metadata": {
        "colab": {
          "base_uri": "https://localhost:8080/"
        },
        "id": "Wo8M47TpUTQ8",
        "outputId": "f0999299-b4a8-4c2e-e6c5-f21c19301414"
      },
      "source": [
        "model_history=model.fit(X_train,Y_train,batch_size=64,epochs=10)"
      ],
      "execution_count": 66,
      "outputs": [
        {
          "output_type": "stream",
          "text": [
            "Epoch 1/10\n",
            "2053/2053 [==============================] - 5s 2ms/step - loss: 13.2650\n",
            "Epoch 2/10\n",
            "2053/2053 [==============================] - 5s 2ms/step - loss: 6.7510\n",
            "Epoch 3/10\n",
            "2053/2053 [==============================] - 5s 2ms/step - loss: 6.5114\n",
            "Epoch 4/10\n",
            "2053/2053 [==============================] - 5s 2ms/step - loss: 6.4250\n",
            "Epoch 5/10\n",
            "2053/2053 [==============================] - 5s 2ms/step - loss: 6.4035\n",
            "Epoch 6/10\n",
            "2053/2053 [==============================] - 5s 2ms/step - loss: 6.3844\n",
            "Epoch 7/10\n",
            "2053/2053 [==============================] - 5s 2ms/step - loss: 6.3622\n",
            "Epoch 8/10\n",
            "2053/2053 [==============================] - 5s 2ms/step - loss: 6.3978\n",
            "Epoch 9/10\n",
            "2053/2053 [==============================] - 5s 2ms/step - loss: 6.3316\n",
            "Epoch 10/10\n",
            "2053/2053 [==============================] - 5s 2ms/step - loss: 6.3299\n"
          ],
          "name": "stdout"
        }
      ]
    },
    {
      "cell_type": "code",
      "metadata": {
        "id": "TVdM0zVDJAOB"
      },
      "source": [
        "from sklearn.metrics import mean_absolute_error as MAE"
      ],
      "execution_count": 67,
      "outputs": []
    },
    {
      "cell_type": "code",
      "metadata": {
        "colab": {
          "base_uri": "https://localhost:8080/"
        },
        "id": "L_R3W_EWUoIZ",
        "outputId": "9620f292-0082-456a-8b66-8c2fac66e861"
      },
      "source": [
        "pred_val=model.predict(X_val)\n",
        "pred_train=model.predict(X_train)\n",
        "Pred=model.predict(test_data)\n",
        "print(MAE(Y_val,pred_val))\n",
        "print(MAE(Y_train,pred_train))"
      ],
      "execution_count": 68,
      "outputs": [
        {
          "output_type": "stream",
          "text": [
            "6.250717519383284\n",
            "6.3181770038567215\n"
          ],
          "name": "stdout"
        }
      ]
    },
    {
      "cell_type": "code",
      "metadata": {
        "colab": {
          "base_uri": "https://localhost:8080/"
        },
        "id": "Lri4wKM9WDWQ",
        "outputId": "72307c9b-f998-48ac-be5a-e934936733a8"
      },
      "source": [
        "Pred=Pred.flatten()\n",
        "Pred"
      ],
      "execution_count": 69,
      "outputs": [
        {
          "output_type": "execute_result",
          "data": {
            "text/plain": [
              "array([13.511932, 13.510614, 13.509299, ..., 33.512177, 33.512436,\n",
              "       33.512585], dtype=float32)"
            ]
          },
          "metadata": {
            "tags": []
          },
          "execution_count": 69
        }
      ]
    },
    {
      "cell_type": "code",
      "metadata": {
        "colab": {
          "base_uri": "https://localhost:8080/"
        },
        "id": "tcOEtwEXWOLw",
        "outputId": "a38a0ff6-572c-46f4-943f-02afa8f479a6"
      },
      "source": [
        "Pred.shape"
      ],
      "execution_count": 70,
      "outputs": [
        {
          "output_type": "execute_result",
          "data": {
            "text/plain": [
              "(114299,)"
            ]
          },
          "metadata": {
            "tags": []
          },
          "execution_count": 70
        }
      ]
    },
    {
      "cell_type": "code",
      "metadata": {
        "id": "UmuepotwWPuw"
      },
      "source": [
        "result=pd.DataFrame({'Rate of Penetration m/h':Pred})"
      ],
      "execution_count": 71,
      "outputs": []
    },
    {
      "cell_type": "code",
      "metadata": {
        "colab": {
          "base_uri": "https://localhost:8080/",
          "height": 284
        },
        "id": "1BKOlxzhWplR",
        "outputId": "e957c728-944e-4aaa-eb51-86c6f5c1795f"
      },
      "source": [
        "result.describe()"
      ],
      "execution_count": 72,
      "outputs": [
        {
          "output_type": "execute_result",
          "data": {
            "text/html": [
              "<div>\n",
              "<style scoped>\n",
              "    .dataframe tbody tr th:only-of-type {\n",
              "        vertical-align: middle;\n",
              "    }\n",
              "\n",
              "    .dataframe tbody tr th {\n",
              "        vertical-align: top;\n",
              "    }\n",
              "\n",
              "    .dataframe thead th {\n",
              "        text-align: right;\n",
              "    }\n",
              "</style>\n",
              "<table border=\"1\" class=\"dataframe\">\n",
              "  <thead>\n",
              "    <tr style=\"text-align: right;\">\n",
              "      <th></th>\n",
              "      <th>Rate of Penetration m/h</th>\n",
              "    </tr>\n",
              "  </thead>\n",
              "  <tbody>\n",
              "    <tr>\n",
              "      <th>count</th>\n",
              "      <td>114299.000000</td>\n",
              "    </tr>\n",
              "    <tr>\n",
              "      <th>mean</th>\n",
              "      <td>17.300779</td>\n",
              "    </tr>\n",
              "    <tr>\n",
              "      <th>std</th>\n",
              "      <td>8.053441</td>\n",
              "    </tr>\n",
              "    <tr>\n",
              "      <th>min</th>\n",
              "      <td>1.832496</td>\n",
              "    </tr>\n",
              "    <tr>\n",
              "      <th>25%</th>\n",
              "      <td>10.711953</td>\n",
              "    </tr>\n",
              "    <tr>\n",
              "      <th>50%</th>\n",
              "      <td>14.241950</td>\n",
              "    </tr>\n",
              "    <tr>\n",
              "      <th>75%</th>\n",
              "      <td>22.074074</td>\n",
              "    </tr>\n",
              "    <tr>\n",
              "      <th>max</th>\n",
              "      <td>53.053829</td>\n",
              "    </tr>\n",
              "  </tbody>\n",
              "</table>\n",
              "</div>"
            ],
            "text/plain": [
              "       Rate of Penetration m/h\n",
              "count            114299.000000\n",
              "mean                 17.300779\n",
              "std                   8.053441\n",
              "min                   1.832496\n",
              "25%                  10.711953\n",
              "50%                  14.241950\n",
              "75%                  22.074074\n",
              "max                  53.053829"
            ]
          },
          "metadata": {
            "tags": []
          },
          "execution_count": 72
        }
      ]
    },
    {
      "cell_type": "code",
      "metadata": {
        "colab": {
          "base_uri": "https://localhost:8080/"
        },
        "id": "jx9kyPojWr3K",
        "outputId": "e943af2a-4a82-49e1-fd1c-c74662c79eba"
      },
      "source": [
        "result.value_counts()"
      ],
      "execution_count": 73,
      "outputs": [
        {
          "output_type": "execute_result",
          "data": {
            "text/plain": [
              "Rate of Penetration m/h\n",
              "10.542822                  1087\n",
              "9.754959                     23\n",
              "9.948078                     21\n",
              "22.154722                    21\n",
              "20.875622                    21\n",
              "                           ... \n",
              "11.025632                     1\n",
              "11.025634                     1\n",
              "22.576611                     1\n",
              "22.565079                     1\n",
              "1.832496                      1\n",
              "Length: 41905, dtype: int64"
            ]
          },
          "metadata": {
            "tags": []
          },
          "execution_count": 73
        }
      ]
    },
    {
      "cell_type": "code",
      "metadata": {
        "colab": {
          "base_uri": "https://localhost:8080/"
        },
        "id": "bs5BXbdAWzM_",
        "outputId": "77184936-4582-4331-93ee-d7ba4da74dd7"
      },
      "source": [
        "result[result['Rate of Penetration m/h']<0].count"
      ],
      "execution_count": 74,
      "outputs": [
        {
          "output_type": "execute_result",
          "data": {
            "text/plain": [
              "<bound method DataFrame.count of Empty DataFrame\n",
              "Columns: [Rate of Penetration m/h]\n",
              "Index: []>"
            ]
          },
          "metadata": {
            "tags": []
          },
          "execution_count": 74
        }
      ]
    },
    {
      "cell_type": "code",
      "metadata": {
        "colab": {
          "base_uri": "https://localhost:8080/",
          "height": 350
        },
        "id": "6FBJC2iomarF",
        "outputId": "0752edff-020f-4797-cdba-142101452586"
      },
      "source": [
        "sns.boxplot(result['Rate of Penetration m/h'])"
      ],
      "execution_count": 75,
      "outputs": [
        {
          "output_type": "stream",
          "text": [
            "/usr/local/lib/python3.7/dist-packages/seaborn/_decorators.py:43: FutureWarning: Pass the following variable as a keyword arg: x. From version 0.12, the only valid positional argument will be `data`, and passing other arguments without an explicit keyword will result in an error or misinterpretation.\n",
            "  FutureWarning\n"
          ],
          "name": "stderr"
        },
        {
          "output_type": "execute_result",
          "data": {
            "text/plain": [
              "<matplotlib.axes._subplots.AxesSubplot at 0x7f7fc6776590>"
            ]
          },
          "metadata": {
            "tags": []
          },
          "execution_count": 75
        },
        {
          "output_type": "display_data",
          "data": {
            "image/png": "[encoded data removed]",
            "text/plain": [
              "<Figure size 432x288 with 1 Axes>"
            ]
          },
          "metadata": {
            "tags": [],
            "needs_background": "light"
          }
        }
      ]
    },
    {
      "cell_type": "code",
      "metadata": {
        "colab": {
          "base_uri": "https://localhost:8080/"
        },
        "id": "bLTMlnK7Uf9w",
        "outputId": "b5398474-cbe9-42c6-d988-eb18c46b79de"
      },
      "source": [
        "y1=result['Rate of Penetration m/h'].quantile(.75)+(result['Rate of Penetration m/h'].quantile(.75)-result['Rate of Penetration m/h'].quantile(.25))*1.5\n",
        "print(y1)"
      ],
      "execution_count": 76,
      "outputs": [
        {
          "output_type": "stream",
          "text": [
            "39.11725473403931\n"
          ],
          "name": "stdout"
        }
      ]
    },
    {
      "cell_type": "code",
      "metadata": {
        "colab": {
          "base_uri": "https://localhost:8080/"
        },
        "id": "qabqaOe6WRfj",
        "outputId": "e938c93c-db48-451c-ed9c-267e08092785"
      },
      "source": [
        "result[result['Rate of Penetration m/h']>y1].count"
      ],
      "execution_count": 77,
      "outputs": [
        {
          "output_type": "execute_result",
          "data": {
            "text/plain": [
              "<bound method DataFrame.count of         Rate of Penetration m/h\n",
              "19333                 40.483265\n",
              "19334                 40.483265\n",
              "19335                 40.483265\n",
              "19336                 40.483265\n",
              "19337                 40.483265\n",
              "...                         ...\n",
              "114158                52.969074\n",
              "114159                52.969074\n",
              "114160                52.969074\n",
              "114161                52.969074\n",
              "114162                52.969074\n",
              "\n",
              "[4376 rows x 1 columns]>"
            ]
          },
          "metadata": {
            "tags": []
          },
          "execution_count": 77
        }
      ]
    },
    {
      "cell_type": "code",
      "metadata": {
        "id": "pNrI9yNyKfE5"
      },
      "source": [
        "result.to_csv('SHARAT_PCTC_21_finalsubmission.csv',index=False)"
      ],
      "execution_count": 78,
      "outputs": []
    }
  ]
}